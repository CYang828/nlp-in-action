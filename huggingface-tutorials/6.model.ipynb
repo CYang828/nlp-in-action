{
 "cells": [
  {
   "cell_type": "markdown",
   "id": "f7c2728f",
   "metadata": {},
   "source": [
    "🤗 Transformers提供了一种简单统一的方法来加载预训练实例。这意味着您可以像加载AutoTokenizer一样加载AutoModel。唯一的区别在于选择适合任务的正确AutoModel。对于文本（或序列）分类，您应该加载AutoModelForSequenceClassification："
   ]
  },
  {
   "cell_type": "code",
   "execution_count": null,
   "id": "d73c4812",
   "metadata": {},
   "outputs": [],
   "source": [
    "from transformers import AutoModelForSequenceClassification\n",
    "\n",
    "model_name = \"nlptown/bert-base-multilingual-uncased-sentiment\"\n",
    "pt_model = AutoModelForSequenceClassification.from_pretrained(model_name)"
   ]
  },
  {
   "cell_type": "markdown",
   "id": "774cc5a2",
   "metadata": {},
   "source": [
    "现在直接将预处理的输入批次传递给模型。您只需通过添加**来解包字典："
   ]
  },
  {
   "cell_type": "code",
   "execution_count": null,
   "id": "3d8ac15f",
   "metadata": {},
   "outputs": [],
   "source": [
    "pt_outputs = pt_model(**pt_batch)"
   ]
  },
  {
   "cell_type": "markdown",
   "id": "16170deb",
   "metadata": {},
   "source": [
    "模型将最终激活输出在logits属性中。对logits应用softmax函数以获取概率："
   ]
  },
  {
   "cell_type": "code",
   "execution_count": null,
   "id": "33fbd145",
   "metadata": {},
   "outputs": [],
   "source": [
    "from torch import nn\n",
    "\n",
    "pt_predictions = nn.functional.softmax(pt_outputs.logits, dim=-1)\n",
    "print(pt_predictions)"
   ]
  },
  {
   "cell_type": "markdown",
   "id": "354cb014",
   "metadata": {},
   "source": [
    "所有🤗 Transformers模型（PyTorch或TensorFlow）在最终激活函数（如softmax）之前输出张量，因为最终激活函数通常与损失融合在一起。模型输出是特殊的数据类，因此它们的属性在IDE中会自动完成。模型输出的行为类似于元组或字典（您可以使用整数、切片或字符串进行索引），在这种情况下，空属性将被忽略。"
   ]
  },
  {
   "cell_type": "markdown",
   "id": "540519d8",
   "metadata": {},
   "source": [
    "## 保存模型\n",
    "\n",
    "一旦您的模型微调完成，您可以使用PreTrainedModel.save_pretrained()将其与其标记器一起保存："
   ]
  },
  {
   "cell_type": "code",
   "execution_count": null,
   "id": "dbcefad9",
   "metadata": {},
   "outputs": [],
   "source": [
    "pt_save_directory = \"./pt_save_pretrained\"\n",
    "tokenizer.save_pretrained(pt_save_directory)\n",
    "pt_model.save_pretrained(pt_save_directory)"
   ]
  },
  {
   "cell_type": "markdown",
   "id": "7b0c2235",
   "metadata": {},
   "source": [
    "When you are ready to use the model again, reload it with PreTrainedModel.from_pretrained():\n",
    "\n"
   ]
  },
  {
   "cell_type": "markdown",
   "id": "31e61bac",
   "metadata": {},
   "source": [
    "当您准备好再次使用模型时，使用PreTrainedModel.from_pretrained()重新加载它："
   ]
  },
  {
   "cell_type": "code",
   "execution_count": null,
   "id": "8c9acef5",
   "metadata": {},
   "outputs": [],
   "source": [
    "pt_model = AutoModelForSequenceClassification.from_pretrained(\"./pt_save_pretrained\")"
   ]
  },
  {
   "cell_type": "markdown",
   "id": "f44efcea",
   "metadata": {},
   "source": [
    "一个特别酷的🤗 Transformers功能是能够将模型保存并重新加载为PyTorch或TensorFlow模型。from_pt或from_tf参数可以将模型从一个框架转换为另一个框架："
   ]
  },
  {
   "cell_type": "code",
   "execution_count": null,
   "id": "2325e637",
   "metadata": {},
   "outputs": [],
   "source": [
    "from transformers import AutoModel\n",
    "\n",
    "tokenizer = AutoTokenizer.from_pretrained(tf_save_directory)\n",
    "pt_model = AutoModelForSequenceClassification.from_pretrained(tf_save_directory, from_tf=True)"
   ]
  },
  {
   "cell_type": "markdown",
   "id": "a23195c7",
   "metadata": {},
   "source": [
    "## 指定某个模型的使用"
   ]
  },
  {
   "cell_type": "code",
   "execution_count": 4,
   "metadata": {},
   "outputs": [
    {
     "data": {
      "application/vnd.jupyter.widget-view+json": {
       "model_id": "5f1a42f2a1c5435da295ad244cec4f4b",
       "version_major": 2,
       "version_minor": 0
      },
      "text/plain": [
       "Downloading:   0%|          | 0.00/393M [00:00<?, ?B/s]"
      ]
     },
     "metadata": {},
     "output_type": "display_data"
    },
    {
     "name": "stderr",
     "output_type": "stream",
     "text": [
      "Some weights of the model checkpoint at bert-base-chinese were not used when initializing BertModel: ['cls.seq_relationship.bias', 'cls.predictions.decoder.weight', 'cls.predictions.bias', 'cls.predictions.transform.LayerNorm.bias', 'cls.predictions.transform.dense.weight', 'cls.predictions.transform.LayerNorm.weight', 'cls.seq_relationship.weight', 'cls.predictions.transform.dense.bias']\n",
      "- This IS expected if you are initializing BertModel from the checkpoint of a model trained on another task or with another architecture (e.g. initializing a BertForSequenceClassification model from a BertForPreTraining model).\n",
      "- This IS NOT expected if you are initializing BertModel from the checkpoint of a model that you expect to be exactly identical (initializing a BertForSequenceClassification model from a BertForSequenceClassification model).\n"
     ]
    },
    {
     "data": {
      "text/plain": [
       "torch.Size([16, 500, 768])"
      ]
     },
     "execution_count": 4,
     "metadata": {},
     "output_type": "execute_result"
    }
   ],
   "source": [
    "from transformers import BertModel\n",
    "\n",
    "#加载预训练模型\n",
    "pretrained = BertModel.from_pretrained('bert-base-chinese')\n",
    "\n",
    "#不训练,不需要计算梯度\n",
    "for param in pretrained.parameters():\n",
    "    param.requires_grad_(False)\n",
    "\n",
    "#模型试算\n",
    "out = pretrained(input_ids=input_ids,\n",
    "           attention_mask=attention_mask,\n",
    "           token_type_ids=token_type_ids)\n",
    "\n",
    "out.last_hidden_state.shape"
   ]
  },
  {
   "cell_type": "markdown",
   "id": "48616109",
   "metadata": {},
   "source": []
  }
 ],
 "metadata": {
  "kernelspec": {
   "display_name": "Python 3 (ipykernel)",
   "language": "python",
   "name": "python3"
  },
  "language_info": {
   "codemirror_mode": {
    "name": "ipython",
    "version": 3
   },
   "file_extension": ".py",
   "mimetype": "text/x-python",
   "name": "python",
   "nbconvert_exporter": "python",
   "pygments_lexer": "ipython3",
   "version": "3.8.3"
  }
 },
 "nbformat": 4,
 "nbformat_minor": 5
}
