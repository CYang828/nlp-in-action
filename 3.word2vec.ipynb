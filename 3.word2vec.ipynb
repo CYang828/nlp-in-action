{
 "cells": [
  {
   "cell_type": "markdown",
   "metadata": {
    "id": "haJUNjSB60Kh"
   },
   "source": [
    "# 手写 word2vec 模型和训练"
   ]
  },
  {
   "cell_type": "markdown",
   "metadata": {
    "id": "99d4ky2lWFvn"
   },
   "source": [
    "word2vec 不是一种单一算法，而是一系列模型架构和优化，可用于从大型数据集中学习单词嵌入。通过 word2vec 学习的嵌入已被证明在各种下游自然语言处理任务上是成功的。\n",
    "\n",
    "Note: 本教程基于 [Efficient estimation of word representations in vector space](https://arxiv.org/pdf/1301.3781.pdf) 和 [Distributed representations of words and phrases and their compositionality](https://papers.nips.cc/paper/5021-distributed-representations-of-words-and-phrases-and-their-compositionality.pdf)。 这不是论文的具体实施。相反，它旨在说明关键思想。\n",
    "\n",
    "这些论文提出了两种学习单词表示的方法：\n",
    "\n",
    "*   **Continuous bag-of-words model**: 基于周围上下文词预测中间词。上下文由当前（中间）单词前后的几个单词组成。这种体系结构被称为单词包模型，因为上下文中单词的顺序并不重要。\n",
    "\n",
    "*   **Continuous skip-gram model**: 预测同一句子中当前单词前后一定范围内的单词。下面给出了一个工作示例。\n",
    "\n",
    "在本教程中，您将使用 skip-gram 方法。首先，您将使用一个句子来说明跳过语法和其他概念。接下来，您将在一个小数据集上训练自己的word2vec模型。本教程还包含导出经过训练的嵌入并在中可视化它们的代码 [TensorFlow Embedding Projector](http://projector.tensorflow.org/).\n"
   ]
  },
  {
   "cell_type": "markdown",
   "metadata": {
    "id": "xP00WlaMWBZC"
   },
   "source": [
    "## Skip-gram 和负采样 (negative sampling)"
   ]
  },
  {
   "cell_type": "markdown",
   "metadata": {
    "id": "Zr2wjv0bW236"
   },
   "source": [
    "当 bag-of-words 模型预测给定相邻上下文的单词时，skip-gram 模型预测给定单词本身的单词上下文（或相邻）。该模型基于跳过图进行训练，skip-gram 是允许跳过 tokens 的 n-grams（参见下图）。一个词的上下文可以通过一组 “(target_word，context_words)” 的跳过语法对来表示，其中 “context_ word” 出现在 “target-word” 的相邻上下文中。"
   ]
  },
  {
   "cell_type": "markdown",
   "metadata": {
    "id": "ICjc-McbaVTd"
   },
   "source": [
    "考虑以下八个单词的句子：\n",
    "\n",
    "> The wide road shimmered in the hot sun.\n",
    "\n",
    "该句子的 8 个单词中的每一个的上下文单词由窗口大小定义。窗口大小确定可被视为“上下文词”的 “target_word” 两侧的词的跨度。下面是基于不同窗口大小的目标词的 skip-grams。"
   ]
  },
  {
   "cell_type": "markdown",
   "metadata": {
    "id": "YKE87IKT_YT8"
   },
   "source": [
    "Note: 对于本教程，窗口大小 “n” 表示每侧有 n 个单词，整个窗口跨度为 2*n+1 个单词。"
   ]
  },
  {
   "cell_type": "markdown",
   "metadata": {
    "id": "RsCwQ07E8mqU"
   },
   "source": [
    "![word2vec_skipgrams](https://aimaksen.rarelimiting.com/course/word2vec_skipgram.png)"
   ]
  },
  {
   "cell_type": "markdown",
   "metadata": {
    "id": "gK1gN1jwkMpU"
   },
   "source": [
    "skip-gram 模型的训练目标是最大化预测给定目标词的上下文词的概率。对于一系列单词 *w<sub>1</sub>、w<sub>2</sub>、…w<sub>T</sub>*，目标可以写成平均对数概率。"
   ]
  },
  {
   "cell_type": "markdown",
   "metadata": {
    "id": "pILO_iAc84e-"
   },
   "source": [
    "![word2vec_skipgram_objective](https://aimaksen.rarelimiting.com/course/word2vec_skipgram_objective.png)"
   ]
  },
  {
   "cell_type": "markdown",
   "metadata": {
    "id": "Gsy6TUbtnz_K"
   },
   "source": [
    "其中 ‘c’ 是训练上下文的大小。基本跳跃图公式使用 softmax 函数定义该概率。"
   ]
  },
  {
   "cell_type": "markdown",
   "metadata": {
    "id": "P81Qavbb9APd"
   },
   "source": [
    "![word2vec_full_softmax](https://aimaksen.rarelimiting.com/course/word2vec_full_softmax.png)"
   ]
  },
  {
   "cell_type": "markdown",
   "metadata": {
    "id": "axZvd-hhotVB"
   },
   "source": [
    "其中，*v* 和 *v<sup>'<sup>* 是单词的目标和上下文向量表示，*W* 是词汇大小。"
   ]
  },
  {
   "cell_type": "markdown",
   "metadata": {
    "id": "SoLzxbqSpT6_"
   },
   "source": [
    "计算该公式的分母涉及对整个词汇表单词执行完整的 softmax，这些单词通常是大的（10<sup>5</sup>-10<supp>7</supp>）。"
   ]
  },
  {
   "cell_type": "markdown",
   "metadata": {
    "id": "Y5VWYtmFzHkU"
   },
   "source": [
    "[noise contrastive estimation](https://www.tensorflow.org/api_docs/python/tf/nn/nce_loss) (NCE) 损失函数是完整softmax的有效近似。为了学习单词嵌入而不是建模单词分布，NCE 损失可以使用负采样方法 [simplified](https://papers.nips.cc/paper/5021-distributed-representations-of-words-and-phrases-and-their-compositionality.pdf) "
   ]
  },
  {
   "cell_type": "markdown",
   "metadata": {
    "id": "WTZBPf1RsOsg"
   },
   "source": [
    "目标词的简化负采样目标是将上下文词与从词的噪声分布 *P<sub>n</sub>（w）* 中提取的 “num_ns” 负样本区分开来。更准确地说，词汇表上的完整 softmax 的有效近似是，对于跳转语法对，将目标词的丢失作为上下文词和 “num_ns” 负样本之间的分类问题。"
   ]
  },
  {
   "cell_type": "markdown",
   "metadata": {
    "id": "Cl0rSfHjt6Mf"
   },
   "source": [
    "负样本被定义为 `（target_word，context_words）` 对，使得 ` context_ word'不出现在` target_ word'的 ` window_size` 邻域中。对于示例语句，这是几个潜在的负样本（当 ‘window_size’ 为 ‘2’ 时）。\n",
    "\n",
    "```\n",
    "(hot, shimmered)\n",
    "(wide, hot)\n",
    "(wide, sun)\n",
    "```"
   ]
  },
  {
   "cell_type": "markdown",
   "metadata": {
    "id": "kq0q2uqbucFg"
   },
   "source": [
    "在下一节中，您将为单个句子生成 skip-gram 和负样本。在本教程的后面部分，您还将学习子采样技术，并为正和负训练示例训练分类模型。"
   ]
  },
  {
   "cell_type": "markdown",
   "metadata": {
    "id": "mk4-Hpe1CH16"
   },
   "source": [
    "## 安装包"
   ]
  },
  {
   "cell_type": "code",
   "execution_count": 4,
   "metadata": {
    "id": "RutaI-Tpev3T"
   },
   "outputs": [
    {
     "name": "stderr",
     "output_type": "stream",
     "text": [
      "2024-01-22 18:34:24.452695: I tensorflow/core/platform/cpu_feature_guard.cc:182] This TensorFlow binary is optimized to use available CPU instructions in performance-critical operations.\n",
      "To enable the following instructions: AVX2 AVX512F AVX512_VNNI FMA, in other operations, rebuild TensorFlow with the appropriate compiler flags.\n"
     ]
    }
   ],
   "source": [
    "import io\n",
    "import re\n",
    "import string\n",
    "import tqdm\n",
    "\n",
    "import numpy as np\n",
    "\n",
    "import tensorflow as tf\n",
    "from tensorflow.keras import layers"
   ]
  },
  {
   "cell_type": "code",
   "execution_count": 2,
   "metadata": {
    "id": "10pyUMFkGKVQ"
   },
   "outputs": [],
   "source": [
    "# Load the TensorBoard notebook extension\n",
    "%load_ext tensorboard"
   ]
  },
  {
   "cell_type": "code",
   "execution_count": 3,
   "metadata": {
    "id": "XkJ5299Tek6B"
   },
   "outputs": [],
   "source": [
    "SEED = 42\n",
    "AUTOTUNE = tf.data.AUTOTUNE"
   ]
  },
  {
   "cell_type": "markdown",
   "metadata": {
    "id": "RW-g5buCHwh3"
   },
   "source": [
    "### 矢量化例句"
   ]
  },
  {
   "cell_type": "markdown",
   "metadata": {
    "id": "y8TfZIgoQrcP"
   },
   "source": [
    "考虑以下句子：\n",
    "\n",
    "> The wide road shimmered in the hot sun.\n",
    "\n",
    "给句子分词:"
   ]
  },
  {
   "cell_type": "code",
   "execution_count": 4,
   "metadata": {
    "id": "bsl7jBzV6_KK"
   },
   "outputs": [
    {
     "name": "stdout",
     "output_type": "stream",
     "text": [
      "8\n"
     ]
    }
   ],
   "source": [
    "sentence = \"The wide road shimmered in the hot sun\"\n",
    "tokens = list(sentence.lower().split())\n",
    "print(len(tokens))"
   ]
  },
  {
   "cell_type": "markdown",
   "metadata": {
    "id": "PU-bs1XtThEw"
   },
   "source": [
    "创建词汇表以保存从令牌到整数索引的映射："
   ]
  },
  {
   "cell_type": "code",
   "execution_count": 5,
   "metadata": {
    "id": "UdYv1HJUQ8XA"
   },
   "outputs": [
    {
     "name": "stdout",
     "output_type": "stream",
     "text": [
      "{'<pad>': 0, 'the': 1, 'wide': 2, 'road': 3, 'shimmered': 4, 'in': 5, 'hot': 6, 'sun': 7}\n"
     ]
    }
   ],
   "source": [
    "vocab, index = {}, 1  # start indexing from 1\n",
    "vocab['<pad>'] = 0  # add a padding token\n",
    "for token in tokens:\n",
    "  if token not in vocab:\n",
    "    vocab[token] = index\n",
    "    index += 1\n",
    "vocab_size = len(vocab)\n",
    "print(vocab)"
   ]
  },
  {
   "cell_type": "markdown",
   "metadata": {
    "id": "ZpuP43Dddasr"
   },
   "source": [
    "创建反向词汇表以保存从整数索引到令牌的映射："
   ]
  },
  {
   "cell_type": "code",
   "execution_count": 6,
   "metadata": {
    "id": "o9ULAJYtEvKl"
   },
   "outputs": [
    {
     "name": "stdout",
     "output_type": "stream",
     "text": [
      "{0: '<pad>', 1: 'the', 2: 'wide', 3: 'road', 4: 'shimmered', 5: 'in', 6: 'hot', 7: 'sun'}\n"
     ]
    }
   ],
   "source": [
    "inverse_vocab = {index: token for token, index in vocab.items()}\n",
    "print(inverse_vocab)"
   ]
  },
  {
   "cell_type": "markdown",
   "metadata": {
    "id": "n3qtuyxIRyii"
   },
   "source": [
    "矢量化你的句子："
   ]
  },
  {
   "cell_type": "code",
   "execution_count": 7,
   "metadata": {
    "id": "CsB3-9uQQYyl"
   },
   "outputs": [
    {
     "name": "stdout",
     "output_type": "stream",
     "text": [
      "[1, 2, 3, 4, 5, 1, 6, 7]\n"
     ]
    }
   ],
   "source": [
    "example_sequence = [vocab[word] for word in tokens]\n",
    "print(example_sequence)"
   ]
  },
  {
   "cell_type": "markdown",
   "metadata": {
    "id": "ox1I28JRIOdM"
   },
   "source": [
    "### 从一个句子生成 skip-grams "
   ]
  },
  {
   "cell_type": "markdown",
   "metadata": {
    "id": "t7NNKAmSiHvy"
   },
   "source": [
    "`tf.keras.preprocessing` “序列”模块提供了有用的功能，简化了 word2vec 的数据准备。您可以使用 `tf.keras.preprocessing.sequence`。skip-grams 用于从具有给定 ‘window_size’ 的 ‘example_sequence’ 中从范围 `[0，vocab_size）` 中的标记生成跳过图对。\n",
    "\n",
    "Note: 在这里，`negative_samples` 设置为 0，因为批处理此函数生成的负样本需要单独的代码。在下一节中，您将使用另一个函数执行负采样。"
   ]
  },
  {
   "cell_type": "code",
   "execution_count": 8,
   "metadata": {
    "id": "USAJxW4RD7pn"
   },
   "outputs": [
    {
     "name": "stdout",
     "output_type": "stream",
     "text": [
      "26\n"
     ]
    }
   ],
   "source": [
    "window_size = 2\n",
    "positive_skip_grams, _ = tf.keras.preprocessing.sequence.skipgrams(\n",
    "      example_sequence,\n",
    "      vocabulary_size=vocab_size,\n",
    "      window_size=window_size,\n",
    "      negative_samples=0)\n",
    "print(len(positive_skip_grams))"
   ]
  },
  {
   "cell_type": "markdown",
   "metadata": {
    "id": "uc9uhiMwY-AQ"
   },
   "source": [
    "打印几个 skip-grams："
   ]
  },
  {
   "cell_type": "code",
   "execution_count": 9,
   "metadata": {
    "id": "SCnqEukIE9pt"
   },
   "outputs": [
    {
     "name": "stdout",
     "output_type": "stream",
     "text": [
      "(7, 1): (sun, the)\n",
      "(3, 1): (road, the)\n",
      "(5, 6): (in, hot)\n",
      "(5, 1): (in, the)\n",
      "(6, 7): (hot, sun)\n"
     ]
    }
   ],
   "source": [
    "for target, context in positive_skip_grams[:5]:\n",
    "  print(f\"({target}, {context}): ({inverse_vocab[target]}, {inverse_vocab[context]})\")"
   ]
  },
  {
   "cell_type": "markdown",
   "metadata": {
    "id": "_ua9PkMTISF0"
   },
   "source": [
    "### skip-gram 的负采样"
   ]
  },
  {
   "cell_type": "markdown",
   "metadata": {
    "id": "Esqn8WBfZnEK"
   },
   "source": [
    "`skipgrams` 函数通过在给定的窗口跨度上滑动来返回所有正的 skip-grams 对。要生成额外的跳过语法对，用作训练的负样本，您需要从词汇表中随机抽取单词。使用 `tf.random`。log_uniform_candidate_sampler 函数对窗口中给定目标字的负样本数进行采样。您可以在一个 skip-grams 的目标词上调用该函数，并将上下文词作为 true 类传递，以将其从采样中排除。"
   ]
  },
  {
   "cell_type": "markdown",
   "metadata": {
    "id": "AgH3aSvw3xTD"
   },
   "source": [
    "关键点: 对于小的数据集 `num_ns` (the number of negative samples per a positive context word) 的范围在 `[5, 20]`  [shown to work](https://papers.nips.cc/paper/5021-distributed-representations-of-words-and-phrases-and-their-compositionality.pdf) ， 对于的大的数据集 `num_ns` 的范围在 `[2, 5]`。"
   ]
  },
  {
   "cell_type": "code",
   "execution_count": 10,
   "metadata": {
    "id": "m_LmdzqIGr5L"
   },
   "outputs": [
    {
     "name": "stdout",
     "output_type": "stream",
     "text": [
      "tf.Tensor([2 1 4 3], shape=(4,), dtype=int64)\n",
      "['wide', 'the', 'shimmered', 'road']\n"
     ]
    }
   ],
   "source": [
    "# Get target and context words for one positive skip-gram.\n",
    "target_word, context_word = positive_skip_grams[0]\n",
    "\n",
    "# Set the number of negative samples per positive context.\n",
    "num_ns = 4\n",
    "\n",
    "context_class = tf.reshape(tf.constant(context_word, dtype=\"int64\"), (1, 1))\n",
    "negative_sampling_candidates, _, _ = tf.random.log_uniform_candidate_sampler(\n",
    "    true_classes=context_class,  # class that should be sampled as 'positive'\n",
    "    num_true=1,  # each positive skip-gram has 1 positive context class\n",
    "    num_sampled=num_ns,  # number of negative context words to sample\n",
    "    unique=True,  # all the negative samples should be unique\n",
    "    range_max=vocab_size,  # pick index of the samples from [0, vocab_size]\n",
    "    seed=SEED,  # seed for reproducibility\n",
    "    name=\"negative_sampling\"  # name of this operation\n",
    ")\n",
    "print(negative_sampling_candidates)\n",
    "print([inverse_vocab[index.numpy()] for index in negative_sampling_candidates])"
   ]
  },
  {
   "cell_type": "markdown",
   "metadata": {
    "id": "8MSxWCrLIalp"
   },
   "source": [
    "### 构建一个训练样本示例 "
   ]
  },
  {
   "cell_type": "markdown",
   "metadata": {
    "id": "Q6uEWdj8vKKv"
   },
   "source": [
    "For a given positive `(target_word, context_word)` skip-gram, you now also have `num_ns` negative sampled context words that do not appear in the window size neighborhood of `target_word`. Batch the `1` positive `context_word` and `num_ns` negative context words into one tensor. This produces a set of positive skip-grams (labeled as `1`) and negative samples (labeled as `0`) for each target word\n",
    "\n",
    "对于给定的正 `（target_word，context_words）` skip-gram，您现在也有 `num_ns` 负采样的上下文字，它们不出现在 `target_ word` 的窗口大小附近。将 1 设置为正 context_word 和 num_ns 负上下文词批处理为一个张量。这为每个目标字产生一组正跳转图（标记为“1”）和负样本（标记为”0”）。"
   ]
  },
  {
   "cell_type": "code",
   "execution_count": 11,
   "metadata": {
    "id": "zSiZwifuLvHf"
   },
   "outputs": [],
   "source": [
    "# Add a dimension so you can use concatenation (in the next step).\n",
    "negative_sampling_candidates = tf.expand_dims(negative_sampling_candidates, 1)\n",
    "\n",
    "# Concatenate a positive context word with negative sampled words.\n",
    "context = tf.concat([context_class, negative_sampling_candidates], 0)\n",
    "\n",
    "# Label the first context word as `1` (positive) followed by `num_ns` `0`s (negative).\n",
    "label = tf.constant([1] + [0]*num_ns, dtype=\"int64\")\n",
    "\n",
    "# Reshape the target to shape `(1,)` and context and label to `(num_ns+1,)`.\n",
    "target = tf.squeeze(target_word)\n",
    "context = tf.squeeze(context)\n",
    "label = tf.squeeze(label)"
   ]
  },
  {
   "cell_type": "markdown",
   "metadata": {
    "id": "OIJeoFCAwtXJ"
   },
   "source": [
    "从上面的 skip-gram 示例中查看目标词的上下文和相应标签："
   ]
  },
  {
   "cell_type": "code",
   "execution_count": 12,
   "metadata": {
    "id": "tzyCPCuZwmdL"
   },
   "outputs": [
    {
     "name": "stdout",
     "output_type": "stream",
     "text": [
      "target_index    : 7\n",
      "target_word     : sun\n",
      "context_indices : [1 2 1 4 3]\n",
      "context_words   : ['the', 'wide', 'the', 'shimmered', 'road']\n",
      "label           : [1 0 0 0 0]\n"
     ]
    }
   ],
   "source": [
    "print(f\"target_index    : {target}\")\n",
    "print(f\"target_word     : {inverse_vocab[target_word]}\")\n",
    "print(f\"context_indices : {context}\")\n",
    "print(f\"context_words   : {[inverse_vocab[c.numpy()] for c in context]}\")\n",
    "print(f\"label           : {label}\")"
   ]
  },
  {
   "cell_type": "markdown",
   "metadata": {
    "id": "gBtTcUVQr8EO"
   },
   "source": [
    "一个由`（target，context，label）` 张量组成的元组构成了一个训练示例，用于训练跳过革兰氏阴性采样word2vec模型。请注意，目标的形状为 `（1，）`，而上下文和标签的 shape 为 `（1+num_ns，）`"
   ]
  },
  {
   "cell_type": "code",
   "execution_count": 13,
   "metadata": {
    "id": "x-FwkR8jx9-Z"
   },
   "outputs": [
    {
     "name": "stdout",
     "output_type": "stream",
     "text": [
      "target  : tf.Tensor(7, shape=(), dtype=int32)\n",
      "context : tf.Tensor([1 2 1 4 3], shape=(5,), dtype=int64)\n",
      "label   : tf.Tensor([1 0 0 0 0], shape=(5,), dtype=int64)\n"
     ]
    }
   ],
   "source": [
    "print(\"target  :\", target)\n",
    "print(\"context :\", context)\n",
    "print(\"label   :\", label)"
   ]
  },
  {
   "cell_type": "markdown",
   "metadata": {
    "id": "4bRJIlow4Dlv"
   },
   "source": [
    "### 总结"
   ]
  },
  {
   "cell_type": "markdown",
   "metadata": {
    "id": "pWkuha0oykG5"
   },
   "source": [
    "此图总结了从句子生成训练示例的过程："
   ]
  },
  {
   "cell_type": "markdown",
   "metadata": {
    "id": "_KlwdiAa9crJ"
   },
   "source": [
    "![image.png](https://aimaksen.rarelimiting.com/course/1705801821737.jpg)"
   ]
  },
  {
   "cell_type": "markdown",
   "metadata": {
    "id": "37e53f07f67c"
   },
   "source": [
    "注意，`temperature` 和 `code` 不是输入句子的一部分。它们与上图中使用的某些其他索引一样属于词汇表。"
   ]
  },
  {
   "cell_type": "markdown",
   "metadata": {
    "id": "9wmdO_MEIpaM"
   },
   "source": [
    "## 将所有步骤融合到一个函数\n"
   ]
  },
  {
   "cell_type": "markdown",
   "metadata": {
    "id": "iLKwNAczHsKg"
   },
   "source": [
    "### Skip-gram 采样表"
   ]
  },
  {
   "cell_type": "markdown",
   "metadata": {
    "id": "TUUK3uDtFNFE"
   },
   "source": [
    "大数据集意味着词汇表更大，更频繁的词（如停止词）数量更多。通过对常见单词（如“the”、“is”、“on”）进行采样而获得的训练示例并没有为模型提供多少有用的信息。[Mikolov et al.](https://papers.nips.cc/paper/5021-distributed-representations-of-words-and-phrases-and-their-compositionality.pdf) 建议对频繁词进行二次采样，以提高嵌入质量。"
   ]
  },
  {
   "cell_type": "markdown",
   "metadata": {
    "id": "bPtbv7zNP7Dx"
   },
   "source": [
    "`tf.keras.preprocessing.sequence.skipgrams` 函数接受一个采样表参数，以编码对任何令牌进行采样的概率。您可以使用`tf.keras.preprocessing.sequence`。make_sampling_table 生成基于词频秩的概率采样表，并将其传递给 skipgrams 函数。检查 vocab_size 为 10 的采样概率。"
   ]
  },
  {
   "cell_type": "code",
   "execution_count": 14,
   "metadata": {
    "id": "Rn9zAnDccyRg"
   },
   "outputs": [
    {
     "name": "stdout",
     "output_type": "stream",
     "text": [
      "[0.00315225 0.00315225 0.00547597 0.00741556 0.00912817 0.01068435\n",
      " 0.01212381 0.01347162 0.01474487 0.0159558 ]\n"
     ]
    }
   ],
   "source": [
    "sampling_table = tf.keras.preprocessing.sequence.make_sampling_table(size=10)\n",
    "print(sampling_table)"
   ]
  },
  {
   "cell_type": "markdown",
   "metadata": {
    "id": "EHvSptcPk5fp"
   },
   "source": [
    "`sampling_table[i]` 表示对数据集中第i个最常用单词进行采样的概率。该函数基于字频率采样。 [Zipf's distribution](https://en.wikipedia.org/wiki/Zipf%27s_law)"
   ]
  },
  {
   "cell_type": "markdown",
   "metadata": {
    "id": "mRHMssMmHgH-"
   },
   "source": [
    "关键点: `tf.random.log_uniform_candidate_sampler` 已经假设词汇频率遵循对数均匀（Zipf）分布。使用这些分布加权采样也有助于使用更简单的损失函数来近似噪声对比估计（NCE）损失，以训练负采样目标。"
   ]
  },
  {
   "cell_type": "markdown",
   "metadata": {
    "id": "aj--8RFK6fgW"
   },
   "source": [
    "### 生成训练数据"
   ]
  },
  {
   "cell_type": "markdown",
   "metadata": {
    "id": "dy5hl4lQ0B2M"
   },
   "source": [
    "将上述所有步骤编译成一个函数，该函数可以在从任何文本数据集获得的矢量化语句列表上调用。请注意，采样表是在对跳过字对进行采样之前构建的。您将在后面的章节中使用此函数。"
   ]
  },
  {
   "cell_type": "code",
   "execution_count": 15,
   "metadata": {
    "id": "63INISDEX1Hu"
   },
   "outputs": [],
   "source": [
    "# Generates skip-gram pairs with negative sampling for a list of sequences\n",
    "# (int-encoded sentences) based on window size, number of negative samples\n",
    "# and vocabulary size.\n",
    "def generate_training_data(sequences, window_size, num_ns, vocab_size, seed):\n",
    "  # Elements of each training example are appended to these lists.\n",
    "  targets, contexts, labels = [], [], []\n",
    "\n",
    "  # Build the sampling table for `vocab_size` tokens.\n",
    "  sampling_table = tf.keras.preprocessing.sequence.make_sampling_table(vocab_size)\n",
    "\n",
    "  # Iterate over all sequences (sentences) in the dataset.\n",
    "  for sequence in tqdm.tqdm(sequences):\n",
    "\n",
    "    # Generate positive skip-gram pairs for a sequence (sentence).\n",
    "    positive_skip_grams, _ = tf.keras.preprocessing.sequence.skipgrams(\n",
    "          sequence,\n",
    "          vocabulary_size=vocab_size,\n",
    "          sampling_table=sampling_table,\n",
    "          window_size=window_size,\n",
    "          negative_samples=0)\n",
    "\n",
    "    # Iterate over each positive skip-gram pair to produce training examples\n",
    "    # with a positive context word and negative samples.\n",
    "    for target_word, context_word in positive_skip_grams:\n",
    "      context_class = tf.expand_dims(\n",
    "          tf.constant([context_word], dtype=\"int64\"), 1)\n",
    "      negative_sampling_candidates, _, _ = tf.random.log_uniform_candidate_sampler(\n",
    "          true_classes=context_class,\n",
    "          num_true=1,\n",
    "          num_sampled=num_ns,\n",
    "          unique=True,\n",
    "          range_max=vocab_size,\n",
    "          seed=seed,\n",
    "          name=\"negative_sampling\")\n",
    "\n",
    "      # Build context and label vectors (for one target word)\n",
    "      negative_sampling_candidates = tf.expand_dims(\n",
    "          negative_sampling_candidates, 1)\n",
    "\n",
    "      context = tf.concat([context_class, negative_sampling_candidates], 0)\n",
    "      label = tf.constant([1] + [0]*num_ns, dtype=\"int64\")\n",
    "\n",
    "      # Append each element from the training example to global lists.\n",
    "      targets.append(target_word)\n",
    "      contexts.append(context)\n",
    "      labels.append(label)\n",
    "\n",
    "  return targets, contexts, labels"
   ]
  },
  {
   "cell_type": "markdown",
   "metadata": {
    "id": "shvPC8Ji2cMK"
   },
   "source": [
    "## 为 word2vec 准备训练数据"
   ]
  },
  {
   "cell_type": "markdown",
   "metadata": {
    "id": "j5mbZsZu6uKg"
   },
   "source": [
    "了解了如何使用一个基于 skip-gram 负采样的 word2vec 模型的句子，您可以继续从更大的句子列表中生成训练示例！"
   ]
  },
  {
   "cell_type": "markdown",
   "metadata": {
    "id": "OFlikI6L26nh"
   },
   "source": [
    "### 下载文本语料库"
   ]
  },
  {
   "cell_type": "markdown",
   "metadata": {
    "id": "rEFavOgN98al"
   },
   "source": [
    "本教程将使用莎士比亚作品的文本文件。更改以下行以在您自己的数据上运行此代码。"
   ]
  },
  {
   "cell_type": "code",
   "execution_count": 5,
   "metadata": {
    "id": "QFkitxzVVaAi"
   },
   "outputs": [],
   "source": [
    "path_to_file = tf.keras.utils.get_file('shakespeare.txt', 'https://storage.googleapis.com/download.tensorflow.org/data/shakespeare.txt')"
   ]
  },
  {
   "cell_type": "markdown",
   "metadata": {
    "id": "sOsbLq8a37dr"
   },
   "source": [
    "从文件中读取文本并打印前几行："
   ]
  },
  {
   "cell_type": "code",
   "execution_count": 17,
   "metadata": {
    "id": "lfgnsUw3ofMD"
   },
   "outputs": [
    {
     "name": "stdout",
     "output_type": "stream",
     "text": [
      "First Citizen:\n",
      "Before we proceed any further, hear me speak.\n",
      "\n",
      "All:\n",
      "Speak, speak.\n",
      "\n",
      "First Citizen:\n",
      "You are all resolved rather to die than to famish?\n",
      "\n",
      "All:\n",
      "Resolved. resolved.\n",
      "\n",
      "First Citizen:\n",
      "First, you know Caius Marcius is chief enemy to the people.\n",
      "\n",
      "All:\n",
      "We know't, we know't.\n",
      "\n",
      "First Citizen:\n",
      "Let us kill him, and we'll have corn at our own price.\n"
     ]
    }
   ],
   "source": [
    "with open(path_to_file) as f:\n",
    "  lines = f.read().splitlines()\n",
    "for line in lines[:20]:\n",
    "  print(line)"
   ]
  },
  {
   "cell_type": "markdown",
   "metadata": {
    "id": "gTNZYqUs5C2V"
   },
   "source": [
    "使用非空行构造`tf.data.TextLineDataset`对象，用于下一步："
   ]
  },
  {
   "cell_type": "code",
   "execution_count": 18,
   "metadata": {
    "id": "ViDrwy-HjAs9"
   },
   "outputs": [],
   "source": [
    "text_ds = tf.data.TextLineDataset(path_to_file).filter(lambda x: tf.cast(tf.strings.length(x), bool))"
   ]
  },
  {
   "cell_type": "markdown",
   "metadata": {
    "id": "vfsc88zE9upk"
   },
   "source": [
    "### 从语料库中矢量化句子"
   ]
  },
  {
   "cell_type": "markdown",
   "metadata": {
    "id": "XfgZo8zR94KK"
   },
   "source": [
    "你可以使用 `TextVectorization` 把 corpus 中的句子向量化。 关于 `TextVectorization` 可以从 [Text classification](https://www.tensorflow.org/tutorials/keras/text_classification) 得到更多的细节. 请注意，从上面的前几句话中，文本需要在一种情况下，标点符号需要删除。为了做到这个，我们需要定义 `custom_standardization` 函数， 可以在文本矢量化层中使用。"
   ]
  },
  {
   "cell_type": "code",
   "execution_count": 19,
   "metadata": {
    "id": "2MlsXzo-ZlfK"
   },
   "outputs": [],
   "source": [
    "# Now, create a custom standardization function to lowercase the text and\n",
    "# remove punctuation.\n",
    "def custom_standardization(input_data):\n",
    "  lowercase = tf.strings.lower(input_data)\n",
    "  return tf.strings.regex_replace(lowercase,\n",
    "                                  '[%s]' % re.escape(string.punctuation), '')\n",
    "\n",
    "\n",
    "# Define the vocabulary size and the number of words in a sequence.\n",
    "vocab_size = 4096\n",
    "sequence_length = 10\n",
    "\n",
    "# Use the `TextVectorization` layer to normalize, split, and map strings to\n",
    "# integers. Set the `output_sequence_length` length to pad all samples to the\n",
    "# same length.\n",
    "vectorize_layer = layers.TextVectorization(\n",
    "    standardize=custom_standardization,\n",
    "    max_tokens=vocab_size,\n",
    "    output_mode='int',\n",
    "    output_sequence_length=sequence_length)"
   ]
  },
  {
   "cell_type": "markdown",
   "metadata": {
    "id": "g92LuvnyBmz1"
   },
   "source": [
    "调用 `TextVectorization.adapt` 在文本数据集上使用 “adapt ”创建词汇表。"
   ]
  },
  {
   "cell_type": "code",
   "execution_count": 20,
   "metadata": {
    "id": "seZau_iYMPFT"
   },
   "outputs": [],
   "source": [
    "vectorize_layer.adapt(text_ds.batch(1024))"
   ]
  },
  {
   "cell_type": "markdown",
   "metadata": {
    "id": "jg2z7eeHMnH-"
   },
   "source": [
    "一旦该层的状态被调整为表示文本语料库，就可以使用 `TextVectorization.get_vocabulary` 获取词典。 此函数返回按频率排序（降序）的所有词汇表标记的列表。"
   ]
  },
  {
   "cell_type": "code",
   "execution_count": 21,
   "metadata": {
    "id": "jgw9pTA7MRaU"
   },
   "outputs": [
    {
     "name": "stdout",
     "output_type": "stream",
     "text": [
      "['', '[UNK]', 'the', 'and', 'to', 'i', 'of', 'you', 'my', 'a', 'that', 'in', 'is', 'not', 'for', 'with', 'me', 'it', 'be', 'your']\n"
     ]
    }
   ],
   "source": [
    "# Save the created vocabulary for reference.\n",
    "inverse_vocab = vectorize_layer.get_vocabulary()\n",
    "print(inverse_vocab[:20])"
   ]
  },
  {
   "cell_type": "markdown",
   "metadata": {
    "id": "DOQ30Tx6KA2G"
   },
   "source": [
    "`vectorize_layer` 可以对于每一个元素生成向量 `text_ds` (`tf.data.Dataset`)。并可以应用 `Dataset.batch`, `Dataset.prefetch`, `Dataset.map` 和 `Dataset.unbatch`."
   ]
  },
  {
   "cell_type": "code",
   "execution_count": 22,
   "metadata": {
    "id": "yUVYrDp0araQ"
   },
   "outputs": [],
   "source": [
    "# Vectorize the data in text_ds.\n",
    "text_vector_ds = text_ds.batch(1024).prefetch(AUTOTUNE).map(vectorize_layer).unbatch()"
   ]
  },
  {
   "cell_type": "markdown",
   "metadata": {
    "id": "7YyH_SYzB72p"
   },
   "source": [
    "### 从数据集中获取序列"
   ]
  },
  {
   "cell_type": "markdown",
   "metadata": {
    "id": "NFUQLX0_KaRC"
   },
   "source": [
    "\n",
    "您现在有了一个 `tf.data.Dataset`。整数编码句子的数据集。要准备用于训练 word2vec 模型的数据集，请将数据集展平为句子向量序列列表。这一步是必需的，因为您将迭代数据集中的每个句子，以生成正负样本。\n",
    "\n",
    "Note:  `generate_training_data()` 在前面定义的使用非TensorFlow Python/NumPy函数时，您还可以使用 `tf.py_function` 或 `tf.numpy_function` 和 `tf.data.Dataset.map`."
   ]
  },
  {
   "cell_type": "code",
   "execution_count": 23,
   "metadata": {
    "id": "sGXoOh9y11pM"
   },
   "outputs": [
    {
     "name": "stdout",
     "output_type": "stream",
     "text": [
      "32777\n"
     ]
    }
   ],
   "source": [
    "sequences = list(text_vector_ds.as_numpy_iterator())\n",
    "print(len(sequences))"
   ]
  },
  {
   "cell_type": "markdown",
   "metadata": {
    "id": "tDc4riukLTqg"
   },
   "source": [
    "查看以下示例 `sequences`:"
   ]
  },
  {
   "cell_type": "code",
   "execution_count": 24,
   "metadata": {
    "id": "WZf1RIbB2Dfb"
   },
   "outputs": [
    {
     "name": "stdout",
     "output_type": "stream",
     "text": [
      "[ 89 270   0   0   0   0   0   0   0   0] => ['first', 'citizen', '', '', '', '', '', '', '', '']\n",
      "[138  36 982 144 673 125  16 106   0   0] => ['before', 'we', 'proceed', 'any', 'further', 'hear', 'me', 'speak', '', '']\n",
      "[34  0  0  0  0  0  0  0  0  0] => ['all', '', '', '', '', '', '', '', '', '']\n",
      "[106 106   0   0   0   0   0   0   0   0] => ['speak', 'speak', '', '', '', '', '', '', '', '']\n",
      "[ 89 270   0   0   0   0   0   0   0   0] => ['first', 'citizen', '', '', '', '', '', '', '', '']\n"
     ]
    }
   ],
   "source": [
    "for seq in sequences[:5]:\n",
    "  print(f\"{seq} => {[inverse_vocab[i] for i in seq]}\")"
   ]
  },
  {
   "cell_type": "markdown",
   "metadata": {
    "id": "yDzSOjNwCWNh"
   },
   "source": [
    "### 从序列生成训练示例"
   ]
  },
  {
   "cell_type": "markdown",
   "metadata": {
    "id": "BehvYr-nEKyY"
   },
   "source": [
    "`sequences` 现在是int编码语句的列表。只需调用前面定义的 `generate_training_data` 函数即可为 word2vec 模型生成训练示例。总而言之，该函数迭代每个序列中的每个单词，以收集正面和负面上下文单词。目标、上下文和标签的长度应相同，表示训练示例的总数。"
   ]
  },
  {
   "cell_type": "code",
   "execution_count": 25,
   "metadata": {
    "id": "44DJ22M6nX5o"
   },
   "outputs": [
    {
     "name": "stderr",
     "output_type": "stream",
     "text": [
      "100%|█████████████████████████████████████████████████████████████████████████████████████████████████████████████| 32777/32777 [00:16<00:00, 2023.74it/s]\n"
     ]
    },
    {
     "name": "stdout",
     "output_type": "stream",
     "text": [
      "\n",
      "\n",
      "targets.shape: (65287,)\n",
      "contexts.shape: (65287, 5)\n",
      "labels.shape: (65287, 5)\n"
     ]
    }
   ],
   "source": [
    "targets, contexts, labels = generate_training_data(\n",
    "    sequences=sequences,\n",
    "    window_size=2,\n",
    "    num_ns=4,\n",
    "    vocab_size=vocab_size,\n",
    "    seed=SEED)\n",
    "\n",
    "targets = np.array(targets)\n",
    "contexts = np.array(contexts)[:,:,0]\n",
    "labels = np.array(labels)\n",
    "\n",
    "print('\\n')\n",
    "print(f\"targets.shape: {targets.shape}\")\n",
    "print(f\"contexts.shape: {contexts.shape}\")\n",
    "print(f\"labels.shape: {labels.shape}\")\n"
   ]
  },
  {
   "cell_type": "markdown",
   "metadata": {
    "id": "97PqsusOFEpc"
   },
   "source": [
    "### 为性能配置数据集"
   ]
  },
  {
   "cell_type": "markdown",
   "metadata": {
    "id": "7jnFVySViQTj"
   },
   "source": [
    "要对可能大量的训练示例执行有效的批处理，请使用 `tf.data.Dataset` API. 在这一步之后， `tf.data.Dataset` 中包含 `(target_word, context_word), (label)`  元素去训练 word2vec 模型!"
   ]
  },
  {
   "cell_type": "code",
   "execution_count": 26,
   "metadata": {
    "id": "nbu8PxPSnVY2"
   },
   "outputs": [
    {
     "name": "stdout",
     "output_type": "stream",
     "text": [
      "<_BatchDataset element_spec=((TensorSpec(shape=(1024,), dtype=tf.int64, name=None), TensorSpec(shape=(1024, 5), dtype=tf.int64, name=None)), TensorSpec(shape=(1024, 5), dtype=tf.int64, name=None))>\n"
     ]
    }
   ],
   "source": [
    "BATCH_SIZE = 1024\n",
    "BUFFER_SIZE = 10000\n",
    "dataset = tf.data.Dataset.from_tensor_slices(((targets, contexts), labels))\n",
    "dataset = dataset.shuffle(BUFFER_SIZE).batch(BATCH_SIZE, drop_remainder=True)\n",
    "print(dataset)"
   ]
  },
  {
   "cell_type": "markdown",
   "metadata": {
    "id": "tyrNX6Fs6K3F"
   },
   "source": [
    "应用 `Dataset.cache` 和 `Dataset.prefetch` 去提高性能:"
   ]
  },
  {
   "cell_type": "code",
   "execution_count": 27,
   "metadata": {
    "id": "Y5Ueg6bcFPVL"
   },
   "outputs": [
    {
     "name": "stdout",
     "output_type": "stream",
     "text": [
      "<_PrefetchDataset element_spec=((TensorSpec(shape=(1024,), dtype=tf.int64, name=None), TensorSpec(shape=(1024, 5), dtype=tf.int64, name=None)), TensorSpec(shape=(1024, 5), dtype=tf.int64, name=None))>\n"
     ]
    }
   ],
   "source": [
    "dataset = dataset.cache().prefetch(buffer_size=AUTOTUNE)\n",
    "print(dataset)"
   ]
  },
  {
   "cell_type": "markdown",
   "metadata": {
    "id": "1S-CmUMszyEf"
   },
   "source": [
    "## 模型和训练"
   ]
  },
  {
   "cell_type": "markdown",
   "metadata": {
    "id": "sQFqaBMPwBqC"
   },
   "source": [
    "word2vec 模型可以被实现为分类器，以区分来自跳过图的真实上下文词和通过负采样获得的虚假上下文词。您可以在目标词和上下文词的嵌入之间执行点积乘法，以获得标签预测，并根据数据集中的真实标签计算损失函数。"
   ]
  },
  {
   "cell_type": "markdown",
   "metadata": {
    "id": "oc7kTbiwD9sy"
   },
   "source": [
    "### word2vec 模型类"
   ]
  },
  {
   "cell_type": "markdown",
   "metadata": {
    "id": "Jvr9pM1G1sQN"
   },
   "source": [
    "使用 [Keras Subclassing API](https://www.tensorflow.org/guide/keras/custom_layers_and_models) 去定义你的 to define your word2vec 模型:\n",
    "\n",
    "* `target_embedding`: `tf.keras.layers.Embedding` 层, 我们可以从中去查找目标单词的 embedding，这一层的超参数量为 `(vocab_size * embedding_dim)`\n",
    "\n",
    "* `context_embedding`: 另外 `tf.keras.layers.Embedding` 层, 当一个词作为上下文词出现时，查找该词的嵌入。 该层中的参数数量与 `target_embedding`, 比如 `(vocab_size * embedding_dim)` 中的相同\n",
    "\n",
    "* `dots`: `tf.keras.layers.Dot` 从训练对计算目标和上下文嵌入的点积的层。\n",
    "\n",
    "* `flatten`: `tf.keras.layers.Flatten` layer 将 `dots` 层的结果展平为 Logit。 \n",
    "\n",
    "使用子类模型，您可以定义接受 `（target，context）` 对的 ` call（） `函数，然后将其传递到相应的嵌入层。重塑 “context_embedded” 以执行与“target_embodded” 的点积，并返回展平后的结果。"
   ]
  },
  {
   "cell_type": "markdown",
   "metadata": {
    "id": "KiAwuIqqw7-7"
   },
   "source": [
    "关键点: “target_embedded” 和 “context_embudded” 层也可以共享。您还可以使用两个嵌入的串联作为最终的 word2vec 嵌入。"
   ]
  },
  {
   "cell_type": "code",
   "execution_count": 28,
   "metadata": {
    "id": "i9ec-sS6xd8Z"
   },
   "outputs": [],
   "source": [
    "class Word2Vec(tf.keras.Model):\n",
    "  def __init__(self, vocab_size, embedding_dim):\n",
    "    super(Word2Vec, self).__init__()\n",
    "    self.target_embedding = layers.Embedding(vocab_size,\n",
    "                                      embedding_dim,\n",
    "                                      input_length=1,\n",
    "                                      name=\"w2v_embedding\")\n",
    "    self.context_embedding = layers.Embedding(vocab_size,\n",
    "                                       embedding_dim,\n",
    "                                       input_length=num_ns+1)\n",
    "\n",
    "  def call(self, pair):\n",
    "    target, context = pair\n",
    "    # target: (batch, dummy?)  # The dummy axis doesn't exist in TF2.7+\n",
    "    # context: (batch, context)\n",
    "    if len(target.shape) == 2:\n",
    "      target = tf.squeeze(target, axis=1)\n",
    "    # target: (batch,)\n",
    "    word_emb = self.target_embedding(target)\n",
    "    # word_emb: (batch, embed)\n",
    "    context_emb = self.context_embedding(context)\n",
    "    # context_emb: (batch, context, embed)\n",
    "    dots = tf.einsum('be,bce->bc', word_emb, context_emb)\n",
    "    # dots: (batch, context)\n",
    "    return dots"
   ]
  },
  {
   "cell_type": "markdown",
   "metadata": {
    "id": "-RLKz9LFECXu"
   },
   "source": [
    "### 定义损失函数并编译模型\n"
   ]
  },
  {
   "cell_type": "markdown",
   "metadata": {
    "id": "I3Md-9QanqBM"
   },
   "source": [
    "为了简单起见，您可以使用 `tf.keras.loss.CategoricalCrossEntropy` 作为负采样损失的替代方案。如果您想编写自己的自定义损耗函数，也可以按如下方式编写：\n",
    "\n",
    "``` python\n",
    "def custom_loss(x_logit, y_true):\n",
    "      return tf.nn.sigmoid_cross_entropy_with_logits(logits=x_logit, labels=y_true)\n",
    "```\n",
    "\n",
    "是时候建立你的模型了！使用128的嵌入维度实例化word2vec类（您可以使用不同的值进行实验）。使用 `tf.keras.optimizers.Adam` 优化器编译模型。"
   ]
  },
  {
   "cell_type": "code",
   "execution_count": 29,
   "metadata": {
    "id": "ekQg_KbWnnmQ"
   },
   "outputs": [],
   "source": [
    "embedding_dim = 128\n",
    "word2vec = Word2Vec(vocab_size, embedding_dim)\n",
    "word2vec.compile(optimizer='adam',\n",
    "                 loss=tf.keras.losses.CategoricalCrossentropy(from_logits=True),\n",
    "                 metrics=['accuracy'])"
   ]
  },
  {
   "cell_type": "markdown",
   "metadata": {
    "id": "P3MUMrluqNX2"
   },
   "source": [
    "还定义一个回调来记录 TensorBoard 的训练统计信息："
   ]
  },
  {
   "cell_type": "code",
   "execution_count": 30,
   "metadata": {
    "id": "9d-ftBCeEZIR"
   },
   "outputs": [],
   "source": [
    "tensorboard_callback = tf.keras.callbacks.TensorBoard(log_dir=\"logs\")"
   ]
  },
  {
   "cell_type": "markdown",
   "metadata": {
    "id": "h5wEBotlGZ7B"
   },
   "source": [
    "在 `dataset` 上对模型进行若干 epochs 的训练："
   ]
  },
  {
   "cell_type": "code",
   "execution_count": 31,
   "metadata": {
    "id": "gmC1BJalEZIY"
   },
   "outputs": [
    {
     "name": "stdout",
     "output_type": "stream",
     "text": [
      "Epoch 1/20\n",
      "63/63 [==============================] - 1s 10ms/step - loss: 1.6083 - accuracy: 0.2327\n",
      "Epoch 2/20\n",
      "63/63 [==============================] - 1s 9ms/step - loss: 1.5892 - accuracy: 0.5538\n",
      "Epoch 3/20\n",
      "63/63 [==============================] - 1s 9ms/step - loss: 1.5420 - accuracy: 0.6037\n",
      "Epoch 4/20\n",
      "63/63 [==============================] - 1s 10ms/step - loss: 1.4592 - accuracy: 0.5798\n",
      "Epoch 5/20\n",
      "63/63 [==============================] - 1s 10ms/step - loss: 1.3610 - accuracy: 0.5836\n",
      "Epoch 6/20\n",
      "63/63 [==============================] - 1s 11ms/step - loss: 1.2643 - accuracy: 0.6088\n",
      "Epoch 7/20\n",
      "63/63 [==============================] - 1s 10ms/step - loss: 1.1744 - accuracy: 0.6422\n",
      "Epoch 8/20\n",
      "63/63 [==============================] - 1s 10ms/step - loss: 1.0909 - accuracy: 0.6753\n",
      "Epoch 9/20\n",
      "63/63 [==============================] - 1s 10ms/step - loss: 1.0131 - accuracy: 0.7078\n",
      "Epoch 10/20\n",
      "63/63 [==============================] - 1s 9ms/step - loss: 0.9406 - accuracy: 0.7374\n",
      "Epoch 11/20\n",
      "63/63 [==============================] - 1s 8ms/step - loss: 0.8732 - accuracy: 0.7638\n",
      "Epoch 12/20\n",
      "63/63 [==============================] - 1s 9ms/step - loss: 0.8108 - accuracy: 0.7863\n",
      "Epoch 13/20\n",
      "63/63 [==============================] - 1s 13ms/step - loss: 0.7533 - accuracy: 0.8073\n",
      "Epoch 14/20\n",
      "63/63 [==============================] - 1s 9ms/step - loss: 0.7005 - accuracy: 0.8252\n",
      "Epoch 15/20\n",
      "63/63 [==============================] - 1s 10ms/step - loss: 0.6522 - accuracy: 0.8399\n",
      "Epoch 16/20\n",
      "63/63 [==============================] - 1s 9ms/step - loss: 0.6081 - accuracy: 0.8527\n",
      "Epoch 17/20\n",
      "63/63 [==============================] - 1s 9ms/step - loss: 0.5679 - accuracy: 0.8654\n",
      "Epoch 18/20\n",
      "63/63 [==============================] - 1s 9ms/step - loss: 0.5313 - accuracy: 0.8773\n",
      "Epoch 19/20\n",
      "63/63 [==============================] - 1s 9ms/step - loss: 0.4980 - accuracy: 0.8868\n",
      "Epoch 20/20\n",
      "63/63 [==============================] - 1s 11ms/step - loss: 0.4677 - accuracy: 0.8954\n"
     ]
    },
    {
     "data": {
      "text/plain": [
       "<keras.src.callbacks.History at 0x1317f3d30>"
      ]
     },
     "execution_count": 31,
     "metadata": {},
     "output_type": "execute_result"
    }
   ],
   "source": [
    "word2vec.fit(dataset, epochs=20, callbacks=[tensorboard_callback])"
   ]
  },
  {
   "cell_type": "markdown",
   "metadata": {
    "id": "wze38jG57XvZ"
   },
   "source": [
    "TensorBoard 现在显示 word2vec 模型的精度和损失："
   ]
  },
  {
   "cell_type": "code",
   "execution_count": 32,
   "metadata": {
    "id": "22E9eqS55rgz"
   },
   "outputs": [
    {
     "data": {
      "text/html": [
       "\n",
       "      <iframe id=\"tensorboard-frame-8fa8c58bb52cad6b\" width=\"100%\" height=\"800\" frameborder=\"0\">\n",
       "      </iframe>\n",
       "      <script>\n",
       "        (function() {\n",
       "          const frame = document.getElementById(\"tensorboard-frame-8fa8c58bb52cad6b\");\n",
       "          const url = new URL(\"/\", window.location);\n",
       "          const port = 6006;\n",
       "          if (port) {\n",
       "            url.port = port;\n",
       "          }\n",
       "          frame.src = url;\n",
       "        })();\n",
       "      </script>\n",
       "    "
      ],
      "text/plain": [
       "<IPython.core.display.HTML object>"
      ]
     },
     "metadata": {},
     "output_type": "display_data"
    }
   ],
   "source": [
    "#docs_infra: no_execute\n",
    "%tensorboard --logdir logs"
   ]
  },
  {
   "cell_type": "markdown",
   "metadata": {
    "id": "awF3iRQCZOLj"
   },
   "source": [
    "<!-- <img class=\"tfo-display-only-on-site\" src=\"images/word2vec_tensorboard.png\"/> -->"
   ]
  },
  {
   "cell_type": "markdown",
   "metadata": {
    "id": "TaDW2tIIz8fL"
   },
   "source": [
    "## 词嵌入查找和分析"
   ]
  },
  {
   "cell_type": "markdown",
   "metadata": {
    "id": "Zp5rv01WG2YA"
   },
   "source": [
    "Obtain the weights from the model using `Model.get_layer` and `Layer.get_weights`. The `TextVectorization.get_vocabulary` function provides the vocabulary to build a metadata file with one token per line.\n",
    "\n",
    "使用 `Layer.get_weights` 和 `Model.get_layer` 从模型中获取权重。`TextVectorization.get_vocabulary` 函数提供词汇表的获取。"
   ]
  },
  {
   "cell_type": "code",
   "execution_count": 33,
   "metadata": {
    "id": "_Uamp1YH8RzU"
   },
   "outputs": [],
   "source": [
    "weights = word2vec.get_layer('w2v_embedding').get_weights()[0]\n",
    "vocab = vectorize_layer.get_vocabulary()"
   ]
  },
  {
   "cell_type": "markdown",
   "metadata": {
    "id": "gWzdmUzS8Sl4"
   },
   "source": [
    "创建并保存矢量和元数据文件："
   ]
  },
  {
   "cell_type": "code",
   "execution_count": 34,
   "metadata": {
    "id": "VLIahl9s53XT"
   },
   "outputs": [],
   "source": [
    "out_v = io.open('vectors.tsv', 'w', encoding='utf-8')\n",
    "out_m = io.open('metadata.tsv', 'w', encoding='utf-8')\n",
    "\n",
    "for index, word in enumerate(vocab):\n",
    "  if index == 0:\n",
    "    continue  # skip 0, it's padding.\n",
    "  vec = weights[index]\n",
    "  out_v.write('\\t'.join([str(x) for x in vec]) + \"\\n\")\n",
    "  out_m.write(word + \"\\n\")\n",
    "out_v.close()\n",
    "out_m.close()"
   ]
  },
  {
   "cell_type": "markdown",
   "metadata": {
    "id": "1T8KcThhIU8-"
   },
   "source": [
    "下载 `vectors.tsv` 和 `metadata.tsv` 去在 [Embedding Projector](https://projector.tensorflow.org/) 中可视化分析:"
   ]
  },
  {
   "cell_type": "code",
   "execution_count": 35,
   "metadata": {
    "id": "lUsjQOKMIV2z",
    "tags": []
   },
   "outputs": [],
   "source": [
    "try:\n",
    "  from google.colab import files\n",
    "  files.download('vectors.tsv')\n",
    "  files.download('metadata.tsv')\n",
    "except Exception:\n",
    "  pass"
   ]
  },
  {
   "cell_type": "markdown",
   "metadata": {},
   "source": [
    "# 开始在Gensim中使用Word2Vec并使其发挥作用！\n",
    "\n",
    "Word2Vec背后的想法非常简单。我们假设，你可以通过一个词的公司来判断它的含义。这类似于“给我看看你的朋友，我就会告诉你是谁”这句话。因此，如果你有两个单词有非常相似的邻居（即使用上下文大致相同），那么这些单词的含义可能非常相似，或者至少高度相关。例如，“震惊”、“震惊”和“惊讶”等词通常用于类似的上下文。\n",
    "\n",
    "在本教程中，您将学习如何使用Word2Vec的Gensim实现，并使其真正发挥作用！我听过很多关于性能差等的抱怨，但这实际上是两件事的结合，（1）你的输入数据和（2）你的参数设置。请注意，此包中的训练算法是从[谷歌最初的Word2Vec实现]移植而来的(https://arxiv.org/pdf/1301.3781.pdf)并通过附加功能进行扩展。"
   ]
  },
  {
   "cell_type": "markdown",
   "metadata": {},
   "source": [
    "### Imports and logging"
   ]
  },
  {
   "cell_type": "code",
   "execution_count": 1,
   "metadata": {},
   "outputs": [],
   "source": [
    "# imports needed and set up logging\n",
    "import gzip\n",
    "import gensim \n",
    "import logging\n",
    "\n",
    "logging.basicConfig(format='%(asctime)s : %(levelname)s : %(message)s', level=logging.INFO)\n"
   ]
  },
  {
   "cell_type": "markdown",
   "metadata": {},
   "source": [
    "### Dataset \n",
    "接下来是我们的数据集。让Word2Vec真正为您工作的秘诀是拥有大量的文本数据。在这种情况下，我将使用[OpinRank](http://kavita-ganesan.com/entity-ranking-data/)的数据数据集。该数据集包含汽车和酒店的完整用户评论。我特别将所有酒店评论连接到一个大文件中，该文件约为97MB压缩和229MB未压缩。我们将在本教程中使用压缩文件。此文件中的每一行都代表一个酒店评论。您可以在此处下载OpinRank Word2Verc数据集。\n",
    "\n",
    "为了避免混淆，虽然gensim的word2vec教程说你需要给它传递一系列句子作为输入，但你总是可以把整个评论作为一个句子（即大得多的文本）传递给它，这应该没有多大区别。\n",
    "\n",
    "现在，让我们通过打印第一行来仔细查看下面的数据。你可以看到这是一个相当大的评论。"
   ]
  },
  {
   "cell_type": "code",
   "execution_count": 7,
   "metadata": {},
   "outputs": [
    {
     "name": "stdout",
     "output_type": "stream",
     "text": [
      "b'First Citizen:\\n'\n"
     ]
    }
   ],
   "source": [
    "\n",
    "with open (path_to_file, 'rb') as f:\n",
    "    for i,line in enumerate (f):\n",
    "        print(line)\n",
    "        break\n"
   ]
  },
  {
   "cell_type": "markdown",
   "metadata": {},
   "source": [
    "### 将文件读取到列表中\n",
    "现在我们已经有了数据集的峰值，我们可以将其读取到列表中，以便将其传递到Word2Verc模型中。请注意，在下面的代码中，我正在直接阅读\n",
    "压缩文件。我还使用“gensim.utils.simple_proprocess（line）”对评论进行了轻度预处理。这会进行一些基本的预处理，如标记化、降低标记等，并返回一个标记（单词）列表。\n",
    "\n",
    "此预处理方法的文档可在官方[Gensim文档网站](https://radimrehurek.com/gensim/utils.html)上找到.\n",
    "\n"
   ]
  },
  {
   "cell_type": "code",
   "execution_count": 10,
   "metadata": {},
   "outputs": [
    {
     "name": "stderr",
     "output_type": "stream",
     "text": [
      "2024-01-22 18:35:31,566 : INFO : reading file /Users/zhangchunyang/.keras/datasets/shakespeare.txt...this may take a while\n",
      "2024-01-22 18:35:31,570 : INFO : read 0 reviews\n",
      "2024-01-22 18:35:31,690 : INFO : read 10000 reviews\n",
      "2024-01-22 18:35:31,787 : INFO : read 20000 reviews\n",
      "2024-01-22 18:35:31,912 : INFO : read 30000 reviews\n",
      "2024-01-22 18:35:32,002 : INFO : Done reading data file\n"
     ]
    }
   ],
   "source": [
    "\n",
    "def read_input(input_file):\n",
    "    \"\"\"This method reads the input file which is in gzip format\"\"\"\n",
    "    \n",
    "    logging.info(\"reading file {0}...this may take a while\".format(input_file))\n",
    "    \n",
    "    with open (input_file, 'rb') as f:\n",
    "        for i, line in enumerate (f): \n",
    "\n",
    "            if (i%10000==0):\n",
    "                logging.info (\"read {0} reviews\".format (i))\n",
    "            # do some pre-processing and return a list of words for each review text\n",
    "            yield gensim.utils.simple_preprocess (line)\n",
    "\n",
    "# read the tokenized reviews into a list\n",
    "# each review item becomes a serries of words\n",
    "# so this becomes a list of lists\n",
    "documents = list (read_input (path_to_file))\n",
    "logging.info (\"Done reading data file\")    "
   ]
  },
  {
   "cell_type": "markdown",
   "metadata": {},
   "source": [
    "## 训练Word2Verc模型\n",
    "\n",
    "训练模型相当简单。您只需实例化Word2Vec并通过我们在上一步中阅读的评论（“文档”）。所以，我们本质上是在传递一个列表列表。其中，主列表中的每个列表都包含来自用户评论的一组令牌。Word2Vec使用所有这些标记在内部创建词汇表。我所说的词汇是指一组独特的单词。\n",
    "\n",
    "\n",
    "我们实际上是在训练一个具有单个隐藏层的简单神经网络。但是，我们实际上不会在训练后使用神经网络。相反，目标是学习隐藏层的权重。这些权重本质上就是我们试图学习的单词向量。"
   ]
  },
  {
   "cell_type": "code",
   "execution_count": 13,
   "metadata": {},
   "outputs": [
    {
     "name": "stderr",
     "output_type": "stream",
     "text": [
      "2024-01-22 18:37:05,241 : INFO : collecting all words and their counts\n",
      "2024-01-22 18:37:05,243 : INFO : PROGRESS: at sentence #0, processed 0 words, keeping 0 word types\n",
      "2024-01-22 18:37:05,258 : INFO : PROGRESS: at sentence #10000, processed 46762 words, keeping 5336 word types\n",
      "2024-01-22 18:37:05,325 : INFO : PROGRESS: at sentence #20000, processed 99516 words, keeping 8036 word types\n",
      "2024-01-22 18:37:05,341 : INFO : PROGRESS: at sentence #30000, processed 150456 words, keeping 9920 word types\n",
      "2024-01-22 18:37:05,358 : INFO : collected 11442 word types from a corpus of 195977 raw words and 40000 sentences\n",
      "2024-01-22 18:37:05,360 : INFO : Creating a fresh vocabulary\n",
      "2024-01-22 18:37:05,395 : INFO : Word2Vec lifecycle event {'msg': 'effective_min_count=2 retains 6526 unique words (57.04% of original 11442, drops 4916)', 'datetime': '2024-01-22T18:37:05.395176', 'gensim': '4.3.2', 'python': '3.8.2 (default, Dec  9 2020, 12:15:00) \\n[Clang 12.0.0 (clang-1200.0.31.1)]', 'platform': 'macOS-10.16-x86_64-i386-64bit', 'event': 'prepare_vocab'}\n",
      "2024-01-22 18:37:05,396 : INFO : Word2Vec lifecycle event {'msg': 'effective_min_count=2 leaves 191061 word corpus (97.49% of original 195977, drops 4916)', 'datetime': '2024-01-22T18:37:05.396450', 'gensim': '4.3.2', 'python': '3.8.2 (default, Dec  9 2020, 12:15:00) \\n[Clang 12.0.0 (clang-1200.0.31.1)]', 'platform': 'macOS-10.16-x86_64-i386-64bit', 'event': 'prepare_vocab'}\n",
      "2024-01-22 18:37:05,440 : INFO : deleting the raw counts dictionary of 11442 items\n",
      "2024-01-22 18:37:05,442 : INFO : sample=0.001 downsamples 61 most-common words\n",
      "2024-01-22 18:37:05,443 : INFO : Word2Vec lifecycle event {'msg': 'downsampling leaves estimated 146677.24424159172 word corpus (76.8%% of prior 191061)', 'datetime': '2024-01-22T18:37:05.443677', 'gensim': '4.3.2', 'python': '3.8.2 (default, Dec  9 2020, 12:15:00) \\n[Clang 12.0.0 (clang-1200.0.31.1)]', 'platform': 'macOS-10.16-x86_64-i386-64bit', 'event': 'prepare_vocab'}\n",
      "2024-01-22 18:37:05,543 : INFO : estimated required memory for 6526 words and 150 dimensions: 11094200 bytes\n",
      "2024-01-22 18:37:05,544 : INFO : resetting layer weights\n",
      "2024-01-22 18:37:05,553 : INFO : Word2Vec lifecycle event {'update': False, 'trim_rule': 'None', 'datetime': '2024-01-22T18:37:05.552977', 'gensim': '4.3.2', 'python': '3.8.2 (default, Dec  9 2020, 12:15:00) \\n[Clang 12.0.0 (clang-1200.0.31.1)]', 'platform': 'macOS-10.16-x86_64-i386-64bit', 'event': 'build_vocab'}\n",
      "2024-01-22 18:37:05,556 : INFO : Word2Vec lifecycle event {'msg': 'training model with 10 workers on 6526 vocabulary and 150 features, using sg=0 hs=0 sample=0.001 negative=5 window=10 shrink_windows=True', 'datetime': '2024-01-22T18:37:05.556068', 'gensim': '4.3.2', 'python': '3.8.2 (default, Dec  9 2020, 12:15:00) \\n[Clang 12.0.0 (clang-1200.0.31.1)]', 'platform': 'macOS-10.16-x86_64-i386-64bit', 'event': 'train'}\n",
      "2024-01-22 18:37:05,740 : INFO : EPOCH 0: training on 195977 raw words (146545 effective words) took 0.1s, 1038958 effective words/s\n",
      "2024-01-22 18:37:05,859 : INFO : EPOCH 1: training on 195977 raw words (146549 effective words) took 0.1s, 1340990 effective words/s\n",
      "2024-01-22 18:37:05,984 : INFO : EPOCH 2: training on 195977 raw words (146782 effective words) took 0.1s, 1393571 effective words/s\n",
      "2024-01-22 18:37:06,114 : INFO : EPOCH 3: training on 195977 raw words (146723 effective words) took 0.1s, 1249260 effective words/s\n",
      "2024-01-22 18:37:06,240 : INFO : EPOCH 4: training on 195977 raw words (146825 effective words) took 0.1s, 1293108 effective words/s\n",
      "2024-01-22 18:37:06,241 : INFO : Word2Vec lifecycle event {'msg': 'training on 979885 raw words (733424 effective words) took 0.7s, 1072575 effective words/s', 'datetime': '2024-01-22T18:37:06.241903', 'gensim': '4.3.2', 'python': '3.8.2 (default, Dec  9 2020, 12:15:00) \\n[Clang 12.0.0 (clang-1200.0.31.1)]', 'platform': 'macOS-10.16-x86_64-i386-64bit', 'event': 'train'}\n",
      "2024-01-22 18:37:06,242 : INFO : Word2Vec lifecycle event {'params': 'Word2Vec<vocab=6526, vector_size=150, alpha=0.025>', 'datetime': '2024-01-22T18:37:06.242562', 'gensim': '4.3.2', 'python': '3.8.2 (default, Dec  9 2020, 12:15:00) \\n[Clang 12.0.0 (clang-1200.0.31.1)]', 'platform': 'macOS-10.16-x86_64-i386-64bit', 'event': 'created'}\n",
      "2024-01-22 18:37:06,243 : WARNING : Effective 'alpha' higher than previous training cycles\n",
      "2024-01-22 18:37:06,244 : INFO : Word2Vec lifecycle event {'msg': 'training model with 10 workers on 6526 vocabulary and 150 features, using sg=0 hs=0 sample=0.001 negative=5 window=10 shrink_windows=True', 'datetime': '2024-01-22T18:37:06.244193', 'gensim': '4.3.2', 'python': '3.8.2 (default, Dec  9 2020, 12:15:00) \\n[Clang 12.0.0 (clang-1200.0.31.1)]', 'platform': 'macOS-10.16-x86_64-i386-64bit', 'event': 'train'}\n",
      "2024-01-22 18:37:06,377 : INFO : EPOCH 0: training on 195977 raw words (146742 effective words) took 0.1s, 1323255 effective words/s\n",
      "2024-01-22 18:37:06,509 : INFO : EPOCH 1: training on 195977 raw words (146722 effective words) took 0.1s, 1220382 effective words/s\n",
      "2024-01-22 18:37:06,637 : INFO : EPOCH 2: training on 195977 raw words (146738 effective words) took 0.1s, 1263378 effective words/s\n",
      "2024-01-22 18:37:06,768 : INFO : EPOCH 3: training on 195977 raw words (146611 effective words) took 0.1s, 1230764 effective words/s\n",
      "2024-01-22 18:37:06,904 : INFO : EPOCH 4: training on 195977 raw words (146917 effective words) took 0.1s, 1187668 effective words/s\n",
      "2024-01-22 18:37:07,045 : INFO : EPOCH 5: training on 195977 raw words (147049 effective words) took 0.1s, 1164282 effective words/s\n",
      "2024-01-22 18:37:07,176 : INFO : EPOCH 6: training on 195977 raw words (146540 effective words) took 0.1s, 1231686 effective words/s\n",
      "2024-01-22 18:37:07,299 : INFO : EPOCH 7: training on 195977 raw words (146617 effective words) took 0.1s, 1315352 effective words/s\n",
      "2024-01-22 18:37:07,425 : INFO : EPOCH 8: training on 195977 raw words (146511 effective words) took 0.1s, 1369624 effective words/s\n",
      "2024-01-22 18:37:07,549 : INFO : EPOCH 9: training on 195977 raw words (146687 effective words) took 0.1s, 1423827 effective words/s\n",
      "2024-01-22 18:37:07,550 : INFO : Word2Vec lifecycle event {'msg': 'training on 1959770 raw words (1467134 effective words) took 1.3s, 1123939 effective words/s', 'datetime': '2024-01-22T18:37:07.550298', 'gensim': '4.3.2', 'python': '3.8.2 (default, Dec  9 2020, 12:15:00) \\n[Clang 12.0.0 (clang-1200.0.31.1)]', 'platform': 'macOS-10.16-x86_64-i386-64bit', 'event': 'train'}\n"
     ]
    },
    {
     "data": {
      "text/plain": [
       "(1467134, 1959770)"
      ]
     },
     "execution_count": 13,
     "metadata": {},
     "output_type": "execute_result"
    }
   ],
   "source": [
    "model = gensim.models.Word2Vec(documents, vector_size=150, window=10, min_count=2, workers=10)\n",
    "model.train(documents,total_examples=len(documents),epochs=10)"
   ]
  },
  {
   "cell_type": "markdown",
   "metadata": {},
   "source": [
    "## 现在，让我们看看一些输出\n",
    "第一个例子显示了查找与单词“dirty”类似的单词的简单情况。这里我们所需要做的就是调用“most_similate”函数，并提供单词“dirty”作为正面示例。这将返回前10个相似的单词。"
   ]
  },
  {
   "cell_type": "code",
   "execution_count": 16,
   "metadata": {},
   "outputs": [
    {
     "data": {
      "text/plain": [
       "[('prince', 0.7226690053939819),\n",
       " ('crown', 0.717072069644928),\n",
       " ('bolingbroke', 0.717056930065155),\n",
       " ('right', 0.6728043556213379),\n",
       " ('deposed', 0.6683065295219421),\n",
       " ('warwick', 0.6600245833396912),\n",
       " ('succeed', 0.6251237392425537),\n",
       " ('devil', 0.6240665316581726),\n",
       " ('fowl', 0.6228092908859253),\n",
       " ('edward', 0.6213662028312683)]"
      ]
     },
     "execution_count": 16,
     "metadata": {},
     "output_type": "execute_result"
    }
   ],
   "source": [
    "\n",
    "w1 = \"king\"\n",
    "model.wv.most_similar (positive=w1)\n"
   ]
  },
  {
   "cell_type": "markdown",
   "metadata": {},
   "source": [
    "看起来不错，对吧？让我们再看几个。让我们来看看“礼貌”、“法国”和“震惊”的相似之处。"
   ]
  },
  {
   "cell_type": "code",
   "execution_count": 18,
   "metadata": {},
   "outputs": [
    {
     "data": {
      "text/plain": [
       "[('thing', 0.8096351623535156),\n",
       " ('nothing', 0.7957566380500793),\n",
       " ('woman', 0.77407306432724),\n",
       " ('born', 0.7342748045921326),\n",
       " ('mad', 0.7246645092964172),\n",
       " ('deed', 0.7215275764465332)]"
      ]
     },
     "execution_count": 18,
     "metadata": {},
     "output_type": "execute_result"
    }
   ],
   "source": [
    "# look up top 6 words similar to 'polite'\n",
    "w1 = [\"man\"]\n",
    "model.wv.most_similar (positive=w1,topn=6)\n"
   ]
  },
  {
   "cell_type": "code",
   "execution_count": 19,
   "metadata": {},
   "outputs": [
    {
     "data": {
      "text/plain": [
       "[('unstain', 0.822390615940094),\n",
       " ('mountain', 0.814261257648468),\n",
       " ('bauble', 0.8122409582138062),\n",
       " ('jove', 0.8109042048454285),\n",
       " ('whelp', 0.8053334355354309),\n",
       " ('trimm', 0.8050435781478882)]"
      ]
     },
     "execution_count": 19,
     "metadata": {},
     "output_type": "execute_result"
    }
   ],
   "source": [
    "# look up top 6 words similar to 'france'\n",
    "w1 = [\"apple\"]\n",
    "model.wv.most_similar (positive=w1,topn=6)\n"
   ]
  },
  {
   "cell_type": "code",
   "execution_count": 20,
   "metadata": {},
   "outputs": [
    {
     "data": {
      "text/plain": [
       "[('beauty', 0.8458828926086426),\n",
       " ('withholds', 0.8414062261581421),\n",
       " ('price', 0.8320472836494446),\n",
       " ('pride', 0.8306485414505005),\n",
       " ('strength', 0.8303678035736084),\n",
       " ('rankle', 0.8299378156661987)]"
      ]
     },
     "execution_count": 20,
     "metadata": {},
     "output_type": "execute_result"
    }
   ],
   "source": [
    "# look up top 6 words similar to 'shocked'\n",
    "w1 = [\"sorrow\"]\n",
    "model.wv.most_similar (positive=w1,topn=6)\n"
   ]
  },
  {
   "cell_type": "markdown",
   "metadata": {},
   "source": [
    "很好。您甚至可以指定几个积极的例子来获得在所提供的上下文中相关的东西，并提供消极的例子来说明不应该被视为相关的东西。在下面的例子中，我们只要求提供与床有关的所有项目："
   ]
  },
  {
   "cell_type": "code",
   "execution_count": 21,
   "metadata": {},
   "outputs": [
    {
     "data": {
      "text/plain": [
       "[('shoulder', 0.9088001847267151),\n",
       " ('chamber', 0.899960994720459),\n",
       " ('boldness', 0.8979504108428955),\n",
       " ('maidenhead', 0.897590696811676),\n",
       " ('seal', 0.8911435604095459),\n",
       " ('drew', 0.8895896673202515),\n",
       " ('bosom', 0.8861256837844849),\n",
       " ('bidding', 0.8808514475822449),\n",
       " ('meditation', 0.8800074458122253),\n",
       " ('knee', 0.8786399960517883)]"
      ]
     },
     "execution_count": 21,
     "metadata": {},
     "output_type": "execute_result"
    }
   ],
   "source": [
    "# get everything related to stuff on the bed\n",
    "w1 = [\"bed\",'sheet','pillow']\n",
    "w2 = ['couch']\n",
    "model.wv.most_similar (positive=w1,negative=w2,topn=10)\n"
   ]
  },
  {
   "cell_type": "markdown",
   "metadata": {},
   "source": [
    "### 词汇表中两个单词的相似性"
   ]
  },
  {
   "cell_type": "markdown",
   "metadata": {},
   "source": [
    "您甚至可以使用Word2Verc模型来返回词汇表中两个单词之间的相似性。"
   ]
  },
  {
   "cell_type": "code",
   "execution_count": 26,
   "metadata": {},
   "outputs": [
    {
     "data": {
      "text/plain": [
       "0.23889905"
      ]
     },
     "execution_count": 26,
     "metadata": {},
     "output_type": "execute_result"
    }
   ],
   "source": [
    "# similarity between two different words\n",
    "model.wv.similarity(w1=\"fine\",w2=\"good\")"
   ]
  },
  {
   "cell_type": "markdown",
   "metadata": {},
   "source": [
    "在引擎盖下，以上三个片段使用每个单词的单词向量来计算两个指定单词之间的余弦相似度。从得分来看，“脏”与“臭”高度相似是有道理的，但“脏”不同于“干净”。如果你在两个相同的单词之间进行相似性测试，分数将为1.0，因为余弦相似性分数的范围将始终在[0.0-1.0]之间。你可以在[这里](https://en.wikipedia.org/wiki/Cosine_similarity)阅读更多关于余弦相似性评分的信息."
   ]
  },
  {
   "cell_type": "markdown",
   "metadata": {},
   "source": [
    "### 找出异常\n",
    "您甚至可以使用Word2Vec来查找给定项目列表的异常项。"
   ]
  },
  {
   "cell_type": "code",
   "execution_count": 27,
   "metadata": {},
   "outputs": [
    {
     "data": {
      "text/plain": [
       "'france'"
      ]
     },
     "execution_count": 27,
     "metadata": {},
     "output_type": "execute_result"
    }
   ],
   "source": [
    "# Which one is the odd one out in this list?\n",
    "model.wv.doesnt_match([\"cat\",\"dog\",\"france\"])"
   ]
  },
  {
   "cell_type": "code",
   "execution_count": 28,
   "metadata": {},
   "outputs": [
    {
     "name": "stderr",
     "output_type": "stream",
     "text": [
      "2024-01-22 18:40:08,047 : WARNING : vectors for words {'duvet'} are not present in the model, ignoring these words\n"
     ]
    },
    {
     "data": {
      "text/plain": [
       "'bed'"
      ]
     },
     "execution_count": 28,
     "metadata": {},
     "output_type": "execute_result"
    }
   ],
   "source": [
    "# Which one is the odd one out in this list?\n",
    "model.wv.doesnt_match([\"bed\",\"pillow\",\"duvet\",\"shower\"])\n"
   ]
  },
  {
   "cell_type": "markdown",
   "metadata": {},
   "source": [
    "## 了解一些参数为了更早地训练模型，我们必须设置一些参数。\n",
    "\n",
    "现在，让我们试着理解其中一些是什么意思。作为参考，这是我们用来训练模型的命令。\n",
    "```\n",
    "model=gensim.models.Word2Vec(documents，vecter_size=150，window=10，min_count=2，workers=10)\n",
    "```\n",
    "### `size`\n",
    "表示每个标记或单词的密集向量的大小。如果您的数据非常有限，那么大小应该是一个小得多的值。如果你有很多数据，那么尝试各种尺寸是很好的。100-150的数值对我来说效果很好。\n",
    "\n",
    "### `window`\n",
    "目标单词与其相邻单词之间的最大距离。如果邻居的位置大于左右两侧的最大窗口宽度，则某些邻居不被视为与目标词相关。理论上，一个较小的窗口应该会给你提供更相关的术语。如果你有很多数据，那么窗口大小应该不太重要，只要它是一个大小合适的窗口。\n",
    "\n",
    "### `min_count`\n",
    "最小化单词的频率计数。该模型将忽略那些不能统计“min_count”的单词。极不常用的词通常是不重要的，所以最好去掉这些词。除非数据集非常小，否则这不会真正影响模型。\n",
    "\n",
    "### `workers`\n",
    "在幕后使用多少线程？\n"
   ]
  }
 ],
 "metadata": {
  "colab": {
   "collapsed_sections": [],
   "name": "word2vec.ipynb",
   "provenance": [],
   "toc_visible": true
  },
  "kernelspec": {
   "display_name": "Python 3 (ipykernel)",
   "language": "python",
   "name": "python3"
  },
  "language_info": {
   "codemirror_mode": {
    "name": "ipython",
    "version": 3
   },
   "file_extension": ".py",
   "mimetype": "text/x-python",
   "name": "python",
   "nbconvert_exporter": "python",
   "pygments_lexer": "ipython3",
   "version": "3.8.2"
  }
 },
 "nbformat": 4,
 "nbformat_minor": 4
}
