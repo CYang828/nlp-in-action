{
 "cells": [
  {
   "cell_type": "markdown",
   "metadata": {},
   "source": [
    "# 意图分类模型训练"
   ]
  },
  {
   "cell_type": "code",
   "execution_count": 1,
   "metadata": {
    "tags": []
   },
   "outputs": [
    {
     "name": "stdout",
     "output_type": "stream",
     "text": [
      "gensim: 4.3.2\n"
     ]
    },
    {
     "name": "stderr",
     "output_type": "stream",
     "text": [
      "/var/folders/8z/_m3tlbk55sv4j8cl6sp2_7gw0000gn/T/ipykernel_45015/3439798073.py:36: TqdmDeprecationWarning: This function will be removed in tqdm==5.0.0\n",
      "Please use `tqdm.notebook.tqdm` instead of `tqdm.tqdm_notebook`\n",
      "  tqdm().pandas()  # Enable tracking of execution progress\n"
     ]
    },
    {
     "data": {
      "application/json": {
       "ascii": false,
       "bar_format": null,
       "colour": null,
       "elapsed": 0.03773903846740723,
       "initial": 0,
       "n": 0,
       "ncols": null,
       "nrows": null,
       "postfix": null,
       "prefix": "",
       "rate": null,
       "total": null,
       "unit": "it",
       "unit_divisor": 1000,
       "unit_scale": false
      },
      "application/vnd.jupyter.widget-view+json": {
       "model_id": "ff8a4ea691624f4d988f8c9b03ea4e6e",
       "version_major": 2,
       "version_minor": 0
      },
      "text/plain": [
       "0it [00:00, ?it/s]"
      ]
     },
     "metadata": {},
     "output_type": "display_data"
    },
    {
     "name": "stdout",
     "output_type": "stream",
     "text": [
      "\n",
      "intents:\n",
      "{'app': ['app', 'application'], 'battery': ['battery'], 'bug': ['bug'], 'greeting': ['hi', 'hello', 'hey', 'yo'], 'icloud': ['icloud', 'i cloud'], 'ios': ['io'], 'iphone': ['iphone', 'i phone'], 'mac': ['mac', 'macbook', 'laptop', 'computer'], 'music': ['music', 'song', 'playlist'], 'network': ['internet', 'connection', 'network'], 'payment': ['credit', 'card', 'payment', 'pay'], 'settings': ['settings', 'setting'], 'troubleshooting': ['problem', 'trouble', 'error'], 'update': ['update'], 'watch': ['tv', 'show']}\n",
      "\n",
      "processed:\n",
      "                                    Processed Inbound  \\\n",
      "0   [new, update, i️, make, sure, download, yester...   \n",
      "6   [hey, anyone, else, upgraded, io, issue, capit...   \n",
      "12  [hello, internet, someone, explain, symbol, ke...   \n",
      "13  [get, screenshot, say, iphonex, reserve, email...   \n",
      "15  [thank, update, phone, even, slow, barely, wor...   \n",
      "\n",
      "                                         Real Inbound  \\\n",
      "0   @AppleSupport The newest update. I️ made sure ...   \n",
      "6   Hey @AppleSupport and anyone else who upgraded...   \n",
      "12  Hello, internet. Can someone explain why this ...   \n",
      "13  @AppleSupport I’ve got a screenshot saying my ...   \n",
      "15  Thank you @AppleSupport I updated my phone and...   \n",
      "\n",
      "                                        Real Outbound  \n",
      "0   @115854 Lets take a closer look into this issu...  \n",
      "6   @115856 Hey, let's work together to figure out...  \n",
      "12  @115861 You're in the right place; we'll do al...  \n",
      "13  @115863 Go ahead and send us a DM please. Let ...  \n",
      "15  @115864 We'd like to help, but we'll need more...  \n"
     ]
    }
   ],
   "source": [
    "import pandas as pd\n",
    "import numpy as np\n",
    "\n",
    "# Word Embeddings\n",
    "from sklearn.feature_extraction.text import CountVectorizer\n",
    "from sklearn.feature_extraction.text import TfidfVectorizer\n",
    "import gensim\n",
    "print(f'gensim: {gensim.__version__}')\n",
    "\n",
    "# Text\n",
    "from nltk.tokenize import word_tokenize \n",
    "from nltk.tokenize import TweetTokenizer\n",
    "from gensim.test.utils import common_texts\n",
    "from gensim.models.doc2vec import Doc2Vec, TaggedDocument\n",
    "from gensim.test.utils import get_tmpfile\n",
    "\n",
    "# Storing as objects via serialization\n",
    "from tempfile import mkdtemp\n",
    "import pickle\n",
    "import joblib\n",
    "\n",
    "# Visualization \n",
    "import seaborn as sns\n",
    "import matplotlib.pyplot as plt\n",
    "sns.set(style=\"ticks\", color_codes=True)\n",
    "\n",
    "# Directory\n",
    "import os\n",
    "import yaml\n",
    "import collections\n",
    "import scattertext as st\n",
    "import math\n",
    "\n",
    "# Cool progress bars\n",
    "from tqdm import tqdm_notebook as tqdm\n",
    "tqdm().pandas()  # Enable tracking of execution progress\n",
    "\n",
    "## LOADING OBJECTS\n",
    "processed_inbound = pd.read_pickle('objects/processed_inbound_extra.pkl')\n",
    "processed = pd.read_pickle('objects/processed.pkl')\n",
    "\n",
    "# Reading back in intents\n",
    "with open(r'objects/intents.yml') as file:\n",
    "    intents = yaml.load(file, Loader=yaml.FullLoader)\n",
    "\n",
    "# Previewing\n",
    "print(f'\\nintents:\\n{intents}')\n",
    "print(f'\\nprocessed:\\n{processed.head()}')"
   ]
  },
  {
   "cell_type": "markdown",
   "metadata": {},
   "source": [
    "## 使用Doc2Vec收集推文\n",
    "\n",
    "我可以使用我的Doc2Vec表示，根据推文的余弦相似性，找到与推文的广义意图版本最相似的前1000条推文。\n",
    "\n",
    "启发式搜索是指一种搜索策略，它试图通过基于给定的启发式函数或成本度量迭代改进解决方案来优化问题。我的成本度量是试图获得最接近的余弦距离。\n",
    "\n",
    "这真的很酷。所以我基本上用我的训练数据训练了我的doc2vec模型，这就是processed_inbound。实际上，我可以根据我的训练数据计算一个向量来向量化这个词。\n"
   ]
  },
  {
   "cell_type": "markdown",
   "metadata": {},
   "source": [
    "## 训练我的 Doc2Vec\n",
    "这是为word2vec推广到段落而开发的一种方法。Doc2Vec取它们的平均值，每条推文都表示为一个嵌入，因此您具有一致的维度。\n",
    "\n",
    "![](https://aimaksen.rarelimiting.com/doc2vec.png)\n",
    "Word2Vec使用连续单词袋，在每个单词周围创建一个滑动窗口，从上下文（单词周围）和Skip Gram模型预测它。Doc2Vec正是基于此。\n",
    "\n",
    "* https://medium.com/wisio/a-gentle-introduction-to-doc2vec-db3e8c0cce5e\n",
    "* https://radimrehurek.com/gensim/models/doc2vec.html\n",
    "* https://rare-technologies.com/doc2vec-tutorial/\n",
    "\n",
    "它基本上是单词到向量，但基本上采用标准的单词到向量模型，并添加一个额外的向量来表示段落，称为段落向量。输入单词序列，然后他们用它们来预测下一个单词，并检查预测是否正确。如果预测是正确的，它会对不同的单词组合进行多次预测。\n",
    "\n",
    "它与word2vec相同，但处于文档级别，而不是单词级别。我下面的实现基于[这里](https://medium.com/wisio/a-gentle-introduction-to-doc2vec-db3e8c0cce5e)以及通过滚动Gensim的文档来更精细地了解每一步。\n",
    "\n",
    "\n",
    "## My Intents:\n",
    "\n",
    "更新：\n",
    "* 决定删除lost_replace，因为它与修复很难区分，因为大多数丢失东西的客户在技术上也需要解决问题"
   ]
  },
  {
   "cell_type": "markdown",
   "metadata": {},
   "source": [
    "### 整合\n",
    "基本上，我有三种方法来获取我的意向训练数据（每种1000个）：\n",
    "* **Doc2Vec:** 我将使用doc2vec从理想化的示例中综合生成一些意图示例\n",
    "* **Manual:** 我将通过复制和手动综合生成一些意图示例（如问候语，因为当前数据并不代表这一点）\n",
    "* **Hybrid:** 有些意图是，我将采用混合方法，其中50%可能是我生成的数据，50%可能是Doc2Vec数据"
   ]
  },
  {
   "cell_type": "code",
   "execution_count": 2,
   "metadata": {},
   "outputs": [
    {
     "name": "stdout",
     "output_type": "stream",
     "text": [
      "Converting to string...\n"
     ]
    },
    {
     "data": {
      "application/json": {
       "ascii": false,
       "bar_format": null,
       "colour": null,
       "elapsed": 0.029788970947265625,
       "initial": 0,
       "n": 0,
       "ncols": null,
       "nrows": null,
       "postfix": null,
       "prefix": "",
       "rate": null,
       "total": 77175,
       "unit": "it",
       "unit_divisor": 1000,
       "unit_scale": false
      },
      "application/vnd.jupyter.widget-view+json": {
       "model_id": "c1c20bf8aa28406885a4c6cfbc4f2a73",
       "version_major": 2,
       "version_minor": 0
      },
      "text/plain": [
       "  0%|          | 0/77175 [00:00<?, ?it/s]"
      ]
     },
     "metadata": {},
     "output_type": "display_data"
    },
    {
     "data": {
      "text/plain": [
       "0            new update i️ make sure download yesterday\n",
       "6     hey anyone else upgraded io issue capital i️ m...\n",
       "12    hello internet someone explain symbol keep app...\n",
       "13    get screenshot say iphonex reserve email say h...\n",
       "15    thank update phone even slow barely work thank...\n",
       "                            ...                        \n",
       "1                                password account login\n",
       "2                               credit card payment pay\n",
       "3                                        update upgrade\n",
       "4                                      info information\n",
       "5                          nearest apple location store\n",
       "Length: 77181, dtype: object"
      ]
     },
     "execution_count": 2,
     "metadata": {},
     "output_type": "execute_result"
    }
   ],
   "source": [
    "# 制作我的理想化数据集 - 生成N条与这条人工推文相似的推文\n",
    "# 然后将其与当前的入站数据合并，以便可以将其包含在doc2vec训练中\n",
    "\n",
    "# Version 1\n",
    "ideal = {\n",
    "    \"Greeting\": \"hi hello yo hey whats up howdy morning\",\n",
    "    \"Update\": \"have problem with update\",\n",
    "}\n",
    "# 版本2 - 我意识到关键词可能会完成任务，而且因为是doc2vec，增加更多的词以增强关联性的风险更小\n",
    "ideal = {\n",
    "    \"battery\": \"battery power\",\n",
    "    \"forgot_password\": \"password account login\",\n",
    "    \"payment\": \"credit card payment pay\",\n",
    "    \"update\": \"update upgrade\",\n",
    "    \"info\": \"info information\"\n",
    "    #          ,'lost_replace': 'replace lost gone missing trade'\n",
    "    ,\n",
    "    \"location\": \"nearest apple location store\",\n",
    "}\n",
    "\n",
    "\n",
    "def add_extra(current_tokenized_data, extra_tweets):\n",
    "    \"\"\"Adding extra tweets to current tokenized data\"\"\"\n",
    "\n",
    "    # Storing these extra Tweets in a list to concatenate to the inbound data\n",
    "    extra_tweets = pd.Series(extra_tweets)\n",
    "\n",
    "    # Making string form\n",
    "    print(\"Converting to string...\")\n",
    "    string_processed_data = current_tokenized_data.progress_apply(\" \".join)\n",
    "\n",
    "    # Adding it to the data, updating processed_inbound\n",
    "    string_processed_data = pd.concat([string_processed_data, extra_tweets], axis=0)\n",
    "\n",
    "    # We want a tokenized version\n",
    "    tknzr = TweetTokenizer(strip_handles=True, reduce_len=True)\n",
    "    #     print('Tokenizing...')\n",
    "    #     string_processed_data.progress_apply(tknzr.tokenize)\n",
    "    return string_processed_data\n",
    "\n",
    "\n",
    "# Getting the lengthened data\n",
    "processed_inbound_extra = add_extra(\n",
    "    processed[\"Processed Inbound\"], list(ideal.values())\n",
    ")\n",
    "\n",
    "# Saving updated processed inbound into a serialized saved file\n",
    "processed_inbound_extra.to_pickle(\"objects/processed_inbound_extra.pkl\")\n",
    "\n",
    "processed_inbound_extra"
   ]
  },
  {
   "cell_type": "code",
   "execution_count": 3,
   "metadata": {},
   "outputs": [
    {
     "data": {
      "text/plain": [
       "106647    anyone iphone issue phone freeze randomly puls...\n",
       "0                                             battery power\n",
       "1                                    password account login\n",
       "2                                   credit card payment pay\n",
       "3                                            update upgrade\n",
       "4                                          info information\n",
       "5                              nearest apple location store\n",
       "dtype: object"
      ]
     },
     "execution_count": 3,
     "metadata": {},
     "output_type": "execute_result"
    }
   ],
   "source": [
    "processed_inbound_extra[-7:]"
   ]
  },
  {
   "cell_type": "code",
   "execution_count": 5,
   "metadata": {},
   "outputs": [
    {
     "data": {
      "text/plain": [
       "(77181,)"
      ]
     },
     "execution_count": 5,
     "metadata": {},
     "output_type": "execute_result"
    }
   ],
   "source": [
    "processed_inbound_extra.shape"
   ]
  },
  {
   "cell_type": "code",
   "execution_count": 6,
   "metadata": {},
   "outputs": [
    {
     "data": {
      "text/plain": [
       "{'battery': 'battery power',\n",
       " 'forgot_password': 'password account login',\n",
       " 'payment': 'credit card payment pay',\n",
       " 'update': 'update upgrade',\n",
       " 'info': 'info information',\n",
       " 'location': 'nearest apple location store'}"
      ]
     },
     "execution_count": 6,
     "metadata": {},
     "output_type": "execute_result"
    }
   ],
   "source": [
    "ideal"
   ]
  },
  {
   "cell_type": "code",
   "execution_count": 7,
   "metadata": {},
   "outputs": [
    {
     "data": {
      "text/plain": [
       "(77175, 3)"
      ]
     },
     "execution_count": 7,
     "metadata": {},
     "output_type": "execute_result"
    }
   ],
   "source": [
    "processed.shape"
   ]
  },
  {
   "cell_type": "markdown",
   "metadata": {},
   "source": [
    "我先贴标签，然后开始训练我的模型！这就像训练一个神经网络。至于参数，我将每个向量设置为20维。"
   ]
  },
  {
   "cell_type": "code",
   "execution_count": 14,
   "metadata": {
    "scrolled": true
   },
   "outputs": [
    {
     "name": "stdout",
     "output_type": "stream",
     "text": [
      "iteration 0\n",
      "iteration 1\n",
      "iteration 2\n",
      "iteration 3\n",
      "iteration 4\n",
      "iteration 5\n",
      "iteration 6\n",
      "iteration 7\n",
      "iteration 8\n",
      "iteration 9\n",
      "iteration 10\n",
      "iteration 11\n",
      "iteration 12\n",
      "iteration 13\n",
      "iteration 14\n",
      "iteration 15\n",
      "iteration 16\n",
      "iteration 17\n",
      "iteration 18\n",
      "iteration 19\n",
      "iteration 20\n",
      "iteration 21\n",
      "iteration 22\n",
      "iteration 23\n",
      "iteration 24\n",
      "iteration 25\n",
      "iteration 26\n",
      "iteration 27\n",
      "iteration 28\n",
      "iteration 29\n",
      "iteration 30\n",
      "iteration 31\n",
      "iteration 32\n",
      "iteration 33\n",
      "iteration 34\n",
      "iteration 35\n",
      "iteration 36\n",
      "iteration 37\n",
      "iteration 38\n",
      "iteration 39\n",
      "iteration 40\n",
      "iteration 41\n",
      "iteration 42\n",
      "iteration 43\n",
      "iteration 44\n",
      "iteration 45\n",
      "iteration 46\n",
      "iteration 47\n",
      "iteration 48\n",
      "iteration 49\n",
      "iteration 50\n",
      "iteration 51\n",
      "iteration 52\n",
      "iteration 53\n",
      "iteration 54\n",
      "iteration 55\n",
      "iteration 56\n",
      "iteration 57\n",
      "iteration 58\n",
      "iteration 59\n",
      "iteration 60\n",
      "iteration 61\n",
      "iteration 62\n",
      "iteration 63\n",
      "iteration 64\n",
      "iteration 65\n",
      "iteration 66\n",
      "iteration 67\n",
      "iteration 68\n",
      "iteration 69\n",
      "iteration 70\n",
      "iteration 71\n",
      "iteration 72\n",
      "iteration 73\n",
      "iteration 74\n",
      "iteration 75\n",
      "iteration 76\n",
      "iteration 77\n",
      "iteration 78\n",
      "iteration 79\n",
      "iteration 80\n",
      "iteration 81\n",
      "iteration 82\n",
      "iteration 83\n",
      "iteration 84\n",
      "iteration 85\n",
      "iteration 86\n",
      "iteration 87\n",
      "iteration 88\n",
      "iteration 89\n",
      "iteration 90\n",
      "iteration 91\n",
      "iteration 92\n",
      "iteration 93\n",
      "iteration 94\n",
      "iteration 95\n",
      "iteration 96\n",
      "iteration 97\n",
      "iteration 98\n",
      "iteration 99\n",
      "Model Saved\n"
     ]
    }
   ],
   "source": [
    "def train_doc2vec(string_data, max_epochs, vec_size, alpha):\n",
    "    # Tagging each of the data with an ID, and I use the most memory efficient one of just using it's ID\n",
    "    tagged_data = [\n",
    "        TaggedDocument(words=word_tokenize(_d.lower()), tags=[str(i)])\n",
    "        for i, _d in enumerate(string_data)\n",
    "    ]\n",
    "\n",
    "    # Instantiating my model\n",
    "    model = Doc2Vec(\n",
    "        vector_size=vec_size, alpha=alpha, min_alpha=0.00025, min_count=1, dm=1\n",
    "    )\n",
    "\n",
    "    model.build_vocab(tagged_data)\n",
    "\n",
    "    for epoch in range(max_epochs):\n",
    "        print(\"iteration {0}\".format(epoch))\n",
    "        model.train(tagged_data, total_examples=model.corpus_count, epochs=1)\n",
    "        # Decrease the learning rate\n",
    "        model.alpha -= 0.0002\n",
    "        # Fix the learning rate, no decay\n",
    "        model.min_alpha = model.alpha\n",
    "\n",
    "    # Saving model\n",
    "    model.save(\"models/d2v.model\")\n",
    "    print(\"Model Saved\")\n",
    "\n",
    "\n",
    "# Training\n",
    "train_doc2vec(processed_inbound_extra, max_epochs=100, vec_size=20, alpha=0.025)"
   ]
  },
  {
   "cell_type": "code",
   "execution_count": 15,
   "metadata": {},
   "outputs": [
    {
     "name": "stderr",
     "output_type": "stream",
     "text": [
      "/var/folders/8z/_m3tlbk55sv4j8cl6sp2_7gw0000gn/T/ipykernel_27493/3731823294.py:5: DeprecationWarning: Call to deprecated `docvecs` (The `docvecs` property has been renamed `dv`.).\n",
      "  inbound_d2v = np.array([model.docvecs[i] for i in range(processed_inbound_extra.shape[0])])\n"
     ]
    },
    {
     "data": {
      "text/plain": [
       "array([[ 0.02141459,  1.0485218 , -0.11352674, ..., -0.57316476,\n",
       "         1.2567227 ,  0.8133796 ],\n",
       "       [ 0.6433453 , -0.46461987,  0.6852976 , ...,  0.61456066,\n",
       "         0.8952385 , -0.43508586],\n",
       "       [ 0.26814154, -0.6016166 ,  0.4962034 , ..., -0.47246248,\n",
       "        -0.5823761 ,  1.1728697 ],\n",
       "       ...,\n",
       "       [-0.19194143,  0.2944763 ,  0.11155306, ..., -0.55312175,\n",
       "         0.3303076 ,  0.2027614 ],\n",
       "       [-0.61836815, -0.24761444,  0.06110899, ...,  0.1553171 ,\n",
       "        -0.22171587,  0.06406166],\n",
       "       [-0.7866485 , -0.36852857,  0.24396466, ...,  0.0807102 ,\n",
       "        -0.57726973,  0.21820474]], dtype=float32)"
      ]
     },
     "execution_count": 15,
     "metadata": {},
     "output_type": "execute_result"
    }
   ],
   "source": [
    "# Loading in my model\n",
    "model = Doc2Vec.load(\"models/d2v.model\")\n",
    "\n",
    "# Storing my data into a list - this is the data I will cluster\n",
    "inbound_d2v = np.array([model.docvecs[i] for i in range(processed_inbound_extra.shape[0])])\n",
    "\n",
    "# Saving\n",
    "with open('objects/inbound_d2v.pkl', 'wb') as f:\n",
    "    pickle.dump(inbound_d2v, f)\n",
    "\n",
    "inbound_d2v"
   ]
  },
  {
   "cell_type": "code",
   "execution_count": 16,
   "metadata": {},
   "outputs": [
    {
     "data": {
      "text/plain": [
       "(77181, 20)"
      ]
     },
     "execution_count": 16,
     "metadata": {},
     "output_type": "execute_result"
    }
   ],
   "source": [
    "inbound_d2v.shape"
   ]
  },
  {
   "cell_type": "markdown",
   "metadata": {},
   "source": [
    "以前，我们在矢量器中没有距离的概念，它们实际上没有特定的含义。这是一种更好的方式，因为它可以捕捉单词之间的上下文表示！我的聚类应该比tfidf或单词袋要好得多。\n"
   ]
  },
  {
   "cell_type": "markdown",
   "metadata": {},
   "source": [
    "### doc2vec接受了哪些训练？\n",
    "\n",
    "需要记住的一件事是，找到这种嵌入是在什么上训练的。我们不希望它在学术数据上训练，因为推特与学术论文在一个完全不同的领域。\n",
    "\n",
    "查看gensim[文档](https://radimrehurek.com/gensim/models/doc2vec.html)对于doc2vec，它似乎与word2vec一样被训练，只是现在它们还使用了段落上下文向量。这意味着它很可能是在谷歌新闻上训练的。"
   ]
  },
  {
   "cell_type": "markdown",
   "metadata": {},
   "source": [
    "## 方法\n",
    "\n",
    "最初，为了获得前1000条类似的推文，我尝试使用现有的数据。但我不认为这会产生最准确的结果，因为你捕捉的不是最具代表性的推文。出于这个原因，我自己制作了所有这些具有基本代表性的推文（你可以在上面的“理想”dict中看到这一点。目标是找到一个理想化的、完整的意图表示。然后，我使用我的doc2vec表示，根据余弦相似性找到前1000条最相似的推文。\n",
    "### 软件包探索"
   ]
  },
  {
   "cell_type": "code",
   "execution_count": 17,
   "metadata": {},
   "outputs": [
    {
     "data": {
      "text/plain": [
       "[array([-0.00594875, -0.01279895, -0.00349292, -0.00663089,  0.02879114,\n",
       "        -0.00740104,  0.02827158,  0.04429557, -0.04806001,  0.0073281 ,\n",
       "         0.0041863 ,  0.01804352, -0.0264591 , -0.01274895,  0.00893416,\n",
       "        -0.03138066, -0.00179807, -0.00542462, -0.02801915, -0.00378666],\n",
       "       dtype=float32)]"
      ]
     },
     "execution_count": 17,
     "metadata": {},
     "output_type": "execute_result"
    }
   ],
   "source": [
    "# Finding and making idealized versions of each intent so that I can find top 1000 to it:\n",
    "intents_ideal = {'app': ['app', 'prob']}\n",
    "inferred_vectors = []\n",
    "\n",
    "for keywords in intents_ideal.values():\n",
    "    inferred_vectors.append(model.infer_vector(keywords))\n",
    "    \n",
    "inferred_vectors"
   ]
  },
  {
   "cell_type": "code",
   "execution_count": 18,
   "metadata": {
    "scrolled": true
   },
   "outputs": [],
   "source": [
    "# model.similarity(inferred_vectors[0], inbound_d2v[0])"
   ]
  },
  {
   "cell_type": "code",
   "execution_count": 19,
   "metadata": {},
   "outputs": [
    {
     "data": {
      "text/plain": [
       "['hi', 'hello', 'yo', 'hey', 'whats', 'up']"
      ]
     },
     "execution_count": 19,
     "metadata": {},
     "output_type": "execute_result"
    }
   ],
   "source": [
    "'hi hello yo hey whats up'.split()"
   ]
  },
  {
   "cell_type": "markdown",
   "metadata": {},
   "source": [
    "### 查找意向标记\n",
    "我想获得我的代表性推文的标签，因为这就是doc2vec的“model.asimilation”方法作为参数来生成与之相似的前N条推文的原因。"
   ]
  },
  {
   "cell_type": "code",
   "execution_count": 20,
   "metadata": {},
   "outputs": [
    {
     "data": {
      "text/plain": [
       "{'battery': 'battery power',\n",
       " 'forgot_password': 'password account login',\n",
       " 'payment': 'credit card payment pay',\n",
       " 'update': 'update upgrade',\n",
       " 'info': 'info information',\n",
       " 'location': 'nearest apple location store'}"
      ]
     },
     "execution_count": 20,
     "metadata": {},
     "output_type": "execute_result"
    }
   ],
   "source": [
    "ideal"
   ]
  },
  {
   "cell_type": "markdown",
   "metadata": {},
   "source": [
    "下面的代码块不是最有效的代码，而且计算起来很长，但它很有效！它基本上是搜索我所有处理过的入站推文，并查找我的代表推文的标签，如我的输出和“intents_tags”字典中所示。"
   ]
  },
  {
   "cell_type": "code",
   "execution_count": 21,
   "metadata": {
    "tags": []
   },
   "outputs": [],
   "source": [
    "# 将我的代表性推文和意图存储在这个字典中\n",
    "# 只需要向这个字典添加内容，其余的代码块就会为您完成工作\n",
    "# 要为此找到合适的代表性推文：我在笔记本1中使用了关键词EDA函数\n",
    "\n",
    "# Version 1\n",
    "intents_repr = {\n",
    "    \"Battery\": [\"io\", \"drain\", \"battery\", \"iphone\", \"twice\", \"fast\", \"io\", \"help\"],\n",
    "    \"Update\": [\"new\", \"update\", \"i️\", \"make\", \"sure\", \"download\", \"yesterday\"],\n",
    "    \"iphone\": [\"instal\", \"io\", \"make\", \"iphone\", \"slow\", \"work\", \"properly\", \"help\"],\n",
    "    \"app\": [\"app\", \"still\", \"longer\", \"able\", \"control\", \"lockscreen\"],\n",
    "    \"mac\": [\n",
    "        \"help\",\n",
    "        \"mac\",\n",
    "        \"app\",\n",
    "        \"store\",\n",
    "        \"open\",\n",
    "        \"can\",\n",
    "        \"not\",\n",
    "        \"update\",\n",
    "        \"macbook\",\n",
    "        \"pro\",\n",
    "        \"currently\",\n",
    "        \"run\",\n",
    "        \"o\",\n",
    "        \"x\",\n",
    "        \"yosemite\",\n",
    "    ],\n",
    "    \"greeting\": [\"hi\", \"hello\", \"yo\", \"hey\", \"whats\", \"up\"],\n",
    "}\n",
    "# 您可以看到，在版本1中，我尝试使用现有的推文，但这并不是最佳策略，也不会产生最佳结果"
   ]
  },
  {
   "cell_type": "code",
   "execution_count": 22,
   "metadata": {
    "tags": []
   },
   "outputs": [
    {
     "name": "stdout",
     "output_type": "stream",
     "text": [
      "{'battery': ['battery', 'power'], 'forgot_password': ['password', 'account', 'login'], 'payment': ['credit', 'card', 'payment', 'pay'], 'update': ['update', 'upgrade'], 'info': ['info', 'information'], 'location': ['nearest', 'apple', 'location', 'store']}\n",
      "TAGGED INDEXES TO LOOK FOR\n",
      "\n",
      "battery \n",
      "Index: 76066\n",
      "Preview: 0    battery power\n",
      "dtype: object\n",
      "\n",
      "forgot_password \n",
      "Index: 76067\n",
      "Preview: 1    password account login\n",
      "dtype: object\n",
      "\n",
      "payment \n",
      "Index: 76068\n",
      "Preview: 2    credit card payment pay\n",
      "dtype: object\n",
      "\n",
      "update \n",
      "Index: 76069\n",
      "Preview: 3    update upgrade\n",
      "dtype: object\n",
      "\n",
      "info \n",
      "Index: 76070\n",
      "Preview: 4    info information\n",
      "dtype: object\n",
      "\n",
      "location \n",
      "Index: 76071\n",
      "Preview: 5    nearest apple location store\n",
      "dtype: object\n"
     ]
    },
    {
     "data": {
      "text/plain": [
       "{'battery': '76066',\n",
       " 'forgot_password': '76067',\n",
       " 'payment': '76068',\n",
       " 'update': '76069',\n",
       " 'info': '76070',\n",
       " 'location': '76071'}"
      ]
     },
     "execution_count": 22,
     "metadata": {},
     "output_type": "execute_result"
    }
   ],
   "source": [
    "# Version 2\n",
    "tknzr = TweetTokenizer(strip_handles=True, reduce_len=True)\n",
    "## 只需对“ideal”值的所有值进行标记化，以便能够输入到匹配函数中\n",
    "# intents_repr = dict(zip(ideal.keys(), [tknzr.tokenize(v) for v in ideal.values()]))\n",
    "# Pythonic way\n",
    "intents_repr = {k: tknzr.tokenize(v) for k, v in ideal.items()}\n",
    "print(intents_repr)\n",
    "\n",
    "# Saving intents_repr into YAML\n",
    "with open(\"objects/intents_repr.yml\", \"w\") as outfile:\n",
    "    yaml.dump(intents_repr, outfile, default_flow_style=False)\n",
    "\n",
    "# Storing tags in order of the dictionary above\n",
    "tags = []\n",
    "\n",
    "tokenized_processed_inbound = processed_inbound.apply(tknzr.tokenize)\n",
    "\n",
    "\n",
    "# Find the index locations of specific Tweets\n",
    "def report_index_loc(tweet, intent_name):\n",
    "    \"\"\"接受推文以查找索引，并返回该推文索引的报告，以及代表性推文的样子\"\"\"\n",
    "    try:\n",
    "        tweets = []\n",
    "        for i, j in enumerate(tokenized_processed_inbound):\n",
    "            if j == tweet:\n",
    "                tweets.append((i, True))\n",
    "            else:\n",
    "                tweets.append((i, False))\n",
    "        index = []\n",
    "        get_index = [\n",
    "            index.append(i[0]) if i[1] == True else False for i in tweets\n",
    "        ]  # Comprehension saves space\n",
    "\n",
    "        preview = processed_inbound.iloc[index]\n",
    "\n",
    "        # Appending to indexes for dictionary\n",
    "        tags.append(str(index[0]))\n",
    "    except IndexError as e:\n",
    "        print(\"Index not in list, move on\")\n",
    "        return\n",
    "\n",
    "    return intent_name, str(index[0]), preview\n",
    "\n",
    "\n",
    "# Reporting and storing indexes with the function\n",
    "print(\"TAGGED INDEXES TO LOOK FOR\")\n",
    "for j, i in intents_repr.items():\n",
    "    try:\n",
    "        print(\"\\n{} \\nIndex: {}\\nPreview: {}\".format(*report_index_loc(i, j)))\n",
    "    except Exception as e:\n",
    "        print(\"Index ended\")\n",
    "\n",
    "# Pythonic way of making new dictionary from 2 lists\n",
    "intents_tags = dict(zip(intents_repr.keys(), tags))\n",
    "intents_tags"
   ]
  },
  {
   "cell_type": "code",
   "execution_count": 31,
   "metadata": {},
   "outputs": [
    {
     "data": {
      "text/plain": [
       "[('75828', 0.8429028391838074),\n",
       " ('23308', 0.8380948305130005),\n",
       " ('5157', 0.8362941145896912),\n",
       " ('16350', 0.8295601010322571),\n",
       " ('65943', 0.8282182216644287)]"
      ]
     },
     "execution_count": 31,
     "metadata": {},
     "output_type": "execute_result"
    }
   ],
   "source": [
    "# 太好了！现在我可以获取我的电池意图的训练数据（以电池意图为例）\n",
    "similar_doc = model.dv.most_similar(\"76066\", topn=1000)\n",
    "# Preview\n",
    "similar_doc[:5]"
   ]
  },
  {
   "cell_type": "code",
   "execution_count": 32,
   "metadata": {},
   "outputs": [
    {
     "data": {
      "text/plain": [
       "[('28821', 0.8660460114479065),\n",
       " ('49423', 0.8370566368103027),\n",
       " ('40576', 0.827109158039093),\n",
       " ('47940', 0.8179490566253662),\n",
       " ('19834', 0.8147017955780029),\n",
       " ('8800', 0.8142603039741516),\n",
       " ('4647', 0.8132681846618652),\n",
       " ('30624', 0.8116307258605957),\n",
       " ('36552', 0.8112699389457703),\n",
       " ('14199', 0.8095211982727051),\n",
       " ('54190', 0.8049396276473999),\n",
       " ('23107', 0.7994586229324341),\n",
       " ('19345', 0.7959115505218506),\n",
       " ('73574', 0.7957213521003723),\n",
       " ('68511', 0.7937217950820923),\n",
       " ('4103', 0.7937145233154297),\n",
       " ('25195', 0.7885631918907166),\n",
       " ('38252', 0.7868785858154297),\n",
       " ('25416', 0.7855746746063232),\n",
       " ('6565', 0.7852417826652527),\n",
       " ('73723', 0.7843522429466248),\n",
       " ('48844', 0.7803009152412415),\n",
       " ('67326', 0.7796925902366638),\n",
       " ('38060', 0.7768946886062622),\n",
       " ('34711', 0.7759996652603149),\n",
       " ('61580', 0.7749167680740356),\n",
       " ('26605', 0.7743091583251953),\n",
       " ('721', 0.7734174132347107),\n",
       " ('31188', 0.7730937600135803),\n",
       " ('30637', 0.7729513049125671),\n",
       " ('9670', 0.7710113525390625),\n",
       " ('60547', 0.7707966566085815),\n",
       " ('37708', 0.7679634690284729),\n",
       " ('70551', 0.7674731612205505),\n",
       " ('28922', 0.7672102451324463),\n",
       " ('16762', 0.7655541896820068),\n",
       " ('57109', 0.764529287815094),\n",
       " ('58904', 0.760105311870575),\n",
       " ('22845', 0.7599474191665649),\n",
       " ('58427', 0.7571312785148621),\n",
       " ('29805', 0.7566531896591187),\n",
       " ('35458', 0.755856990814209),\n",
       " ('40145', 0.7555207014083862),\n",
       " ('39003', 0.7550821304321289),\n",
       " ('18279', 0.7545381188392639),\n",
       " ('42027', 0.7544638514518738),\n",
       " ('56205', 0.7541120052337646),\n",
       " ('29251', 0.7538731098175049),\n",
       " ('54149', 0.7531209588050842),\n",
       " ('73711', 0.7519528865814209),\n",
       " ('60532', 0.751636803150177),\n",
       " ('25939', 0.7512471675872803),\n",
       " ('45816', 0.7502970099449158),\n",
       " ('66905', 0.7501639723777771),\n",
       " ('56439', 0.7490418553352356),\n",
       " ('57326', 0.7482803463935852),\n",
       " ('4459', 0.7479667067527771),\n",
       " ('47189', 0.7473257184028625),\n",
       " ('10154', 0.7469027638435364),\n",
       " ('64291', 0.7453356385231018),\n",
       " ('41956', 0.7448422908782959),\n",
       " ('75877', 0.7444639801979065),\n",
       " ('32935', 0.7441629767417908),\n",
       " ('50784', 0.7432740926742554),\n",
       " ('63407', 0.741783082485199),\n",
       " ('72543', 0.7412502765655518),\n",
       " ('47904', 0.7401210069656372),\n",
       " ('5873', 0.7393304705619812),\n",
       " ('66874', 0.7390849590301514),\n",
       " ('38623', 0.738811194896698),\n",
       " ('58748', 0.7383357882499695),\n",
       " ('57735', 0.7377432584762573),\n",
       " ('32974', 0.7370640635490417),\n",
       " ('36103', 0.736953616142273),\n",
       " ('54958', 0.736294150352478),\n",
       " ('12764', 0.7354247570037842),\n",
       " ('33931', 0.7344157695770264),\n",
       " ('18786', 0.734067976474762),\n",
       " ('59131', 0.7317677736282349),\n",
       " ('3775', 0.7310194969177246),\n",
       " ('76303', 0.7303224205970764),\n",
       " ('68242', 0.7300775647163391),\n",
       " ('56499', 0.729384183883667),\n",
       " ('17194', 0.7287772297859192),\n",
       " ('19641', 0.7285491824150085),\n",
       " ('18565', 0.7284408807754517),\n",
       " ('15584', 0.7260035872459412),\n",
       " ('36115', 0.7259817123413086),\n",
       " ('33369', 0.7258492708206177),\n",
       " ('19779', 0.7254757285118103),\n",
       " ('36442', 0.725425124168396),\n",
       " ('15782', 0.7254216074943542),\n",
       " ('67419', 0.725222647190094),\n",
       " ('44803', 0.7246904969215393),\n",
       " ('40749', 0.7246010899543762),\n",
       " ('51064', 0.7241958975791931),\n",
       " ('59838', 0.7240696549415588),\n",
       " ('55564', 0.724043607711792),\n",
       " ('38341', 0.7233709692955017),\n",
       " ('10318', 0.7231209874153137),\n",
       " ('1396', 0.7230238318443298),\n",
       " ('73528', 0.7228426337242126),\n",
       " ('34558', 0.7223168611526489),\n",
       " ('50798', 0.721943199634552),\n",
       " ('69082', 0.7212123274803162),\n",
       " ('13928', 0.7202638387680054),\n",
       " ('68446', 0.7200161814689636),\n",
       " ('66405', 0.7196242213249207),\n",
       " ('30491', 0.7195765972137451),\n",
       " ('8018', 0.7195549011230469),\n",
       " ('47891', 0.7188321352005005),\n",
       " ('48194', 0.7187574505805969),\n",
       " ('40597', 0.7186939120292664),\n",
       " ('73720', 0.7183552980422974),\n",
       " ('33654', 0.7175120115280151),\n",
       " ('30614', 0.7168344259262085),\n",
       " ('39043', 0.7162078619003296),\n",
       " ('23973', 0.715029776096344),\n",
       " ('66360', 0.7147812843322754),\n",
       " ('35194', 0.7147254347801208),\n",
       " ('46407', 0.7142525315284729),\n",
       " ('25845', 0.7134665846824646),\n",
       " ('10773', 0.713100254535675),\n",
       " ('6252', 0.7129960060119629),\n",
       " ('35799', 0.7127184271812439),\n",
       " ('49865', 0.7126868963241577),\n",
       " ('4035', 0.7126812934875488),\n",
       " ('500', 0.7125707268714905),\n",
       " ('74764', 0.7123053669929504),\n",
       " ('40191', 0.7121943831443787),\n",
       " ('16758', 0.7118040323257446),\n",
       " ('49623', 0.7113288044929504),\n",
       " ('67329', 0.7111576199531555),\n",
       " ('76452', 0.7110443115234375),\n",
       " ('38081', 0.7110127210617065),\n",
       " ('59934', 0.710656464099884),\n",
       " ('20652', 0.7097097039222717),\n",
       " ('21425', 0.7093963623046875),\n",
       " ('20669', 0.7093122601509094),\n",
       " ('55755', 0.7087475657463074),\n",
       " ('17905', 0.7084864974021912),\n",
       " ('31111', 0.7082294225692749),\n",
       " ('74943', 0.7078561186790466),\n",
       " ('50885', 0.7075318098068237),\n",
       " ('30732', 0.707228422164917),\n",
       " ('46362', 0.707192063331604),\n",
       " ('5871', 0.7067469358444214),\n",
       " ('71085', 0.7062752842903137),\n",
       " ('31625', 0.7061169743537903),\n",
       " ('66285', 0.7058036923408508),\n",
       " ('69068', 0.7056483626365662),\n",
       " ('20832', 0.7056361436843872),\n",
       " ('59471', 0.705337405204773),\n",
       " ('29420', 0.705047070980072),\n",
       " ('49001', 0.7049942016601562),\n",
       " ('44639', 0.7042837142944336),\n",
       " ('10668', 0.7038986086845398),\n",
       " ('18639', 0.7038934826850891),\n",
       " ('25349', 0.7038803100585938),\n",
       " ('903', 0.7038421630859375),\n",
       " ('57961', 0.7036612033843994),\n",
       " ('74714', 0.7026322484016418),\n",
       " ('62557', 0.7020427584648132),\n",
       " ('63819', 0.7014986276626587),\n",
       " ('38849', 0.7014778256416321),\n",
       " ('48928', 0.7010161876678467),\n",
       " ('67482', 0.7010153532028198),\n",
       " ('36788', 0.7008712291717529),\n",
       " ('8972', 0.7006093859672546),\n",
       " ('23004', 0.7005345225334167),\n",
       " ('48278', 0.7003198862075806),\n",
       " ('11729', 0.6999316811561584),\n",
       " ('13465', 0.699917197227478),\n",
       " ('1238', 0.6998081207275391),\n",
       " ('20127', 0.6996610760688782),\n",
       " ('16377', 0.6989823579788208),\n",
       " ('40330', 0.6986246109008789),\n",
       " ('41140', 0.6979172229766846),\n",
       " ('25969', 0.6978135108947754),\n",
       " ('30694', 0.6975211501121521),\n",
       " ('59201', 0.6974920630455017),\n",
       " ('5725', 0.6971398591995239),\n",
       " ('49350', 0.6969186663627625),\n",
       " ('2761', 0.6968557834625244),\n",
       " ('36499', 0.6963603496551514),\n",
       " ('54021', 0.6961149573326111),\n",
       " ('70563', 0.6957647204399109),\n",
       " ('26501', 0.6952834725379944),\n",
       " ('67136', 0.6951268911361694),\n",
       " ('64716', 0.6947234869003296),\n",
       " ('67243', 0.6945313811302185),\n",
       " ('12451', 0.6942512392997742),\n",
       " ('13483', 0.6942257881164551),\n",
       " ('56033', 0.6939170360565186),\n",
       " ('54221', 0.6937586665153503),\n",
       " ('37591', 0.6936963200569153),\n",
       " ('36233', 0.6936330199241638),\n",
       " ('61046', 0.6933636665344238),\n",
       " ('58563', 0.6933241486549377),\n",
       " ('67386', 0.6932390928268433),\n",
       " ('48632', 0.6930453777313232),\n",
       " ('30839', 0.6929366588592529),\n",
       " ('59731', 0.6928592324256897),\n",
       " ('50112', 0.6925786137580872),\n",
       " ('31969', 0.692566454410553),\n",
       " ('14468', 0.6923934817314148),\n",
       " ('37021', 0.6921916604042053),\n",
       " ('4628', 0.691983699798584),\n",
       " ('73254', 0.6918904781341553),\n",
       " ('5511', 0.6917277574539185),\n",
       " ('55964', 0.691232442855835),\n",
       " ('45585', 0.6911148428916931),\n",
       " ('28112', 0.6911044716835022),\n",
       " ('21684', 0.6909410953521729),\n",
       " ('37118', 0.6903944611549377),\n",
       " ('56339', 0.6901935935020447),\n",
       " ('48982', 0.6899370551109314),\n",
       " ('36436', 0.6895840764045715),\n",
       " ('413', 0.6894846558570862),\n",
       " ('65208', 0.6892309188842773),\n",
       " ('34877', 0.689117431640625),\n",
       " ('52597', 0.6890686750411987),\n",
       " ('54679', 0.6888803839683533),\n",
       " ('55449', 0.6886719465255737),\n",
       " ('48356', 0.6886522173881531),\n",
       " ('35547', 0.6885345578193665),\n",
       " ('41604', 0.6885033249855042),\n",
       " ('76062', 0.6883304119110107),\n",
       " ('20736', 0.6882898807525635),\n",
       " ('37308', 0.6882442831993103),\n",
       " ('15214', 0.6881998777389526),\n",
       " ('18848', 0.6880074143409729),\n",
       " ('14696', 0.687990665435791),\n",
       " ('73654', 0.6875866651535034),\n",
       " ('63094', 0.6870567798614502),\n",
       " ('48084', 0.6870372891426086),\n",
       " ('14856', 0.6866435408592224),\n",
       " ('57548', 0.6864730715751648),\n",
       " ('37229', 0.6862824559211731),\n",
       " ('38925', 0.6859091520309448),\n",
       " ('49156', 0.6858969926834106),\n",
       " ('32037', 0.6857278943061829),\n",
       " ('12776', 0.6855859756469727),\n",
       " ('7344', 0.6853373646736145),\n",
       " ('3054', 0.6852931976318359),\n",
       " ('55174', 0.6852025985717773),\n",
       " ('61431', 0.685142993927002),\n",
       " ('51321', 0.6850945353507996),\n",
       " ('31691', 0.6850330829620361),\n",
       " ('48660', 0.6849992275238037),\n",
       " ('48325', 0.6848780512809753),\n",
       " ('26068', 0.6843629479408264),\n",
       " ('44517', 0.6842418313026428),\n",
       " ('23622', 0.6841316819190979),\n",
       " ('55593', 0.6841095089912415),\n",
       " ('38382', 0.6839678883552551),\n",
       " ('56891', 0.6839421987533569),\n",
       " ('38850', 0.683765172958374),\n",
       " ('550', 0.6837499141693115),\n",
       " ('19278', 0.6836531758308411),\n",
       " ('60145', 0.6834887266159058),\n",
       " ('71519', 0.6831209659576416),\n",
       " ('3060', 0.6824711561203003),\n",
       " ('67035', 0.6824542880058289),\n",
       " ('30290', 0.6823704838752747),\n",
       " ('65392', 0.6823295950889587),\n",
       " ('64921', 0.6820951700210571),\n",
       " ('40122', 0.6820783019065857),\n",
       " ('60120', 0.6820670366287231),\n",
       " ('65003', 0.6819378137588501),\n",
       " ('44641', 0.6817456483840942),\n",
       " ('38919', 0.6816360354423523),\n",
       " ('47489', 0.681423544883728),\n",
       " ('12164', 0.6813204884529114),\n",
       " ('55600', 0.6813094615936279),\n",
       " ('16312', 0.6812316179275513),\n",
       " ('4567', 0.6811192035675049),\n",
       " ('68382', 0.6809898018836975),\n",
       " ('64409', 0.6809144616127014),\n",
       " ('37777', 0.6808052062988281),\n",
       " ('6991', 0.6807409524917603),\n",
       " ('76996', 0.6805250644683838),\n",
       " ('64274', 0.6804893016815186),\n",
       " ('15892', 0.6803029775619507),\n",
       " ('55635', 0.6801782846450806),\n",
       " ('34108', 0.6801508069038391),\n",
       " ('44321', 0.6801164746284485),\n",
       " ('39908', 0.6800055503845215),\n",
       " ('43725', 0.6798882484436035),\n",
       " ('35621', 0.6797343492507935),\n",
       " ('167', 0.6795321106910706),\n",
       " ('35258', 0.6792153120040894),\n",
       " ('47215', 0.6791536808013916),\n",
       " ('14994', 0.6787859201431274),\n",
       " ('26750', 0.6787706017494202),\n",
       " ('65028', 0.678760826587677),\n",
       " ('68437', 0.6785531044006348),\n",
       " ('55295', 0.6785210371017456),\n",
       " ('64122', 0.6783310770988464),\n",
       " ('13411', 0.6780765056610107),\n",
       " ('36132', 0.6780686378479004),\n",
       " ('46946', 0.6777967214584351),\n",
       " ('55690', 0.6777357459068298),\n",
       " ('69413', 0.6776779294013977),\n",
       " ('37323', 0.6776646971702576),\n",
       " ('21424', 0.6772687435150146),\n",
       " ('73108', 0.6772576570510864),\n",
       " ('71809', 0.6771026849746704),\n",
       " ('49997', 0.6767085194587708),\n",
       " ('1653', 0.6764897108078003),\n",
       " ('57287', 0.6762529015541077),\n",
       " ('36496', 0.6762000918388367),\n",
       " ('65112', 0.6759958267211914),\n",
       " ('38740', 0.6757621169090271),\n",
       " ('55637', 0.6754704713821411),\n",
       " ('17', 0.6754157543182373),\n",
       " ('64497', 0.6752021908760071),\n",
       " ('31766', 0.675049901008606),\n",
       " ('26436', 0.6749333739280701),\n",
       " ('7471', 0.6748623251914978),\n",
       " ('64961', 0.6745314598083496),\n",
       " ('56437', 0.6744758486747742),\n",
       " ('55374', 0.674239993095398),\n",
       " ('63066', 0.6742311120033264),\n",
       " ('55995', 0.6740902662277222),\n",
       " ('21283', 0.6738929152488708),\n",
       " ('38637', 0.6738256216049194),\n",
       " ('58515', 0.6734420657157898),\n",
       " ('28776', 0.6731800436973572),\n",
       " ('3687', 0.6728106737136841),\n",
       " ('43696', 0.6726621985435486),\n",
       " ('28166', 0.6725788116455078),\n",
       " ('31079', 0.6723671555519104),\n",
       " ('65478', 0.6721968054771423),\n",
       " ('58632', 0.672021746635437),\n",
       " ('6290', 0.6719078421592712),\n",
       " ('39948', 0.6718242168426514),\n",
       " ('76785', 0.6712654829025269),\n",
       " ('46445', 0.6712433099746704),\n",
       " ('29776', 0.670986533164978),\n",
       " ('18611', 0.6709315776824951),\n",
       " ('24503', 0.6708677411079407),\n",
       " ('57316', 0.670830249786377),\n",
       " ('33725', 0.6707439422607422),\n",
       " ('73989', 0.6707118153572083),\n",
       " ('3831', 0.6705163717269897),\n",
       " ('39046', 0.6703640222549438),\n",
       " ('23858', 0.6701748967170715),\n",
       " ('66028', 0.6701030135154724),\n",
       " ('33614', 0.6700747013092041),\n",
       " ('941', 0.6697825193405151),\n",
       " ('16713', 0.6697649955749512),\n",
       " ('17800', 0.6696133613586426),\n",
       " ('69088', 0.6695472002029419),\n",
       " ('37990', 0.6693469882011414),\n",
       " ('18061', 0.6691000461578369),\n",
       " ('59209', 0.668692946434021),\n",
       " ('30630', 0.6685447692871094),\n",
       " ('60997', 0.668465256690979),\n",
       " ('36928', 0.6684461236000061),\n",
       " ('36984', 0.6684366464614868),\n",
       " ('37958', 0.6684173345565796),\n",
       " ('62389', 0.6682972311973572),\n",
       " ('40302', 0.668289303779602),\n",
       " ('12095', 0.6679348945617676),\n",
       " ('22111', 0.6678871512413025),\n",
       " ('70786', 0.6676751971244812),\n",
       " ('25157', 0.6676287055015564),\n",
       " ('31093', 0.6672775745391846),\n",
       " ('18711', 0.6672012805938721),\n",
       " ('51481', 0.6669779419898987),\n",
       " ('47701', 0.6665031313896179),\n",
       " ('43483', 0.6664531826972961),\n",
       " ('46624', 0.6662998795509338),\n",
       " ('33344', 0.666133463382721),\n",
       " ('56576', 0.666117787361145),\n",
       " ('38955', 0.6660676002502441),\n",
       " ('68899', 0.6660269498825073),\n",
       " ('54421', 0.6648487448692322),\n",
       " ('18299', 0.6647613048553467),\n",
       " ('7929', 0.6644752025604248),\n",
       " ('34878', 0.6642021536827087),\n",
       " ('30892', 0.6641262769699097),\n",
       " ('34047', 0.6641077995300293),\n",
       " ('50024', 0.6640557050704956),\n",
       " ('60358', 0.6638593077659607),\n",
       " ('40877', 0.6637766361236572),\n",
       " ('58792', 0.6637728810310364),\n",
       " ('56467', 0.6635791659355164),\n",
       " ('66216', 0.6633730530738831),\n",
       " ('42833', 0.6633355617523193),\n",
       " ('37307', 0.6631770133972168),\n",
       " ('51390', 0.6627015471458435),\n",
       " ('65497', 0.6625066995620728),\n",
       " ('53249', 0.662501871585846),\n",
       " ('71059', 0.6623896956443787),\n",
       " ('10744', 0.6621578335762024),\n",
       " ('8187', 0.6620957255363464),\n",
       " ('42287', 0.6620650887489319),\n",
       " ('44864', 0.6620282530784607),\n",
       " ('19939', 0.6618596911430359),\n",
       " ('66370', 0.6618108153343201),\n",
       " ('46603', 0.6617251038551331),\n",
       " ('13253', 0.6615899205207825),\n",
       " ('55472', 0.661469042301178),\n",
       " ('35453', 0.6613274812698364),\n",
       " ('44768', 0.661047637462616),\n",
       " ('61628', 0.6610396504402161),\n",
       " ('63047', 0.6609717011451721),\n",
       " ('50757', 0.6607813835144043),\n",
       " ('23974', 0.6605600118637085),\n",
       " ('18178', 0.6604691743850708),\n",
       " ('76266', 0.6604005694389343),\n",
       " ('39500', 0.6603158116340637),\n",
       " ('59973', 0.6602532863616943),\n",
       " ('32596', 0.6601903438568115),\n",
       " ('37061', 0.6601894497871399),\n",
       " ('4694', 0.6601093411445618),\n",
       " ('33460', 0.6600972414016724),\n",
       " ('43513', 0.6600755453109741),\n",
       " ('26601', 0.6599941849708557),\n",
       " ('74211', 0.6599650979042053),\n",
       " ('45834', 0.6597233414649963),\n",
       " ('9118', 0.6596019268035889),\n",
       " ('48950', 0.6595818996429443),\n",
       " ('34737', 0.6594700217247009),\n",
       " ('38547', 0.6594067811965942),\n",
       " ('31939', 0.6593531966209412),\n",
       " ('47634', 0.6593363881111145),\n",
       " ('36426', 0.6593202948570251),\n",
       " ('56175', 0.6588459610939026),\n",
       " ('30302', 0.6587117314338684),\n",
       " ('69242', 0.6586798429489136),\n",
       " ('60206', 0.6585642099380493),\n",
       " ('3753', 0.6584976315498352),\n",
       " ('36508', 0.6584125757217407),\n",
       " ('57139', 0.6583653688430786),\n",
       " ('62262', 0.6582779288291931),\n",
       " ('28148', 0.6582514047622681),\n",
       " ('17306', 0.6582247614860535),\n",
       " ('55788', 0.6581870913505554),\n",
       " ('36786', 0.6581709980964661),\n",
       " ('37813', 0.6580756902694702),\n",
       " ('23589', 0.6579277515411377),\n",
       " ('5894', 0.657722532749176),\n",
       " ('19322', 0.657688319683075),\n",
       " ('56457', 0.6576400399208069),\n",
       " ('58917', 0.6576072573661804),\n",
       " ('32952', 0.6573581099510193),\n",
       " ('56696', 0.6573278903961182),\n",
       " ('55869', 0.6573178768157959),\n",
       " ('72407', 0.6572147607803345),\n",
       " ('596', 0.6571806073188782),\n",
       " ('56544', 0.6571061611175537),\n",
       " ('52448', 0.6570311784744263),\n",
       " ('14992', 0.6568150520324707),\n",
       " ('18883', 0.6567844152450562),\n",
       " ('48664', 0.6567670702934265),\n",
       " ('11123', 0.6567505598068237),\n",
       " ('44237', 0.6567382216453552),\n",
       " ('46361', 0.6567040681838989),\n",
       " ('6844', 0.6566422581672668),\n",
       " ('36677', 0.6565513610839844),\n",
       " ('392', 0.6564682722091675),\n",
       " ('72830', 0.6563905477523804),\n",
       " ('36078', 0.6563707590103149),\n",
       " ('63036', 0.6561486124992371),\n",
       " ('58967', 0.6558573842048645),\n",
       " ('43752', 0.6552234888076782),\n",
       " ('44055', 0.6551743149757385),\n",
       " ('70413', 0.6550091505050659),\n",
       " ('36067', 0.6549831032752991),\n",
       " ('40557', 0.6549628376960754),\n",
       " ('34872', 0.6547955870628357),\n",
       " ('8295', 0.6546404361724854),\n",
       " ('8260', 0.6544276475906372),\n",
       " ('69939', 0.6543461680412292),\n",
       " ('11579', 0.6538162231445312),\n",
       " ('56916', 0.6538132429122925),\n",
       " ('31261', 0.6537185907363892),\n",
       " ('71246', 0.6536581516265869),\n",
       " ('68290', 0.6536223888397217),\n",
       " ('10099', 0.6535975933074951),\n",
       " ('55373', 0.6535587310791016),\n",
       " ('40570', 0.6534340977668762),\n",
       " ('39189', 0.6534289121627808),\n",
       " ('58811', 0.6532271504402161),\n",
       " ('37286', 0.6531916260719299),\n",
       " ('59680', 0.653089702129364),\n",
       " ('54051', 0.6530582308769226),\n",
       " ('74685', 0.65245521068573),\n",
       " ('59373', 0.6524071097373962),\n",
       " ('58915', 0.6523616313934326),\n",
       " ('48764', 0.6523140072822571),\n",
       " ('30058', 0.6521764993667603),\n",
       " ('45965', 0.6520936489105225),\n",
       " ('5889', 0.6520237922668457),\n",
       " ('46167', 0.651981770992279),\n",
       " ('54996', 0.6519453525543213),\n",
       " ('18349', 0.6518420577049255),\n",
       " ('33012', 0.6518298983573914),\n",
       " ('55659', 0.6518147587776184),\n",
       " ('20229', 0.6514840722084045),\n",
       " ('50971', 0.6514732837677002),\n",
       " ('34330', 0.6514074802398682),\n",
       " ('57857', 0.6513611078262329),\n",
       " ('21964', 0.6513575315475464),\n",
       " ('41574', 0.6512280106544495),\n",
       " ('72874', 0.6509813666343689),\n",
       " ('9030', 0.6509699821472168),\n",
       " ('2887', 0.650908350944519),\n",
       " ('6165', 0.6507522463798523),\n",
       " ('10705', 0.6506372690200806),\n",
       " ('39687', 0.6503698825836182),\n",
       " ('44831', 0.650362491607666),\n",
       " ('62415', 0.6503189206123352),\n",
       " ('49917', 0.6501208543777466),\n",
       " ('35651', 0.6497979760169983),\n",
       " ('3106', 0.6496706008911133),\n",
       " ('25538', 0.6495126485824585),\n",
       " ('57300', 0.649500846862793),\n",
       " ('63519', 0.6494306921958923),\n",
       " ('29152', 0.6493569016456604),\n",
       " ('20246', 0.6493352651596069),\n",
       " ('23384', 0.6493067145347595),\n",
       " ('2776', 0.6491883397102356),\n",
       " ('71941', 0.6490954756736755),\n",
       " ('51961', 0.6489834189414978),\n",
       " ('15310', 0.6489678621292114),\n",
       " ('34707', 0.648902952671051),\n",
       " ('31536', 0.6487535834312439),\n",
       " ('38714', 0.6487514972686768),\n",
       " ('70588', 0.6486713886260986),\n",
       " ('13157', 0.6485872864723206),\n",
       " ('40525', 0.6484904289245605),\n",
       " ('785', 0.6483692526817322),\n",
       " ('16172', 0.6482157111167908),\n",
       " ('19037', 0.648070216178894),\n",
       " ('32354', 0.6480023860931396),\n",
       " ('23027', 0.6476057171821594),\n",
       " ('68090', 0.6475139260292053),\n",
       " ('40266', 0.6474716663360596),\n",
       " ('73492', 0.6474092602729797),\n",
       " ('51202', 0.6471940279006958),\n",
       " ('34647', 0.6470824480056763),\n",
       " ('34706', 0.6469346880912781),\n",
       " ('47736', 0.6468567848205566),\n",
       " ('69310', 0.6466857194900513),\n",
       " ('11338', 0.6465988159179688),\n",
       " ('12557', 0.6465392708778381),\n",
       " ('65156', 0.6462914943695068),\n",
       " ('38958', 0.6461805701255798),\n",
       " ('14862', 0.6460989713668823),\n",
       " ('16106', 0.6460833549499512),\n",
       " ('34722', 0.6460536122322083),\n",
       " ('66338', 0.6460499167442322),\n",
       " ('34223', 0.6459580063819885),\n",
       " ('551', 0.645939826965332),\n",
       " ('35026', 0.6458867788314819),\n",
       " ('5101', 0.6456063389778137),\n",
       " ('49843', 0.6455028653144836),\n",
       " ('27925', 0.6454169750213623),\n",
       " ('34953', 0.6453317999839783),\n",
       " ('48752', 0.6453057527542114),\n",
       " ('33362', 0.644839346408844),\n",
       " ('8871', 0.6448279619216919),\n",
       " ('30017', 0.6448267698287964),\n",
       " ('36596', 0.6446929574012756),\n",
       " ('17497', 0.6446865200996399),\n",
       " ('67250', 0.6445786356925964),\n",
       " ('41132', 0.6441383361816406),\n",
       " ('16299', 0.6440896987915039),\n",
       " ('8034', 0.6440247893333435),\n",
       " ('63566', 0.644012987613678),\n",
       " ('62210', 0.6439251899719238),\n",
       " ('2635', 0.6437229514122009),\n",
       " ('33108', 0.6436320543289185),\n",
       " ('60435', 0.6435505747795105),\n",
       " ('15418', 0.6432997584342957),\n",
       " ('71922', 0.643028974533081),\n",
       " ('50482', 0.642922580242157),\n",
       " ('28143', 0.6426382660865784),\n",
       " ('49523', 0.6426311135292053),\n",
       " ('10560', 0.642606258392334),\n",
       " ('14539', 0.64259272813797),\n",
       " ('962', 0.6424729824066162),\n",
       " ('60749', 0.6424528360366821),\n",
       " ('33843', 0.6424118280410767),\n",
       " ('8847', 0.6420884728431702),\n",
       " ('55286', 0.6420620679855347),\n",
       " ('23163', 0.64192134141922),\n",
       " ('70102', 0.6419141888618469),\n",
       " ('37490', 0.6418656706809998),\n",
       " ('49538', 0.6415663957595825),\n",
       " ('24739', 0.6415625810623169),\n",
       " ('59707', 0.6414577960968018),\n",
       " ('24181', 0.6413813233375549),\n",
       " ('31050', 0.6413711309432983),\n",
       " ('39012', 0.6413075923919678),\n",
       " ('31720', 0.6412816643714905),\n",
       " ('52994', 0.6409576535224915),\n",
       " ('44851', 0.640950620174408),\n",
       " ('19151', 0.6407703757286072),\n",
       " ('64134', 0.640632688999176),\n",
       " ('775', 0.6406263709068298),\n",
       " ('38555', 0.6404895186424255),\n",
       " ('61564', 0.6404077410697937),\n",
       " ('30319', 0.6403584480285645),\n",
       " ('12205', 0.6403536200523376),\n",
       " ('53150', 0.6401805877685547),\n",
       " ('44368', 0.6400585770606995),\n",
       " ('15448', 0.6400287747383118),\n",
       " ('23956', 0.6399756073951721),\n",
       " ('27267', 0.6398680210113525),\n",
       " ('49305', 0.6398560404777527),\n",
       " ('22205', 0.6396241188049316),\n",
       " ('5208', 0.6393890976905823),\n",
       " ('33396', 0.6393663883209229),\n",
       " ('49066', 0.6390080451965332),\n",
       " ('38878', 0.6390031576156616),\n",
       " ('5229', 0.6389591097831726),\n",
       " ('65836', 0.6388962864875793),\n",
       " ('64087', 0.6387798190116882),\n",
       " ('8993', 0.6387655138969421),\n",
       " ('11125', 0.6384993195533752),\n",
       " ('48306', 0.6384627223014832),\n",
       " ('1491', 0.6382745504379272),\n",
       " ('803', 0.6380582451820374),\n",
       " ('21241', 0.6380554437637329),\n",
       " ('69083', 0.638032078742981),\n",
       " ('35742', 0.6380137801170349),\n",
       " ('38973', 0.6376601457595825),\n",
       " ('51554', 0.637543797492981),\n",
       " ('51812', 0.6375136375427246),\n",
       " ('35459', 0.6373966932296753),\n",
       " ('58509', 0.6372674107551575),\n",
       " ('40730', 0.6369938850402832),\n",
       " ('52591', 0.6368326544761658),\n",
       " ('21079', 0.6368075609207153),\n",
       " ('25768', 0.6365997195243835),\n",
       " ('21692', 0.6365277171134949),\n",
       " ('70016', 0.6363643407821655),\n",
       " ('62302', 0.636328935623169),\n",
       " ('18167', 0.6362122297286987),\n",
       " ('37995', 0.6361169219017029),\n",
       " ('25281', 0.6359913945198059),\n",
       " ('35845', 0.6358864903450012),\n",
       " ('43432', 0.6358676552772522),\n",
       " ('61176', 0.635784387588501),\n",
       " ('1777', 0.6357457637786865),\n",
       " ('39909', 0.635725736618042),\n",
       " ('37561', 0.6356706619262695),\n",
       " ('6569', 0.635478138923645),\n",
       " ('56430', 0.6354693174362183),\n",
       " ('54929', 0.6354615092277527),\n",
       " ('35111', 0.6352667212486267),\n",
       " ('14158', 0.6352553367614746),\n",
       " ('72811', 0.6352328658103943),\n",
       " ('49543', 0.6350522041320801),\n",
       " ('54914', 0.6350515484809875),\n",
       " ('75401', 0.6349446773529053),\n",
       " ('28133', 0.634891927242279),\n",
       " ('56511', 0.634667158126831),\n",
       " ('54206', 0.6346146464347839),\n",
       " ('8782', 0.6340098977088928),\n",
       " ('40010', 0.633823573589325),\n",
       " ('14366', 0.6336066126823425),\n",
       " ('71446', 0.6335461139678955),\n",
       " ('22405', 0.6335405111312866),\n",
       " ('73810', 0.6332255601882935),\n",
       " ('28552', 0.6331278085708618),\n",
       " ('24054', 0.63310706615448),\n",
       " ('57337', 0.6329883337020874),\n",
       " ('7151', 0.6329373717308044),\n",
       " ('7597', 0.6329024434089661),\n",
       " ('5827', 0.6328272819519043),\n",
       " ('14501', 0.6327677965164185),\n",
       " ('47913', 0.6325036883354187),\n",
       " ('45505', 0.6324480175971985),\n",
       " ('32423', 0.6324291825294495),\n",
       " ('21548', 0.6322293877601624),\n",
       " ('49611', 0.6321518421173096),\n",
       " ('67553', 0.6321396231651306),\n",
       " ('42433', 0.632115364074707),\n",
       " ('50691', 0.6320105195045471),\n",
       " ('61093', 0.6318345069885254),\n",
       " ('64626', 0.631827175617218),\n",
       " ('23313', 0.6316652894020081),\n",
       " ('59541', 0.6316377520561218),\n",
       " ('25462', 0.6315441131591797),\n",
       " ('8765', 0.6315014958381653),\n",
       " ('22412', 0.6314902901649475),\n",
       " ('36937', 0.6313298940658569),\n",
       " ('33253', 0.6312505602836609),\n",
       " ('320', 0.6311517357826233),\n",
       " ('59392', 0.6310888528823853),\n",
       " ('17136', 0.6310709714889526),\n",
       " ('64168', 0.6309872269630432),\n",
       " ('45252', 0.6308383941650391),\n",
       " ('13200', 0.6307631134986877),\n",
       " ('14737', 0.6307045817375183),\n",
       " ('23914', 0.6306906938552856),\n",
       " ('36052', 0.6306552290916443),\n",
       " ('33138', 0.6305037140846252),\n",
       " ('32681', 0.6304556131362915),\n",
       " ('64712', 0.6304463744163513),\n",
       " ('222', 0.6303730010986328),\n",
       " ('36687', 0.6303583979606628),\n",
       " ('56507', 0.6302403211593628),\n",
       " ('67563', 0.6302337050437927),\n",
       " ('57062', 0.6301510334014893),\n",
       " ('61061', 0.6301450729370117),\n",
       " ('18856', 0.6300761699676514),\n",
       " ('18480', 0.6300211548805237),\n",
       " ('49407', 0.6299787759780884),\n",
       " ('55945', 0.6299280524253845),\n",
       " ('40190', 0.6299139261245728),\n",
       " ('14478', 0.6298857927322388),\n",
       " ('73455', 0.6298308968544006),\n",
       " ('32334', 0.6297629475593567),\n",
       " ('18020', 0.629474401473999),\n",
       " ('36030', 0.6292684674263),\n",
       " ('32965', 0.629204273223877),\n",
       " ('292', 0.6291587948799133),\n",
       " ('17521', 0.6288803219795227),\n",
       " ('15495', 0.6288719177246094),\n",
       " ('8513', 0.6287797689437866),\n",
       " ('2500', 0.6287691593170166),\n",
       " ('30265', 0.6287522315979004),\n",
       " ('13333', 0.628680944442749),\n",
       " ('12736', 0.6284427642822266),\n",
       " ('28677', 0.6283800005912781),\n",
       " ('39510', 0.6282865405082703),\n",
       " ('33402', 0.6281810998916626),\n",
       " ('74860', 0.6280690431594849),\n",
       " ('33888', 0.6280642747879028),\n",
       " ('61374', 0.6280642747879028),\n",
       " ('51112', 0.6279622912406921),\n",
       " ('26825', 0.6276747584342957),\n",
       " ('12799', 0.6276730895042419),\n",
       " ('28255', 0.6276478171348572),\n",
       " ('50237', 0.6274998188018799),\n",
       " ('50178', 0.6274643540382385),\n",
       " ('70989', 0.6274583339691162),\n",
       " ('25151', 0.6274257898330688),\n",
       " ('33561', 0.6274216175079346),\n",
       " ('66783', 0.6274039149284363),\n",
       " ('39246', 0.6273994445800781),\n",
       " ('9791', 0.6272366642951965),\n",
       " ('34458', 0.6271620392799377),\n",
       " ('50272', 0.6269832849502563),\n",
       " ('50211', 0.6269316673278809),\n",
       " ('43494', 0.6261960864067078),\n",
       " ('24550', 0.6261230707168579),\n",
       " ('75481', 0.6261003017425537),\n",
       " ('63677', 0.6260047554969788),\n",
       " ('28928', 0.6259828209877014),\n",
       " ('47693', 0.6259621381759644),\n",
       " ('67231', 0.6259074211120605),\n",
       " ('4481', 0.6258248686790466),\n",
       " ('57027', 0.6256690621376038),\n",
       " ('39992', 0.625564694404602),\n",
       " ('68856', 0.625442624092102),\n",
       " ('64227', 0.6253991723060608),\n",
       " ('50856', 0.6253066658973694),\n",
       " ('36403', 0.6252877116203308),\n",
       " ('31276', 0.6252873539924622),\n",
       " ('59010', 0.6252325773239136),\n",
       " ('35685', 0.6251779198646545),\n",
       " ('9056', 0.6251266598701477),\n",
       " ('31707', 0.6250771284103394),\n",
       " ('42354', 0.624972939491272),\n",
       " ('65790', 0.6248951554298401),\n",
       " ('75377', 0.6247919797897339),\n",
       " ('9836', 0.624785304069519),\n",
       " ('59957', 0.6246468424797058),\n",
       " ('67102', 0.6246325373649597),\n",
       " ('23089', 0.6246275305747986),\n",
       " ('68199', 0.6245947480201721),\n",
       " ('48330', 0.6244683265686035),\n",
       " ('1173', 0.6244433522224426),\n",
       " ('65429', 0.6244392991065979),\n",
       " ('32235', 0.6244187355041504),\n",
       " ('21287', 0.6241844296455383),\n",
       " ('11044', 0.6241493225097656),\n",
       " ('49916', 0.6238591074943542),\n",
       " ('36181', 0.6236523389816284),\n",
       " ('42644', 0.6235624551773071),\n",
       " ('36741', 0.623542845249176),\n",
       " ('39480', 0.6235038638114929),\n",
       " ('13187', 0.6234769225120544),\n",
       " ('33860', 0.6234036684036255),\n",
       " ('40735', 0.6232913732528687),\n",
       " ('9450', 0.6232760548591614),\n",
       " ('50239', 0.6232373118400574),\n",
       " ('69317', 0.6231734752655029),\n",
       " ('9455', 0.6229164600372314),\n",
       " ('30168', 0.6228052973747253),\n",
       " ('58446', 0.6227691769599915),\n",
       " ('57533', 0.6226668357849121),\n",
       " ('52090', 0.6225979328155518),\n",
       " ('44753', 0.6224902868270874),\n",
       " ('7716', 0.6224289536476135),\n",
       " ('39442', 0.622409999370575),\n",
       " ('48765', 0.6223413348197937),\n",
       " ('60972', 0.6222286224365234),\n",
       " ('29233', 0.6221750974655151),\n",
       " ('1163', 0.6221264600753784),\n",
       " ('7060', 0.6220463514328003),\n",
       " ('29754', 0.6218951344490051),\n",
       " ('31952', 0.6218811273574829),\n",
       " ('73509', 0.6218591332435608),\n",
       " ('32716', 0.6216639280319214),\n",
       " ('14654', 0.6214590072631836),\n",
       " ('17024', 0.621211588382721),\n",
       " ('6092', 0.6211181879043579),\n",
       " ('49547', 0.6210777163505554),\n",
       " ('76097', 0.6207991242408752),\n",
       " ('52183', 0.6206876039505005),\n",
       " ('16445', 0.6206837892532349),\n",
       " ('32051', 0.6206417083740234),\n",
       " ('35640', 0.6205283403396606),\n",
       " ('67112', 0.6204913854598999),\n",
       " ('14368', 0.6203206777572632),\n",
       " ('40023', 0.6203064322471619),\n",
       " ('35710', 0.620186984539032),\n",
       " ('27806', 0.6199917197227478),\n",
       " ('14674', 0.6199838519096375),\n",
       " ('50116', 0.6199589967727661),\n",
       " ('31045', 0.6198194622993469),\n",
       " ('51788', 0.6198185682296753),\n",
       " ('75232', 0.6197838187217712),\n",
       " ('35510', 0.6197419762611389),\n",
       " ('50630', 0.6195770502090454),\n",
       " ('76602', 0.6195644736289978),\n",
       " ('36954', 0.6195473670959473),\n",
       " ('76250', 0.6195127367973328),\n",
       " ('56701', 0.6193459630012512),\n",
       " ('31732', 0.6193255186080933),\n",
       " ('46991', 0.6192767024040222),\n",
       " ('37999', 0.6191514730453491),\n",
       " ('492', 0.6189923286437988),\n",
       " ('54160', 0.6189854145050049),\n",
       " ('54435', 0.6189812421798706),\n",
       " ('33701', 0.6188316345214844),\n",
       " ('39270', 0.6188018321990967),\n",
       " ('324', 0.6188002824783325),\n",
       " ('37301', 0.6187850832939148),\n",
       " ('39445', 0.6187629699707031),\n",
       " ('50402', 0.6187283992767334),\n",
       " ('66344', 0.6186517477035522),\n",
       " ('32380', 0.6185950040817261),\n",
       " ('61105', 0.6185355186462402),\n",
       " ('45705', 0.6184816360473633),\n",
       " ('833', 0.6183929443359375),\n",
       " ('55996', 0.6183914542198181),\n",
       " ('71884', 0.6183757185935974),\n",
       " ('13026', 0.6183086633682251),\n",
       " ('25043', 0.6182108521461487),\n",
       " ('21228', 0.6180233955383301),\n",
       " ('6049', 0.6179937124252319),\n",
       " ('65547', 0.6176406741142273),\n",
       " ('42356', 0.6176377534866333),\n",
       " ('55046', 0.6174180507659912),\n",
       " ('64480', 0.6173816323280334),\n",
       " ('17929', 0.617110550403595),\n",
       " ('10087', 0.6170408725738525),\n",
       " ('75679', 0.6170176863670349),\n",
       " ('31908', 0.6169835329055786),\n",
       " ('82', 0.6169270277023315),\n",
       " ('8574', 0.616905927658081),\n",
       " ('34225', 0.6168901324272156),\n",
       " ('18641', 0.6168869137763977),\n",
       " ('50398', 0.6168855428695679),\n",
       " ('56093', 0.6168186068534851),\n",
       " ('2829', 0.6167712211608887),\n",
       " ('43710', 0.6167256236076355),\n",
       " ('7279', 0.6167173981666565),\n",
       " ('51512', 0.6164515614509583),\n",
       " ('47532', 0.6162746548652649),\n",
       " ('43129', 0.616235077381134),\n",
       " ('64630', 0.6162316799163818),\n",
       " ('34685', 0.616168737411499),\n",
       " ('54466', 0.6161038279533386),\n",
       " ('50071', 0.6160615682601929),\n",
       " ('38779', 0.6160217523574829),\n",
       " ('1220', 0.6160107254981995),\n",
       " ('55415', 0.6159793734550476),\n",
       " ('55903', 0.6159204244613647),\n",
       " ('28726', 0.6159014701843262),\n",
       " ('49736', 0.6157630681991577),\n",
       " ('3114', 0.6157558560371399),\n",
       " ('34657', 0.615721583366394),\n",
       " ('15963', 0.615684986114502),\n",
       " ('2535', 0.6156688332557678),\n",
       " ('66827', 0.615553617477417),\n",
       " ('50393', 0.6153923869132996),\n",
       " ('54804', 0.6153607964515686),\n",
       " ('15460', 0.6153191924095154),\n",
       " ('59606', 0.6153048872947693),\n",
       " ('39261', 0.6152540445327759),\n",
       " ('46452', 0.615232527256012),\n",
       " ('63780', 0.6151242256164551),\n",
       " ('30171', 0.6150137782096863),\n",
       " ('75230', 0.6149055361747742),\n",
       " ('34282', 0.6148980259895325),\n",
       " ('37847', 0.6148051023483276),\n",
       " ('39962', 0.6147948503494263),\n",
       " ('50136', 0.6147398948669434),\n",
       " ('27149', 0.6146844625473022),\n",
       " ('65492', 0.6146187782287598),\n",
       " ('56751', 0.6145806312561035),\n",
       " ('45120', 0.6145159006118774),\n",
       " ('40241', 0.614449679851532),\n",
       " ('3803', 0.6144496202468872),\n",
       " ('54815', 0.6143302917480469),\n",
       " ('54964', 0.6142452955245972),\n",
       " ('2732', 0.6142445802688599),\n",
       " ('63210', 0.6142107844352722),\n",
       " ('46602', 0.6140209436416626),\n",
       " ('51197', 0.6139853596687317),\n",
       " ('58540', 0.6139125227928162),\n",
       " ('58755', 0.6138231754302979),\n",
       " ('406', 0.6137570142745972),\n",
       " ('60903', 0.6136868596076965),\n",
       " ('35539', 0.6136400103569031),\n",
       " ('50436', 0.6136184334754944),\n",
       " ('75739', 0.613466203212738),\n",
       " ('7280', 0.6131200194358826),\n",
       " ('8472', 0.6130164861679077),\n",
       " ('49363', 0.6129612922668457),\n",
       " ('20327', 0.612949550151825),\n",
       " ('30372', 0.6129490733146667),\n",
       " ('35281', 0.612944483757019),\n",
       " ('56619', 0.6129202246665955),\n",
       " ('3955', 0.612898588180542),\n",
       " ('62977', 0.612860918045044),\n",
       " ('12729', 0.6128473877906799),\n",
       " ('13143', 0.6128213405609131),\n",
       " ('57138', 0.6127200722694397),\n",
       " ('58989', 0.6125836372375488),\n",
       " ('63219', 0.6125757098197937),\n",
       " ('66491', 0.6125518679618835),\n",
       " ('42299', 0.6125364899635315),\n",
       " ('55906', 0.6124971508979797),\n",
       " ('38453', 0.6124244928359985),\n",
       " ('57209', 0.6123880743980408),\n",
       " ('59190', 0.6123486161231995),\n",
       " ('39070', 0.6122562289237976),\n",
       " ('68086', 0.6122553944587708),\n",
       " ('69638', 0.6122247576713562),\n",
       " ('67987', 0.612038254737854),\n",
       " ('75502', 0.6120149493217468),\n",
       " ('19848', 0.6119528412818909),\n",
       " ('76231', 0.6119512319564819),\n",
       " ('31642', 0.6119415163993835),\n",
       " ('69599', 0.6118431091308594),\n",
       " ('29903', 0.6118426322937012),\n",
       " ('59109', 0.6117862462997437),\n",
       " ('73326', 0.6116984486579895),\n",
       " ('65214', 0.6116920113563538),\n",
       " ('23946', 0.6115748286247253),\n",
       " ('56071', 0.6115602254867554),\n",
       " ('69874', 0.6112951636314392),\n",
       " ('45385', 0.6112747192382812),\n",
       " ('55948', 0.6111961603164673),\n",
       " ('36724', 0.6111140251159668),\n",
       " ('64319', 0.6110362410545349),\n",
       " ('48625', 0.6110163331031799),\n",
       " ('48428', 0.6110049486160278),\n",
       " ('72586', 0.6109523773193359),\n",
       " ('51466', 0.6108550429344177),\n",
       " ('20397', 0.6107842922210693),\n",
       " ('35761', 0.6107228994369507),\n",
       " ('28663', 0.610698401927948),\n",
       " ('49733', 0.6106383204460144),\n",
       " ('50159', 0.6105995178222656),\n",
       " ('74719', 0.6103305220603943),\n",
       " ('73110', 0.6102084517478943),\n",
       " ('30965', 0.6101811528205872),\n",
       " ('21045', 0.610013484954834),\n",
       " ('47640', 0.6098902821540833),\n",
       " ('69922', 0.6098401546478271),\n",
       " ('51185', 0.6098141670227051),\n",
       " ('28215', 0.6097970604896545),\n",
       " ('16107', 0.6096997857093811),\n",
       " ('2552', 0.6096301078796387),\n",
       " ('35715', 0.6095906496047974),\n",
       " ('59896', 0.6095443964004517),\n",
       " ('34347', 0.6095148921012878),\n",
       " ('26299', 0.6092638969421387),\n",
       " ('51060', 0.609251081943512),\n",
       " ('33846', 0.6092279553413391),\n",
       " ('28669', 0.6092001795768738),\n",
       " ('32457', 0.6091119647026062),\n",
       " ('73369', 0.6090930700302124),\n",
       " ('32702', 0.6090690493583679),\n",
       " ('22477', 0.6089430451393127),\n",
       " ('29559', 0.6089229583740234),\n",
       " ('23976', 0.6087854504585266)]"
      ]
     },
     "execution_count": 32,
     "metadata": {},
     "output_type": "execute_result"
    }
   ],
   "source": [
    "similar_doc = model.dv.most_similar('76070',topn = 1000)\n",
    "similar_doc"
   ]
  },
  {
   "cell_type": "markdown",
   "metadata": {},
   "source": [
    "## 训练数据合成\n",
    "- 1.基于相似性向训练数据添加意图如上所示，右侧元组元素是余弦相似性。\n",
    "\n",
    "我们只是取了前1000个，类似于意图的基本理想化版本（我们主要基于关键字）。\n",
    "\n",
    "- 2.手动添加意图这些意图是用一种更手动的不同方法生成的。\n",
    "\n",
    "我会生成尽可能多的例子，然后我通过复制它来强制它，直到它达到1000个训练例子，以保持类平衡。\n",
    "再一次，以下是我想补充的所有意图：\n",
    "<img src=“visualizations/intent_list.png”alt=“Drawing”style=“width=300px；”/>\n",
    "\n",
    "- 3.加上混合意图，我使用了上一本笔记本中显示的关键字探索，发现更新和修复之间有很多重叠。\n",
    "\n",
    "因此，对于这两种情况，我将使用doc2vec生成一部分，其余部分我将手动插入示例——其想法是平衡过拟合或噪声，并输入正确的信号。\n",
    "\n",
    "_一个特殊的情况可能是超出范围，我可能会找到另一种方法来处理它，因为我无法生成所有这种意图的例子_\n",
    "第4步是将数据转换为长格式，NN可以被馈送到该格式，最后一步是保存它。\n",
    "我从spaCy文档中了解到了非地转遗忘问题，在这个问题中，你不应该迭代相同的值，因为这样做可以有效地改变损失函数，你将创建一个无法很好地泛化的模型。这最终是一个漫长的过程，因为我必须试验什么最有效。"
   ]
  },
  {
   "cell_type": "code",
   "execution_count": 25,
   "metadata": {},
   "outputs": [
    {
     "data": {
      "text/plain": [
       "86"
      ]
     },
     "execution_count": 25,
     "metadata": {},
     "output_type": "execute_result"
    }
   ],
   "source": [
    "# 检查停用词，因为我不想在手动代表性意图中包含它们\n",
    "# 这是我手动调整数据框的内容（用于此过程的第2步）\n",
    "import nltk\n",
    "from nltk.corpus import stopwords\n",
    "\n",
    "stopwords.words('english').index('to')"
   ]
  },
  {
   "cell_type": "code",
   "execution_count": 26,
   "metadata": {},
   "outputs": [
    {
     "data": {
      "text/plain": [
       "{'battery': '76066',\n",
       " 'forgot_password': '76067',\n",
       " 'payment': '76068',\n",
       " 'update': '76069',\n",
       " 'info': '76070',\n",
       " 'location': '76071'}"
      ]
     },
     "execution_count": 26,
     "metadata": {},
     "output_type": "execute_result"
    }
   ],
   "source": [
    "intents_tags"
   ]
  },
  {
   "cell_type": "code",
   "execution_count": 33,
   "metadata": {},
   "outputs": [
    {
     "data": {
      "text/plain": [
       "[('33303', 0.8563313484191895),\n",
       " ('49063', 0.8531332612037659),\n",
       " ('24553', 0.846157431602478),\n",
       " ('66118', 0.8453943729400635),\n",
       " ('57936', 0.8433273434638977),\n",
       " ('54749', 0.8397555351257324),\n",
       " ('68577', 0.835790753364563),\n",
       " ('36711', 0.8310795426368713),\n",
       " ('55784', 0.823822557926178),\n",
       " ('62274', 0.8236278295516968)]"
      ]
     },
     "execution_count": 33,
     "metadata": {},
     "output_type": "execute_result"
    }
   ],
   "source": [
    "model.dv.most_similar('10')"
   ]
  },
  {
   "cell_type": "code",
   "execution_count": 28,
   "metadata": {
    "scrolled": true
   },
   "outputs": [
    {
     "data": {
      "text/plain": [
       "{'battery': '76066',\n",
       " 'forgot_password': '76067',\n",
       " 'payment': '76068',\n",
       " 'update': '76069',\n",
       " 'info': '76070',\n",
       " 'location': '76071'}"
      ]
     },
     "execution_count": 28,
     "metadata": {},
     "output_type": "execute_result"
    }
   ],
   "source": [
    "intents_tags"
   ]
  },
  {
   "cell_type": "markdown",
   "metadata": {},
   "source": [
    "提示用户更新或损坏。"
   ]
  },
  {
   "cell_type": "code",
   "execution_count": 29,
   "metadata": {},
   "outputs": [
    {
     "data": {
      "text/plain": [
       "[['need', 'something', 'battery', 'life', 'suck', 'as'],\n",
       " ['hey',\n",
       "  'anyone',\n",
       "  'else',\n",
       "  'upgraded',\n",
       "  'io',\n",
       "  'issue',\n",
       "  'capital',\n",
       "  'i️',\n",
       "  'mail',\n",
       "  'app',\n",
       "  'put']]"
      ]
     },
     "execution_count": 29,
     "metadata": {},
     "output_type": "execute_result"
    }
   ],
   "source": [
    "# Testing how to tokenize numpy array\n",
    "vals = [word_tokenize(tweet) for tweet in list(processed_inbound.iloc[[10,1]].values)]\n",
    "vals"
   ]
  },
  {
   "cell_type": "code",
   "execution_count": null,
   "metadata": {},
   "outputs": [],
   "source": [
    "## Getting top n tweets similar to the 0th Tweet\n",
    "# This will return the a list of tuples (i,j) where i is the index and j is\n",
    "# the cosine similarity to the tagged document index\n",
    "\n",
    "# Storing all intents in this dataframe\n",
    "train = pd.DataFrame()\n",
    "# intent_indexes = {}\n",
    "\n",
    "\n",
    "# 1. Adding intent content based on similarity\n",
    "def generate_intent(target, itag):\n",
    "    similar_doc = model.dv.most_similar(itag, topn=target)\n",
    "    # Getting just the indexes\n",
    "    indexes = [int(i[0]) for i in similar_doc]\n",
    "    #     intent_indexes[intent_name] = indexes\n",
    "    # Actually seeing the top 1000 Tweets similar to the 0th Tweet which seems to be about updates\n",
    "    # Adding just the values, not the index\n",
    "    # Tokenizing the output\n",
    "    return [\n",
    "        word_tokenize(tweet) for tweet in list(processed_inbound.iloc[indexes].values)\n",
    "    ]\n",
    "\n",
    "\n",
    "# Updating train data\n",
    "for intent_name, itag in intents_tags.items():\n",
    "    train[intent_name] = generate_intent(1000, itag)\n",
    "\n",
    "# 2. Manually added intents\n",
    "# These are the remainder intents\n",
    "manually_added_intents = {\n",
    "    \"speak_representative\": [\n",
    "        [\"talk\", \"human\", \"please\"],\n",
    "        [\"let\", \"me\", \"talk\", \"to\", \"apple\", \"support\"],\n",
    "        [\"can\", \"i\", \"speak\", \"agent\", \"person\"],\n",
    "    ],\n",
    "    \"greeting\": [\n",
    "        [\"hi\"],\n",
    "        [\"hello\"],\n",
    "        [\"whats\", \"up\"],\n",
    "        [\"good\", \"morning\"],\n",
    "        [\"good\", \"evening\"],\n",
    "        [\"good\", \"night\"],\n",
    "    ],\n",
    "    \"goodbye\": [[\"goodbye\"], [\"bye\"], [\"thank\"], [\"thanks\"], [\"done\"]],\n",
    "    \"challenge_robot\": [\n",
    "        [\"robot\", \"human\"],\n",
    "        [\"are\", \"you\", \"robot\"],\n",
    "        [\"who\", \"are\", \"you\"],\n",
    "    ],\n",
    "}\n",
    "\n",
    "# Inserting manually added intents to data\n",
    "\n",
    "\n",
    "def insert_manually(target, prototype):\n",
    "    \"\"\"Taking a prototype tokenized document to repeat until\n",
    "    you get length target\"\"\"\n",
    "    factor = math.ceil(target / len(prototype))\n",
    "    content = prototype * factor\n",
    "    return [content[i] for i in range(target)]\n",
    "\n",
    "\n",
    "# Updating training data\n",
    "for intent_name in manually_added_intents.keys():\n",
    "    train[intent_name] = insert_manually(1000, [*manually_added_intents[intent_name]])\n",
    "\n",
    "# 3. Adding in the hybrid intents\n",
    "\n",
    "hybrid_intents = {\n",
    "    \"update\": (\n",
    "        300,\n",
    "        700,\n",
    "        [[\"want\", \"update\"], [\"update\", \"not\", \"working\"], [\"phone\", \"need\", \"update\"]],\n",
    "        intents_tags[\"update\"],\n",
    "    ),\n",
    "    \"info\": (\n",
    "        800,\n",
    "        200,\n",
    "        [\n",
    "            [\"need\", \"information\"],\n",
    "            [\"want\", \"to\", \"know\", \"about\"],\n",
    "            [\"what\", \"are\", \"macbook\", \"stats\"],\n",
    "            [\"any\", \"info\", \"next\", \"release\", \"?\"],\n",
    "        ],\n",
    "        intents_tags[\"info\"],\n",
    "    ),\n",
    "    \"payment\": (\n",
    "        300,\n",
    "        700,\n",
    "        [\n",
    "            [\"payment\", \"not\", \"through\"],\n",
    "            [\"iphone\", \"apple\", \"pay\", \"but\", \"not\", \"arrive\"],\n",
    "            [\"how\", \"pay\", \"for\", \"this\"],\n",
    "            [\"can\", \"i\", \"pay\", \"for\", \"this\", \"first\"],\n",
    "        ],\n",
    "        intents_tags[\"payment\"],\n",
    "    ),\n",
    "    \"forgot_password\": (\n",
    "        600,\n",
    "        400,\n",
    "        [\n",
    "            [\"forgot\", \"my\", \"pass\"],\n",
    "            [\"forgot\", \"my\", \"login\", \"details\"],\n",
    "            [\"cannot\", \"log\", \"in\", \"password\"],\n",
    "            [\"lost\", \"account\", \"recover\", \"password\"],\n",
    "        ],\n",
    "        intents_tags[\"forgot_password\"],\n",
    "    ),\n",
    "}\n",
    "\n",
    "\n",
    "def insert_hybrid(manual_target, generated_target, prototype, itag):\n",
    "    return insert_manually(manual_target, prototype) + list(\n",
    "        generate_intent(generated_target, itag)\n",
    "    )\n",
    "\n",
    "\n",
    "# Updating training data\n",
    "for intent_name, args in hybrid_intents.items():\n",
    "    train[intent_name] = insert_hybrid(*args)\n",
    "\n",
    "# 4. 将宽格式转换为长格式，以便我的NN模型可以在下一个笔记本中读取 - 并进行整理\n",
    "neat_train = (\n",
    "    pd.DataFrame(train.T.unstack())\n",
    "    .reset_index()\n",
    "    .iloc[:, 1:]\n",
    "    .rename(columns={\"level_1\": \"Intent\", 0: \"Utterance\"})\n",
    ")\n",
    "# Reordering\n",
    "neat_train = neat_train[[\"Utterance\", \"Intent\"]]\n",
    "\n",
    "# 5. Saving this raw training data into a serialized file\n",
    "neat_train.to_pickle(\"objects/train.pkl\")\n",
    "\n",
    "# Styling display\n",
    "show = (\n",
    "    lambda x: x.head(10)\n",
    "    .style.set_properties(\n",
    "        **{\"background-color\": \"black\", \"color\": \"lawngreen\", \"border-color\": \"white\"}\n",
    "    )\n",
    "    .applymap(lambda x: f\"color: {'lawngreen' if isinstance(x,str) else 'red'}\")\n",
    "    .background_gradient(cmap=\"Blues\")\n",
    ")\n",
    "\n",
    "print(train.shape)\n",
    "show(train)"
   ]
  },
  {
   "cell_type": "markdown",
   "metadata": {},
   "source": [
    "我对这些很满意。如果你检查一下，它们看起来很有前途！我并不太担心我的预处理器错过的表情符号——它们的频率很少，只会增加噪音。同样的事情也适用于其他事情，比如语言，因为我也看到了一条印尼推特。这可能是一件好事，因为我们不希望我们的模型过度拟合，它甚至可能有助于我的模型的可推广性。\n",
    "\n",
    "最糟糕的结果可能来自“lost_replace”意图，因为正如关键字EDA中所示，无论如何都没有太多这样的内容。我可能会把它取下来。"
   ]
  },
  {
   "cell_type": "code",
   "execution_count": null,
   "metadata": {
    "scrolled": true
   },
   "outputs": [],
   "source": [
    "print(neat_train.shape)\n",
    "show(neat_train)"
   ]
  },
  {
   "cell_type": "code",
   "execution_count": null,
   "metadata": {},
   "outputs": [],
   "source": [
    "neat_train.tail(44)"
   ]
  },
  {
   "cell_type": "markdown",
   "metadata": {},
   "source": [
    "事实上，这些看起来都很有希望，因为它们似乎都与各自的桶有一些关系。一个表情符号从我的预处理功能中逃脱了，但它们的数量并没有少到我觉得现在不需要删除它，它们只是噪音。\n",
    "\n",
    "还要注意，如果你比较这些数据的尾部和头部，“更新”是作为模板和我的推文的混合生成的。"
   ]
  },
  {
   "cell_type": "markdown",
   "metadata": {},
   "source": [
    "丢失和更换-产品出现问题。我的iphone很热，你能换一下吗？丢了。"
   ]
  },
  {
   "cell_type": "code",
   "execution_count": null,
   "metadata": {},
   "outputs": [],
   "source": [
    "# Seeing the real data for an intent\n",
    "intent_name = \"lost_replace\"\n",
    "view = processed.iloc[intent_indexes[intent_name]][\"Real Inbound\"]\n",
    "[*view]"
   ]
  },
  {
   "cell_type": "markdown",
   "metadata": {},
   "source": [
    "# 意向标签（桶）评估"
   ]
  },
  {
   "cell_type": "code",
   "execution_count": null,
   "metadata": {},
   "outputs": [],
   "source": [
    "# Storing word rank table dataframes in this dict\n",
    "wordranks = {}\n",
    "\n",
    "# For visualizing top 10\n",
    "def top10_bagofwords(data, output_name, title):\n",
    "    ''' Taking as input the data and plots the top 10 words based on counts in this text data'''\n",
    "    bagofwords = CountVectorizer()\n",
    "    # Output will be a sparse matrix\n",
    "    inbound = bagofwords.fit_transform(data)\n",
    "    # Inspecting of often contractions and colloquial language is used\n",
    "    word_counts = np.array(np.sum(inbound, axis=0)).reshape((-1,))\n",
    "    words = np.array(bagofwords.get_feature_names())\n",
    "    words_df = pd.DataFrame({\"word\":words, \n",
    "                             \"count\":word_counts})\n",
    "    words_rank = words_df.sort_values(by=\"count\", ascending=False)\n",
    "    wordranks[output_name] = words_rank\n",
    "    # words_rank.to_csv('words_rank.csv') # Storing it in a csv so I can inspect and go through it myself\n",
    "    # Visualizing top 10 words\n",
    "    plt.figure(figsize=(12,6))\n",
    "    sns.barplot(words_rank['word'][:10], words_rank['count'][:10].astype(str), palette = 'inferno')\n",
    "    plt.title(title)\n",
    "    \n",
    "    # Saving\n",
    "    plt.savefig(f'visualizations/next_ver/{output_name}.png')\n",
    "    \n",
    "    plt.show()"
   ]
  },
  {
   "cell_type": "code",
   "execution_count": null,
   "metadata": {},
   "outputs": [],
   "source": [
    "# Doing my bucket evaluations here - seeing what each distinct bucket intent means\n",
    "for i in train.columns:\n",
    "    top10_bagofwords(train[i].apply(\" \".join), f'bucket_eval/{i}', f'Top 10 Words in {i} Intent')"
   ]
  },
  {
   "cell_type": "markdown",
   "metadata": {},
   "source": [
    "初步想法：\n",
    "\n",
    "说实话，我觉得我获取问候意图训练数据的方式可能不是最好的。不同意图之间有很多相似的词。例如，在mac意图中，iphone是最常见的词，这让人有些担忧！\n",
    "\n",
    "在改变方法之后（版本2）：\n",
    "\n",
    "词语和结果显得更有意义了。"
   ]
  },
  {
   "cell_type": "code",
   "execution_count": null,
   "metadata": {
    "scrolled": true
   },
   "outputs": [],
   "source": [
    "# Investigating bag of word frequencies at a more granular level\n",
    "wordranks['bucket_eval/mac'].head(50)"
   ]
  },
  {
   "cell_type": "code",
   "execution_count": null,
   "metadata": {},
   "outputs": [],
   "source": [
    "[*train.columns]"
   ]
  },
  {
   "cell_type": "markdown",
   "metadata": {},
   "source": [
    "### 正在为rasa生成文本文件\n",
    "Rasa API要求将这种格式的数据输入到他们的机器人程序中。我在训练中使用自己的训练数据，但这是为了试验他们的工具。"
   ]
  },
  {
   "cell_type": "code",
   "execution_count": null,
   "metadata": {},
   "outputs": [],
   "source": [
    "# Getting NLU.md training data in correct form for Rasa Bot\n",
    "with open('data/train_rasa/train_v3.txt', 'w') as t:\n",
    "    for intent in train.columns:\n",
    "        t.write(f'## intent: {intent}\\n')\n",
    "        for tweet in train[intent]:\n",
    "            t.write('- ' + \" \".join(tweet) + '\\n')\n",
    "        t.write('\\n')"
   ]
  },
  {
   "cell_type": "markdown",
   "metadata": {},
   "source": [
    "### This is just a cell to log my progress of how my method was doing at first\n",
    "\n",
    "没有表情符号的类似推文“[新]、“更新”、“我”️', 'make'，'sure'，'下载'，'昨天']`\n",
    "\n",
    "格式为：`（索引标记，余弦相似性）`\n",
    "\n",
    "[('72326', 0.8154675364494324),\n",
    " ('32166', 0.8151031732559204),\n",
    " ('29461', 0.8027088642120361),\n",
    " ('5942', 0.7968393564224243),\n",
    " ('54836', 0.7879305481910706),\n",
    " ('30359', 0.7861931324005127),\n",
    " ('66201', 0.7817540168762207),\n",
    " ('50109', 0.7796376943588257),\n",
    " ('59490', 0.7793254852294922),\n",
    " ('46644', 0.7775745391845703),\n",
    " ('58410', 0.7734568119049072),\n",
    " ('26164', 0.7674931287765503),\n",
    " ('14867', 0.7673683166503906),\n",
    " ('25813', 0.766610860824585),\n",
    " ('47880', 0.7642890214920044),\n",
    " ('30945', 0.76273113489151),\n",
    " ('74155', 0.7582229971885681),\n",
    " ('33346', 0.7577282190322876),\n",
    " ('9502', 0.7569847702980042),\n",
    " ('64871', 0.7567278146743774)"
   ]
  },
  {
   "cell_type": "markdown",
   "metadata": {},
   "source": [
    "### Using scattertext from the spaCy universe for EDA\n",
    "This [kernel](https://www.kaggle.com/psbots/customer-support-meets-spacy-universehttps://www.kaggle.com/psbots/customer-support-meets-spacy-universe) 向我展示了spaCy的散点文本工具的功能！所以我也想亲自去做，希望能获得有用的见解。\n",
    "\n",
    "正如文档中所说，散点文本是“一种在中小型语料库中找到区别术语的工具，并用不重叠的术语标签在性感的交互式散点图中呈现它们。”\n",
    "\n",
    "然而，在该内核中实现的“CorpusFromParsedDocuments”似乎被弃用或存在依赖性问题，所以我查看了文档并使用了“CorpusFromPandas”，我认为这非常适合我所拥有的数据。"
   ]
  },
  {
   "cell_type": "code",
   "execution_count": null,
   "metadata": {},
   "outputs": [],
   "source": [
    "def term_freqs(intent_name):\n",
    "    bagofwords = CountVectorizer()\n",
    "    # Output will be a sparse matrix\n",
    "    inbound = bagofwords.fit_transform(visualize_train[visualize_train['Intent'] == intent_name]['Utterance'])\n",
    "    # Inspecting of often contractions and colloquial language is used\n",
    "    word_counts = np.array(np.sum(inbound, axis=0)).reshape((-1,))\n",
    "    words = np.array(bagofwords.get_feature_names())\n",
    "    words_df = pd.DataFrame({\"word\":words, \n",
    "                                 \"count\":word_counts})\n",
    "    words_rank = words_df.sort_values(by=\"count\", ascending=False)\n",
    "    return words_rank\n",
    "\n",
    "update_df = term_freqs('update')\n",
    "repair_df = term_freqs('repair')\n",
    "\n",
    "combined = pd.concat([update_df, repair_df], axis = 0)"
   ]
  },
  {
   "cell_type": "code",
   "execution_count": null,
   "metadata": {},
   "outputs": [],
   "source": [
    "import spacy\n",
    "import scattertext as st"
   ]
  },
  {
   "cell_type": "code",
   "execution_count": null,
   "metadata": {},
   "outputs": [],
   "source": [
    "# Data munging\n",
    "visualize_train = neat_train.copy()\n",
    "visualize_train['Utterance'] = visualize_train['Utterance'].progress_apply(\" \".join)\n",
    "\n",
    "# Subsetting to the two intents I want to compare\n",
    "visualize_train = visualize_train[(visualize_train['Intent'] == 'repair') | \n",
    "                                 (visualize_train['Intent'] == 'update')]\n",
    "\n",
    "# Load spacy model\n",
    "nlp = spacy.load('en',disable_pipes=[\"tagger\",\"ner\"])\n",
    "visualize_train['parsed'] = visualize_train['Utterance'].progress_apply(nlp)"
   ]
  },
  {
   "cell_type": "code",
   "execution_count": null,
   "metadata": {},
   "outputs": [],
   "source": [
    "visualize_train.head()"
   ]
  },
  {
   "cell_type": "code",
   "execution_count": null,
   "metadata": {},
   "outputs": [],
   "source": [
    "corpus = st.CorpusFromParsedDocuments(visualize_train,\n",
    "                             category_col='Intent',\n",
    "                             parsed_col='parsed').build()"
   ]
  },
  {
   "cell_type": "code",
   "execution_count": null,
   "metadata": {},
   "outputs": [],
   "source": [
    "html = st.produce_scattertext_explorer(corpus,\n",
    "          category='Intent',\n",
    "          category_name='repair',\n",
    "          not_category_name='update',\n",
    "          width_in_pixels=600,\n",
    "          minimum_term_frequency=10,\n",
    "        term_significance = st.LogOddsRatioUninformativeDirichletPrior(),\n",
    "          )"
   ]
  },
  {
   "cell_type": "markdown",
   "metadata": {
    "colab_type": "text",
    "id": "V1fkySyFbx0j"
   },
   "source": [
    "# Keras的意向分类\n",
    "在我过去的笔记本中，我的目标是为我的聊天机器人接收标记的数据。现在，本笔记本的重点是使用Keras对用户可能键入的新的、看不见的数据的意图进行分类。现在，我们从上一本笔记本中的无监督学习中生成了标签，模型切换到了监督学习方法。\n",
    "\n",
    "### Rasa比较\n",
    "Rasa使用SVM和GridsearchCV训练这一意图分类步骤，因为它们可以尝试不同的配置（[来源](https://medium.com/bhavaniravi/intent-classification-demystifying-rasanlu-part-4-685fc02f5c1d)).部署预处理时，训练和测试之间的管道应保持不变。"
   ]
  },
  {
   "cell_type": "code",
   "execution_count": null,
   "metadata": {
    "colab": {
     "base_uri": "https://localhost:8080/",
     "height": 275
    },
    "colab_type": "code",
    "id": "uVG4gfRQbx0k",
    "outputId": "b5b06a15-87fd-49c2-c89f-e0c378712c4f",
    "scrolled": true,
    "tags": []
   },
   "outputs": [],
   "source": [
    "# Data science\n",
    "import pandas as pd\n",
    "print(f\"Pandas: {pd.__version__}\")\n",
    "import numpy as np\n",
    "print(f\"Numpy: {np.__version__}\")\n",
    "\n",
    "# Deep Learning \n",
    "import tensorflow as tf\n",
    "print(f\"Tensorflow: {tf.__version__}\")\n",
    "from tensorflow import keras\n",
    "print(f\"Keras: {keras.__version__}\")\n",
    "import sklearn\n",
    "print(f\"Sklearn: {sklearn.__version__}\")\n",
    "\n",
    "# Visualization \n",
    "import seaborn as sns\n",
    "import matplotlib.pyplot as plt\n",
    "sns.set(style=\"ticks\", color_codes=True)\n",
    "\n",
    "import collections\n",
    "import yaml\n",
    "import re\n",
    "import os\n",
    "\n",
    "# Preprocessing and Keras\n",
    "from nltk.corpus import stopwords\n",
    "from nltk.tokenize import word_tokenize\n",
    "from sklearn.preprocessing import OneHotEncoder\n",
    "from keras.preprocessing.text import Tokenizer\n",
    "from keras.preprocessing.sequence import pad_sequences\n",
    "from keras.utils import to_categorical\n",
    "from keras.models import Sequential, load_model\n",
    "from keras.layers import Dense, LSTM, Bidirectional, Embedding, Dropout\n",
    "from keras.callbacks import ModelCheckpoint\n",
    "from sklearn.model_selection import train_test_split\n",
    "from tensorflow.keras.layers import Input\n",
    "\n",
    "\n",
    "# Reading in training data\n",
    "train = pd.read_pickle('objects/train.pkl')\n",
    "print(f'Training data: {train.head()}')"
   ]
  },
  {
   "cell_type": "markdown",
   "metadata": {
    "colab_type": "text",
    "id": "Muag_xYwbx0p"
   },
   "source": [
    "# Keras Preprocessing\n",
    "\n",
    "### Keras Tokenizer\n",
    "创建vocb中所有单词的字典，并存储索引。对于每个序列，它在序列中传递，并将每个单词转换为引用Keras单词词典的索引。当你把句子输入到模型中时，它们都必须是相同的长度。但有些推文会比其他推文长，所以pad_sequences只会填充所有其他推文，使它们的长度相同。它用0s填充消息，直到它们与最长消息的长度相同。较短的最大长度通常是优选的，因为较长的序列更难训练。\n",
    "\n",
    "我已经完成了大部分主要的预处理工作，但Keras需要一些更具体的东西来进行建模。"
   ]
  },
  {
   "cell_type": "code",
   "execution_count": null,
   "metadata": {
    "colab": {
     "base_uri": "https://localhost:8080/",
     "height": 85
    },
    "colab_type": "code",
    "id": "IAjJqgSJbx0p",
    "outputId": "6a8445ed-6d34-44df-da33-79cd9d1e9e16",
    "scrolled": true
   },
   "outputs": [],
   "source": [
    "from keras.preprocessing.text import Tokenizer\n",
    "from keras.preprocessing.text import one_hot\n",
    "\n",
    "# Label encoding the target\n",
    "from sklearn.preprocessing import LabelEncoder\n",
    "from sklearn.preprocessing import OneHotEncoder\n",
    "\n",
    "# For the text data\n",
    "from keras.preprocessing.text import hashing_trick\n",
    "from keras.preprocessing.text import text_to_word_sequence\n",
    "\n",
    "# I use Keras' Tokenizer API - helpful link I followed: https://machinelearningmastery.com/prepare-text-data-deep-learning-keras/\n",
    "# Train test split\n",
    "# Split in to train and test (stratify for class imbalance and random state for reproducibility)\n",
    "X_train, X_val, y_train, y_val = train_test_split(train['Utterance'], train['Intent'], test_size = 0.3, \n",
    "                                                   shuffle = True, stratify = train['Intent'], random_state = 7)\n",
    "print(f'\\nShape checks:\\nX_train: {X_train.shape} X_val: {X_val.shape}\\ny_train: {y_train.shape} y_val: {y_val.shape}')"
   ]
  },
  {
   "cell_type": "code",
   "execution_count": null,
   "metadata": {},
   "outputs": [],
   "source": [
    "y_train"
   ]
  },
  {
   "cell_type": "code",
   "execution_count": null,
   "metadata": {
    "colab": {},
    "colab_type": "code",
    "id": "-9-OfyoPfBxt"
   },
   "outputs": [],
   "source": [
    "# Encoding the target variable\n",
    "\n",
    "le = LabelEncoder()\n",
    "le.fit(y_train)\n",
    "\n",
    "y_train = le.transform(y_train)\n",
    "y_val = le.transform(y_val)"
   ]
  },
  {
   "cell_type": "code",
   "execution_count": null,
   "metadata": {
    "colab": {
     "base_uri": "https://localhost:8080/",
     "height": 68
    },
    "colab_type": "code",
    "id": "unIGcoeIflGa",
    "outputId": "257720ff-1526-405a-ceb9-299ac20073b0"
   },
   "outputs": [],
   "source": [
    "le.classes_"
   ]
  },
  {
   "cell_type": "code",
   "execution_count": null,
   "metadata": {
    "colab": {
     "base_uri": "https://localhost:8080/",
     "height": 238
    },
    "colab_type": "code",
    "id": "UR2c5gczbx0s",
    "outputId": "a5ce83f2-61e3-488e-d35d-ec3902e7fe79"
   },
   "outputs": [],
   "source": [
    "## 1. ENCODING THE TEXT DATA\n",
    "\n",
    "# NOTE: Since we use an embedding matrix, we use the Tokenizer API to integer encode our data - https://machinelearningmastery.com/use-word-embedding-layers-deep-learning-keras/\n",
    "t = Tokenizer()\n",
    "t.fit_on_texts(X_train)\n",
    "\n",
    "print(\"Document Count: \\n{}\\n\".format(t.document_count))\n",
    "# print(\"Word index: \\n{} \\n \".format(t.word_index))\n",
    "# print(\"Word Counts: \\n{} \\n\".format(len(t.word_counts) + 1))\n",
    "# print(\"Word docs: \\n{} \\n \".format(t.word_docs))\n",
    "\n",
    "def convert_to_padded(tokenizer, docs):\n",
    "    ''' Taking in Keras API Tokenizer and documents and returns their padded version '''\n",
    "    ## Using API's attributes\n",
    "    # Embedding\n",
    "    embedded = t.texts_to_sequences(docs)\n",
    "    # Padding\n",
    "    padded = pad_sequences(embedded, maxlen = max_length, padding = 'post')\n",
    "    return padded\n",
    "\n",
    "## Defining useful variables for later\n",
    "# Adding 1 becuase of reserved 0 index\n",
    "vocab_size = len(t.word_counts) + 1\n",
    "print(f'Vocab size:\\n{vocab_size}')\n",
    "\n",
    "# Pad documents to a max length\n",
    "max_length = len(max(embedded_X_train, key = len))\n",
    "\n",
    "print(f'Max length:\\n{max_length}')\n",
    "\n",
    "padded_X_train = convert_to_padded(tokenizer = t, docs = X_train)\n",
    "padded_X_val = convert_to_padded(tokenizer = t, docs = X_val)\n",
    "\n",
    "print(f'padded_X_train\\n{padded_X_train}')\n",
    "print(f'padded_X_val\\n{padded_X_val}')"
   ]
  },
  {
   "cell_type": "code",
   "execution_count": null,
   "metadata": {
    "colab": {
     "base_uri": "https://localhost:8080/",
     "height": 34
    },
    "colab_type": "code",
    "id": "vwDfMawtbx0v",
    "outputId": "256b279d-4f8d-4464-fef7-ea4e54937b8b"
   },
   "outputs": [],
   "source": [
    "padded_X_train.shape, padded_X_val.shape, y_train.shape, y_val.shape"
   ]
  },
  {
   "cell_type": "code",
   "execution_count": null,
   "metadata": {
    "colab": {
     "base_uri": "https://localhost:8080/",
     "height": 85
    },
    "colab_type": "code",
    "id": "HkqW3VjKqwKI",
    "outputId": "6ab620ec-f1db-4b8e-ac26-26c14102e5b3"
   },
   "outputs": [],
   "source": [
    "padded_X_train[1]"
   ]
  },
  {
   "cell_type": "markdown",
   "metadata": {
    "colab_type": "text",
    "id": "xH0LDPxGbx0y"
   },
   "source": [
    "运行此示例适合使用5个小文档的Tokenizer。将打印fit Tokenizer的详细信息。然后使用字数对这5个文档进行编码。\n",
    "\n",
    "每个文档被编码为9元素矢量，每个单词具有一个位置，每个单词位置具有所选择的编码方案值。在这种情况下，使用简单的单词计数模式。"
   ]
  },
  {
   "cell_type": "markdown",
   "metadata": {
    "colab_type": "text",
    "id": "0BJGJ_6jbx0z"
   },
   "source": [
    "### Embedding matrix"
   ]
  },
  {
   "cell_type": "markdown",
   "metadata": {
    "colab_type": "text",
    "id": "E_gU9p1Gbx0z"
   },
   "source": [
    "Keras模型寻找一个热编码的y变量。当它是多类的时候，很多人把它当作一个热门的编码向量。这只是设计选择之一。\n",
    "\n",
    "\n",
    "如果你使用的是doc2vec嵌入，你如何传入你的推文。您可能需要将其作为完整的推文传递。看看你是如何在推特上传递的。你可能需要在推特级别进行标记。如果你把它传进来，如果它是Tweet 57，它会激活节点，使它与第57个文档的嵌入相乘。"
   ]
  },
  {
   "cell_type": "code",
   "execution_count": null,
   "metadata": {
    "colab": {},
    "colab_type": "code",
    "id": "vif1Y7qqbx00",
    "outputId": "40230d4e-46ba-4273-ecce-9ac0e20b299a"
   },
   "outputs": [],
   "source": [
    "# We can see that there are 4 different dimensionality options\n",
    "!ls models/glove.twitter.27B"
   ]
  },
  {
   "cell_type": "markdown",
   "metadata": {
    "colab_type": "text",
    "id": "T83TIrvPbx03"
   },
   "source": [
    "在这里，我们通过解析预训练嵌入的数据转储来计算一个索引，将单词映射到已知的嵌入：\n",
    "\n",
    "我使用50D是因为我的X_train的最大长度为32。"
   ]
  },
  {
   "cell_type": "code",
   "execution_count": null,
   "metadata": {
    "colab": {
     "base_uri": "https://localhost:8080/",
     "height": 34
    },
    "colab_type": "code",
    "id": "2LpoFpsDbx03",
    "outputId": "992de14f-94d7-4fd6-b414-5d815c348b1d"
   },
   "outputs": [],
   "source": [
    "# Using gloVe word embeddings\n",
    "embeddings_index = {}\n",
    "f = open('models/glove.twitter.6B.50d.txt')\n",
    "for line in f:\n",
    "    values = line.split()\n",
    "    word = values[0]\n",
    "    coefs = np.asarray(values[1:], dtype='float32')\n",
    "    embeddings_index[word] = coefs\n",
    "f.close()\n",
    "\n",
    "print('Found %s word vectors.' % len(embeddings_index))"
   ]
  },
  {
   "cell_type": "markdown",
   "metadata": {
    "colab_type": "text",
    "id": "NkBbmMOkbx06"
   },
   "source": [
    "现在我们可以利用我们的embedding_index字典和word_index来计算我们的嵌入矩阵："
   ]
  },
  {
   "cell_type": "code",
   "execution_count": null,
   "metadata": {
    "colab": {},
    "colab_type": "code",
    "id": "4tdN1wuLbx07"
   },
   "outputs": [],
   "source": [
    "# Initializing required objects\n",
    "word_index = t.word_index\n",
    "EMBEDDING_DIM = 50 # Because we are using the 50D gloVe embeddings\n",
    "\n",
    "# Getting my embedding matrix\n",
    "embedding_matrix = np.zeros((len(word_index) + 1, EMBEDDING_DIM))\n",
    "for word, i in word_index.items():\n",
    "    embedding_vector = embeddings_index.get(word)\n",
    "    if embedding_vector is not None:\n",
    "        # words not found in embedding index will be all-zeros.\n",
    "        embedding_matrix[i] = embedding_vector"
   ]
  },
  {
   "cell_type": "code",
   "execution_count": null,
   "metadata": {
    "colab": {
     "base_uri": "https://localhost:8080/",
     "height": 238
    },
    "colab_type": "code",
    "id": "rZXsRtHTbx0-",
    "outputId": "8dc559cd-665e-4645-a19c-b6a265b6df52"
   },
   "outputs": [],
   "source": [
    "embedding_matrix, embedding_matrix.shape"
   ]
  },
  {
   "cell_type": "markdown",
   "metadata": {
    "colab_type": "text",
    "id": "y4HBkKIPbx1C"
   },
   "source": [
    "太好了，现在我们可以开始建模了。\n",
    "\n",
    "在常规单词嵌入中，必须设置矩阵中嵌入的顺序，使其与单词在我的keras标记器单词索引中的显示方式相匹配。它这样做是为了让最常见的单词出现在前面，并且嵌入矩阵需要对齐。\n",
    "\n",
    "我还确保嵌入的顺序与我的模型中单词的顺序相同。\n",
    "\n",
    "在这里，我还确保像macbook这样的特定领域的单词在我的Twitter嵌入中。其中一个例子是“macbook”，你可以清楚地看到它确实在embeddings文件中，这很好：\n"
   ]
  },
  {
   "cell_type": "markdown",
   "metadata": {
    "colab_type": "text",
    "id": "d7khIrmGbx1C"
   },
   "source": [
    "# Keras Modelling\n",
    "我将使用Keras创建一个神经网络，输出层的节点数与意图的数量相同。以下是我的架构："
   ]
  },
  {
   "cell_type": "code",
   "execution_count": null,
   "metadata": {
    "colab": {
     "base_uri": "https://localhost:8080/",
     "height": 357
    },
    "colab_type": "code",
    "id": "cVOOkDNdbx1F",
    "outputId": "92f75bea-daa4-462d-8811-3546d28c3501",
    "scrolled": true
   },
   "outputs": [],
   "source": [
    "def make_model(vocab_size, max_token_length):\n",
    "    ''' In this function I define all the layers of my neural network'''\n",
    "    # Initialize\n",
    "    model = Sequential()\n",
    "    #model.add(Input(shape = (32,), dtype = 'int32'))\n",
    "\n",
    "    # Adding layers - For embedding layer, I made sure to add my embedding matrix into the weights paramater\n",
    "    model.add(Embedding(vocab_size, embedding_matrix.shape[1], input_length = 32, \n",
    "                        trainable = False, weights = [embedding_matrix]))\n",
    "    \n",
    "    model.add(Bidirectional(LSTM(128)))\n",
    "#    model.add(LSTM(128)) \n",
    "    # Try 100\n",
    "    model.add(Dense(600, activation = \"relu\",kernel_regularizer ='l2')) # Try 50, another dense layer? This takes a little bit of exploration\n",
    "    \n",
    "    # Adding another dense layer to increase model complexity\n",
    "    model.add(Dense(600, activation = \"relu\",kernel_regularizer ='l2'))\n",
    "    \n",
    "    # Only update 50 percent of the nodes - helps with overfitting\n",
    "    model.add(Dropout(0.5))\n",
    "    \n",
    "    # This last layer should be the size of the number of your intents!\n",
    "    # Use sigmoid for multilabel classification, otherwise, use softmax!\n",
    "    model.add(Dense(10, activation = \"softmax\"))\n",
    "    \n",
    "    return model\n",
    "\n",
    "# Actually creating my model with 32 as the max token length\n",
    "model = make_model(vocab_size, 32)\n",
    "model.compile(loss = \"sparse_categorical_crossentropy\", \n",
    "              optimizer = \"adam\", metrics = [\"accuracy\"])\n",
    "model.summary()"
   ]
  },
  {
   "cell_type": "code",
   "execution_count": null,
   "metadata": {
    "colab": {
     "base_uri": "https://localhost:8080/",
     "height": 938
    },
    "colab_type": "code",
    "id": "gnq7SY7vbx1I",
    "outputId": "150c2ce0-e9d9-493f-9bfc-674b1d8c73ef"
   },
   "outputs": [],
   "source": [
    "# Initializing checkpoint settings to view progress and save model\n",
    "filename = 'models/intent_classification_b.h5'\n",
    "\n",
    "# Learning rate scheduling\n",
    "# This function keeps the initial learning rate for the first ten epochs  \n",
    "# and decreases it exponentially after that.  \n",
    "def scheduler(epoch, lr):\n",
    "    if epoch < 10:\n",
    "        return lr\n",
    "    else:\n",
    "        return lr * tf.math.exp(-0.1)\n",
    "\n",
    "lr_sched_checkpoint = tf.keras.callbacks.LearningRateScheduler(scheduler)\n",
    "\n",
    "# Early stopping\n",
    "early_stopping = tf.keras.callbacks.EarlyStopping(\n",
    "    monitor='val_loss', min_delta=0, patience=3, verbose=0, mode='auto',\n",
    "    baseline=None, restore_best_weights=True\n",
    ")\n",
    "\n",
    "\n",
    "# This saves the best model\n",
    "checkpoint = ModelCheckpoint(filename, monitor='val_loss', verbose=1, \n",
    "                             save_best_only=True, mode='min')\n",
    "\n",
    "# The model you get at the end of it is after 100 epochs, but that might not have been\n",
    "# the weights most associated with validation accuracy\n",
    "\n",
    "# Only save the weights when you model has the lowest val loss. Early stopping\n",
    "\n",
    "# Fitting model with all the callbacks above\n",
    "hist = model.fit(padded_X_train, y_train, epochs = 20, batch_size = 32, \n",
    "                 validation_data = (padded_X_val, y_val), \n",
    "                 callbacks = [checkpoint, lr_sched_checkpoint, early_stopping])"
   ]
  },
  {
   "cell_type": "markdown",
   "metadata": {
    "colab_type": "text",
    "id": "kmiVKysabx1K"
   },
   "source": [
    "注意：对于任何新的测试数据，它必须采用完全相同的格式。因此，如果您对已经预标记的文档调用fit_to_texts，那么您传入的字符串也必须作为预标记字符串传入。"
   ]
  },
  {
   "cell_type": "code",
   "execution_count": null,
   "metadata": {
    "colab": {
     "base_uri": "https://localhost:8080/",
     "height": 877
    },
    "colab_type": "code",
    "id": "HALampOEbx1L",
    "outputId": "9c206dbc-f97c-468b-8b4c-aa1a1553c61b"
   },
   "outputs": [],
   "source": [
    "# Visualizing Training Loss vs Validation Loss (the loss is how wrong your model is)\n",
    "plt.figure(figsize=(10,7))\n",
    "plt.plot(hist.history['val_loss'], label = 'Validation Loss', color = 'cyan')\n",
    "plt.plot(hist.history['loss'], label = 'Training Loss', color = 'purple')\n",
    "plt.title('Training Loss vs Validation Loss')\n",
    "plt.xlabel('Epochs')\n",
    "plt.ylabel('Loss')\n",
    "plt.legend()\n",
    "plt.show()\n",
    "\n",
    "# Visualizing Testing Accuracy vs Validation Accuracy\n",
    "plt.figure(figsize=(10,7))\n",
    "plt.plot(hist.history['val_accuracy'], label = 'Validation Accuracy', color = 'cyan')\n",
    "plt.plot(hist.history['accuracy'], label = 'Training Accuracy', color = 'purple')\n",
    "plt.title('Training Accuracy vs Validation Accuracy')\n",
    "plt.xlabel('Epochs')\n",
    "plt.ylabel('Accuracy')\n",
    "plt.legend()\n",
    "plt.show()"
   ]
  },
  {
   "cell_type": "markdown",
   "metadata": {
    "colab_type": "text",
    "id": "CkcVbdNubx1O"
   },
   "source": [
    "在20个时期之后，坡度变成了一条平坦的线，损失并没有太大变化。地板效应是你不能得到任何低于0的损失。它真的很快就从训练数据中学习到了它需要学习的东西。如果你继续训练，你基本上是在过度适应训练数据，你在适应不重要的信号。\n",
    "\n",
    "例如，在图像的背景下，如果模型学会了识别猫是什么，它现在可能过于详细，并学会了猫也必须是黑色。"
   ]
  },
  {
   "cell_type": "markdown",
   "metadata": {
    "colab_type": "text",
    "id": "bGqGvxRobx1O"
   },
   "source": [
    "### Model improvements\n",
    "该模型在低时期拟合过度。模型明显过拟合。绘制出准确度。\n",
    "\n",
    "不需要100次训练。\n",
    "\n",
    "看学习率调度，在一定数量的迭代之后，降低学习率。\n",
    "* Learning rate scheduling\n",
    "* Early stopping or reducing epochs\n",
    "* Dropout layers\n",
    "* Regularization\n",
    "* Improve distinctiveness between intent data\n",
    "\n",
    "在我应用了这些改进之后，我的准确性提高了。"
   ]
  },
  {
   "cell_type": "code",
   "execution_count": null,
   "metadata": {
    "colab": {},
    "colab_type": "code",
    "id": "7SYdTawRbx1P"
   },
   "outputs": [],
   "source": [
    "# I have to redefine and load in the model saved by my model checkpoint \n",
    "from keras.models import load_model\n",
    "model = load_model('models/intent_classification_b.h5')"
   ]
  },
  {
   "cell_type": "code",
   "execution_count": null,
   "metadata": {},
   "outputs": [],
   "source": [
    "def infer_intent(user_input):\n",
    "    ''' Making a function that recieves a user input and outputs a \n",
    "    dictionary of predictions '''\n",
    "    assert isinstance(user_input, str), 'User input must be a string!'\n",
    "    user_input = [user_input]\n",
    "    print(user_input)\n",
    "    \n",
    "    # Converting to Keras form\n",
    "    padded_text = convert_to_padded(t, user_input)\n",
    "    x = padded_text[0]\n",
    "    \n",
    "    # Prediction for each document\n",
    "    probs = model.predict(padded_text)\n",
    "#     print('Prob array shape', probs.shape)\n",
    "    \n",
    "    # Get the classes from label encoder\n",
    "    classes = le.classes_\n",
    "    \n",
    "    # Getting predictions dict and sorting\n",
    "    predictions = dict(zip(classes, probs[0]))\n",
    "    sorted_predictions = {k: v for k, v in sorted(predictions.items(), key=lambda item: item[1], reverse = True)}\n",
    "    \n",
    "    return sorted_predictions"
   ]
  },
  {
   "cell_type": "code",
   "execution_count": null,
   "metadata": {},
   "outputs": [],
   "source": [
    "infer_intent('hi')"
   ]
  },
  {
   "cell_type": "markdown",
   "metadata": {},
   "source": [
    "我花了大量的时间来完善我输入到这个模型中的训练数据，尤其是试图找出这个模型的正确映射。最终修复我的映射的是使用标签编码器，而不是为我的目标变量使用一个热编码器，并确保我的用户输入格式正确（它应该是一个列表，因为它通过了维度检查）。"
   ]
  },
  {
   "cell_type": "markdown",
   "metadata": {},
   "source": [
    "## 理智检查（Sanity Checks）"
   ]
  },
  {
   "cell_type": "code",
   "execution_count": null,
   "metadata": {
    "colab": {
     "base_uri": "https://localhost:8080/",
     "height": 34
    },
    "colab_type": "code",
    "id": "VtrsTXPQjgT8",
    "outputId": "704ecaec-d0ba-4052-f529-27d74bfd3460"
   },
   "outputs": [],
   "source": [
    "classes.shape"
   ]
  },
  {
   "cell_type": "code",
   "execution_count": null,
   "metadata": {
    "colab": {
     "base_uri": "https://localhost:8080/",
     "height": 68
    },
    "colab_type": "code",
    "id": "VoY8RpgVbx1c",
    "outputId": "da6b9c33-6a34-4017-865b-fbbbfbd8a3c0"
   },
   "outputs": [],
   "source": [
    "probs"
   ]
  },
  {
   "cell_type": "code",
   "execution_count": null,
   "metadata": {
    "colab": {
     "base_uri": "https://localhost:8080/",
     "height": 34
    },
    "colab_type": "code",
    "id": "0pkL2XRrbx1e",
    "outputId": "2317110d-d84c-47f1-8567-d2269d0d7172"
   },
   "outputs": [],
   "source": [
    "probs.shape"
   ]
  },
  {
   "cell_type": "code",
   "execution_count": null,
   "metadata": {
    "colab": {
     "base_uri": "https://localhost:8080/",
     "height": 68
    },
    "colab_type": "code",
    "id": "clS2z_gUrzWH",
    "outputId": "6acab942-d414-4e7a-c272-40bd32f6c7c3"
   },
   "outputs": [],
   "source": [
    "padded_text"
   ]
  },
  {
   "cell_type": "code",
   "execution_count": null,
   "metadata": {
    "colab": {
     "base_uri": "https://localhost:8080/",
     "height": 255
    },
    "colab_type": "code",
    "id": "5AbFpXLIsWCz",
    "outputId": "5f5ca0e2-fbc8-45c9-aed8-adbd62d1e96c"
   },
   "outputs": [],
   "source": [
    "X_train[0]"
   ]
  },
  {
   "cell_type": "code",
   "execution_count": null,
   "metadata": {
    "colab": {},
    "colab_type": "code",
    "id": "pq6VhkOrsfTh"
   },
   "outputs": [],
   "source": [
    "test = [X_train[0]]"
   ]
  },
  {
   "cell_type": "code",
   "execution_count": null,
   "metadata": {
    "colab": {},
    "colab_type": "code",
    "id": "lMr-5Ksbsda5"
   },
   "outputs": [],
   "source": [
    "embedded_text = t.texts_to_sequences(test)\n",
    "\n",
    "padded_text = pad_sequences(embedded_text, maxlen=max_length, padding='post')"
   ]
  },
  {
   "cell_type": "code",
   "execution_count": null,
   "metadata": {
    "colab": {
     "base_uri": "https://localhost:8080/",
     "height": 34
    },
    "colab_type": "code",
    "id": "NWWM3gsispn_",
    "outputId": "31c0884a-42dd-4a1c-b07c-dde533303ac4"
   },
   "outputs": [],
   "source": [
    "embedded_text"
   ]
  },
  {
   "cell_type": "code",
   "execution_count": null,
   "metadata": {
    "colab": {
     "base_uri": "https://localhost:8080/",
     "height": 68
    },
    "colab_type": "code",
    "id": "2MBKjjqduij9",
    "outputId": "a2c00226-bf09-4b92-8485-8ca8eb9d0dff"
   },
   "outputs": [],
   "source": [
    "padded_text"
   ]
  },
  {
   "cell_type": "code",
   "execution_count": null,
   "metadata": {
    "colab": {
     "base_uri": "https://localhost:8080/",
     "height": 34
    },
    "colab_type": "code",
    "id": "1s6sm5SsuUBO",
    "outputId": "86dcfd22-4ee3-427d-d779-0c41e30f4736"
   },
   "outputs": [],
   "source": [
    "t.word_index['battery']"
   ]
  },
  {
   "cell_type": "markdown",
   "metadata": {
    "colab_type": "text",
    "id": "xlrZfIjfbx1g"
   },
   "source": [
    "# Future Step: Multilabel Classification"
   ]
  },
  {
   "cell_type": "markdown",
   "metadata": {
    "colab_type": "text",
    "id": "UnlO0KQTbx1g"
   },
   "source": [
    "将来，如果我想识别话语中的混合意图，我可以进行多标签分类。\n",
    "\n",
    "对于多标签分类，使用sigmoid激活函数作为最后一层。你仍然会有大约10个不同的意图。但你需要建模，使这些意图中的每一个都相互独立。\n",
    "意图1的预测不应影响意图2。Softmax获取所有类的所有分数，最高的数字将具有最高的概率输出，但所有的总和将为1。对于最终的softmax层，总和将为1，但这在我的情况下不起作用。\n",
    "\n",
    "但你要分别对每个意图进行分类。它们的总和可以大于1。\n",
    "\n",
    "它类似于多类中的logreg。一条曲线用于类0而非类0。这些问题的总和可以大于1。\n",
    "\n",
    "对于类1，它将是1或不是1。等等。你可以看看你的输出层，无论哪个节点的概率输出大于0.5，这2个都是你的最终输出。你最多可以做3个。取决于您将拥有多少个节点。\n",
    "\n",
    "当你输入你的目标向量时，它们需要进入一个热门的编码向量。目标列将有10列。对于每个节点，这一切加起来就是一个。每个节点将具有单独的S形函数（P（1-P））。在节点之间，它们的总和将超过1。一对一分类。根据logreg条款进行阅读。多标签分类。最重要的是你的标签需要一个热编码。损失函数将使用二进制交叉熵。\n",
    "\n",
    "潜在问题：你的类越多，你的模型就越难。尤其是对于第二和第三个标签，这是acc开始下降的时候。"
   ]
  },
  {
   "cell_type": "code",
   "execution_count": null,
   "metadata": {},
   "outputs": [],
   "source": []
  }
 ],
 "metadata": {
  "kernelspec": {
   "display_name": "Python 3 (ipykernel)",
   "language": "python",
   "name": "python3"
  },
  "language_info": {
   "codemirror_mode": {
    "name": "ipython",
    "version": 3
   },
   "file_extension": ".py",
   "mimetype": "text/x-python",
   "name": "python",
   "nbconvert_exporter": "python",
   "pygments_lexer": "ipython3",
   "version": "3.8.3"
  }
 },
 "nbformat": 4,
 "nbformat_minor": 4
}
