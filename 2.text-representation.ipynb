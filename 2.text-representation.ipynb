{
 "cells": [
  {
   "cell_type": "markdown",
   "metadata": {},
   "source": [
    "# 【代码+图解】文本表示方法衍进"
   ]
  },
  {
   "cell_type": "markdown",
   "metadata": {
    "papermill": {
     "duration": 0.068504,
     "end_time": "2021-12-07T14:22:09.667817",
     "exception": false,
     "start_time": "2021-12-07T14:22:09.599313",
     "status": "completed"
    },
    "tags": []
   },
   "source": [
    "<h1  style=\"text-align: center\" class=\"list-group-item list-group-item-action active\">介绍</h1><a id = \"1\" ></a>\n",
    "\n",
    "在自然语言处理（NLP）中，将原始文本转换为数字形式称为 <b> 文本表示 </b> 请相信我，这一步是NLP管道中最重要的步骤之一，因为如果我们在ML模型中输入不良特征，我们将得到不良结果。在计算机科学中，这通常被称为“垃圾输入，垃圾输出”\n",
    "\n",
    "<b>我在NLP中观察到，与将顶级算法应用于普通文本表示相比，将良好的文本表示提供给普通算法将使您走得更远</b>\n",
    "\n",
    "在本笔记本中，我将讨论各种文本表示方案及其优缺点，以便您可以选择最适合您任务的方案之一。我们的主要目标是将给定文本转换为数字形式，以便将其输入到NLP和ML算法中。\n",
    "\n",
    "![](https://www.oreilly.com/library/view/practical-natural-language/9781492054047/assets/pnlp_0301.png)\n",
    "\n",
    "在本笔记本中，重点将放在图中的虚线框上。"
   ]
  },
  {
   "cell_type": "markdown",
   "metadata": {
    "papermill": {
     "duration": 0.068209,
     "end_time": "2021-12-07T14:22:09.804899",
     "exception": false,
     "start_time": "2021-12-07T14:22:09.736690",
     "status": "completed"
    },
    "tags": []
   },
   "source": [
    "但在继续进行文本表示步骤之前，首先我们必须得到一个干净的数据集，然后必须对其进行预处理。在本笔记本中，我将只使用几个基本步骤来预处理文本数据。"
   ]
  },
  {
   "cell_type": "markdown",
   "metadata": {},
   "source": [
    "<h1  style=\"text-align: center\" class=\"list-group-item list-group-item-action active\">导入使用的软件包</h1><a id = \"1\" ></a>"
   ]
  },
  {
   "cell_type": "code",
   "execution_count": 1,
   "metadata": {
    "papermill": {
     "duration": 1.948899,
     "end_time": "2021-12-07T14:22:09.389908",
     "exception": false,
     "start_time": "2021-12-07T14:22:07.441009",
     "status": "completed"
    },
    "tags": []
   },
   "outputs": [],
   "source": [
    "import os\n",
    "import random\n",
    "import re\n",
    "\n",
    "import matplotlib.pyplot as plt\n",
    "import nltk\n",
    "import numpy as np\n",
    "import pandas as pd\n",
    "import seaborn as sns\n",
    "from sklearn.feature_extraction.text import CountVectorizer"
   ]
  },
  {
   "cell_type": "markdown",
   "metadata": {
    "papermill": {
     "duration": 0.069141,
     "end_time": "2021-12-07T14:22:09.943204",
     "exception": false,
     "start_time": "2021-12-07T14:22:09.874063",
     "status": "completed"
    },
    "tags": []
   },
   "source": [
    "<h1  style=\"text-align: center\" class=\"list-group-item list-group-item-action active\">加载一个干净的数据集</h1><a id = \"2\" ></a>\n",
    "\n",
    "Kaggle 数据集是我们要使用的干净数据集的最佳来源之一 [Twitter US Airline Sentiment](https://www.kaggle.com/crowdflower/twitter-airline-sentiment) \n"
   ]
  },
  {
   "cell_type": "code",
   "execution_count": 2,
   "metadata": {
    "execution": {
     "iopub.execute_input": "2021-12-07T14:22:10.086920Z",
     "iopub.status.busy": "2021-12-07T14:22:10.086133Z",
     "iopub.status.idle": "2021-12-07T14:22:10.245386Z",
     "shell.execute_reply": "2021-12-07T14:22:10.244778Z",
     "shell.execute_reply.started": "2021-12-07T13:17:18.517214Z"
    },
    "papermill": {
     "duration": 0.233149,
     "end_time": "2021-12-07T14:22:10.245531",
     "exception": false,
     "start_time": "2021-12-07T14:22:10.012382",
     "status": "completed"
    },
    "tags": []
   },
   "outputs": [],
   "source": [
    "clean_data = pd.read_csv(\"../input/twitter-airline-sentiment/Tweets.csv\")"
   ]
  },
  {
   "cell_type": "code",
   "execution_count": 3,
   "metadata": {
    "execution": {
     "iopub.execute_input": "2021-12-07T14:22:10.387459Z",
     "iopub.status.busy": "2021-12-07T14:22:10.386765Z",
     "iopub.status.idle": "2021-12-07T14:22:10.413495Z",
     "shell.execute_reply": "2021-12-07T14:22:10.414124Z",
     "shell.execute_reply.started": "2021-12-07T13:17:18.663265Z"
    },
    "papermill": {
     "duration": 0.10019,
     "end_time": "2021-12-07T14:22:10.414298",
     "exception": false,
     "start_time": "2021-12-07T14:22:10.314108",
     "status": "completed"
    },
    "tags": []
   },
   "outputs": [
    {
     "data": {
      "text/html": [
       "<div>\n",
       "<style scoped>\n",
       "    .dataframe tbody tr th:only-of-type {\n",
       "        vertical-align: middle;\n",
       "    }\n",
       "\n",
       "    .dataframe tbody tr th {\n",
       "        vertical-align: top;\n",
       "    }\n",
       "\n",
       "    .dataframe thead th {\n",
       "        text-align: right;\n",
       "    }\n",
       "</style>\n",
       "<table border=\"1\" class=\"dataframe\">\n",
       "  <thead>\n",
       "    <tr style=\"text-align: right;\">\n",
       "      <th></th>\n",
       "      <th>tweet_id</th>\n",
       "      <th>airline_sentiment</th>\n",
       "      <th>airline_sentiment_confidence</th>\n",
       "      <th>negativereason</th>\n",
       "      <th>negativereason_confidence</th>\n",
       "      <th>airline</th>\n",
       "      <th>airline_sentiment_gold</th>\n",
       "      <th>name</th>\n",
       "      <th>negativereason_gold</th>\n",
       "      <th>retweet_count</th>\n",
       "      <th>text</th>\n",
       "      <th>tweet_coord</th>\n",
       "      <th>tweet_created</th>\n",
       "      <th>tweet_location</th>\n",
       "      <th>user_timezone</th>\n",
       "    </tr>\n",
       "  </thead>\n",
       "  <tbody>\n",
       "    <tr>\n",
       "      <th>0</th>\n",
       "      <td>570306133677760513</td>\n",
       "      <td>neutral</td>\n",
       "      <td>1.0000</td>\n",
       "      <td>NaN</td>\n",
       "      <td>NaN</td>\n",
       "      <td>Virgin America</td>\n",
       "      <td>NaN</td>\n",
       "      <td>cairdin</td>\n",
       "      <td>NaN</td>\n",
       "      <td>0</td>\n",
       "      <td>@VirginAmerica What @dhepburn said.</td>\n",
       "      <td>NaN</td>\n",
       "      <td>2015-02-24 11:35:52 -0800</td>\n",
       "      <td>NaN</td>\n",
       "      <td>Eastern Time (US &amp; Canada)</td>\n",
       "    </tr>\n",
       "    <tr>\n",
       "      <th>1</th>\n",
       "      <td>570301130888122368</td>\n",
       "      <td>positive</td>\n",
       "      <td>0.3486</td>\n",
       "      <td>NaN</td>\n",
       "      <td>0.0000</td>\n",
       "      <td>Virgin America</td>\n",
       "      <td>NaN</td>\n",
       "      <td>jnardino</td>\n",
       "      <td>NaN</td>\n",
       "      <td>0</td>\n",
       "      <td>@VirginAmerica plus you've added commercials t...</td>\n",
       "      <td>NaN</td>\n",
       "      <td>2015-02-24 11:15:59 -0800</td>\n",
       "      <td>NaN</td>\n",
       "      <td>Pacific Time (US &amp; Canada)</td>\n",
       "    </tr>\n",
       "    <tr>\n",
       "      <th>2</th>\n",
       "      <td>570301083672813571</td>\n",
       "      <td>neutral</td>\n",
       "      <td>0.6837</td>\n",
       "      <td>NaN</td>\n",
       "      <td>NaN</td>\n",
       "      <td>Virgin America</td>\n",
       "      <td>NaN</td>\n",
       "      <td>yvonnalynn</td>\n",
       "      <td>NaN</td>\n",
       "      <td>0</td>\n",
       "      <td>@VirginAmerica I didn't today... Must mean I n...</td>\n",
       "      <td>NaN</td>\n",
       "      <td>2015-02-24 11:15:48 -0800</td>\n",
       "      <td>Lets Play</td>\n",
       "      <td>Central Time (US &amp; Canada)</td>\n",
       "    </tr>\n",
       "    <tr>\n",
       "      <th>3</th>\n",
       "      <td>570301031407624196</td>\n",
       "      <td>negative</td>\n",
       "      <td>1.0000</td>\n",
       "      <td>Bad Flight</td>\n",
       "      <td>0.7033</td>\n",
       "      <td>Virgin America</td>\n",
       "      <td>NaN</td>\n",
       "      <td>jnardino</td>\n",
       "      <td>NaN</td>\n",
       "      <td>0</td>\n",
       "      <td>@VirginAmerica it's really aggressive to blast...</td>\n",
       "      <td>NaN</td>\n",
       "      <td>2015-02-24 11:15:36 -0800</td>\n",
       "      <td>NaN</td>\n",
       "      <td>Pacific Time (US &amp; Canada)</td>\n",
       "    </tr>\n",
       "    <tr>\n",
       "      <th>4</th>\n",
       "      <td>570300817074462722</td>\n",
       "      <td>negative</td>\n",
       "      <td>1.0000</td>\n",
       "      <td>Can't Tell</td>\n",
       "      <td>1.0000</td>\n",
       "      <td>Virgin America</td>\n",
       "      <td>NaN</td>\n",
       "      <td>jnardino</td>\n",
       "      <td>NaN</td>\n",
       "      <td>0</td>\n",
       "      <td>@VirginAmerica and it's a really big bad thing...</td>\n",
       "      <td>NaN</td>\n",
       "      <td>2015-02-24 11:14:45 -0800</td>\n",
       "      <td>NaN</td>\n",
       "      <td>Pacific Time (US &amp; Canada)</td>\n",
       "    </tr>\n",
       "  </tbody>\n",
       "</table>\n",
       "</div>"
      ],
      "text/plain": [
       "             tweet_id airline_sentiment  airline_sentiment_confidence  \\\n",
       "0  570306133677760513           neutral                        1.0000   \n",
       "1  570301130888122368          positive                        0.3486   \n",
       "2  570301083672813571           neutral                        0.6837   \n",
       "3  570301031407624196          negative                        1.0000   \n",
       "4  570300817074462722          negative                        1.0000   \n",
       "\n",
       "  negativereason  negativereason_confidence         airline  \\\n",
       "0            NaN                        NaN  Virgin America   \n",
       "1            NaN                     0.0000  Virgin America   \n",
       "2            NaN                        NaN  Virgin America   \n",
       "3     Bad Flight                     0.7033  Virgin America   \n",
       "4     Can't Tell                     1.0000  Virgin America   \n",
       "\n",
       "  airline_sentiment_gold        name negativereason_gold  retweet_count  \\\n",
       "0                    NaN     cairdin                 NaN              0   \n",
       "1                    NaN    jnardino                 NaN              0   \n",
       "2                    NaN  yvonnalynn                 NaN              0   \n",
       "3                    NaN    jnardino                 NaN              0   \n",
       "4                    NaN    jnardino                 NaN              0   \n",
       "\n",
       "                                                text tweet_coord  \\\n",
       "0                @VirginAmerica What @dhepburn said.         NaN   \n",
       "1  @VirginAmerica plus you've added commercials t...         NaN   \n",
       "2  @VirginAmerica I didn't today... Must mean I n...         NaN   \n",
       "3  @VirginAmerica it's really aggressive to blast...         NaN   \n",
       "4  @VirginAmerica and it's a really big bad thing...         NaN   \n",
       "\n",
       "               tweet_created tweet_location               user_timezone  \n",
       "0  2015-02-24 11:35:52 -0800            NaN  Eastern Time (US & Canada)  \n",
       "1  2015-02-24 11:15:59 -0800            NaN  Pacific Time (US & Canada)  \n",
       "2  2015-02-24 11:15:48 -0800      Lets Play  Central Time (US & Canada)  \n",
       "3  2015-02-24 11:15:36 -0800            NaN  Pacific Time (US & Canada)  \n",
       "4  2015-02-24 11:14:45 -0800            NaN  Pacific Time (US & Canada)  "
      ]
     },
     "execution_count": 3,
     "metadata": {},
     "output_type": "execute_result"
    }
   ],
   "source": [
    "clean_data.head()"
   ]
  },
  {
   "cell_type": "code",
   "execution_count": 4,
   "metadata": {
    "execution": {
     "iopub.execute_input": "2021-12-07T14:22:10.558837Z",
     "iopub.status.busy": "2021-12-07T14:22:10.558114Z",
     "iopub.status.idle": "2021-12-07T14:22:10.596904Z",
     "shell.execute_reply": "2021-12-07T14:22:10.597432Z",
     "shell.execute_reply.started": "2021-12-07T13:17:18.694501Z"
    },
    "papermill": {
     "duration": 0.113262,
     "end_time": "2021-12-07T14:22:10.597621",
     "exception": false,
     "start_time": "2021-12-07T14:22:10.484359",
     "status": "completed"
    },
    "tags": []
   },
   "outputs": [
    {
     "name": "stdout",
     "output_type": "stream",
     "text": [
      "<class 'pandas.core.frame.DataFrame'>\n",
      "RangeIndex: 14640 entries, 0 to 14639\n",
      "Data columns (total 15 columns):\n",
      " #   Column                        Non-Null Count  Dtype  \n",
      "---  ------                        --------------  -----  \n",
      " 0   tweet_id                      14640 non-null  int64  \n",
      " 1   airline_sentiment             14640 non-null  object \n",
      " 2   airline_sentiment_confidence  14640 non-null  float64\n",
      " 3   negativereason                9178 non-null   object \n",
      " 4   negativereason_confidence     10522 non-null  float64\n",
      " 5   airline                       14640 non-null  object \n",
      " 6   airline_sentiment_gold        40 non-null     object \n",
      " 7   name                          14640 non-null  object \n",
      " 8   negativereason_gold           32 non-null     object \n",
      " 9   retweet_count                 14640 non-null  int64  \n",
      " 10  text                          14640 non-null  object \n",
      " 11  tweet_coord                   1019 non-null   object \n",
      " 12  tweet_created                 14640 non-null  object \n",
      " 13  tweet_location                9907 non-null   object \n",
      " 14  user_timezone                 9820 non-null   object \n",
      "dtypes: float64(2), int64(2), object(11)\n",
      "memory usage: 1.7+ MB\n"
     ]
    }
   ],
   "source": [
    "clean_data.info()"
   ]
  },
  {
   "cell_type": "code",
   "execution_count": 5,
   "metadata": {
    "execution": {
     "iopub.execute_input": "2021-12-07T14:22:10.740471Z",
     "iopub.status.busy": "2021-12-07T14:22:10.739435Z",
     "iopub.status.idle": "2021-12-07T14:22:10.972813Z",
     "shell.execute_reply": "2021-12-07T14:22:10.973327Z",
     "shell.execute_reply.started": "2021-12-07T13:17:18.735777Z"
    },
    "papermill": {
     "duration": 0.306738,
     "end_time": "2021-12-07T14:22:10.973515",
     "exception": false,
     "start_time": "2021-12-07T14:22:10.666777",
     "status": "completed"
    },
    "tags": []
   },
   "outputs": [
    {
     "data": {
      "text/plain": [
       "<AxesSubplot:xlabel='airline_sentiment', ylabel='count'>"
      ]
     },
     "execution_count": 5,
     "metadata": {},
     "output_type": "execute_result"
    },
    {
     "data": {
      "image/png": "[encoded data removed]",
      "text/plain": [
       "<Figure size 432x288 with 1 Axes>"
      ]
     },
     "metadata": {
      "needs_background": "light"
     },
     "output_type": "display_data"
    }
   ],
   "source": [
    "sns.countplot(x=\"airline_sentiment\", data=clean_data)"
   ]
  },
  {
   "cell_type": "markdown",
   "metadata": {
    "papermill": {
     "duration": 0.072146,
     "end_time": "2021-12-07T14:22:11.116201",
     "exception": false,
     "start_time": "2021-12-07T14:22:11.044055",
     "status": "completed"
    },
    "tags": []
   },
   "source": [
    "<h1  style=\"text-align: center\" class=\"list-group-item list-group-item-action active\">基础文本预处理</h1><a id = \"3\" ></a>\n",
    "\n",
    "文本预处理步骤包括一些基本任务，以进一步清理可用的文本数据. 这个流程包括:-\n",
    "\n",
    "**1. Stop-Word 移除** : 在英语中，如a、an、the、as、In、on等词被视为停止词，因此根据我们的要求，我们可以删除它们以减少词汇量，因为这些词没有特定的含义\n",
    "\n",
    "**2. Lower 转换** : 将所有单词转换为小写，因为大写或小写可能不会对问题产生影响。并且，这样也可以减小词表的大小\n",
    "\n",
    "**3. Stemming** : 词干处理是指删除后缀并将一个词简化为某种基本形式的过程，这样该词的所有不同变体都可以用相同的形式表示 (e.g., “walk” and “walking” are both reduced to “walk”).\n",
    "\n",
    "**4. 分词 (Tokenization)** : NLP软件通常通过将文本分解为单词（标记）和句子来分析文本\n",
    "\n",
    "文本的预处理并不是本笔记本的主要目标，这就是为什么我只简单介绍几个基本步骤。"
   ]
  },
  {
   "cell_type": "code",
   "execution_count": 6,
   "metadata": {
    "execution": {
     "iopub.execute_input": "2021-12-07T14:22:11.266128Z",
     "iopub.status.busy": "2021-12-07T14:22:11.265361Z",
     "iopub.status.idle": "2021-12-07T14:22:11.267682Z",
     "shell.execute_reply": "2021-12-07T14:22:11.268298Z",
     "shell.execute_reply.started": "2021-12-07T13:17:18.964893Z"
    },
    "papermill": {
     "duration": 0.080846,
     "end_time": "2021-12-07T14:22:11.268478",
     "exception": false,
     "start_time": "2021-12-07T14:22:11.187632",
     "status": "completed"
    },
    "tags": []
   },
   "outputs": [],
   "source": [
    "# First of all let's drop the columns which we don't required\n",
    "\n",
    "waste_col = [\n",
    "    \"tweet_id\",\n",
    "    \"airline_sentiment_confidence\",\n",
    "    \"negativereason\",\n",
    "    \"negativereason_confidence\",\n",
    "    \"airline\",\n",
    "    \"airline_sentiment_gold\",\n",
    "    \"name\",\n",
    "    \"negativereason_gold\",\n",
    "    \"retweet_count\",\n",
    "    \"tweet_coord\",\n",
    "    \"tweet_created\",\n",
    "    \"tweet_location\",\n",
    "    \"user_timezone\",\n",
    "]\n",
    "\n",
    "data = clean_data.drop(waste_col, axis=1)"
   ]
  },
  {
   "cell_type": "code",
   "execution_count": 7,
   "metadata": {
    "execution": {
     "iopub.execute_input": "2021-12-07T14:22:11.418865Z",
     "iopub.status.busy": "2021-12-07T14:22:11.418160Z",
     "iopub.status.idle": "2021-12-07T14:22:11.421007Z",
     "shell.execute_reply": "2021-12-07T14:22:11.421498Z",
     "shell.execute_reply.started": "2021-12-07T13:17:18.972057Z"
    },
    "papermill": {
     "duration": 0.082756,
     "end_time": "2021-12-07T14:22:11.421681",
     "exception": false,
     "start_time": "2021-12-07T14:22:11.338925",
     "status": "completed"
    },
    "tags": []
   },
   "outputs": [
    {
     "data": {
      "text/html": [
       "<div>\n",
       "<style scoped>\n",
       "    .dataframe tbody tr th:only-of-type {\n",
       "        vertical-align: middle;\n",
       "    }\n",
       "\n",
       "    .dataframe tbody tr th {\n",
       "        vertical-align: top;\n",
       "    }\n",
       "\n",
       "    .dataframe thead th {\n",
       "        text-align: right;\n",
       "    }\n",
       "</style>\n",
       "<table border=\"1\" class=\"dataframe\">\n",
       "  <thead>\n",
       "    <tr style=\"text-align: right;\">\n",
       "      <th></th>\n",
       "      <th>airline_sentiment</th>\n",
       "      <th>text</th>\n",
       "    </tr>\n",
       "  </thead>\n",
       "  <tbody>\n",
       "    <tr>\n",
       "      <th>0</th>\n",
       "      <td>neutral</td>\n",
       "      <td>@VirginAmerica What @dhepburn said.</td>\n",
       "    </tr>\n",
       "    <tr>\n",
       "      <th>1</th>\n",
       "      <td>positive</td>\n",
       "      <td>@VirginAmerica plus you've added commercials t...</td>\n",
       "    </tr>\n",
       "    <tr>\n",
       "      <th>2</th>\n",
       "      <td>neutral</td>\n",
       "      <td>@VirginAmerica I didn't today... Must mean I n...</td>\n",
       "    </tr>\n",
       "    <tr>\n",
       "      <th>3</th>\n",
       "      <td>negative</td>\n",
       "      <td>@VirginAmerica it's really aggressive to blast...</td>\n",
       "    </tr>\n",
       "    <tr>\n",
       "      <th>4</th>\n",
       "      <td>negative</td>\n",
       "      <td>@VirginAmerica and it's a really big bad thing...</td>\n",
       "    </tr>\n",
       "  </tbody>\n",
       "</table>\n",
       "</div>"
      ],
      "text/plain": [
       "  airline_sentiment                                               text\n",
       "0           neutral                @VirginAmerica What @dhepburn said.\n",
       "1          positive  @VirginAmerica plus you've added commercials t...\n",
       "2           neutral  @VirginAmerica I didn't today... Must mean I n...\n",
       "3          negative  @VirginAmerica it's really aggressive to blast...\n",
       "4          negative  @VirginAmerica and it's a really big bad thing..."
      ]
     },
     "execution_count": 7,
     "metadata": {},
     "output_type": "execute_result"
    }
   ],
   "source": [
    "data.head()"
   ]
  },
  {
   "cell_type": "code",
   "execution_count": 8,
   "metadata": {
    "execution": {
     "iopub.execute_input": "2021-12-07T14:22:11.569737Z",
     "iopub.status.busy": "2021-12-07T14:22:11.568997Z",
     "iopub.status.idle": "2021-12-07T14:22:11.571009Z",
     "shell.execute_reply": "2021-12-07T14:22:11.571526Z",
     "shell.execute_reply.started": "2021-12-07T13:17:18.992147Z"
    },
    "papermill": {
     "duration": 0.079454,
     "end_time": "2021-12-07T14:22:11.571716",
     "exception": false,
     "start_time": "2021-12-07T14:22:11.492262",
     "status": "completed"
    },
    "tags": []
   },
   "outputs": [],
   "source": [
    "def sentiment(x):\n",
    "    if x == \"positive\":\n",
    "        return 1\n",
    "    elif x == \"negative\":\n",
    "        return -1\n",
    "    else:\n",
    "        return 0"
   ]
  },
  {
   "cell_type": "code",
   "execution_count": 9,
   "metadata": {
    "execution": {
     "iopub.execute_input": "2021-12-07T14:22:11.717874Z",
     "iopub.status.busy": "2021-12-07T14:22:11.716842Z",
     "iopub.status.idle": "2021-12-07T14:22:11.852609Z",
     "shell.execute_reply": "2021-12-07T14:22:11.853330Z",
     "shell.execute_reply.started": "2021-12-07T13:17:19.000278Z"
    },
    "papermill": {
     "duration": 0.210989,
     "end_time": "2021-12-07T14:22:11.853570",
     "exception": false,
     "start_time": "2021-12-07T14:22:11.642581",
     "status": "completed"
    },
    "tags": []
   },
   "outputs": [
    {
     "name": "stdout",
     "output_type": "stream",
     "text": [
      "[nltk_data] Downloading package stopwords to /usr/share/nltk_data...\n",
      "[nltk_data]   Package stopwords is already up-to-date!\n"
     ]
    }
   ],
   "source": [
    "nltk.download(\"stopwords\")\n",
    "from nltk.corpus import stopwords\n",
    "from nltk.stem import SnowballStemmer\n",
    "from nltk.tokenize import RegexpTokenizer\n",
    "\n",
    "stopwords = stopwords.words(\"english\")\n",
    "stemmer = SnowballStemmer(\"english\")\n",
    "tokenizer = RegexpTokenizer(r\"\\w+\")\n",
    "# As this dataset is fetched from twitter so it has lots of people tag in tweets\n",
    "# we will remove them\n",
    "tags = r\"@\\w*\"\n",
    "\n",
    "\n",
    "def preprocess_text(sentence, stem=False):\n",
    "\n",
    "    sentence = [re.sub(tags, \"\", sentence)]\n",
    "    text = []\n",
    "    for word in sentence:\n",
    "\n",
    "        if word not in stopwords:\n",
    "\n",
    "            if stem:\n",
    "                text.append(stemmer.stem(word).lower())\n",
    "            else:\n",
    "                text.append(word.lower())\n",
    "    return tokenizer.tokenize(\" \".join(text))"
   ]
  },
  {
   "cell_type": "code",
   "execution_count": 10,
   "metadata": {
    "execution": {
     "iopub.execute_input": "2021-12-07T14:22:12.004808Z",
     "iopub.status.busy": "2021-12-07T14:22:12.004036Z",
     "iopub.status.idle": "2021-12-07T14:22:12.008748Z",
     "shell.execute_reply": "2021-12-07T14:22:12.009714Z",
     "shell.execute_reply.started": "2021-12-07T13:17:19.103723Z"
    },
    "papermill": {
     "duration": 0.082926,
     "end_time": "2021-12-07T14:22:12.010037",
     "exception": false,
     "start_time": "2021-12-07T14:22:11.927111",
     "status": "completed"
    },
    "tags": []
   },
   "outputs": [
    {
     "name": "stdout",
     "output_type": "stream",
     "text": [
      "Orignal Text : @VirginAmerica I &lt;3 pretty graphics. so much better than minimal iconography. :D\n",
      "\n",
      "Preprocessed Text : ['i', 'lt', '3', 'pretty', 'graphics', 'so', 'much', 'better', 'than', 'minimal', 'iconography', 'd']\n"
     ]
    }
   ],
   "source": [
    "print(f\"Orignal Text : {data.text[11]}\")\n",
    "print()\n",
    "print(f\"Preprocessed Text : {preprocess_text(data.text[11])}\")"
   ]
  },
  {
   "cell_type": "code",
   "execution_count": 11,
   "metadata": {
    "execution": {
     "iopub.execute_input": "2021-12-07T14:22:12.161539Z",
     "iopub.status.busy": "2021-12-07T14:22:12.159924Z",
     "iopub.status.idle": "2021-12-07T14:22:12.371282Z",
     "shell.execute_reply": "2021-12-07T14:22:12.371809Z",
     "shell.execute_reply.started": "2021-12-07T13:17:19.112119Z"
    },
    "papermill": {
     "duration": 0.286869,
     "end_time": "2021-12-07T14:22:12.372021",
     "exception": false,
     "start_time": "2021-12-07T14:22:12.085152",
     "status": "completed"
    },
    "tags": []
   },
   "outputs": [
    {
     "data": {
      "text/html": [
       "<div>\n",
       "<style scoped>\n",
       "    .dataframe tbody tr th:only-of-type {\n",
       "        vertical-align: middle;\n",
       "    }\n",
       "\n",
       "    .dataframe tbody tr th {\n",
       "        vertical-align: top;\n",
       "    }\n",
       "\n",
       "    .dataframe thead th {\n",
       "        text-align: right;\n",
       "    }\n",
       "</style>\n",
       "<table border=\"1\" class=\"dataframe\">\n",
       "  <thead>\n",
       "    <tr style=\"text-align: right;\">\n",
       "      <th></th>\n",
       "      <th>airline_sentiment</th>\n",
       "      <th>text</th>\n",
       "    </tr>\n",
       "  </thead>\n",
       "  <tbody>\n",
       "    <tr>\n",
       "      <th>0</th>\n",
       "      <td>neutral</td>\n",
       "      <td>[what, said]</td>\n",
       "    </tr>\n",
       "    <tr>\n",
       "      <th>1</th>\n",
       "      <td>positive</td>\n",
       "      <td>[plus, you, ve, added, commercials, to, the, e...</td>\n",
       "    </tr>\n",
       "    <tr>\n",
       "      <th>2</th>\n",
       "      <td>neutral</td>\n",
       "      <td>[i, didn, t, today, must, mean, i, need, to, t...</td>\n",
       "    </tr>\n",
       "    <tr>\n",
       "      <th>3</th>\n",
       "      <td>negative</td>\n",
       "      <td>[it, s, really, aggressive, to, blast, obnoxio...</td>\n",
       "    </tr>\n",
       "    <tr>\n",
       "      <th>4</th>\n",
       "      <td>negative</td>\n",
       "      <td>[and, it, s, a, really, big, bad, thing, about...</td>\n",
       "    </tr>\n",
       "  </tbody>\n",
       "</table>\n",
       "</div>"
      ],
      "text/plain": [
       "  airline_sentiment                                               text\n",
       "0           neutral                                       [what, said]\n",
       "1          positive  [plus, you, ve, added, commercials, to, the, e...\n",
       "2           neutral  [i, didn, t, today, must, mean, i, need, to, t...\n",
       "3          negative  [it, s, really, aggressive, to, blast, obnoxio...\n",
       "4          negative  [and, it, s, a, really, big, bad, thing, about..."
      ]
     },
     "execution_count": 11,
     "metadata": {},
     "output_type": "execute_result"
    }
   ],
   "source": [
    "data.text = data.text.map(preprocess_text)\n",
    "data.head()"
   ]
  },
  {
   "cell_type": "markdown",
   "metadata": {
    "papermill": {
     "duration": 0.07431,
     "end_time": "2021-12-07T14:22:12.520458",
     "exception": false,
     "start_time": "2021-12-07T14:22:12.446148",
     "status": "completed"
    },
    "tags": []
   },
   "source": [
    "现在我们已经对文本数据进行了预处理，所以现在我们可以在本笔记本中进一步讨论，并详细讨论各种文本表示方法。"
   ]
  },
  {
   "cell_type": "markdown",
   "metadata": {
    "papermill": {
     "duration": 0.072323,
     "end_time": "2021-12-07T14:22:12.670810",
     "exception": false,
     "start_time": "2021-12-07T14:22:12.598487",
     "status": "completed"
    },
    "tags": []
   },
   "source": [
    "<h1  style=\"text-align: center\" class=\"list-group-item list-group-item-action active\">One-Hot 编码</h1><a id = \"4\" ></a>\n",
    "\n",
    "\n",
    "在 one-hot 编码中, 每一个在词表 (corpus) 中的单词 w 被分配一个独有的 ID (wid)， 它是一个介于 1 到 |V| 之间的数字，这里 V 是词典的大小. 然后，每个字由0和1的V维二进制向量表示。 这是通过|V|维向量来完成的，该向量填充了除索引外的所有0，其中index=wid。在这个索引中，我们简单地将其设为1。 然后将单个单词的表示组合以形成句子表示。\n",
    "\n",
    "看一个例子\n",
    "\n",
    "![](https://miro.medium.com/max/886/1*_da_YknoUuryRheNS-SYWQ.png)"
   ]
  },
  {
   "cell_type": "code",
   "execution_count": 12,
   "metadata": {
    "execution": {
     "iopub.execute_input": "2021-12-07T14:22:12.818949Z",
     "iopub.status.busy": "2021-12-07T14:22:12.818244Z",
     "iopub.status.idle": "2021-12-07T14:22:12.821795Z",
     "shell.execute_reply": "2021-12-07T14:22:12.822317Z",
     "shell.execute_reply.started": "2021-12-07T13:17:19.468086Z"
    },
    "papermill": {
     "duration": 0.079496,
     "end_time": "2021-12-07T14:22:12.822488",
     "exception": false,
     "start_time": "2021-12-07T14:22:12.742992",
     "status": "completed"
    },
    "tags": []
   },
   "outputs": [],
   "source": [
    "# this is an example vocabulary just to make concept clear\n",
    "sample_vocab = [\"the\", \"cat\", \"sat\", \"on\", \"mat\", \"dog\", \"run\", \"green\", \"tree\"]"
   ]
  },
  {
   "cell_type": "code",
   "execution_count": 13,
   "metadata": {
    "execution": {
     "iopub.execute_input": "2021-12-07T14:22:12.970010Z",
     "iopub.status.busy": "2021-12-07T14:22:12.969337Z",
     "iopub.status.idle": "2021-12-07T14:22:17.704052Z",
     "shell.execute_reply": "2021-12-07T14:22:17.703010Z",
     "shell.execute_reply.started": "2021-12-07T13:17:19.474194Z"
    },
    "papermill": {
     "duration": 4.809595,
     "end_time": "2021-12-07T14:22:17.704275",
     "exception": false,
     "start_time": "2021-12-07T14:22:12.894680",
     "status": "completed"
    },
    "tags": []
   },
   "outputs": [],
   "source": [
    "# vocabulary of words present in dataset\n",
    "data_vocab = []\n",
    "for text in data.text:\n",
    "    for word in text:\n",
    "        if word not in data_vocab:\n",
    "            data_vocab.append(word)"
   ]
  },
  {
   "cell_type": "code",
   "execution_count": 14,
   "metadata": {
    "execution": {
     "iopub.execute_input": "2021-12-07T14:22:17.871363Z",
     "iopub.status.busy": "2021-12-07T14:22:17.870435Z",
     "iopub.status.idle": "2021-12-07T14:22:17.875200Z",
     "shell.execute_reply": "2021-12-07T14:22:17.875690Z",
     "shell.execute_reply.started": "2021-12-07T13:17:24.211031Z"
    },
    "papermill": {
     "duration": 0.08584,
     "end_time": "2021-12-07T14:22:17.875860",
     "exception": false,
     "start_time": "2021-12-07T14:22:17.790020",
     "status": "completed"
    },
    "tags": []
   },
   "outputs": [
    {
     "name": "stdout",
     "output_type": "stream",
     "text": [
      "One Hot Representation for sentence \"the cat sat on the mat\" :\n"
     ]
    },
    {
     "data": {
      "text/plain": [
       "[[0, 0, 0, 0, 0, 0, 0, 0, 1],\n",
       " [1, 0, 0, 0, 0, 0, 0, 0, 0],\n",
       " [0, 1, 0, 0, 0, 0, 0, 0, 0],\n",
       " [0, 0, 1, 0, 0, 0, 0, 0, 0],\n",
       " [0, 0, 0, 0, 0, 0, 0, 0, 1],\n",
       " [0, 0, 0, 1, 0, 0, 0, 0, 0]]"
      ]
     },
     "execution_count": 14,
     "metadata": {},
     "output_type": "execute_result"
    }
   ],
   "source": [
    "# function to return one-hot representation of passed text\n",
    "def get_onehot_representation(text, vocab=data_vocab):\n",
    "    onehot_encoded = []\n",
    "    for word in text:\n",
    "        temp = [0] * len(vocab)\n",
    "        temp[vocab.index(word) - 1] = 1\n",
    "        onehot_encoded.append(temp)\n",
    "    return onehot_encoded\n",
    "\n",
    "\n",
    "print('One Hot Representation for sentence \"the cat sat on the mat\" :')\n",
    "get_onehot_representation([\"the\", \"cat\", \"sat\", \"on\", \"the\", \"mat\"], sample_vocab)"
   ]
  },
  {
   "cell_type": "code",
   "execution_count": 15,
   "metadata": {
    "execution": {
     "iopub.execute_input": "2021-12-07T14:22:18.027795Z",
     "iopub.status.busy": "2021-12-07T14:22:18.027074Z",
     "iopub.status.idle": "2021-12-07T14:22:18.030188Z",
     "shell.execute_reply": "2021-12-07T14:22:18.030685Z",
     "shell.execute_reply.started": "2021-12-07T13:17:24.224048Z"
    },
    "papermill": {
     "duration": 0.082567,
     "end_time": "2021-12-07T14:22:18.030870",
     "exception": false,
     "start_time": "2021-12-07T14:22:17.948303",
     "status": "completed"
    },
    "tags": []
   },
   "outputs": [
    {
     "name": "stdout",
     "output_type": "stream",
     "text": [
      "Length of Vocabulary : 14276\n",
      "Sample of Vocabulary : ['number', 'awaiting', 'return', 'phone', 'call', 'prefer', 'use', 'self', 'service', 'option']\n"
     ]
    }
   ],
   "source": [
    "print(f\"Length of Vocabulary : {len(data_vocab)}\")\n",
    "print(f\"Sample of Vocabulary : {data_vocab[302 : 312]}\")"
   ]
  },
  {
   "cell_type": "markdown",
   "metadata": {
    "papermill": {
     "duration": 0.07211,
     "end_time": "2021-12-07T14:22:18.175781",
     "exception": false,
     "start_time": "2021-12-07T14:22:18.103671",
     "status": "completed"
    },
    "tags": []
   },
   "source": [
    "我们在一个给定的数据集中有14276个不同的单词，因此这意味着一个热编码模式的每个单词表示都将是14276维向量，这意味着这个大得多的表示仅用于单个单词。如果我们考虑一个句子的表示，其中包含20个单词，那么它将用`（20, 14276）`大小的矩阵表示。"
   ]
  },
  {
   "cell_type": "code",
   "execution_count": 16,
   "metadata": {
    "execution": {
     "iopub.execute_input": "2021-12-07T14:22:18.371550Z",
     "iopub.status.busy": "2021-12-07T14:22:18.370111Z",
     "iopub.status.idle": "2021-12-07T14:22:18.375456Z",
     "shell.execute_reply": "2021-12-07T14:22:18.375914Z",
     "shell.execute_reply.started": "2021-12-07T13:17:24.240142Z"
    },
    "papermill": {
     "duration": 0.12788,
     "end_time": "2021-12-07T14:22:18.376127",
     "exception": false,
     "start_time": "2021-12-07T14:22:18.248247",
     "status": "completed"
    },
    "tags": []
   },
   "outputs": [
    {
     "name": "stdout",
     "output_type": "stream",
     "text": [
      "Shapes of a single sentence : (15, 14276)\n"
     ]
    }
   ],
   "source": [
    "sample_one_hot_rep = get_onehot_representation(data.text[7], data_vocab)\n",
    "print(f\"Shapes of a single sentence : {np.array(sample_one_hot_rep).shape}\")"
   ]
  },
  {
   "cell_type": "code",
   "execution_count": 3,
   "metadata": {
    "papermill": {
     "duration": 0.08036,
     "end_time": "2021-12-07T14:22:18.529486",
     "exception": false,
     "start_time": "2021-12-07T14:22:18.449126",
     "status": "completed"
    },
    "tags": []
   },
   "outputs": [],
   "source": [
    "# 句子的 one-hot 表示\n",
    "\n",
    "# data.loc[:, 'one_hot_rep'] = data.loc[:, 'text'].map(get_onehot_representation)\n",
    "\n",
    "# 如果您运行此单元，它将给您一个内存错误"
   ]
  },
  {
   "cell_type": "code",
   "execution_count": 18,
   "metadata": {
    "execution": {
     "iopub.execute_input": "2021-12-07T14:22:18.686726Z",
     "iopub.status.busy": "2021-12-07T14:22:18.685615Z",
     "iopub.status.idle": "2021-12-07T14:22:18.690158Z",
     "shell.execute_reply": "2021-12-07T14:22:18.689593Z",
     "shell.execute_reply.started": "2021-12-07T13:17:24.311020Z"
    },
    "papermill": {
     "duration": 0.087987,
     "end_time": "2021-12-07T14:22:18.690306",
     "exception": false,
     "start_time": "2021-12-07T14:22:18.602319",
     "status": "completed"
    },
    "tags": []
   },
   "outputs": [
    {
     "data": {
      "text/html": [
       "<div>\n",
       "<style scoped>\n",
       "    .dataframe tbody tr th:only-of-type {\n",
       "        vertical-align: middle;\n",
       "    }\n",
       "\n",
       "    .dataframe tbody tr th {\n",
       "        vertical-align: top;\n",
       "    }\n",
       "\n",
       "    .dataframe thead th {\n",
       "        text-align: right;\n",
       "    }\n",
       "</style>\n",
       "<table border=\"1\" class=\"dataframe\">\n",
       "  <thead>\n",
       "    <tr style=\"text-align: right;\">\n",
       "      <th></th>\n",
       "      <th>airline_sentiment</th>\n",
       "      <th>text</th>\n",
       "    </tr>\n",
       "  </thead>\n",
       "  <tbody>\n",
       "    <tr>\n",
       "      <th>0</th>\n",
       "      <td>neutral</td>\n",
       "      <td>[what, said]</td>\n",
       "    </tr>\n",
       "    <tr>\n",
       "      <th>1</th>\n",
       "      <td>positive</td>\n",
       "      <td>[plus, you, ve, added, commercials, to, the, e...</td>\n",
       "    </tr>\n",
       "    <tr>\n",
       "      <th>2</th>\n",
       "      <td>neutral</td>\n",
       "      <td>[i, didn, t, today, must, mean, i, need, to, t...</td>\n",
       "    </tr>\n",
       "    <tr>\n",
       "      <th>3</th>\n",
       "      <td>negative</td>\n",
       "      <td>[it, s, really, aggressive, to, blast, obnoxio...</td>\n",
       "    </tr>\n",
       "    <tr>\n",
       "      <th>4</th>\n",
       "      <td>negative</td>\n",
       "      <td>[and, it, s, a, really, big, bad, thing, about...</td>\n",
       "    </tr>\n",
       "  </tbody>\n",
       "</table>\n",
       "</div>"
      ],
      "text/plain": [
       "  airline_sentiment                                               text\n",
       "0           neutral                                       [what, said]\n",
       "1          positive  [plus, you, ve, added, commercials, to, the, e...\n",
       "2           neutral  [i, didn, t, today, must, mean, i, need, to, t...\n",
       "3          negative  [it, s, really, aggressive, to, blast, obnoxio...\n",
       "4          negative  [and, it, s, a, really, big, bad, thing, about..."
      ]
     },
     "execution_count": 18,
     "metadata": {},
     "output_type": "execute_result"
    }
   ],
   "source": [
    "data.head()"
   ]
  },
  {
   "cell_type": "markdown",
   "metadata": {
    "papermill": {
     "duration": 0.073998,
     "end_time": "2021-12-07T14:22:18.838243",
     "exception": false,
     "start_time": "2021-12-07T14:22:18.764245",
     "status": "completed"
    },
    "tags": []
   },
   "source": [
    "One-hot 编码易于理解，易于实现。然而，它有以下列出的许多缺点：\n",
    "\n",
    "1. 一个 one-hot 向量的大小与词汇的大小成正比，如果我们考虑真实世界的词汇大小，它可能以百万为单位，因此我们不能用百万维向量表示单个单词。\n",
    "\n",
    "2. 一个 one-hot 表示不给出文本的固定长度表示，比如，其中包含 32 个单词和 40 个单词的句子具有可变长度表示。但对于大多数学习算法，我们需要相同长度的特征向量。\n",
    "\n",
    "3. one-hot 表示赋予每个词相同的权重，无论该词对任务是否重要。\n",
    "\n",
    "4. one-hot 表示并不像嵌入向量那样以适当的数字方式表示单词的含义。考虑一个示例单词 read，reading 应该具有类似的实值向量表示，但在这种情况下，它们具有不同的表示。\n",
    "\n",
    "5. 假设我们在某篇文章上训练模型，得到10000大小的词汇表，但如果我们在包含习得词汇表中不存在的单词的文本上使用该词汇表会怎么样。这被称为 **超出词表（OOV）** 问题。\n"
   ]
  },
  {
   "cell_type": "markdown",
   "metadata": {
    "papermill": {
     "duration": 0.07376,
     "end_time": "2021-12-07T14:22:18.987246",
     "exception": false,
     "start_time": "2021-12-07T14:22:18.913486",
     "status": "completed"
    },
    "tags": []
   },
   "source": [
    "<h1  style=\"text-align: center\" class=\"list-group-item list-group-item-action active\">词袋表示</h1><a id = \"5\" ></a>\n",
    "\n",
    "词袋（BOW）是一种经典的文本表示技术，广泛应用于自然语言处理，尤其是文本分类问题。它背后的关键思想如下：将所考虑的文本表示为一个单词袋（集合），同时忽略顺序和上下文。\n",
    "\n",
    "和 one-hot 编码类似，BOW 将单词映射到 1 和 |V| 之间的唯一整数 ID。然后将语料库中的每个文档转换为 |V| 维度的向量。向量的第 i 个分量中，i=wid，简单地说就是单词 w 在文档中出现的次数，也就是说，我们简单地通过它们在文档中的出现计数对 V 中的每个单词进行评分。\n",
    "\n",
    "我们看一个例子:\n",
    "\n",
    "假设我们有一个词汇表 **V，由单词-->{the，cat，sat，in，hat，with}** 组成，那么几个句子的单词表示将如下\n",
    "\n",
    "![](https://miro.medium.com/max/1400/1*3IACMnNpwVlCl8kSTJocPA.png)"
   ]
  },
  {
   "cell_type": "code",
   "execution_count": 19,
   "metadata": {
    "execution": {
     "iopub.execute_input": "2021-12-07T14:22:19.277629Z",
     "iopub.status.busy": "2021-12-07T14:22:19.269750Z",
     "iopub.status.idle": "2021-12-07T14:22:19.281592Z",
     "shell.execute_reply": "2021-12-07T14:22:19.280946Z",
     "shell.execute_reply.started": "2021-12-07T13:17:24.331174Z"
    },
    "papermill": {
     "duration": 0.221195,
     "end_time": "2021-12-07T14:22:19.281750",
     "exception": false,
     "start_time": "2021-12-07T14:22:19.060555",
     "status": "completed"
    },
    "tags": []
   },
   "outputs": [
    {
     "name": "stdout",
     "output_type": "stream",
     "text": [
      "Vocabulary mapping for given sample corpus : \n",
      " {'the': 4, 'cat': 0, 'sat': 3, 'in': 2, 'hat': 1, 'with': 5}\n",
      "\n",
      "Bag of word Representation of sentence 'the cat cat sat in the hat'\n",
      "[[2 1 1 1 2 0]]\n"
     ]
    }
   ],
   "source": [
    "from sklearn.feature_extraction.text import CountVectorizer\n",
    "\n",
    "sample_bow = CountVectorizer()\n",
    "\n",
    "# sample_corpus = [['the', 'cat', 'sat'],\n",
    "#                  ['the', 'cat', 'sat', 'in', 'the', 'hat'],\n",
    "#                  ['the', 'cat', 'with', 'the', 'hat']]\n",
    "\n",
    "sample_corpus = [\"the cat sat\", \"the cat sat in the hat\", \"the cat with the hat\"]\n",
    "\n",
    "sample_bow.fit(sample_corpus)\n",
    "\n",
    "\n",
    "def get_bow_representation(text):\n",
    "    return sample_bow.transform(text)\n",
    "\n",
    "\n",
    "print(f\"Vocabulary mapping for given sample corpus : \\n {sample_bow.vocabulary_}\")\n",
    "print(\"\\nBag of word Representation of sentence 'the cat cat sat in the hat'\")\n",
    "print(get_bow_representation([\"the cat cat sat in the hat\"]).toarray())"
   ]
  },
  {
   "cell_type": "markdown",
   "metadata": {
    "papermill": {
     "duration": 0.073638,
     "end_time": "2021-12-07T14:22:19.431023",
     "exception": false,
     "start_time": "2021-12-07T14:22:19.357385",
     "status": "completed"
    },
    "tags": []
   },
   "source": [
    "有时，我们不关心文本中单词的出现频率，我们只想表示文本中是否存在单词。在这种情况下，我们只需使用 binary=True 初始化 CountVector。"
   ]
  },
  {
   "cell_type": "code",
   "execution_count": 20,
   "metadata": {
    "execution": {
     "iopub.execute_input": "2021-12-07T14:22:19.587910Z",
     "iopub.status.busy": "2021-12-07T14:22:19.586810Z",
     "iopub.status.idle": "2021-12-07T14:22:19.592132Z",
     "shell.execute_reply": "2021-12-07T14:22:19.591593Z",
     "shell.execute_reply.started": "2021-12-07T13:17:24.346771Z"
    },
    "papermill": {
     "duration": 0.086886,
     "end_time": "2021-12-07T14:22:19.592276",
     "exception": false,
     "start_time": "2021-12-07T14:22:19.505390",
     "status": "completed"
    },
    "tags": []
   },
   "outputs": [
    {
     "name": "stdout",
     "output_type": "stream",
     "text": [
      "Vacabulary mapping for given sample corpus : \n",
      " {'the': 4, 'cat': 0, 'sat': 3, 'in': 2, 'hat': 1, 'with': 5}\n",
      "\n",
      "Bag of word Representation of sentence 'the the the the cat cat sat in the hat'\n",
      "[[1 1 1 1 1 0]]\n"
     ]
    }
   ],
   "source": [
    "sample_bow = CountVectorizer(binary=True)\n",
    "\n",
    "sample_corpus = [\"the cat sat\", \"the cat sat in the hat\", \"the cat with the hat\"]\n",
    "\n",
    "sample_bow.fit(sample_corpus)\n",
    "\n",
    "\n",
    "def get_bow_representation(text):\n",
    "    return sample_bow.transform(text)\n",
    "\n",
    "\n",
    "print(f\"Vacabulary mapping for given sample corpus : \\n {sample_bow.vocabulary_}\")\n",
    "print(\n",
    "    \"\\nBag of word Representation of sentence 'the the the the cat cat sat in the hat'\"\n",
    ")\n",
    "print(get_bow_representation([\"the the the the cat cat sat in the hat\"]).toarray())"
   ]
  },
  {
   "cell_type": "code",
   "execution_count": 21,
   "metadata": {
    "execution": {
     "iopub.execute_input": "2021-12-07T14:22:19.745364Z",
     "iopub.status.busy": "2021-12-07T14:22:19.744678Z",
     "iopub.status.idle": "2021-12-07T14:22:20.196150Z",
     "shell.execute_reply": "2021-12-07T14:22:20.196698Z",
     "shell.execute_reply.started": "2021-12-07T13:17:24.357825Z"
    },
    "papermill": {
     "duration": 0.530116,
     "end_time": "2021-12-07T14:22:20.196874",
     "exception": false,
     "start_time": "2021-12-07T14:22:19.666758",
     "status": "completed"
    },
    "tags": []
   },
   "outputs": [],
   "source": [
    "# generate bag of word representation for given dataset\n",
    "\n",
    "bow = CountVectorizer()\n",
    "bow_rep = bow.fit_transform(data.loc[:, \"text\"].astype(\"str\"))"
   ]
  },
  {
   "cell_type": "code",
   "execution_count": 22,
   "metadata": {
    "execution": {
     "iopub.execute_input": "2021-12-07T14:22:20.349360Z",
     "iopub.status.busy": "2021-12-07T14:22:20.348686Z",
     "iopub.status.idle": "2021-12-07T14:22:20.351571Z",
     "shell.execute_reply": "2021-12-07T14:22:20.352106Z",
     "shell.execute_reply.started": "2021-12-07T13:17:24.836071Z"
    },
    "papermill": {
     "duration": 0.081172,
     "end_time": "2021-12-07T14:22:20.352304",
     "exception": false,
     "start_time": "2021-12-07T14:22:20.271132",
     "status": "completed"
    },
    "tags": []
   },
   "outputs": [],
   "source": [
    "# intrested one can see vocabulary of given corpus by uncommenting below code line\n",
    "\n",
    "# bow.vocabulary_"
   ]
  },
  {
   "cell_type": "code",
   "execution_count": 23,
   "metadata": {
    "execution": {
     "iopub.execute_input": "2021-12-07T14:22:20.505496Z",
     "iopub.status.busy": "2021-12-07T14:22:20.504824Z",
     "iopub.status.idle": "2021-12-07T14:22:20.952478Z",
     "shell.execute_reply": "2021-12-07T14:22:20.953221Z",
     "shell.execute_reply.started": "2021-12-07T13:17:24.841865Z"
    },
    "papermill": {
     "duration": 0.526904,
     "end_time": "2021-12-07T14:22:20.953452",
     "exception": false,
     "start_time": "2021-12-07T14:22:20.426548",
     "status": "completed"
    },
    "tags": []
   },
   "outputs": [
    {
     "name": "stdout",
     "output_type": "stream",
     "text": [
      "Shape of Bag of word representaion matrix : (14640, 14238)\n"
     ]
    }
   ],
   "source": [
    "print(f\"Shape of Bag of word representaion matrix : {bow_rep.toarray().shape}\")"
   ]
  },
  {
   "cell_type": "markdown",
   "metadata": {
    "papermill": {
     "duration": 0.074945,
     "end_time": "2021-12-07T14:22:21.104849",
     "exception": false,
     "start_time": "2021-12-07T14:22:21.029904",
     "status": "completed"
    },
    "tags": []
   },
   "source": [
    "正如我们所知，one-hot 表示并没有给出文本的固定长度表示，但从上述单元格的输出中，我们可以解释，单词包对于每个单词都有固定长度的向量表示（14238维），但在这种情况下，它也太大了。"
   ]
  },
  {
   "cell_type": "markdown",
   "metadata": {
    "papermill": {
     "duration": 0.073905,
     "end_time": "2021-12-07T14:22:21.253882",
     "exception": false,
     "start_time": "2021-12-07T14:22:21.179977",
     "status": "completed"
    },
    "tags": []
   },
   "source": [
    "**Bag of words(BoW) 编码优势** :\n",
    "\n",
    "1. 就像 one-hot 编码, BoW 很容易理解和实现.\n",
    "\n",
    "2. 使用这种表示法，与具有完全不同单词的文档相比，具有相同单词的文档将在欧几里德空间中具有彼此更接近的向量表示。\n",
    "\n",
    "    woman看看下面的例子 \n",
    "\n",
    "    S1 = \"cat on the mat\" --> BoW Representation --> {0 1 1 0 1 0 1} <br>\n",
    "    S2 = \"mat on the cat\" --> BoW Representation --> {0 1 1 0 1 0 1} <br>\n",
    "    S3 = \"dog in the mat\" --> BoW Representation --> {0 1 0 1 1 1 0} <br>\n",
    "\n",
    "    S1 和 S2 之间的距离为 0，而 S1 和 S3 之间的距离是 2。因此，由 BoW 方案产生的向量空间捕获了文档的语义相似性。因此，如果两个文档具有相似的词汇表，它们在向量空间中会彼此更接近，反之亦然。\n",
    "\n",
    "3. 我们对任意长度的任何句子都有固定长度编码。\n",
    "\n",
    "**Bag of words(BoW) 编码劣势** :\n",
    "\n",
    "1. 向量的大小随着词汇表的大小而增加，在我们的例子中，它是 14238 维的。因此，稀疏性仍然是一个问题。控制它的一种方法是将词汇量限制为 n 个最频繁的单词\n",
    "\n",
    "2. 它没有捕捉到意思相同的不同单词之间的相似性。假设我们有三个文档：“walk”、“walked” 和 “walking”。所有三个文档的弓形向量的间距相等\n",
    "\n",
    "3. 该表示没有任何方法来处理 **超出词表（OOV）** 词（即，在用于构建向量器的语料库中未看到的新词）\n",
    "\n",
    "4. 顾名思义，它是一个单词的“袋子”，在这个表示中，词序信息丢失了。在该方案中，S1 和 S2 将具有相同的表示。\n"
   ]
  },
  {
   "cell_type": "markdown",
   "metadata": {
    "papermill": {
     "duration": 0.074554,
     "end_time": "2021-12-07T14:22:21.402773",
     "exception": false,
     "start_time": "2021-12-07T14:22:21.328219",
     "status": "completed"
    },
    "tags": []
   },
   "source": [
    "<h1  style=\"text-align: center\" class=\"list-group-item list-group-item-action active\">N-Grams 词袋</h1><a id = \"6\" ></a>\n",
    "\n",
    "到目前为止，我们看到的所有表示方案都将单词视为独立的单位。没有短语或词序的概念。bag-of-n-grams（BoN）方法试图解决这一问题。它通过将文本分成 n 个连续单词（或 tokens）的块来实现。这可以帮助我们捕捉一些以前的方法无法做到的上下文。每个块称为n-gram。\n",
    "\n",
    "**可以简单地说，单词袋（BoW）是 n=1 的 n-gram 袋的特例。**\n",
    "\n",
    "因此，语料库词汇 V 只不过是整个文本语料库中所有独特的 n-gram 的集合。然后，语料库中的每个文档由长度为 |V| 的向量表示。该向量仅包含文档中存在的 n-grams 的频率计数，不存在的 n-grams 为零。\n",
    "\n",
    "看看下面的例子\n",
    "\n",
    "![](https://i.stack.imgur.com/8ARA1.png)\n",
    "\n",
    "下面的代码单元显示了一个 BoN 表示的示例，其中考虑了 1-3 个 n-gram 单词特征来表示我们迄今为止使用的语料库。"
   ]
  },
  {
   "cell_type": "code",
   "execution_count": 24,
   "metadata": {
    "execution": {
     "iopub.execute_input": "2021-12-07T14:22:21.559902Z",
     "iopub.status.busy": "2021-12-07T14:22:21.559223Z",
     "iopub.status.idle": "2021-12-07T14:22:21.564233Z",
     "shell.execute_reply": "2021-12-07T14:22:21.564824Z",
     "shell.execute_reply.started": "2021-12-07T13:17:25.300886Z"
    },
    "papermill": {
     "duration": 0.087884,
     "end_time": "2021-12-07T14:22:21.565015",
     "exception": false,
     "start_time": "2021-12-07T14:22:21.477131",
     "status": "completed"
    },
    "tags": []
   },
   "outputs": [
    {
     "name": "stdout",
     "output_type": "stream",
     "text": [
      "Unigram Vocabulary mapping for given sample corpus : \n",
      " {'the': 4, 'cat': 0, 'sat': 3, 'in': 2, 'hat': 1, 'with': 5}\n",
      "\n",
      "Bag of 1-gram (unigram) Representation of sentence 'the cat cat sat in the hat'\n",
      "[[2 1 1 1 2 0]]\n"
     ]
    }
   ],
   "source": [
    "# Bag of 1-gram (unigram)\n",
    "from sklearn.feature_extraction.text import CountVectorizer\n",
    "\n",
    "sample_boN = CountVectorizer(ngram_range=(1, 1))\n",
    "\n",
    "sample_corpus = [\"the cat sat\", \"the cat sat in the hat\", \"the cat with the hat\"]\n",
    "\n",
    "sample_boN.fit(sample_corpus)\n",
    "\n",
    "\n",
    "def get_boN_representation(text):\n",
    "    return sample_boN.transform(text)\n",
    "\n",
    "\n",
    "print(\n",
    "    f\"Unigram Vocabulary mapping for given sample corpus : \\n {sample_boN.vocabulary_}\"\n",
    ")\n",
    "print(\n",
    "    \"\\nBag of 1-gram (unigram) Representation of sentence 'the cat cat sat in the hat'\"\n",
    ")\n",
    "print(get_boN_representation([\"the cat cat sat in the hat\"]).toarray())"
   ]
  },
  {
   "cell_type": "code",
   "execution_count": 25,
   "metadata": {
    "execution": {
     "iopub.execute_input": "2021-12-07T14:22:21.718436Z",
     "iopub.status.busy": "2021-12-07T14:22:21.717771Z",
     "iopub.status.idle": "2021-12-07T14:22:21.725744Z",
     "shell.execute_reply": "2021-12-07T14:22:21.726317Z",
     "shell.execute_reply.started": "2021-12-07T13:17:25.311601Z"
    },
    "papermill": {
     "duration": 0.086755,
     "end_time": "2021-12-07T14:22:21.726496",
     "exception": false,
     "start_time": "2021-12-07T14:22:21.639741",
     "status": "completed"
    },
    "tags": []
   },
   "outputs": [
    {
     "name": "stdout",
     "output_type": "stream",
     "text": [
      "Bigram Vocabulary mapping for given sample corpus : \n",
      " {'the cat': 4, 'cat sat': 0, 'sat in': 3, 'in the': 2, 'the hat': 5, 'cat with': 1, 'with the': 6}\n",
      "\n",
      "Bag of 2-gram (bigram) Representation of sentence 'the cat cat sat in the hat'\n",
      "[[1 0 1 1 1 1 0]]\n"
     ]
    }
   ],
   "source": [
    "# Bag of 2-gram (bigram)\n",
    "from sklearn.feature_extraction.text import CountVectorizer\n",
    "\n",
    "sample_boN = CountVectorizer(ngram_range=(2, 2))\n",
    "\n",
    "sample_corpus = [\"the cat sat\", \"the cat sat in the hat\", \"the cat with the hat\"]\n",
    "\n",
    "sample_boN.fit(sample_corpus)\n",
    "\n",
    "\n",
    "def get_boN_representation(text):\n",
    "    return sample_boN.transform(text)\n",
    "\n",
    "\n",
    "print(\n",
    "    f\"Bigram Vocabulary mapping for given sample corpus : \\n {sample_boN.vocabulary_}\"\n",
    ")\n",
    "print(\n",
    "    \"\\nBag of 2-gram (bigram) Representation of sentence 'the cat cat sat in the hat'\"\n",
    ")\n",
    "print(get_boN_representation([\"the cat cat sat in the hat\"]).toarray())"
   ]
  },
  {
   "cell_type": "code",
   "execution_count": 26,
   "metadata": {
    "execution": {
     "iopub.execute_input": "2021-12-07T14:22:21.885259Z",
     "iopub.status.busy": "2021-12-07T14:22:21.884061Z",
     "iopub.status.idle": "2021-12-07T14:22:21.889664Z",
     "shell.execute_reply": "2021-12-07T14:22:21.890402Z",
     "shell.execute_reply.started": "2021-12-07T13:17:25.325155Z"
    },
    "papermill": {
     "duration": 0.088166,
     "end_time": "2021-12-07T14:22:21.890627",
     "exception": false,
     "start_time": "2021-12-07T14:22:21.802461",
     "status": "completed"
    },
    "tags": []
   },
   "outputs": [
    {
     "name": "stdout",
     "output_type": "stream",
     "text": [
      "Trigram Vocabulary mapping for given sample corpus : \n",
      " {'the cat sat': 4, 'cat sat in': 0, 'sat in the': 3, 'in the hat': 2, 'the cat with': 5, 'cat with the': 1, 'with the hat': 6}\n",
      "\n",
      "Bag of 3-gram (trigram) Representation of sentence 'the cat cat sat in the hat'\n",
      "[[1 0 1 1 0 0 0]]\n"
     ]
    }
   ],
   "source": [
    "# Bag of 3-gram (trigram)\n",
    "from sklearn.feature_extraction.text import CountVectorizer\n",
    "\n",
    "sample_boN = CountVectorizer(ngram_range=(3, 3))\n",
    "\n",
    "sample_corpus = [\"the cat sat\", \"the cat sat in the hat\", \"the cat with the hat\"]\n",
    "\n",
    "sample_boN.fit(sample_corpus)\n",
    "\n",
    "\n",
    "def get_boN_representation(text):\n",
    "    return sample_boN.transform(text)\n",
    "\n",
    "\n",
    "print(\n",
    "    f\"Trigram Vocabulary mapping for given sample corpus : \\n {sample_boN.vocabulary_}\"\n",
    ")\n",
    "print(\n",
    "    \"\\nBag of 3-gram (trigram) Representation of sentence 'the cat cat sat in the hat'\"\n",
    ")\n",
    "print(get_boN_representation([\"the cat cat sat in the hat\"]).toarray())"
   ]
  },
  {
   "cell_type": "markdown",
   "metadata": {
    "papermill": {
     "duration": 0.075393,
     "end_time": "2021-12-07T14:22:22.042863",
     "exception": false,
     "start_time": "2021-12-07T14:22:21.967470",
     "status": "completed"
    },
    "tags": []
   },
   "source": [
    "**下面是 BoN 表示的主要的优点和缺点:**\n",
    "\n",
    "1. 它以 n-gram 的形式捕获一些上下文和词序信息。\n",
    "\n",
    "2. 因此，生成的向量空间可以捕获一些语义相似性。与具有完全不同的 n-gram 的文档相比，具有相同的 n-gram 的文档在欧几里德空间中将具有彼此更接近的向量。\n",
    "\n",
    "3. 随着 n 的增加，维数（由于稀疏性）仅快速增加。\n",
    "\n",
    "4. 它仍然无法解决 **超出词表（OOV）** 的问题。"
   ]
  },
  {
   "attachments": {
    "image-2.png": {
     "image/png": "[encoded data removed]"
    }
   },
   "cell_type": "markdown",
   "metadata": {
    "papermill": {
     "duration": 0.07612,
     "end_time": "2021-12-07T14:22:22.195176",
     "exception": false,
     "start_time": "2021-12-07T14:22:22.119056",
     "status": "completed"
    },
    "tags": []
   },
   "source": [
    "<h1  style=\"text-align: center\" class=\"list-group-item list-group-item-action active\">TF-IDF</h1><a id = \"7\" ></a>\n",
    "\n",
    "在我们迄今为止看到的所有三种方法中，文本中的所有单词都被视为同等重要。没有任何概念认为文档中的某些单词比其他单词更重要。TF-IDF 或术语频率逆文档频率 （term frequency-inverse document frequency）解决了这个问题。它旨在量化给定单词相对于文档和语料库中其他单词的重要性。\n",
    "\n",
    "TF-IDF 背后的直觉如下：如果一个单词 w 在句子 S1 中出现多次，但在语料库中的其余句子 Sn 中没有太多出现，那么单词 w 对句子 S1 一定非常重要。w 的重要性应与其在 S1 中的频率成比例增加（该单词在句子 S1 出现多少次），但同时，它的重要性应与该词在语料库中其他句子Sn 中的频率成比例地降低**从数学上讲，这是使用两个量来捕获的：TF 和 IDF。然后将两者相乘，得到 TF-IDF 分数**\n",
    "\n",
    "**TF (term frequency) 测量术语或单词在给定文档中出现的频率。**\n",
    "\n",
    "TF的数学表达式\n",
    "\n",
    "![image-1.png](http://aimaksen.bslience.cn/tfidf1.jpg)\n",
    "\n",
    "**IDF (inverse document frequency)** m衡量整个语料库中术语的重要性。在计算 TF 时，所有项都具有同等的重要性（权重）。然而，众所周知，像 is、are、am 等停止词并不重要，即使它们经常出现。为了解释这些情况，IDF 对语料库中非常常见的术语进行了加权，并对罕见的术语进行加权。项 TF-IDF 计算如下：\n",
    "\n",
    "!![image-2.png](http://aimaksen.bslience.cn/tfidf2.jpg)\n",
    "\n",
    "TF-IDF 分数是这两个术语的乘积。因此，TF-IDF 得分 ＝ TF*IDF。让我们考虑一个例子。\n",
    "\n",
    "Sentence A = The Car is Driven on the Road <br>\n",
    "Sentence B = The Truck is Driven on the highway <br>\n",
    "\n",
    "TF-IDF 分数的计算如下所示：\n",
    "\n",
    "![](https://cdn-media-1.freecodecamp.org/images/1*q3qYevXqQOjJf6Pwdlx8Mw.png)"
   ]
  },
  {
   "cell_type": "code",
   "execution_count": 27,
   "metadata": {
    "execution": {
     "iopub.execute_input": "2021-12-07T14:22:22.349367Z",
     "iopub.status.busy": "2021-12-07T14:22:22.348641Z",
     "iopub.status.idle": "2021-12-07T14:22:22.362144Z",
     "shell.execute_reply": "2021-12-07T14:22:22.362714Z",
     "shell.execute_reply.started": "2021-12-07T13:17:25.340031Z"
    },
    "papermill": {
     "duration": 0.092602,
     "end_time": "2021-12-07T14:22:22.362886",
     "exception": false,
     "start_time": "2021-12-07T14:22:22.270284",
     "status": "completed"
    },
    "tags": []
   },
   "outputs": [
    {
     "name": "stdout",
     "output_type": "stream",
     "text": [
      "IDF Values for sample corpus : [1.         1.28768207 1.69314718 1.28768207 1.         1.69314718]\n",
      "TF-IDF Representation for sentence 'the cat sat in the hat' :\n",
      "[[0.29903422 0.385061   0.50630894 0.385061   0.59806843 0.        ]]\n"
     ]
    }
   ],
   "source": [
    "from sklearn.feature_extraction.text import TfidfVectorizer\n",
    "\n",
    "tfidf = TfidfVectorizer()\n",
    "\n",
    "sample_corpus = [\"the cat sat\", \"the cat sat in the hat\", \"the cat with the hat\"]\n",
    "tfidf_rep = tfidf.fit_transform(sample_corpus)\n",
    "print(f\"IDF Values for sample corpus : {tfidf.idf_}\")\n",
    "\n",
    "\n",
    "print(\"TF-IDF Representation for sentence 'the cat sat in the hat' :\")\n",
    "print(tfidf.transform([\"the cat sat in the hat\"]).toarray())"
   ]
  },
  {
   "cell_type": "markdown",
   "metadata": {
    "papermill": {
     "duration": 0.076534,
     "end_time": "2021-12-07T14:22:22.515592",
     "exception": false,
     "start_time": "2021-12-07T14:22:22.439058",
     "status": "completed"
    },
    "tags": []
   },
   "source": [
    "与 BoW 类似，我们可以使用 TF-IDF 向量来计算两个文本之间的相似度，使用类似于欧几里得距离或余弦相似度的相似度度量。TF-IDF 是信息等应用场景中常用的表示形式检索和文本分类。然而，尽管 TF-IDF 在捕捉单词之间的相似性方面优于我们之前看到的矢量化方法，**但它仍然受到高维度诅咒的困扰**"
   ]
  },
  {
   "cell_type": "markdown",
   "metadata": {
    "papermill": {
     "duration": 0.076053,
     "end_time": "2021-12-07T14:22:22.668690",
     "exception": false,
     "start_time": "2021-12-07T14:22:22.592637",
     "status": "completed"
    },
    "tags": []
   },
   "source": [
    "**TF-IDF 表示的主要有点和缺点:**\n",
    "\n",
    "1. 与上面讨论的技术相比，它的实现并不那么容易 \n",
    "2. 我们对任意长度的任何句子都有固定长度编码\n",
    "3. 特征向量是高维表示。维度随着词汇的大小而增加\n",
    "4. 它确实捕捉到了这个句子的一些语义。\n",
    "5. 他们也无法处理OOV单词\n",
    "\n",
    "至此，我们结束了基本的矢量化方法。现在，让我们开始研究分布式表示。"
   ]
  },
  {
   "cell_type": "markdown",
   "metadata": {
    "papermill": {
     "duration": 0.076367,
     "end_time": "2021-12-07T14:22:22.821093",
     "exception": false,
     "start_time": "2021-12-07T14:22:22.744726",
     "status": "completed"
    },
    "tags": []
   },
   "source": [
    "<h1  style=\"text-align: center\" class=\"list-group-item list-group-item-action active\">Word2vec 词嵌入 (Word Embeddings)</h1><a id = \"8\" ></a>\n",
    "\n",
    "**Word Embeddings**：它们是单词的实值向量表示，允许具有相同含义的单词具有相似的表示。因此，我们可以说词嵌入是词在实值向量中的意义的投影。\n",
    "\n",
    "Word2vec 是 2013 年发布的一种单词嵌入技术。Word2vec 算法使用神经网络模型从大量文本中学习单词关联。\n",
    "\n",
    "正是词语的表示使具有相同含义的词语具有相似的表示，Word2vec 通过将词语的含义投影到向量空间中来实现这一点，在向量空间中，具有相似含义的词语将倾向于聚集在一起，并且具有非常不同的含义的词语彼此相距很远。\n",
    "\n",
    "**使用预训练 (Pre-trained) word2vec 词嵌入 (word embeddings)** <br>\n",
    "训练自己的单词嵌入是一个非常昂贵的过程（从时间和计算两方面来说）。谢天谢地，在许多情况下，没有必要训练自己的嵌入。有人在大型语料库（如维基百科、新闻文章，甚至整个网络）上训练单词嵌入，并将单词及其相应的向量放到了网络上。这些嵌入可以下载并用于获取所需单词的向量。\n",
    "\n",
    "一些最流行的预训练嵌入是谷歌的 Word2vec、斯坦福的 GloVe 和 Facebook 的 fasttext 嵌入，仅举几个例子。\n",
    "\n",
    "在下面的代码中，cell 演示了如何使用预训练的 word2vec 单词嵌入。"
   ]
  },
  {
   "cell_type": "code",
   "execution_count": 28,
   "metadata": {
    "execution": {
     "iopub.execute_input": "2021-12-07T14:22:22.979037Z",
     "iopub.status.busy": "2021-12-07T14:22:22.978320Z",
     "iopub.status.idle": "2021-12-07T14:23:39.145255Z",
     "shell.execute_reply": "2021-12-07T14:23:39.144489Z",
     "shell.execute_reply.started": "2021-12-07T13:17:25.364940Z"
    },
    "papermill": {
     "duration": 76.248296,
     "end_time": "2021-12-07T14:23:39.145419",
     "exception": false,
     "start_time": "2021-12-07T14:22:22.897123",
     "status": "completed"
    },
    "tags": []
   },
   "outputs": [],
   "source": [
    "from gensim.models import KeyedVectors, Word2Vec\n",
    "\n",
    "pretrained_path = \"../input/googles-trained-word2vec-model-in-python/GoogleNews-vectors-negative300.bin\"\n",
    "\n",
    "Word2VecModel = KeyedVectors.load_word2vec_format(pretrained_path, binary=True)"
   ]
  },
  {
   "cell_type": "markdown",
   "metadata": {
    "papermill": {
     "duration": 0.07589,
     "end_time": "2021-12-07T14:23:39.298193",
     "exception": false,
     "start_time": "2021-12-07T14:23:39.222303",
     "status": "completed"
    },
    "tags": []
   },
   "source": [
    "正如我们所了解的，Word2vec 对于具有相同含义的单词确实具有类似的向量表示，因此让我们检查类似的单词是否为 “good”"
   ]
  },
  {
   "cell_type": "code",
   "execution_count": 29,
   "metadata": {
    "execution": {
     "iopub.execute_input": "2021-12-07T14:23:39.456724Z",
     "iopub.status.busy": "2021-12-07T14:23:39.456027Z",
     "iopub.status.idle": "2021-12-07T14:23:42.585042Z",
     "shell.execute_reply": "2021-12-07T14:23:42.586729Z",
     "shell.execute_reply.started": "2021-12-07T13:18:39.625000Z"
    },
    "papermill": {
     "duration": 3.212874,
     "end_time": "2021-12-07T14:23:42.587205",
     "exception": false,
     "start_time": "2021-12-07T14:23:39.374331",
     "status": "completed"
    },
    "tags": []
   },
   "outputs": [
    {
     "name": "stdout",
     "output_type": "stream",
     "text": [
      "[('great', 0.7291510105133057), ('bad', 0.7190051078796387), ('terrific', 0.6889115571975708), ('decent', 0.6837348341941833), ('nice', 0.6836092472076416), ('excellent', 0.644292950630188), ('fantastic', 0.6407778263092041), ('better', 0.6120728850364685), ('solid', 0.5806034803390503), ('lousy', 0.576420247554779)]\n"
     ]
    }
   ],
   "source": [
    "print(Word2VecModel.most_similar(\"good\"))"
   ]
  },
  {
   "cell_type": "code",
   "execution_count": 30,
   "metadata": {
    "execution": {
     "iopub.execute_input": "2021-12-07T14:23:42.813344Z",
     "iopub.status.busy": "2021-12-07T14:23:42.812394Z",
     "iopub.status.idle": "2021-12-07T14:23:42.816473Z",
     "shell.execute_reply": "2021-12-07T14:23:42.817001Z",
     "shell.execute_reply.started": "2021-12-07T13:18:42.030295Z"
    },
    "papermill": {
     "duration": 0.142583,
     "end_time": "2021-12-07T14:23:42.817179",
     "exception": false,
     "start_time": "2021-12-07T14:23:42.674596",
     "status": "completed"
    },
    "tags": []
   },
   "outputs": [
    {
     "name": "stdout",
     "output_type": "stream",
     "text": [
      "[ 0.04052734  0.0625     -0.01745605  0.07861328  0.03271484 -0.01263428\n",
      "  0.00964355  0.12353516 -0.02148438  0.15234375 -0.05834961 -0.10644531\n",
      "  0.02124023  0.13574219 -0.13183594  0.17675781  0.27148438  0.13769531\n",
      " -0.17382812 -0.14160156 -0.03076172  0.19628906 -0.03295898  0.125\n",
      "  0.25390625  0.12695312 -0.15234375  0.03198242  0.01135254 -0.01361084\n",
      " -0.12890625  0.01019287  0.23925781 -0.08447266  0.140625    0.13085938\n",
      " -0.04516602  0.06494141  0.02539062  0.05615234  0.24609375 -0.20507812\n",
      "  0.23632812 -0.00860596 -0.02294922  0.05078125  0.10644531 -0.03564453\n",
      "  0.08740234 -0.05712891  0.08496094  0.23535156 -0.10107422 -0.03564453\n",
      " -0.04736328  0.04736328 -0.14550781 -0.10986328  0.14746094 -0.23242188\n",
      " -0.07275391  0.19628906 -0.37890625 -0.07226562  0.04833984  0.11914062\n",
      "  0.06103516 -0.12109375 -0.27929688  0.05200195  0.04907227 -0.02709961\n",
      "  0.1328125   0.03369141 -0.32226562  0.04223633 -0.08789062  0.15429688\n",
      "  0.09472656  0.10351562 -0.02856445  0.00128174 -0.00427246  0.24609375\n",
      " -0.05957031 -0.16894531 -0.09619141  0.16796875  0.0133667   0.04882812\n",
      "  0.08349609  0.06347656 -0.00872803 -0.08642578 -0.03857422 -0.08251953\n",
      "  0.15722656  0.22753906 -0.00762939 -0.19921875 -0.06347656  0.12792969\n",
      " -0.06347656 -0.03027344  0.0456543   0.06298828 -0.02526855 -0.06787109\n",
      " -0.01141357 -0.13574219  0.02978516  0.10400391 -0.15917969 -0.08447266\n",
      "  0.29882812 -0.12597656  0.11425781 -0.08105469 -0.09082031 -0.07910156\n",
      " -0.11181641 -0.09619141  0.02770996  0.14257812 -0.26757812 -0.09375\n",
      "  0.03979492 -0.17871094 -0.02819824  0.01464844 -0.31640625 -0.24511719\n",
      " -0.08935547  0.09716797 -0.00964355 -0.14746094  0.15234375  0.21582031\n",
      "  0.05981445  0.23828125 -0.05151367  0.14941406  0.13574219 -0.03222656\n",
      " -0.265625   -0.11181641 -0.23046875 -0.140625    0.25585938 -0.15429688\n",
      "  0.1796875   0.15527344 -0.21582031  0.36328125 -0.1015625   0.04980469\n",
      "  0.07177734 -0.14550781 -0.03198242  0.00952148 -0.12109375  0.12109375\n",
      "  0.09765625  0.07763672  0.3203125  -0.22265625 -0.08447266 -0.10742188\n",
      "  0.11279297 -0.13867188 -0.21875     0.0145874   0.13378906 -0.00921631\n",
      "  0.00921631  0.16894531  0.16894531 -0.078125   -0.00665283  0.03735352\n",
      " -0.10888672 -0.25390625  0.01452637 -0.09716797 -0.19628906 -0.01782227\n",
      " -0.28125    -0.02050781 -0.02905273 -0.09375    -0.17675781  0.21484375\n",
      " -0.05224609 -0.11572266 -0.01977539 -0.10839844 -0.01342773 -0.15332031\n",
      " -0.140625   -0.11816406  0.09228516  0.109375    0.05761719 -0.03466797\n",
      "  0.03564453 -0.12011719 -0.14257812 -0.00072479 -0.06689453  0.11914062\n",
      " -0.10449219  0.07861328 -0.12792969  0.09570312 -0.00817871  0.07128906\n",
      "  0.20703125 -0.03149414  0.09570312  0.17285156 -0.07958984 -0.02429199\n",
      " -0.07519531 -0.07568359  0.09521484 -0.06494141 -0.00689697 -0.09033203\n",
      "  0.03100586  0.19921875 -0.10644531 -0.11474609  0.18652344 -0.05078125\n",
      "  0.0859375   0.00128937 -0.18847656 -0.20019531 -0.02832031  0.11328125\n",
      "  0.25976562  0.22070312  0.04101562  0.00171661  0.07568359 -0.01196289\n",
      "  0.0177002  -0.05883789 -0.25976562 -0.234375   -0.04956055  0.25976562\n",
      "  0.15332031  0.15136719  0.08300781 -0.15527344  0.04931641  0.07519531\n",
      " -0.05078125 -0.1328125  -0.13574219  0.04199219 -0.14257812  0.02099609\n",
      "  0.07861328  0.01611328  0.01623535 -0.21582031  0.01599121 -0.04882812\n",
      " -0.02404785  0.13476562  0.08496094 -0.01196289  0.10009766 -0.13867188\n",
      "  0.08056641 -0.22070312 -0.12011719  0.18945312  0.05444336 -0.05053711\n",
      "  0.00147247  0.14160156 -0.06494141 -0.05566406 -0.09033203 -0.0267334\n",
      " -0.10498047  0.02416992  0.01422119  0.1875     -0.16503906  0.01538086\n",
      " -0.04174805  0.05444336 -0.01184082 -0.15625     0.00193024 -0.06982422]\n"
     ]
    }
   ],
   "source": [
    "print(Word2VecModel[\"good\"])"
   ]
  },
  {
   "cell_type": "markdown",
   "metadata": {
    "papermill": {
     "duration": 0.07775,
     "end_time": "2021-12-07T14:23:42.972094",
     "exception": false,
     "start_time": "2021-12-07T14:23:42.894344",
     "status": "completed"
    },
    "tags": []
   },
   "source": [
    "在上述代码单元的输出中，我们可以看到单词 “good” 的300维实值向量。\n",
    "\n",
    "上面的几个单元是关于使用预训练的 word2vec 表示的。现在在接下来的单元中，我们将重点学习/训练我们自己的 Word2vec 表示。"
   ]
  },
  {
   "cell_type": "markdown",
   "metadata": {
    "papermill": {
     "duration": 0.076746,
     "end_time": "2021-12-07T14:23:43.126254",
     "exception": false,
     "start_time": "2021-12-07T14:23:43.049508",
     "status": "completed"
    },
    "tags": []
   },
   "source": [
    "**训练我们自己的 embeddings**\n",
    "\n",
    "现在，我们将重点培训我们自己的单词嵌入。为此，我们将研究在最初的 Word2vec 方法中提出的两种架构变体。这两种变体是：\n",
    "\n",
    "1. Continuous bag of words (CBOW)\n",
    "2. SkipGram\n",
    "\n",
    "这两者在许多方面都有很多相似之处。\n",
    "\n",
    "在本节中，我们将使用 “The quick brown fox jumps over the lazy dog” 作为示例文本。\n",
    "\n",
    "**1. Continuous bag of words (CBOW)**\n",
    "\n",
    "在 CBOW 中，主要任务是建立一个语言模型，在给定中心词出现的上下文词的情况下，正确预测中心词。考虑我们的示例句子，我们将“跳跃”一词作为中心词，然后其上下文由其附近的词构成。如果我们将上下文大小设为 2，那么对于我们的示例，上下文由 brown，fox，over，the 给出。CBOW 使用上下文词预测目标词跳跃，如下图所示\n",
    "<br><br>\n",
    "\n",
    "![image-1.png](http://aimaksen.bslience.cn/cbow1.jpg)\n",
    "\n",
    "<br><br>\n",
    "现在，下一个任务是为这个任务创建一个形式（X，Y）的训练样本，其中X是上下文词，Y是中心词。在这种情况下，我们定义 context window=2。\n",
    "![image-3.png](http://aimaksen.bslience.cn/cbow2.jpg)\n",
    "\n",
    "<br><br>\n",
    "现在我们已经准备好了训练数据，让我们关注模型。为此，我们构造了一个浅层网络（它很浅，因为它只有一个隐藏层）。我们假设我们想学习 D-dim 单词嵌入。此外，设 V 为文本语料库的词汇。"
   ]
  },
  {
   "cell_type": "markdown",
   "metadata": {
    "papermill": {
     "duration": 0.078419,
     "end_time": "2021-12-07T14:23:43.280598",
     "exception": false,
     "start_time": "2021-12-07T14:23:43.202179",
     "status": "completed"
    },
    "tags": []
   },
   "source": [
    "![image-4.png](http://aimaksen.bslience.cn/cbow3.jpg)\n",
    "\n",
    "\n",
    "<br><br>\n",
    "目标是学习嵌入矩阵 E|V| x d。首先，我们随机初始化矩阵。这里，|V| 是语料库词汇的大小，d 是嵌入的维度。让我们一层一层地分解图中的浅层网络。在输入层中，上下文中的词的索引用于从嵌入矩阵 E|V| x d 中提取相应的行。然后，将提取的向量相加以获得单个 d-dim 向量，并将其传递到下一层。下一层简单地获取该d向量并将其与另一个矩阵 E'd x|V| 相乘。这给出了 1 x |V| 向量，该向量被送到 softmax 函数以获得词汇空间上的概率分布。将该分布与标签进行比较，并使用反向传播相应地更新矩阵 E 和 E’。在训练结束时，E 是我们想要学习的词嵌入矩阵。\n",
    "<br><br>"
   ]
  },
  {
   "cell_type": "markdown",
   "metadata": {
    "papermill": {
     "duration": 0.086327,
     "end_time": "2021-12-07T14:23:43.464620",
     "exception": false,
     "start_time": "2021-12-07T14:23:43.378293",
     "status": "completed"
    },
    "tags": []
   },
   "source": [
    "**2. SkipGram** \n",
    "\n",
    "SkipGram 与 CBOW 非常相似，但有一些细微的变化。在 Skip-Gram 中，任务是从中心词预测上下文词。对于我们的上下文大小为 2 的玩具语料库，使用中心词“跳跃”，我们尝试预测上下文中的每个词-“brown,” “fox,” “over,” “the”，如下图所示\n",
    "\n",
    "![image-5.png](http://aimaksen.bslience.cn/skip1.jpg)\n",
    "\n",
    "现在，我们将为这个任务创建一个形式（X，Y）的训练样本，其中X将是中心词，Y将是上下文词。\n",
    "\n",
    "<br>\n",
    "<br>\n",
    "\n",
    "![image-6.png](http://aimaksen.bslience.cn/skip2.jpg)\n",
    "\n",
    "<br>\n",
    "<br>\n",
    "\n",
    "![image-9.png](http://aimaksen.bslience.cn/skip3.jpg)\n",
    "\n",
    "<br>\n",
    "<br>\n",
    "\n",
    "用于训练 SkipGram 模型的浅层网络，如下图所示，与用于 CBOW 的网络非常相似，但有一些小的变化。在输入层中，目标中的字的索引用于从嵌入矩阵 E|V| x d 中提取相应的行。然后将提取的向量传递到下一层。下一层简单地获取这个d向量，并将其与另一个矩阵 E'd x|V| 相乘。这给出了 1 x |V| 向量，该向量被馈送到 softmax 函数以获得词汇空间上的概率分布。将该分布与标签进行比较，并使用反向传播相应地更新矩阵 E 和 E’。在训练结束时，E 是我们想要学习的嵌入矩阵。"
   ]
  },
  {
   "cell_type": "markdown",
   "metadata": {
    "papermill": {
     "duration": 0.08588,
     "end_time": "2021-12-07T14:23:43.634447",
     "exception": false,
     "start_time": "2021-12-07T14:23:43.548567",
     "status": "completed"
    },
    "tags": []
   },
   "source": [
    "**实现** : \n",
    "\n",
    "最常用的实现之一是 gensim。我们必须选择几个超参数（即在开始训练过程之前需要设置的变量）。让我们看两个例子。\n",
    "\n",
    "词向量的维数\n",
    "\n",
    "顾名思义，这决定了学习嵌入的空间。虽然没有理想的数字，但通常构建维度在 50-500 之间的词向量，并在我们使用它们的任务中对其进行评估，以选择最佳选项。在 gensim 中，我们通过将 “vector_size” 参数设置为所需的大小来实现这一点。\n",
    "\n",
    "上下文窗口大小 (Context window)\n",
    "\n",
    "在gensim中，我们通过将 “window” 参数设置为所需的大小来实现这一点。\n",
    "\n",
    "我们还可以做出其他选择，例如是否使用 CBOW 或 SkipGram 来学习嵌入。"
   ]
  },
  {
   "cell_type": "markdown",
   "metadata": {
    "papermill": {
     "duration": 0.077982,
     "end_time": "2021-12-07T14:23:43.789609",
     "exception": false,
     "start_time": "2021-12-07T14:23:43.711627",
     "status": "completed"
    },
    "tags": []
   },
   "source": [
    "接下来的几个代码单元显示了CBOW的实现"
   ]
  },
  {
   "cell_type": "code",
   "execution_count": 31,
   "metadata": {
    "execution": {
     "iopub.execute_input": "2021-12-07T14:23:43.953853Z",
     "iopub.status.busy": "2021-12-07T14:23:43.953061Z",
     "iopub.status.idle": "2021-12-07T14:23:44.203439Z",
     "shell.execute_reply": "2021-12-07T14:23:44.203922Z",
     "shell.execute_reply.started": "2021-12-07T13:18:42.114493Z"
    },
    "papermill": {
     "duration": 0.335098,
     "end_time": "2021-12-07T14:23:44.204144",
     "exception": false,
     "start_time": "2021-12-07T14:23:43.869046",
     "status": "completed"
    },
    "tags": []
   },
   "outputs": [
    {
     "name": "stdout",
     "output_type": "stream",
     "text": [
      "Sentences on Which We are gonna train our CBOW Word2Vec Model:\n",
      "\n",
      "[['human', 'interface', 'computer'], ['survey', 'user', 'computer', 'system', 'response', 'time'], ['eps', 'user', 'interface', 'system'], ['system', 'human', 'system', 'eps'], ['user', 'response', 'time'], ['trees'], ['graph', 'trees'], ['graph', 'minors', 'trees'], ['graph', 'minors', 'survey']]\n",
      "Model Saved\n"
     ]
    }
   ],
   "source": [
    "from gensim.models import Word2Vec\n",
    "from gensim.test.utils import common_texts\n",
    "\n",
    "print(\"Sentences on Which We are gonna train our CBOW Word2Vec Model:\\n\")\n",
    "print(common_texts)\n",
    "\n",
    "Our_CBOW_Word2Vec_Model = Word2Vec(\n",
    "    common_texts, vector_size=10, window=5, min_count=1, workers=8, sg=0\n",
    ")\n",
    "Our_CBOW_Word2Vec_Model.save(\"Our_CBOW_Word2Vec_Model.w2v\")\n",
    "print(\"Model Saved\")"
   ]
  },
  {
   "cell_type": "code",
   "execution_count": 32,
   "metadata": {
    "execution": {
     "iopub.execute_input": "2021-12-07T14:23:44.365895Z",
     "iopub.status.busy": "2021-12-07T14:23:44.365205Z",
     "iopub.status.idle": "2021-12-07T14:23:44.367650Z",
     "shell.execute_reply": "2021-12-07T14:23:44.368153Z",
     "shell.execute_reply.started": "2021-12-07T13:18:42.303881Z"
    },
    "papermill": {
     "duration": 0.087106,
     "end_time": "2021-12-07T14:23:44.368324",
     "exception": false,
     "start_time": "2021-12-07T14:23:44.281218",
     "status": "completed"
    },
    "tags": []
   },
   "outputs": [
    {
     "data": {
      "text/plain": [
       "[('graph', 0.3586883544921875),\n",
       " ('system', 0.22743134200572968),\n",
       " ('time', 0.1153423935174942),\n",
       " ('interface', 0.09816539287567139),\n",
       " ('survey', 0.014487894251942635)]"
      ]
     },
     "execution_count": 32,
     "metadata": {},
     "output_type": "execute_result"
    }
   ],
   "source": [
    "Our_CBOW_Word2Vec_Model.wv.most_similar(\"human\", topn=5)"
   ]
  },
  {
   "cell_type": "code",
   "execution_count": 33,
   "metadata": {
    "execution": {
     "iopub.execute_input": "2021-12-07T14:23:44.525861Z",
     "iopub.status.busy": "2021-12-07T14:23:44.525200Z",
     "iopub.status.idle": "2021-12-07T14:23:44.530372Z",
     "shell.execute_reply": "2021-12-07T14:23:44.530968Z",
     "shell.execute_reply.started": "2021-12-07T13:18:42.314072Z"
    },
    "papermill": {
     "duration": 0.085874,
     "end_time": "2021-12-07T14:23:44.531142",
     "exception": false,
     "start_time": "2021-12-07T14:23:44.445268",
     "status": "completed"
    },
    "tags": []
   },
   "outputs": [
    {
     "data": {
      "text/plain": [
       "array([-0.00410223, -0.0836895 , -0.05600014,  0.07104538,  0.0335254 ,\n",
       "        0.07225668,  0.06800246,  0.07530741, -0.03789156, -0.00561807],\n",
       "      dtype=float32)"
      ]
     },
     "execution_count": 33,
     "metadata": {},
     "output_type": "execute_result"
    }
   ],
   "source": [
    "Our_CBOW_Word2Vec_Model.wv[\"human\"]"
   ]
  },
  {
   "cell_type": "markdown",
   "metadata": {
    "papermill": {
     "duration": 0.084266,
     "end_time": "2021-12-07T14:23:44.694148",
     "exception": false,
     "start_time": "2021-12-07T14:23:44.609882",
     "status": "completed"
    },
    "tags": []
   },
   "source": [
    "上面的单元格显示了 CBOW 模型的代码实现，可以使用 tunning 超参数进行实验。感兴趣的人可以通过将 sg hyperparameter 设置为 1 进行实验，然后该模型将变为跳跃图模型。"
   ]
  },
  {
   "cell_type": "markdown",
   "metadata": {
    "papermill": {
     "duration": 0.077271,
     "end_time": "2021-12-07T14:23:44.849036",
     "exception": false,
     "start_time": "2021-12-07T14:23:44.771765",
     "status": "completed"
    },
    "tags": []
   },
   "source": [
    "<h1  style=\"text-align: center\" class=\"list-group-item list-group-item-action active\">Glove 词嵌入(Word Embeddings)</h1><a id = \"9\" ></a>\n",
    "\n",
    "GloVe 代表单词表示的全局向量，是另一种单词嵌入技术，它是斯坦福大学的一个开源项目，于 2014 年推出的。为了刷新，单词向量将单词放入一个很好的向量空间，相似的单词聚集在一起，不同的单词相互排斥。手套的优点是，与 Word2vec 不同，GloVe 不仅依赖于局部统计（单词的局部上下文信息），还结合了全局统计（单词共现）来获得单词向量。但请记住，GloVe 和 Word2vec之间有很大的协同作用。GloVe 可以用来查找同义词、公司产品关系、邮政编码和城市等词之间的关系。\n",
    "\n",
    "可能会出现这样一个问题：如果我们有 word2vec 作为一种好的单词嵌入技术，为什么我们需要 GloVe，因为 word2vec 只依赖于语言的本地信息。也就是说，为给定单词学习的语义只受周围单词的影响。\n",
    "\n",
    "举个例子，\n",
    "\n",
    "The cat sat on the mat\n",
    "\n",
    "If you use Word2vec, it wouldn’t capture information like,\n",
    "如果你使用Word2vec，它不会捕获像这样的信息，\n",
    "\n",
    "“cat” 和 “mat” 这两个词的特殊语境是什么？\n",
    "\n",
    "或者\n",
    "\n",
    "“the” 是一个 stopword 吗?\n",
    "\n",
    "下面的可能是次优的，特别是在理论家的眼中。\n",
    "\n",
    "GloVe 是建立在一个重要思想之上的，你可以从同现矩阵中推导出单词之间的语义关系。给定具有 V 个单词的语料库，共现矩阵 X 将是V X V矩阵，其中 X 的第 i 行和第 j 列，X_ij 表示单词 i 与单词 j 共现的次数。示例共现矩阵可能如下所示。\n",
    "\n",
    "![](https://miro.medium.com/max/434/1*QWcK8CIDs8kMkOwsOxvywA.png)\n",
    "\n",
    "“the cat sat on the mat” 句子的共现矩阵，窗口大小为 1。正如你可能注意到的，它是一个对称矩阵。\n",
    "\n",
    "有关 Glove 词嵌入的详细信息，请参阅 [This article](https://towardsdatascience.com/light-on-math-ml-intuitive-guide-to-understanding-glove-embeddings-b13b4f19c010)"
   ]
  },
  {
   "cell_type": "code",
   "execution_count": 34,
   "metadata": {
    "execution": {
     "iopub.execute_input": "2021-12-07T14:23:45.011448Z",
     "iopub.status.busy": "2021-12-07T14:23:45.009576Z",
     "iopub.status.idle": "2021-12-07T14:25:34.924552Z",
     "shell.execute_reply": "2021-12-07T14:25:34.925132Z",
     "shell.execute_reply.started": "2021-12-07T13:18:42.327261Z"
    },
    "papermill": {
     "duration": 109.998348,
     "end_time": "2021-12-07T14:25:34.925334",
     "exception": false,
     "start_time": "2021-12-07T14:23:44.926986",
     "status": "completed"
    },
    "tags": []
   },
   "outputs": [
    {
     "name": "stderr",
     "output_type": "stream",
     "text": [
      "/opt/conda/lib/python3.7/site-packages/ipykernel_launcher.py:4: DeprecationWarning: Call to deprecated `glove2word2vec` (KeyedVectors.load_word2vec_format(.., binary=False, no_header=True) loads GLoVE text vectors.).\n",
      "  after removing the cwd from sys.path.\n"
     ]
    },
    {
     "data": {
      "text/plain": [
       "(400000, 100)"
      ]
     },
     "execution_count": 34,
     "metadata": {},
     "output_type": "execute_result"
    }
   ],
   "source": [
    "Glove_path = \"../input/glove6b/glove.6B.100d.txt\"\n",
    "from gensim.scripts.glove2word2vec import glove2word2vec\n",
    "\n",
    "word2vec_output_file = \"glove.6B.100d.txt.word2vec\"\n",
    "glove2word2vec(Glove_path, word2vec_output_file)"
   ]
  },
  {
   "cell_type": "code",
   "execution_count": 35,
   "metadata": {
    "execution": {
     "iopub.execute_input": "2021-12-07T14:25:35.087332Z",
     "iopub.status.busy": "2021-12-07T14:25:35.086663Z",
     "iopub.status.idle": "2021-12-07T14:26:49.609550Z",
     "shell.execute_reply": "2021-12-07T14:26:49.608924Z",
     "shell.execute_reply.started": "2021-12-07T13:20:30.751097Z"
    },
    "papermill": {
     "duration": 74.605604,
     "end_time": "2021-12-07T14:26:49.609726",
     "exception": false,
     "start_time": "2021-12-07T14:25:35.004122",
     "status": "completed"
    },
    "tags": []
   },
   "outputs": [],
   "source": [
    "from gensim.models import KeyedVectors\n",
    "\n",
    "# load the Stanford GloVe model\n",
    "filename = \"./glove.6B.100d.txt.word2vec\"\n",
    "Glove_model = KeyedVectors.load_word2vec_format(filename, binary=False)"
   ]
  },
  {
   "cell_type": "code",
   "execution_count": 36,
   "metadata": {
    "execution": {
     "iopub.execute_input": "2021-12-07T14:26:49.772334Z",
     "iopub.status.busy": "2021-12-07T14:26:49.771637Z",
     "iopub.status.idle": "2021-12-07T14:26:49.912017Z",
     "shell.execute_reply": "2021-12-07T14:26:49.912892Z",
     "shell.execute_reply.started": "2021-12-07T13:21:45.496829Z"
    },
    "papermill": {
     "duration": 0.224579,
     "end_time": "2021-12-07T14:26:49.913184",
     "exception": false,
     "start_time": "2021-12-07T14:26:49.688605",
     "status": "completed"
    },
    "tags": []
   },
   "outputs": [
    {
     "name": "stdout",
     "output_type": "stream",
     "text": [
      "Most similar words to word 'human' : \n"
     ]
    },
    {
     "data": {
      "text/plain": [
       "[('animal', 0.7462460398674011),\n",
       " ('rights', 0.7322573661804199),\n",
       " ('humans', 0.6607711911201477),\n",
       " ('animals', 0.6567643284797668),\n",
       " ('body', 0.6552972197532654),\n",
       " ('nature', 0.6483666896820068),\n",
       " ('beings', 0.6467736959457397),\n",
       " ('organization', 0.6319881081581116),\n",
       " ('scientific', 0.630841076374054),\n",
       " ('common', 0.6211239099502563)]"
      ]
     },
     "execution_count": 36,
     "metadata": {},
     "output_type": "execute_result"
    }
   ],
   "source": [
    "print(\"Most similar words to word 'human' : \")\n",
    "Glove_model.most_similar(\"human\")"
   ]
  },
  {
   "cell_type": "code",
   "execution_count": 37,
   "metadata": {
    "execution": {
     "iopub.execute_input": "2021-12-07T14:26:50.127328Z",
     "iopub.status.busy": "2021-12-07T14:26:50.126361Z",
     "iopub.status.idle": "2021-12-07T14:26:50.131030Z",
     "shell.execute_reply": "2021-12-07T14:26:50.131512Z",
     "shell.execute_reply.started": "2021-12-07T13:21:45.615577Z"
    },
    "papermill": {
     "duration": 0.093864,
     "end_time": "2021-12-07T14:26:50.131686",
     "exception": false,
     "start_time": "2021-12-07T14:26:50.037822",
     "status": "completed"
    },
    "tags": []
   },
   "outputs": [
    {
     "name": "stdout",
     "output_type": "stream",
     "text": [
      "Glove Word Embeddings of word 'human' \n"
     ]
    },
    {
     "data": {
      "text/plain": [
       "array([ 3.3864e-01,  5.9663e-01,  5.3322e-01,  3.1404e-01,  1.5321e-01,\n",
       "        3.1749e-01, -4.2940e-01, -2.9150e-01, -2.1047e-03, -3.9309e-01,\n",
       "       -8.5441e-01, -8.0708e-02,  1.2118e+00,  6.9316e-02,  8.0613e-03,\n",
       "        8.7888e-01,  3.1908e-02,  5.8655e-01, -5.4892e-01, -7.8468e-03,\n",
       "        1.7327e-01, -2.6693e-01,  4.2802e-01,  6.6123e-02,  5.1847e-01,\n",
       "        7.7226e-01,  2.0608e-01, -4.5836e-01,  3.5485e-01,  7.1547e-01,\n",
       "        6.0855e-01,  2.0254e-01, -4.8756e-01,  5.7974e-01,  8.6728e-02,\n",
       "       -5.1852e-01, -3.7274e-01,  1.0014e+00, -2.9259e-01,  3.2290e-01,\n",
       "       -9.7563e-01, -2.2288e-01, -2.3335e-01, -2.6891e-01,  1.4612e-01,\n",
       "        1.2004e-01, -2.0402e-01, -9.4647e-02, -1.5402e+00, -5.9510e-02,\n",
       "        1.0887e+00, -2.4998e-01, -2.5808e-01,  1.2798e+00, -1.2849e-01,\n",
       "       -1.4511e+00, -2.4686e-01, -9.5046e-02,  1.7425e+00,  1.1977e-01,\n",
       "       -1.9206e-01,  4.4368e-01, -1.6453e-01, -7.6663e-01,  1.1100e+00,\n",
       "        4.6748e-01, -2.4673e-02,  4.7179e-03,  6.9761e-01, -2.2975e-01,\n",
       "        6.4385e-01, -8.9847e-02,  7.8711e-02, -4.1255e-02,  5.3239e-01,\n",
       "       -3.9945e-01, -4.6565e-01, -2.7601e-01, -1.5407e+00,  5.3639e-01,\n",
       "        5.0511e-01,  9.7199e-01,  1.2057e-01,  6.1720e-01, -2.1424e+00,\n",
       "        6.6596e-01,  3.7060e-01,  2.6115e-01, -1.3408e-01, -3.9319e-01,\n",
       "        6.3069e-01, -5.4047e-01,  1.5467e-01,  4.0616e-01,  1.0424e-01,\n",
       "       -4.7552e-02, -8.1695e-01, -1.1976e+00,  6.9475e-01, -1.9884e-01],\n",
       "      dtype=float32)"
      ]
     },
     "execution_count": 37,
     "metadata": {},
     "output_type": "execute_result"
    }
   ],
   "source": [
    "print(\"Glove Word Embeddings of word 'human' \")\n",
    "Glove_model[\"human\"]"
   ]
  },
  {
   "cell_type": "markdown",
   "metadata": {
    "papermill": {
     "duration": 0.079887,
     "end_time": "2021-12-07T14:26:50.292131",
     "exception": false,
     "start_time": "2021-12-07T14:26:50.212244",
     "status": "completed"
    },
    "tags": []
   },
   "source": [
    "**Word2Vec 优点:**\n",
    "\n",
    "1. 这个想法非常直观，它将未标记的原始语料库转换为标记数据（通过将目标词映射到其上下文词），并在分类任务中学习词的表示。\n",
    "\n",
    "2. 数据可以以在线方式输入模型，并且需要很少的预处理，因此需要很少的内存。\n",
    "\n",
    "3. 目标词与其上下文词之间的映射隐含地将次线性关系嵌入到词的向量空间中，从而可以通过词向量推断出 “king:man as queen: woman” 之类的关系。\n",
    "\n",
    "3. 对于一个新人来说，理解原理和执行是很简单的。\n",
    "\n",
    "**Word2Vec 缺点:**\n",
    "\n",
    "1. 未明确定义次线性关系。这些特征背后几乎没有理论支持。\n",
    "\n",
    "2. 如果使用 softmax 函数，该模型可能很难训练，因为类别的数量太大（词汇表的大小）。虽然提出了诸如负采样（NEG）和 hierarchical softmax（HS）之类的近似算法来解决该问题，但也出现了其他问题。例如，NEG 的字向量不是均匀分布的，它们位于向量空间中的一个圆锥内，因此向量空间没有得到充分利用。\n",
    "\n",
    "3. 它仍然无法解决 **超出词表（OOV）** 问题。\n",
    "\n",
    "**Glove 优点:**\n",
    "\n",
    "1. Glove 的目标非常简单，即强制使用词向量来捕获向量空间中的次线性关系。因此，它在单词类比任务中的表现优于 Word2vec。\n",
    "\n",
    "2. Glove 通过考虑词对和词对之间的关系而不是词和词之间的关系，为词向量增加了一些更实际的意义。\n",
    "\n",
    "3. Glove 为频繁出现的单词对赋予了较低的权重，以防止“the”、“an” 等无意义的停止词不会主导训练进程。\n",
    "\n",
    "**Glove 缺点:**\n",
    "\n",
    "1. 该模型基于词的同现矩阵进行训练，这需要大量内存来存储。特别是，如果更改与共生矩阵相关的超参数，则必须再次重构矩阵，这非常耗时。\n",
    "\n",
    "**Word2vec 和 Glove 都没有解决的问题:**\n",
    "\n",
    "1. 如何学习词汇表外单词的表示。\n",
    "2. 如何分离一些相反的词对。例如，“good” 和 “bad” 通常在向量空间中彼此非常接近，这可能会限制词向量在情感分析等 NLP 任务中的性能。\n",
    "\n",
    "此单元格的内容取自 [Quora](https://www.quora.com/What-are-the-advantages-and-disadvantages-of-Word2vec-and-GloVe)\n"
   ]
  },
  {
   "cell_type": "markdown",
   "metadata": {
    "papermill": {
     "duration": 0.080012,
     "end_time": "2021-12-07T14:26:50.451727",
     "exception": false,
     "start_time": "2021-12-07T14:26:50.371715",
     "status": "completed"
    },
    "tags": []
   },
   "source": [
    "尽管使用像 Word2vec 这样的强大的词嵌入或任何这样的词嵌入来从文本中提取特征很容易，**我们还没有一种处理 OOV 词的好方法**。\n",
    "\n",
    "我们能做些什么来解决这个问题？\n",
    "\n",
    "1. 一种通常有效的简单方法是将这些词从特征提取过程中排除，这样我们就不必担心如何获得它们的表示。\n",
    "\n",
    "2. 处理单词嵌入的 OOV 问题的另一种方法是创建随机初始化的向量。\n",
    "\n",
    "3. 还有其他方法通过引入字符和其他子词级语言成分来修改训练过程来处理 OOV 问题。现在让我们来看一种这样的方法。关键思想是，可以通过使用子词信息（例如词形属性（例如前缀、后缀、词尾等））**或通过使用字符表示来潜在地处理OOV问题。fastText 来自 Facebook 人工智能研究**，是遵循这种方法的流行算法之一。\n",
    "\n"
   ]
  },
  {
   "cell_type": "markdown",
   "metadata": {
    "papermill": {
     "duration": 0.079608,
     "end_time": "2021-12-07T14:26:50.611344",
     "exception": false,
     "start_time": "2021-12-07T14:26:50.531736",
     "status": "completed"
    },
    "tags": []
   },
   "source": [
    "<h1  style=\"text-align: center\" class=\"list-group-item list-group-item-action active\">FastText 词嵌入 (Word Embeddings)</h1><a id = \"10\" ></a>\n",
    "\n",
    "一个词可以由其组成字符 ngrams 表示。遵循与 Word2vec 类似的架构，fastText 将单词和字符 n-gram 的嵌入一起学习，并将单词的嵌入向量视为其组成字符 n-gram 的集合。这使得即使对于词汇表中不存在的单词也可以生成嵌入。比如说，有一个词 “gregarious”，在嵌入的词汇表中找不到。我们将其分为字符n-grams-gre、reg、ega… ous，并将这些 ngram 的嵌入组合起来，以实现 “gregarious” 的嵌入\n",
    "\n",
    "FastText 是如何工作的？\n",
    "\n",
    "FastText 是 word2vec 的修改版本（即 Skip-Gram 和 CBOW）。fastText 与 word2vec 之间的唯一区别是其池策略（模型的输入、输出和字典是什么）。在 word2vec 中，每个单词都表示为一袋单词，但在 FastText 中，每个词都表示为字符 n-gram。\n",
    "\n",
    "**character n-grams** 字符或单词的给定样本中n个项的连续序列。它可能是二元、三元等。\n",
    "\n",
    "例如，单词“where”的字符三元图（n=3）将为：\n",
    "\n",
    "<wh, whe, her, ere, re>\n",
    "\n",
    "在 FastText 架构中，他们还将单词本身与字符 n-gram 一起包括在内。这意味着 “eating” 一词模型的输入数据将为：\n",
    "\n",
    "![](https://amitness.com/images/fasttext-center-word-embedding.png)\n",
    "\n",
    "现在我所指的模型是 word2vec，它是一个浅层神经网络，具有一个隐藏层，如上所述。\n",
    "\n",
    "现在，为了准备（基于Skip-Gram的）快速文本模型的训练数据，我们将“上下文词”定义为文本中给定单词之后的单词（这将是我们的“目标词”）。这意味着我们将预测给定单词的周围单词。\n",
    "\n",
    "Note: FastText word embeddings support both Continuous Bag of Words (CBOW) and Skip-Gram models. I will explain and implement the skip-gram model in the below cell to learn vector representation (FastText word embeddings). Now let’s construct our training examples (like Skip-Gram), scanning through the text with a window will prepare a context word and a target word.\n",
    "注意：FastText 单词嵌入支持连续词袋（CBOW）和 Skip-Gram 模型。我将在下面的单元中解释和实现 Skip-Gram 模型，以学习向量表示（FastText单词嵌入）。现在让我们构造训练示例（如 Skip-Gram），用窗口扫描文本将准备上下文词和目标词。\n",
    "\n",
    "考虑以下句子：\n",
    "\n",
    "<div style = \"text-align:center\"><b> i like natural language processing</b></div>\n",
    "\n",
    "![](https://secureservercdn.net/45.40.148.234/um0.ec8.myftpupload.com/wp-content/uploads/2020/10/Picture2.png)\n",
    "\n",
    "对于上面的例子，对于上下文词 “i” 和 “natural”，目标词将是 “like”。FastText 单词嵌入的完整训练数据如下所示。通过观察下面的训练数据，您对 fastText 和 word2vec 的混淆应该很清楚。\n",
    "\n",
    "现在您知道，在 word2vec（skip gram）中，每个单词都表示为一包单词，但在 FastText 中，每个词都表示为字符 n-gram。这种训练数据准备是 FastText 单词嵌入和 skip gram（或CBOW）单词嵌入之间的唯一区别。\n",
    "\n",
    "在 FastText 的训练数据准备之后，训练单词嵌入、查找单词相似度等与 word2vec 模型相同（对于我们的示例，类似于 skip-gram 模型）。\n",
    "\n",
    "现在，让我们看看如何使用 Gensim 库在 python 中实现 FastText word embedding。"
   ]
  },
  {
   "cell_type": "code",
   "execution_count": 38,
   "metadata": {
    "execution": {
     "iopub.execute_input": "2021-12-07T14:26:50.777570Z",
     "iopub.status.busy": "2021-12-07T14:26:50.776795Z",
     "iopub.status.idle": "2021-12-07T14:35:55.608023Z",
     "shell.execute_reply": "2021-12-07T14:35:55.608877Z",
     "shell.execute_reply.started": "2021-12-07T13:21:45.643617Z"
    },
    "papermill": {
     "duration": 544.917726,
     "end_time": "2021-12-07T14:35:55.609232",
     "exception": false,
     "start_time": "2021-12-07T14:26:50.691506",
     "status": "completed"
    },
    "tags": []
   },
   "outputs": [
    {
     "name": "stdout",
     "output_type": "stream",
     "text": [
      "Most similar words to word 'human' : \n"
     ]
    },
    {
     "data": {
      "text/plain": [
       "[('non-human', 0.7691742181777954),\n",
       " ('Human', 0.7620595693588257),\n",
       " ('nonhuman', 0.7084148526191711),\n",
       " ('beings', 0.7024695873260498),\n",
       " ('humans', 0.6974276304244995),\n",
       " ('animal', 0.6924618482589722),\n",
       " ('humanity', 0.6476197838783264),\n",
       " ('human-', 0.6355127692222595),\n",
       " ('mammalian', 0.6191367506980896),\n",
       " ('natural', 0.6171244978904724)]"
      ]
     },
     "execution_count": 38,
     "metadata": {},
     "output_type": "execute_result"
    }
   ],
   "source": [
    "from gensim.models import FastText, KeyedVectors\n",
    "from gensim.models.fasttext import load_facebook_model\n",
    "\n",
    "fasttext_model = KeyedVectors.load_word2vec_format(\n",
    "    \"../input/fasttext-wikinews/wiki-news-300d-1M.vec\"\n",
    ")\n",
    "\n",
    "# fasttext_model = FastText.load_fasttext_format('../input/fasttext-crawl-300d-2m/crawl-300d-2M.vec')\n",
    "print(\"Most similar words to word 'human' : \")\n",
    "fasttext_model.most_similar(\"human\")"
   ]
  },
  {
   "cell_type": "code",
   "execution_count": 39,
   "metadata": {
    "execution": {
     "iopub.execute_input": "2021-12-07T14:35:55.933179Z",
     "iopub.status.busy": "2021-12-07T14:35:55.932080Z",
     "iopub.status.idle": "2021-12-07T14:35:55.937079Z",
     "shell.execute_reply": "2021-12-07T14:35:55.937583Z",
     "shell.execute_reply.started": "2021-12-07T13:39:57.957729Z"
    },
    "papermill": {
     "duration": 0.204765,
     "end_time": "2021-12-07T14:35:55.937752",
     "exception": false,
     "start_time": "2021-12-07T14:35:55.732987",
     "status": "completed"
    },
    "tags": []
   },
   "outputs": [
    {
     "name": "stdout",
     "output_type": "stream",
     "text": [
      "Glove Word Embeddings of word 'human' \n"
     ]
    },
    {
     "data": {
      "text/plain": [
       "array([ 8.800e-03, -1.230e-02,  3.650e-02,  1.136e-01, -8.000e-03,\n",
       "        1.574e-01,  9.080e-02,  1.293e-01, -1.400e-03,  1.081e-01,\n",
       "       -8.610e-02, -3.450e-02, -5.610e-02,  3.300e-03, -4.000e-04,\n",
       "        1.650e-02,  8.540e-02,  4.670e-02, -1.632e-01,  6.200e-02,\n",
       "        5.800e-03,  1.162e-01, -7.390e-02,  1.525e-01, -6.330e-02,\n",
       "        6.780e-02, -1.114e-01, -3.440e-02,  4.310e-02,  6.050e-02,\n",
       "       -1.349e-01,  5.660e-02, -7.210e-02,  1.785e-01,  5.520e-02,\n",
       "       -8.580e-02, -7.610e-02,  1.387e-01, -3.760e-02,  8.000e-03,\n",
       "        1.093e-01, -6.550e-02,  7.130e-02, -1.020e-01, -6.250e-02,\n",
       "       -6.340e-02, -6.770e-02, -8.940e-02,  5.400e-03,  6.740e-02,\n",
       "       -8.720e-02,  1.085e-01, -7.148e-01,  5.700e-03, -4.660e-02,\n",
       "        3.980e-02, -7.630e-02,  9.780e-02, -3.300e-03,  1.379e-01,\n",
       "       -1.192e-01,  3.700e-03, -1.599e-01, -9.340e-02, -1.021e-01,\n",
       "       -2.812e-01,  1.539e-01, -2.750e-02, -3.230e-02, -3.860e-02,\n",
       "       -1.403e-01, -7.450e-02, -7.510e-02,  1.232e-01,  8.800e-03,\n",
       "       -9.230e-02, -2.520e-02,  6.200e-02,  3.040e-02,  3.030e-01,\n",
       "       -1.490e-02,  4.990e-02,  1.314e-01, -1.909e-01,  8.500e-03,\n",
       "       -7.300e-03,  7.720e-02, -1.769e-01,  3.504e-01, -7.650e-02,\n",
       "        4.000e-02, -6.060e-02,  9.160e-02, -2.170e-02,  1.309e-01,\n",
       "        1.270e-02,  8.000e-04, -1.289e-01,  3.690e-02,  2.852e-01,\n",
       "       -1.613e-01, -4.230e-02,  5.840e-02, -1.020e-02,  1.890e-02,\n",
       "        2.270e-02,  1.939e-01,  2.150e-02, -7.990e-02, -5.360e-02,\n",
       "       -1.776e-01,  1.737e-01, -1.750e-02, -6.500e-02, -3.280e-02,\n",
       "        5.130e-02,  4.980e-02,  7.300e-03, -3.970e-02, -2.032e-01,\n",
       "        5.160e-02, -4.910e-02, -1.086e-01,  7.510e-02,  5.140e-02,\n",
       "        2.141e-01, -1.320e-02,  3.650e-02,  2.760e-02,  1.104e-01,\n",
       "       -1.000e-02, -9.150e-02,  1.560e-01, -3.750e-02, -1.490e-02,\n",
       "       -1.823e-01, -7.740e-02,  1.927e-01,  6.080e-02, -2.231e-01,\n",
       "        7.050e-02,  2.000e-02, -4.080e-02,  2.354e-01,  8.400e-03,\n",
       "       -4.500e-03,  5.060e-02, -1.730e-02,  1.409e-01, -9.430e-02,\n",
       "       -7.950e-02, -1.155e-01, -4.830e-02,  3.570e-02,  6.130e-02,\n",
       "        9.910e-02,  1.160e-02, -2.600e-03,  7.490e-02,  9.700e-03,\n",
       "       -9.020e-02,  1.664e-01, -4.080e-02, -5.850e-02,  2.000e-03,\n",
       "        9.180e-02,  1.312e-01,  5.070e-02, -3.300e-02,  8.990e-02,\n",
       "       -7.250e-02, -8.290e-02, -1.383e-01,  3.240e-02,  6.940e-02,\n",
       "       -1.532e-01,  3.353e-01, -2.800e-02,  1.170e-02, -3.120e-02,\n",
       "        6.600e-03,  1.590e-02,  6.450e-02, -1.630e-02,  6.240e-02,\n",
       "        4.270e-02,  7.520e-02,  2.870e-02, -6.200e-02,  1.186e-01,\n",
       "        1.551e-01, -1.339e-01,  7.610e-02, -1.146e-01,  7.200e-03,\n",
       "       -9.400e-03, -6.230e-02,  1.084e-01,  1.366e-01, -5.000e-03,\n",
       "       -2.360e-02,  1.105e-01, -9.430e-02, -2.500e-02, -2.270e-02,\n",
       "        6.700e-03,  4.170e-02, -1.663e-01, -6.110e-02,  2.230e-01,\n",
       "        6.910e-02, -7.020e-02,  4.420e-02, -7.630e-02, -3.030e-02,\n",
       "        1.221e-01,  6.430e-02,  2.770e-02, -9.480e-02, -1.500e-01,\n",
       "        1.330e-02, -5.110e-02, -1.250e-02,  1.145e-01, -1.244e-01,\n",
       "       -8.300e-03,  6.200e-03,  2.038e-01,  1.102e-01,  5.660e-02,\n",
       "        2.725e-01,  1.710e-02,  2.873e-01, -1.072e-01,  1.991e-01,\n",
       "       -2.468e-01, -2.590e-02, -1.153e-01, -2.346e-01,  2.000e-04,\n",
       "       -4.000e-02,  1.813e-01,  7.000e-03,  2.070e-02,  1.600e-02,\n",
       "        5.570e-02, -1.457e-01,  3.390e-02, -1.659e-01,  4.385e-01,\n",
       "        5.600e-03,  2.490e-02, -7.440e-02, -2.670e-02,  3.310e-02,\n",
       "        1.816e-01, -3.240e-02,  2.031e-01,  1.900e-02, -2.710e-02,\n",
       "       -7.970e-02, -1.566e-01,  5.000e-02, -5.820e-02, -1.322e-01,\n",
       "       -1.390e-02, -1.447e-01,  6.340e-02, -2.163e-01, -4.060e-02,\n",
       "       -3.030e-02,  6.150e-02, -1.040e-02, -1.490e-02, -1.028e-01,\n",
       "       -9.330e-02,  1.724e-01, -3.100e-03,  7.770e-02,  1.028e-01,\n",
       "        7.350e-02, -6.870e-02,  3.490e-02,  5.800e-02,  7.360e-02,\n",
       "       -3.260e-02,  1.617e-01, -3.530e-02,  1.840e-02,  1.640e-02,\n",
       "       -3.350e-02, -1.355e-01,  7.200e-02,  7.280e-02,  1.710e-02,\n",
       "       -4.510e-02,  5.940e-02,  8.270e-02, -6.300e-02, -1.246e-01],\n",
       "      dtype=float32)"
      ]
     },
     "execution_count": 39,
     "metadata": {},
     "output_type": "execute_result"
    }
   ],
   "source": [
    "print(\"Glove Word Embeddings of word 'human' \")\n",
    "fasttext_model[\"human\"]"
   ]
  },
  {
   "cell_type": "markdown",
   "metadata": {
    "papermill": {
     "duration": 0.081699,
     "end_time": "2021-12-07T14:35:56.103060",
     "exception": false,
     "start_time": "2021-12-07T14:35:56.021361",
     "status": "completed"
    },
    "tags": []
   },
   "source": [
    "通过设置下面列出的超参数，使用 python 的 gensim 库训练我们自己的 fasttext 模型：\n",
    "\n",
    "- size：单词向量的维数。window＝window_ size，\n",
    "- min_count：该模型忽略总频率低于该值的所有单词。\n",
    "- sample：用于配置哪些高频字被随机下采样的阈值，有用范围为（0，1e-5）。\n",
    "- workers：使用这些多个工人线程来训练模型（=使用多核机器进行更快的训练）。\n",
    "- sg：训练算法：如果sg=1，则跳过gram，否则为CBOW。\n",
    "- iter：语料库上的迭代次数。"
   ]
  },
  {
   "cell_type": "code",
   "execution_count": 40,
   "metadata": {
    "execution": {
     "iopub.execute_input": "2021-12-07T14:35:56.273815Z",
     "iopub.status.busy": "2021-12-07T14:35:56.273143Z",
     "iopub.status.idle": "2021-12-07T14:35:57.503746Z",
     "shell.execute_reply": "2021-12-07T14:35:57.504320Z",
     "shell.execute_reply.started": "2021-12-07T13:39:58.044382Z"
    },
    "papermill": {
     "duration": 1.317793,
     "end_time": "2021-12-07T14:35:57.504499",
     "exception": false,
     "start_time": "2021-12-07T14:35:56.186706",
     "status": "completed"
    },
    "tags": []
   },
   "outputs": [],
   "source": [
    "from gensim.models import FastText\n",
    "from gensim.test.utils import common_texts\n",
    "\n",
    "our_fasttext_model = FastText(\n",
    "    common_texts, vector_size=100, min_count=1, window=5, sg=1\n",
    ")"
   ]
  },
  {
   "cell_type": "code",
   "execution_count": 41,
   "metadata": {
    "execution": {
     "iopub.execute_input": "2021-12-07T14:35:57.671617Z",
     "iopub.status.busy": "2021-12-07T14:35:57.670975Z",
     "iopub.status.idle": "2021-12-07T14:35:57.678658Z",
     "shell.execute_reply": "2021-12-07T14:35:57.679209Z",
     "shell.execute_reply.started": "2021-12-07T13:39:59.411713Z"
    },
    "papermill": {
     "duration": 0.093522,
     "end_time": "2021-12-07T14:35:57.679377",
     "exception": false,
     "start_time": "2021-12-07T14:35:57.585855",
     "status": "completed"
    },
    "tags": []
   },
   "outputs": [
    {
     "name": "stdout",
     "output_type": "stream",
     "text": [
      "Most Similar words of word 'computer' : \n"
     ]
    },
    {
     "data": {
      "text/plain": [
       "[('user', 0.15659411251544952),\n",
       " ('response', 0.1238383799791336),\n",
       " ('eps', 0.030705023556947708),\n",
       " ('system', 0.02557401731610298),\n",
       " ('interface', 0.005858910735696554),\n",
       " ('survey', -0.03156965970993042),\n",
       " ('minors', -0.05455636978149414),\n",
       " ('human', -0.06685879826545715),\n",
       " ('time', -0.06855909526348114),\n",
       " ('trees', -0.10636060684919357)]"
      ]
     },
     "execution_count": 41,
     "metadata": {},
     "output_type": "execute_result"
    }
   ],
   "source": [
    "print(\"Most Similar words of word 'computer' : \")\n",
    "our_fasttext_model.wv.most_similar(\"computer\")"
   ]
  },
  {
   "cell_type": "code",
   "execution_count": 42,
   "metadata": {
    "execution": {
     "iopub.execute_input": "2021-12-07T14:35:57.850024Z",
     "iopub.status.busy": "2021-12-07T14:35:57.849346Z",
     "iopub.status.idle": "2021-12-07T14:35:57.853160Z",
     "shell.execute_reply": "2021-12-07T14:35:57.852529Z",
     "shell.execute_reply.started": "2021-12-07T13:39:59.422795Z"
    },
    "papermill": {
     "duration": 0.092667,
     "end_time": "2021-12-07T14:35:57.853304",
     "exception": false,
     "start_time": "2021-12-07T14:35:57.760637",
     "status": "completed"
    },
    "tags": []
   },
   "outputs": [
    {
     "data": {
      "text/plain": [
       "array([ 2.9693521e-04,  3.3105977e-04, -8.7776897e-04,  3.3944362e-04,\n",
       "       -5.0174823e-04, -2.0421455e-03, -1.2406678e-03, -1.9404462e-03,\n",
       "        1.3451086e-03, -2.4126847e-03,  9.1850484e-04, -1.0315110e-03,\n",
       "       -7.6341064e-04,  7.3121635e-05,  1.3828657e-03,  5.1943498e-04,\n",
       "       -2.9885024e-04, -1.1946483e-03, -1.1723848e-03, -6.0895225e-04,\n",
       "       -6.7833957e-04,  3.9277915e-04,  9.8824501e-05,  8.1268896e-04,\n",
       "        5.8197067e-04,  7.0195273e-04, -7.3680707e-04, -1.0396258e-03,\n",
       "       -6.2525918e-04, -2.4049741e-04, -1.1931641e-03, -2.6594134e-04,\n",
       "        7.3604583e-04, -7.2150613e-04, -1.2750807e-03,  1.2423132e-04,\n",
       "        3.7758294e-04, -1.3315529e-03, -2.7344138e-03, -3.0483067e-04,\n",
       "        9.2827156e-04, -7.2816946e-04, -1.1291959e-03, -3.2193188e-04,\n",
       "       -2.0601712e-04, -1.0485471e-04, -6.2297657e-04, -1.6137769e-03,\n",
       "        9.9110638e-04,  9.2298054e-05,  3.6799960e-04, -5.3784001e-04,\n",
       "        1.1332291e-03,  8.7074988e-04, -1.6386734e-03, -8.5585617e-04,\n",
       "       -6.3106982e-04,  6.2290911e-04,  8.4016664e-04, -1.1283027e-03,\n",
       "        1.2916379e-03, -3.4048953e-04, -1.1783368e-03, -1.6085058e-03,\n",
       "        1.5269308e-03,  3.0116282e-05, -2.4188879e-05, -7.2759663e-04,\n",
       "        1.7333046e-03,  8.9342112e-04,  3.2678925e-04, -4.6337990e-04,\n",
       "       -2.3135850e-03, -1.7200562e-03,  4.3593679e-04, -4.1222578e-04,\n",
       "       -1.0668917e-03, -1.0090243e-03, -1.6434486e-03, -1.0506640e-04,\n",
       "        1.0191359e-03, -6.2437344e-04, -1.0817453e-03,  8.8560249e-04,\n",
       "       -1.4572969e-03,  6.4839114e-04,  4.4141297e-04, -1.2450072e-03,\n",
       "        3.4924460e-04, -9.8105113e-04, -9.7378524e-04, -1.9815133e-04,\n",
       "       -1.8950927e-04, -9.8531216e-04,  5.7443278e-04,  1.9900093e-03,\n",
       "        7.1994866e-05,  9.9570793e-04, -1.7088592e-03,  1.3490169e-03],\n",
       "      dtype=float32)"
      ]
     },
     "execution_count": 42,
     "metadata": {},
     "output_type": "execute_result"
    }
   ],
   "source": [
    "# Word Embedding for Word \"Computer\"\n",
    "\n",
    "our_fasttext_model.wv[\"computer\"]"
   ]
  },
  {
   "cell_type": "markdown",
   "metadata": {
    "papermill": {
     "duration": 0.083782,
     "end_time": "2021-12-07T14:35:58.019416",
     "exception": false,
     "start_time": "2021-12-07T14:35:57.935634",
     "status": "completed"
    },
    "tags": []
   },
   "source": [
    "我们可以观察到得到的结果不是很好，因为我没有很好地调整超参数，你可以完成这个任务，如果你得到了好的结果，那么也让我知道。"
   ]
  },
  {
   "cell_type": "markdown",
   "metadata": {
    "papermill": {
     "duration": 0.08318,
     "end_time": "2021-12-07T14:35:58.185552",
     "exception": false,
     "start_time": "2021-12-07T14:35:58.102372",
     "status": "completed"
    },
    "tags": []
   },
   "source": [
    "这两种方法的一个潜在问题是，它们没有考虑词语的上下文。举个例子，“cat sat on mat” 和 “mat sat on cat.” 这两个句子在这些方法中都有相同的表示，但它们显然有着非常不同的含义。让我们看看另一种方法，**Doc2vec**，它允许我们通过考虑文本中单词的上下文，直接学习任意长度文本（短语、句子、段落和文档）的表示。\n",
    "\n",
    "您可以非常详细地探索 Doc2Vec，我还将尝试在未来的版本中介绍它的详细信息"
   ]
  },
  {
   "cell_type": "markdown",
   "metadata": {
    "papermill": {
     "duration": 0.083164,
     "end_time": "2021-12-07T14:35:58.353154",
     "exception": false,
     "start_time": "2021-12-07T14:35:58.269990",
     "status": "completed"
    },
    "tags": []
   },
   "source": [
    "**关于单词嵌入的要点**\n",
    "\n",
    "1.根据他们在训练数据中看到的情况，所有文本表示都是**固有偏见**。例如，一个在技术新闻或文章方面受过大量训练的嵌入模型很可能会认为苹果更接近微软或Facebook，而不是橘子或梨。\n",
    "\n",
    "2.与基本矢量化方法不同，预训练的嵌入通常是 **大型文件（几GB）**，这在某些部署场景中可能会造成问题。这是我们在使用它们时需要解决的问题，否则，它可能会成为性能方面的工程瓶颈。Word2vec 模型占用约 4.5GB 内存。"
   ]
  },
  {
   "cell_type": "markdown",
   "metadata": {
    "papermill": {
     "duration": 0.081616,
     "end_time": "2021-12-07T14:35:58.517712",
     "exception": false,
     "start_time": "2021-12-07T14:35:58.436096",
     "status": "completed"
    },
    "tags": []
   },
   "source": [
    "<h1  style=\"text-align: center\" class=\"list-group-item list-group-item-action active\">可视化词向量 (Visualizing Embeddings)</h1><a id = \"11\" ></a>\n",
    "\n",
    "到目前为止，我们已经看到了各种表示文本的矢量化技术。获得的向量被用作当前 NLP 任务的特征。任何 ML 项目的一个重要方面是特征探索。视觉探索是任何数据相关问题的一个非常重要的方面。即使嵌入是低维向量，即使 100 或 300 维也太高，无法可视化。\n",
    "\n",
    "t-SNE 或 t-distributed Stochastic Neighboring Embedding 有助于我们解决这个问题。这是一种通过将高维数据（如嵌入）简化为二维或三维数据来可视化的技术。该技术采用嵌入（或任何数据），并研究如何使用较小的维度最佳地表示输入数据，同时在原始高维输入空间和低维输出空间中保持相同的数据分布。因此，这使我们能够绘制和可视化输入数据。这有助于了解单词嵌入的空间。\n",
    "\n",
    "现在让我们绘制不同嵌入方案词汇表中最相似单词的散点图。"
   ]
  },
  {
   "cell_type": "code",
   "execution_count": 43,
   "metadata": {
    "execution": {
     "iopub.execute_input": "2021-12-07T14:35:58.694569Z",
     "iopub.status.busy": "2021-12-07T14:35:58.693780Z",
     "iopub.status.idle": "2021-12-07T14:36:03.015835Z",
     "shell.execute_reply": "2021-12-07T14:36:03.014735Z",
     "shell.execute_reply.started": "2021-12-07T14:11:02.370344Z"
    },
    "papermill": {
     "duration": 4.411097,
     "end_time": "2021-12-07T14:36:03.016022",
     "exception": false,
     "start_time": "2021-12-07T14:35:58.604925",
     "status": "completed"
    },
    "tags": []
   },
   "outputs": [],
   "source": [
    "# Visualizing Word2vec Word Embedding\n",
    "\n",
    "keys = [\n",
    "    \"India\",\n",
    "    \"good\",\n",
    "    \"friday\",\n",
    "    \"science\",\n",
    "    \"Twitter\",\n",
    "    \"masters\",\n",
    "    \"computer\",\n",
    "    \"election\",\n",
    "    \"costly\",\n",
    "    \"learning\",\n",
    "    \"finance\",\n",
    "    \"machine\",\n",
    "    \"android\",\n",
    "    \"peace\",\n",
    "    \"nature\",\n",
    "    \"war\",\n",
    "]\n",
    "\n",
    "words_clusters = []\n",
    "embeddings_clusters = []\n",
    "\n",
    "for word in keys:\n",
    "\n",
    "    words = []\n",
    "    embeddings = []\n",
    "\n",
    "    for similar_word, _ in Word2VecModel.most_similar(word, topn=30):\n",
    "        words.append(similar_word)\n",
    "        embeddings.append(Word2VecModel[word])\n",
    "    words_clusters.append(words)\n",
    "    embeddings_clusters.append(embeddings)"
   ]
  },
  {
   "cell_type": "code",
   "execution_count": 44,
   "metadata": {
    "execution": {
     "iopub.execute_input": "2021-12-07T14:36:03.189193Z",
     "iopub.status.busy": "2021-12-07T14:36:03.188073Z",
     "iopub.status.idle": "2021-12-07T14:36:07.319556Z",
     "shell.execute_reply": "2021-12-07T14:36:07.320222Z",
     "shell.execute_reply.started": "2021-12-07T14:11:27.983550Z"
    },
    "papermill": {
     "duration": 4.221713,
     "end_time": "2021-12-07T14:36:07.320420",
     "exception": false,
     "start_time": "2021-12-07T14:36:03.098707",
     "status": "completed"
    },
    "tags": []
   },
   "outputs": [],
   "source": [
    "from sklearn.manifold import TSNE\n",
    "\n",
    "embedding_array = np.array(embeddings_clusters)\n",
    "n, m, k = embedding_array.shape\n",
    "\n",
    "tsne_2d_model = TSNE(\n",
    "    perplexity=15, n_components=2, n_iter=4000, random_state=11, init=\"pca\"\n",
    ")\n",
    "tsne_embeddings = np.array(\n",
    "    tsne_2d_model.fit_transform(embedding_array.reshape(n * m, k))\n",
    ").reshape(n, m, 2)"
   ]
  },
  {
   "cell_type": "code",
   "execution_count": 45,
   "metadata": {
    "execution": {
     "iopub.execute_input": "2021-12-07T14:36:07.528137Z",
     "iopub.status.busy": "2021-12-07T14:36:07.527411Z",
     "iopub.status.idle": "2021-12-07T14:36:07.563078Z",
     "shell.execute_reply": "2021-12-07T14:36:07.563738Z",
     "shell.execute_reply.started": "2021-12-07T14:11:32.066008Z"
    },
    "papermill": {
     "duration": 0.145254,
     "end_time": "2021-12-07T14:36:07.563934",
     "exception": false,
     "start_time": "2021-12-07T14:36:07.418680",
     "status": "completed"
    },
    "tags": []
   },
   "outputs": [],
   "source": [
    "import matplotlib.cm as cm\n",
    "import matplotlib.pyplot as plt\n",
    "\n",
    "%matplotlib inline\n",
    "\n",
    "\n",
    "def plot_most_similar_words(labels, embedding_cluster, word_cluster, title):\n",
    "\n",
    "    colors = cm.rainbow(np.linspace(0, 1, len(labels)))\n",
    "    plt.figure(figsize=(16, 9))\n",
    "    for label, embeddings, words, color in zip(\n",
    "        labels, embedding_cluster, word_cluster, colors\n",
    "    ):\n",
    "        x = embeddings[:, 0]\n",
    "        y = embeddings[:, 1]\n",
    "        plt.scatter(x, y, c=color, alpha=0.7, label=label)\n",
    "    plt.legend(loc=4)\n",
    "    plt.title(title)\n",
    "    plt.grid(True)\n",
    "    plt.show()"
   ]
  },
  {
   "cell_type": "code",
   "execution_count": 46,
   "metadata": {
    "execution": {
     "iopub.execute_input": "2021-12-07T14:36:07.773186Z",
     "iopub.status.busy": "2021-12-07T14:36:07.772447Z",
     "iopub.status.idle": "2021-12-07T14:36:08.476022Z",
     "shell.execute_reply": "2021-12-07T14:36:08.476538Z",
     "shell.execute_reply.started": "2021-12-07T14:11:32.080852Z"
    },
    "papermill": {
     "duration": 0.813786,
     "end_time": "2021-12-07T14:36:08.476705",
     "exception": false,
     "start_time": "2021-12-07T14:36:07.662919",
     "status": "completed"
    },
    "tags": []
   },
   "outputs": [
    {
     "data": {
      "image/png": "[encoded data removed]",
      "text/plain": [
       "<Figure size 1152x648 with 1 Axes>"
      ]
     },
     "metadata": {
      "needs_background": "light"
     },
     "output_type": "display_data"
    }
   ],
   "source": [
    "plot_most_similar_words(\n",
    "    keys, tsne_embeddings, words_clusters, \"Visualizing Word2vec Word Embedding\"\n",
    ")"
   ]
  },
  {
   "cell_type": "markdown",
   "metadata": {
    "papermill": {
     "duration": 0.083427,
     "end_time": "2021-12-07T14:36:08.645420",
     "exception": false,
     "start_time": "2021-12-07T14:36:08.561993",
     "status": "completed"
    },
    "tags": []
   },
   "source": [
    "您可以可视化和分析本笔记本中讨论的每个嵌入，还可以向我建议一些新的单词嵌入可视化技术。"
   ]
  },
  {
   "cell_type": "code",
   "execution_count": null,
   "metadata": {},
   "outputs": [],
   "source": []
  }
 ],
 "metadata": {
  "kernelspec": {
   "display_name": "Python 3 (ipykernel)",
   "language": "python",
   "name": "python3"
  },
  "language_info": {
   "codemirror_mode": {
    "name": "ipython",
    "version": 3
   },
   "file_extension": ".py",
   "mimetype": "text/x-python",
   "name": "python",
   "nbconvert_exporter": "python",
   "pygments_lexer": "ipython3",
   "version": "3.8.3"
  },
  "papermill": {
   "default_parameters": {},
   "duration": 853.142536,
   "end_time": "2021-12-07T14:36:10.246332",
   "environment_variables": {},
   "exception": null,
   "input_path": "__notebook__.ipynb",
   "output_path": "__notebook__.ipynb",
   "parameters": {},
   "start_time": "2021-12-07T14:21:57.103796",
   "version": "2.3.3"
  },
  "toc-autonumbering": false,
  "toc-showmarkdowntxt": false,
  "vscode": {
   "interpreter": {
    "hash": "d0f4eeb065279ab646599e1fb80dbec7830f541a8c87b319bf23cae632500114"
   }
  }
 },
 "nbformat": 4,
 "nbformat_minor": 5
}
