{
 "cells": [
  {
   "cell_type": "markdown",
   "metadata": {},
   "source": [
    "# 下载数据\n",
    "\n",
    "链接: https://pan.baidu.com/s/1L-TAJG55jNCsbVgAYxgV7g 提取码: ciel\n",
    "\n",
    "课上使用的数据，课件下课给哈~"
   ]
  },
  {
   "cell_type": "markdown",
   "metadata": {},
   "source": [
    "# 环境部署\n",
    "\n",
    "```bash\n",
    "conda create --name myenv python=3.9\n",
    "```\n",
    "\n",
    "环境部署是工程师的第一道坎。"
   ]
  },
  {
   "cell_type": "markdown",
   "metadata": {},
   "source": [
    "## 导入需要用到的包 (环境部署)"
   ]
  },
  {
   "cell_type": "code",
   "execution_count": 1,
   "metadata": {},
   "outputs": [
    {
     "name": "stdout",
     "output_type": "stream",
     "text": [
      "Versions\n",
      "Pandas: 1.0.3\n",
      "Numpy: 1.18.4\n",
      "re: 2.2.1\n",
      "spaCy: 3.7.2\n",
      "nltk: 3.8.1\n"
     ]
    },
    {
     "data": {
      "application/vnd.jupyter.widget-view+json": {
       "model_id": "82f2306496cc46e9a652dae3cae1858e",
       "version_major": 2,
       "version_minor": 0
      },
      "text/plain": [
       "0it [00:00, ?it/s]"
      ]
     },
     "metadata": {},
     "output_type": "display_data"
    }
   ],
   "source": [
    "print(\"Versions\")\n",
    "# 数据科学\n",
    "import pandas as pd\n",
    "print(f\"Pandas: {pd.__version__}\")\n",
    "import numpy as np\n",
    "print(f\"Numpy: {np.__version__}\")\n",
    "\n",
    "# 可视化 \n",
    "import seaborn as sns\n",
    "import matplotlib.pyplot as plt\n",
    "sns.set(style=\"ticks\", color_codes=True)\n",
    "from bokeh.io import output_file, show\n",
    "from bokeh.plotting import figure\n",
    "from bokeh.models import ColorBar, ColumnDataSource\n",
    "from bokeh.colors import Color\n",
    "\n",
    "# 优化可视化\n",
    "sns.set_style('whitegrid')\n",
    "\n",
    "# 文本可视化工具包\n",
    "import scattertext as st\n",
    "\n",
    "# 正则表达式\n",
    "import re\n",
    "print(f're: {re.__version__}')\n",
    "\n",
    "# 预处理\n",
    "import spacy\n",
    "print(f'spaCy: {spacy.__version__}')\n",
    "import nltk\n",
    "print(f'nltk: {nltk.__version__}')\n",
    "from spellchecker import SpellChecker\n",
    "from nltk.corpus import stopwords\n",
    "from nltk.tokenize import word_tokenize \n",
    "from sklearn.feature_extraction.text import CountVectorizer\n",
    "from nltk.tokenize import casual_tokenize\n",
    "from nltk.tokenize import TweetTokenizer\n",
    "from nltk.stem import WordNetLemmatizer\n",
    "from nltk.corpus import wordnet\n",
    "import yaml\n",
    "\n",
    "# Emoji 分析和语言探索\n",
    "from spacymoji import Emoji\n",
    "import spacy_cld\n",
    "# 对于计数器\n",
    "from collections import Counter\n",
    "\n",
    "# 进度条工具包\n",
    "from tqdm.notebook import tqdm as tqdm\n",
    "tqdm().pandas()  # Enable tracking of execution progress"
   ]
  },
  {
   "cell_type": "markdown",
   "metadata": {},
   "source": [
    "# 探索分析数据(EDA), 数据整体(Wrangling), and 预处理(Initial Preprocessing)"
   ]
  },
  {
   "cell_type": "markdown",
   "metadata": {},
   "source": [
    "使用下面数据集：\n",
    "* Twitter上的客户支持https://www.kaggle.com/thoughtvector/customer-support-on-twitter\n",
    "  \n",
    "  \n",
    "## 数据简述\n",
    " Twitter上的客户支持数据集是一个庞大的现代推文和回复语料库，旨在帮助自然语言理解和对话模型的创新，并研究现代客户支持实践和影响。\n",
    " \n",
    "##  上下文\n",
    "自然语言仍然是我们人类经验中最密集的编码，NLP的创新加速了对这些数据的理解，但推动这一创新的数据集与当今使用的真实语言不匹配。推特上的客户支持数据集提供了大量消费者和推特上客户支持代理之间的现代英语（主要）对话，与其他对话文本数据集相比，它具有三个重要优势：\n",
    "\n",
    "- 专注-消费者联系客户支持以解决特定问题，需要讨论的问题相对较少，尤其是与reddit语料库等不受约束的对话数据集相比。\n",
    "- 自然-该数据集中的消费者比Ubuntu对话语料库中的消费者来自更广泛的领域，并且比康奈尔电影对话语料库更自然和最近使用键入文本。\n",
    "- 简洁——推特的简洁引起了支持代理（而不是照本宣科）更自然的反应，并对问题和解决方案进行了中肯的描述。此外，它还方便地为循环网络提供相对较低的消息限制大小。\n",
    "    \n",
    "## 灵感\n",
    "这个数据集的大小和广度激发了许多有趣的问题：\n",
    "    \n",
    "- 我们能预测公司的反应吗？考虑到每家公司处理的一组有限的主题，答案似乎是肯定的！\n",
    "- 请求会过时吗？与最糟糕的公司相比，最好的公司的反应有多快？\n",
    "- 我们能为主题聚类学习高质量的密集嵌入或相似性表示吗？\n",
    "- 语气如何影响客户支持对话？说对不起有帮助吗？\n",
    "- 我们能帮助公司发现新的问题，或者对客户影响最大的问题吗？\n",
    "\n",
    "## 内容\n",
    "数据集是一个CSV，其中每一行都是一条推文。不同的列如下所述。包含的每一个对话都至少有一个来自消费者的请求和一个来自公司的响应。哪些用户ID是公司用户ID可以使用入站字段计算。\n",
    "    \n",
    "- tweet_id\n",
    "    推特的唯一匿名ID。由response_weet_id和in_response_to_weet_id引用。\n",
    "    \n",
    "- author_id\n",
    "    一个唯一的匿名用户ID。数据集中的@s已被替换为其关联的匿名用户标识。\n",
    "\n",
    "- inbound\n",
    "    该推文是否为在推特上提供客户支持的公司的“入站”推文。当重新组织数据以训练会话模型时，此功能非常有用。\n",
    "    \n",
    "- created_at\n",
    "    发送推文的日期和时间。\n",
    "    \n",
    "- text\n",
    "    推特内容。电话号码和电子邮件地址等敏感信息将替换为__email__等掩码值。\n",
    "    \n",
    "- response_weet_id\n",
    "    作为对此推文的响应的推文的ID，逗号分隔。\n",
    "    \n",
    "- in_response_to_weet_id\n",
    "    此推文所响应的推文的ID（如果有的话）。"
   ]
  },
  {
   "cell_type": "markdown",
   "metadata": {},
   "source": [
    "## 数据展示"
   ]
  },
  {
   "cell_type": "code",
   "execution_count": 2,
   "metadata": {},
   "outputs": [
    {
     "name": "stdout",
     "output_type": "stream",
     "text": [
      "All data has shape (2811774, 7)\n"
     ]
    },
    {
     "data": {
      "text/html": [
       "<style  type=\"text/css\" >\n",
       "    #T_43df21de_aa10_11ee_b36d_0242ac110005row0_col0 {\n",
       "            background-color:  black;\n",
       "            color:  lawngreen;\n",
       "            border-color:  white;\n",
       "            color:  cyan;\n",
       "            background-color:  #08306b;\n",
       "            color:  #f1f1f1;\n",
       "        }    #T_43df21de_aa10_11ee_b36d_0242ac110005row0_col1 {\n",
       "            background-color:  black;\n",
       "            color:  lawngreen;\n",
       "            border-color:  white;\n",
       "            color:  lawngreen;\n",
       "        }    #T_43df21de_aa10_11ee_b36d_0242ac110005row0_col2 {\n",
       "            background-color:  black;\n",
       "            color:  lawngreen;\n",
       "            border-color:  white;\n",
       "            color:  cyan;\n",
       "        }    #T_43df21de_aa10_11ee_b36d_0242ac110005row0_col3 {\n",
       "            background-color:  black;\n",
       "            color:  lawngreen;\n",
       "            border-color:  white;\n",
       "            color:  lawngreen;\n",
       "        }    #T_43df21de_aa10_11ee_b36d_0242ac110005row0_col4 {\n",
       "            background-color:  black;\n",
       "            color:  lawngreen;\n",
       "            border-color:  white;\n",
       "            color:  lawngreen;\n",
       "        }    #T_43df21de_aa10_11ee_b36d_0242ac110005row0_col5 {\n",
       "            background-color:  black;\n",
       "            color:  lawngreen;\n",
       "            border-color:  white;\n",
       "            color:  cyan;\n",
       "        }    #T_43df21de_aa10_11ee_b36d_0242ac110005row0_col6 {\n",
       "            background-color:  black;\n",
       "            color:  lawngreen;\n",
       "            border-color:  white;\n",
       "            color:  cyan;\n",
       "            background-color:  #08306b;\n",
       "            color:  #f1f1f1;\n",
       "        }    #T_43df21de_aa10_11ee_b36d_0242ac110005row1_col0 {\n",
       "            background-color:  black;\n",
       "            color:  lawngreen;\n",
       "            border-color:  white;\n",
       "            color:  cyan;\n",
       "            background-color:  #08306b;\n",
       "            color:  #f1f1f1;\n",
       "        }    #T_43df21de_aa10_11ee_b36d_0242ac110005row1_col1 {\n",
       "            background-color:  black;\n",
       "            color:  lawngreen;\n",
       "            border-color:  white;\n",
       "            color:  lawngreen;\n",
       "        }    #T_43df21de_aa10_11ee_b36d_0242ac110005row1_col2 {\n",
       "            background-color:  black;\n",
       "            color:  lawngreen;\n",
       "            border-color:  white;\n",
       "            color:  cyan;\n",
       "        }    #T_43df21de_aa10_11ee_b36d_0242ac110005row1_col3 {\n",
       "            background-color:  black;\n",
       "            color:  lawngreen;\n",
       "            border-color:  white;\n",
       "            color:  lawngreen;\n",
       "        }    #T_43df21de_aa10_11ee_b36d_0242ac110005row1_col4 {\n",
       "            background-color:  black;\n",
       "            color:  lawngreen;\n",
       "            border-color:  white;\n",
       "            color:  lawngreen;\n",
       "        }    #T_43df21de_aa10_11ee_b36d_0242ac110005row1_col5 {\n",
       "            background-color:  black;\n",
       "            color:  lawngreen;\n",
       "            border-color:  white;\n",
       "            color:  lawngreen;\n",
       "        }    #T_43df21de_aa10_11ee_b36d_0242ac110005row1_col6 {\n",
       "            background-color:  black;\n",
       "            color:  lawngreen;\n",
       "            border-color:  white;\n",
       "            color:  cyan;\n",
       "            background-color:  #000000;\n",
       "            color:  #f1f1f1;\n",
       "        }    #T_43df21de_aa10_11ee_b36d_0242ac110005row2_col0 {\n",
       "            background-color:  black;\n",
       "            color:  lawngreen;\n",
       "            border-color:  white;\n",
       "            color:  cyan;\n",
       "            background-color:  #f7fbff;\n",
       "            color:  #000000;\n",
       "        }    #T_43df21de_aa10_11ee_b36d_0242ac110005row2_col1 {\n",
       "            background-color:  black;\n",
       "            color:  lawngreen;\n",
       "            border-color:  white;\n",
       "            color:  lawngreen;\n",
       "        }    #T_43df21de_aa10_11ee_b36d_0242ac110005row2_col2 {\n",
       "            background-color:  black;\n",
       "            color:  lawngreen;\n",
       "            border-color:  white;\n",
       "            color:  cyan;\n",
       "        }    #T_43df21de_aa10_11ee_b36d_0242ac110005row2_col3 {\n",
       "            background-color:  black;\n",
       "            color:  lawngreen;\n",
       "            border-color:  white;\n",
       "            color:  lawngreen;\n",
       "        }    #T_43df21de_aa10_11ee_b36d_0242ac110005row2_col4 {\n",
       "            background-color:  black;\n",
       "            color:  lawngreen;\n",
       "            border-color:  white;\n",
       "            color:  lawngreen;\n",
       "        }    #T_43df21de_aa10_11ee_b36d_0242ac110005row2_col5 {\n",
       "            background-color:  black;\n",
       "            color:  lawngreen;\n",
       "            border-color:  white;\n",
       "            color:  cyan;\n",
       "        }    #T_43df21de_aa10_11ee_b36d_0242ac110005row2_col6 {\n",
       "            background-color:  black;\n",
       "            color:  lawngreen;\n",
       "            border-color:  white;\n",
       "            color:  cyan;\n",
       "            background-color:  #f7fbff;\n",
       "            color:  #000000;\n",
       "        }    #T_43df21de_aa10_11ee_b36d_0242ac110005row3_col0 {\n",
       "            background-color:  black;\n",
       "            color:  lawngreen;\n",
       "            border-color:  white;\n",
       "            color:  cyan;\n",
       "            background-color:  #08306b;\n",
       "            color:  #f1f1f1;\n",
       "        }    #T_43df21de_aa10_11ee_b36d_0242ac110005row3_col1 {\n",
       "            background-color:  black;\n",
       "            color:  lawngreen;\n",
       "            border-color:  white;\n",
       "            color:  lawngreen;\n",
       "        }    #T_43df21de_aa10_11ee_b36d_0242ac110005row3_col2 {\n",
       "            background-color:  black;\n",
       "            color:  lawngreen;\n",
       "            border-color:  white;\n",
       "            color:  cyan;\n",
       "        }    #T_43df21de_aa10_11ee_b36d_0242ac110005row3_col3 {\n",
       "            background-color:  black;\n",
       "            color:  lawngreen;\n",
       "            border-color:  white;\n",
       "            color:  lawngreen;\n",
       "        }    #T_43df21de_aa10_11ee_b36d_0242ac110005row3_col4 {\n",
       "            background-color:  black;\n",
       "            color:  lawngreen;\n",
       "            border-color:  white;\n",
       "            color:  lawngreen;\n",
       "        }    #T_43df21de_aa10_11ee_b36d_0242ac110005row3_col5 {\n",
       "            background-color:  black;\n",
       "            color:  lawngreen;\n",
       "            border-color:  white;\n",
       "            color:  cyan;\n",
       "        }    #T_43df21de_aa10_11ee_b36d_0242ac110005row3_col6 {\n",
       "            background-color:  black;\n",
       "            color:  lawngreen;\n",
       "            border-color:  white;\n",
       "            color:  cyan;\n",
       "            background-color:  #08306b;\n",
       "            color:  #f1f1f1;\n",
       "        }    #T_43df21de_aa10_11ee_b36d_0242ac110005row4_col0 {\n",
       "            background-color:  black;\n",
       "            color:  lawngreen;\n",
       "            border-color:  white;\n",
       "            color:  cyan;\n",
       "            background-color:  #08306b;\n",
       "            color:  #f1f1f1;\n",
       "        }    #T_43df21de_aa10_11ee_b36d_0242ac110005row4_col1 {\n",
       "            background-color:  black;\n",
       "            color:  lawngreen;\n",
       "            border-color:  white;\n",
       "            color:  lawngreen;\n",
       "        }    #T_43df21de_aa10_11ee_b36d_0242ac110005row4_col2 {\n",
       "            background-color:  black;\n",
       "            color:  lawngreen;\n",
       "            border-color:  white;\n",
       "            color:  cyan;\n",
       "        }    #T_43df21de_aa10_11ee_b36d_0242ac110005row4_col3 {\n",
       "            background-color:  black;\n",
       "            color:  lawngreen;\n",
       "            border-color:  white;\n",
       "            color:  lawngreen;\n",
       "        }    #T_43df21de_aa10_11ee_b36d_0242ac110005row4_col4 {\n",
       "            background-color:  black;\n",
       "            color:  lawngreen;\n",
       "            border-color:  white;\n",
       "            color:  lawngreen;\n",
       "        }    #T_43df21de_aa10_11ee_b36d_0242ac110005row4_col5 {\n",
       "            background-color:  black;\n",
       "            color:  lawngreen;\n",
       "            border-color:  white;\n",
       "            color:  lawngreen;\n",
       "        }    #T_43df21de_aa10_11ee_b36d_0242ac110005row4_col6 {\n",
       "            background-color:  black;\n",
       "            color:  lawngreen;\n",
       "            border-color:  white;\n",
       "            color:  cyan;\n",
       "            background-color:  #000000;\n",
       "            color:  #f1f1f1;\n",
       "        }    #T_43df21de_aa10_11ee_b36d_0242ac110005row5_col0 {\n",
       "            background-color:  black;\n",
       "            color:  lawngreen;\n",
       "            border-color:  white;\n",
       "            color:  cyan;\n",
       "            background-color:  #08306b;\n",
       "            color:  #f1f1f1;\n",
       "        }    #T_43df21de_aa10_11ee_b36d_0242ac110005row5_col1 {\n",
       "            background-color:  black;\n",
       "            color:  lawngreen;\n",
       "            border-color:  white;\n",
       "            color:  lawngreen;\n",
       "        }    #T_43df21de_aa10_11ee_b36d_0242ac110005row5_col2 {\n",
       "            background-color:  black;\n",
       "            color:  lawngreen;\n",
       "            border-color:  white;\n",
       "            color:  cyan;\n",
       "        }    #T_43df21de_aa10_11ee_b36d_0242ac110005row5_col3 {\n",
       "            background-color:  black;\n",
       "            color:  lawngreen;\n",
       "            border-color:  white;\n",
       "            color:  lawngreen;\n",
       "        }    #T_43df21de_aa10_11ee_b36d_0242ac110005row5_col4 {\n",
       "            background-color:  black;\n",
       "            color:  lawngreen;\n",
       "            border-color:  white;\n",
       "            color:  lawngreen;\n",
       "        }    #T_43df21de_aa10_11ee_b36d_0242ac110005row5_col5 {\n",
       "            background-color:  black;\n",
       "            color:  lawngreen;\n",
       "            border-color:  white;\n",
       "            color:  cyan;\n",
       "        }    #T_43df21de_aa10_11ee_b36d_0242ac110005row5_col6 {\n",
       "            background-color:  black;\n",
       "            color:  lawngreen;\n",
       "            border-color:  white;\n",
       "            color:  cyan;\n",
       "            background-color:  #08306b;\n",
       "            color:  #f1f1f1;\n",
       "        }    #T_43df21de_aa10_11ee_b36d_0242ac110005row6_col0 {\n",
       "            background-color:  black;\n",
       "            color:  lawngreen;\n",
       "            border-color:  white;\n",
       "            color:  cyan;\n",
       "            background-color:  #08306b;\n",
       "            color:  #f1f1f1;\n",
       "        }    #T_43df21de_aa10_11ee_b36d_0242ac110005row6_col1 {\n",
       "            background-color:  black;\n",
       "            color:  lawngreen;\n",
       "            border-color:  white;\n",
       "            color:  lawngreen;\n",
       "        }    #T_43df21de_aa10_11ee_b36d_0242ac110005row6_col2 {\n",
       "            background-color:  black;\n",
       "            color:  lawngreen;\n",
       "            border-color:  white;\n",
       "            color:  cyan;\n",
       "        }    #T_43df21de_aa10_11ee_b36d_0242ac110005row6_col3 {\n",
       "            background-color:  black;\n",
       "            color:  lawngreen;\n",
       "            border-color:  white;\n",
       "            color:  lawngreen;\n",
       "        }    #T_43df21de_aa10_11ee_b36d_0242ac110005row6_col4 {\n",
       "            background-color:  black;\n",
       "            color:  lawngreen;\n",
       "            border-color:  white;\n",
       "            color:  lawngreen;\n",
       "        }    #T_43df21de_aa10_11ee_b36d_0242ac110005row6_col5 {\n",
       "            background-color:  black;\n",
       "            color:  lawngreen;\n",
       "            border-color:  white;\n",
       "            color:  lawngreen;\n",
       "        }    #T_43df21de_aa10_11ee_b36d_0242ac110005row6_col6 {\n",
       "            background-color:  black;\n",
       "            color:  lawngreen;\n",
       "            border-color:  white;\n",
       "            color:  cyan;\n",
       "            background-color:  #000000;\n",
       "            color:  #f1f1f1;\n",
       "        }    #T_43df21de_aa10_11ee_b36d_0242ac110005row7_col0 {\n",
       "            background-color:  black;\n",
       "            color:  lawngreen;\n",
       "            border-color:  white;\n",
       "            color:  cyan;\n",
       "            background-color:  #084082;\n",
       "            color:  #f1f1f1;\n",
       "        }    #T_43df21de_aa10_11ee_b36d_0242ac110005row7_col1 {\n",
       "            background-color:  black;\n",
       "            color:  lawngreen;\n",
       "            border-color:  white;\n",
       "            color:  lawngreen;\n",
       "        }    #T_43df21de_aa10_11ee_b36d_0242ac110005row7_col2 {\n",
       "            background-color:  black;\n",
       "            color:  lawngreen;\n",
       "            border-color:  white;\n",
       "            color:  cyan;\n",
       "        }    #T_43df21de_aa10_11ee_b36d_0242ac110005row7_col3 {\n",
       "            background-color:  black;\n",
       "            color:  lawngreen;\n",
       "            border-color:  white;\n",
       "            color:  lawngreen;\n",
       "        }    #T_43df21de_aa10_11ee_b36d_0242ac110005row7_col4 {\n",
       "            background-color:  black;\n",
       "            color:  lawngreen;\n",
       "            border-color:  white;\n",
       "            color:  lawngreen;\n",
       "        }    #T_43df21de_aa10_11ee_b36d_0242ac110005row7_col5 {\n",
       "            background-color:  black;\n",
       "            color:  lawngreen;\n",
       "            border-color:  white;\n",
       "            color:  cyan;\n",
       "        }    #T_43df21de_aa10_11ee_b36d_0242ac110005row7_col6 {\n",
       "            background-color:  black;\n",
       "            color:  lawngreen;\n",
       "            border-color:  white;\n",
       "            color:  cyan;\n",
       "            background-color:  #084082;\n",
       "            color:  #f1f1f1;\n",
       "        }    #T_43df21de_aa10_11ee_b36d_0242ac110005row8_col0 {\n",
       "            background-color:  black;\n",
       "            color:  lawngreen;\n",
       "            border-color:  white;\n",
       "            color:  cyan;\n",
       "            background-color:  #08306b;\n",
       "            color:  #f1f1f1;\n",
       "        }    #T_43df21de_aa10_11ee_b36d_0242ac110005row8_col1 {\n",
       "            background-color:  black;\n",
       "            color:  lawngreen;\n",
       "            border-color:  white;\n",
       "            color:  lawngreen;\n",
       "        }    #T_43df21de_aa10_11ee_b36d_0242ac110005row8_col2 {\n",
       "            background-color:  black;\n",
       "            color:  lawngreen;\n",
       "            border-color:  white;\n",
       "            color:  cyan;\n",
       "        }    #T_43df21de_aa10_11ee_b36d_0242ac110005row8_col3 {\n",
       "            background-color:  black;\n",
       "            color:  lawngreen;\n",
       "            border-color:  white;\n",
       "            color:  lawngreen;\n",
       "        }    #T_43df21de_aa10_11ee_b36d_0242ac110005row8_col4 {\n",
       "            background-color:  black;\n",
       "            color:  lawngreen;\n",
       "            border-color:  white;\n",
       "            color:  lawngreen;\n",
       "        }    #T_43df21de_aa10_11ee_b36d_0242ac110005row8_col5 {\n",
       "            background-color:  black;\n",
       "            color:  lawngreen;\n",
       "            border-color:  white;\n",
       "            color:  cyan;\n",
       "        }    #T_43df21de_aa10_11ee_b36d_0242ac110005row8_col6 {\n",
       "            background-color:  black;\n",
       "            color:  lawngreen;\n",
       "            border-color:  white;\n",
       "            color:  cyan;\n",
       "            background-color:  #08306b;\n",
       "            color:  #f1f1f1;\n",
       "        }    #T_43df21de_aa10_11ee_b36d_0242ac110005row9_col0 {\n",
       "            background-color:  black;\n",
       "            color:  lawngreen;\n",
       "            border-color:  white;\n",
       "            color:  cyan;\n",
       "            background-color:  #08306b;\n",
       "            color:  #f1f1f1;\n",
       "        }    #T_43df21de_aa10_11ee_b36d_0242ac110005row9_col1 {\n",
       "            background-color:  black;\n",
       "            color:  lawngreen;\n",
       "            border-color:  white;\n",
       "            color:  lawngreen;\n",
       "        }    #T_43df21de_aa10_11ee_b36d_0242ac110005row9_col2 {\n",
       "            background-color:  black;\n",
       "            color:  lawngreen;\n",
       "            border-color:  white;\n",
       "            color:  cyan;\n",
       "        }    #T_43df21de_aa10_11ee_b36d_0242ac110005row9_col3 {\n",
       "            background-color:  black;\n",
       "            color:  lawngreen;\n",
       "            border-color:  white;\n",
       "            color:  lawngreen;\n",
       "        }    #T_43df21de_aa10_11ee_b36d_0242ac110005row9_col4 {\n",
       "            background-color:  black;\n",
       "            color:  lawngreen;\n",
       "            border-color:  white;\n",
       "            color:  lawngreen;\n",
       "        }    #T_43df21de_aa10_11ee_b36d_0242ac110005row9_col5 {\n",
       "            background-color:  black;\n",
       "            color:  lawngreen;\n",
       "            border-color:  white;\n",
       "            color:  lawngreen;\n",
       "        }    #T_43df21de_aa10_11ee_b36d_0242ac110005row9_col6 {\n",
       "            background-color:  black;\n",
       "            color:  lawngreen;\n",
       "            border-color:  white;\n",
       "            color:  cyan;\n",
       "            background-color:  #000000;\n",
       "            color:  #f1f1f1;\n",
       "        }</style><table id=\"T_43df21de_aa10_11ee_b36d_0242ac110005\" ><thead>    <tr>        <th class=\"blank level0\" ></th>        <th class=\"col_heading level0 col0\" >tweet_id</th>        <th class=\"col_heading level0 col1\" >author_id</th>        <th class=\"col_heading level0 col2\" >inbound</th>        <th class=\"col_heading level0 col3\" >created_at</th>        <th class=\"col_heading level0 col4\" >text</th>        <th class=\"col_heading level0 col5\" >response_tweet_id</th>        <th class=\"col_heading level0 col6\" >in_response_to_tweet_id</th>    </tr></thead><tbody>\n",
       "                <tr>\n",
       "                        <th id=\"T_43df21de_aa10_11ee_b36d_0242ac110005level0_row0\" class=\"row_heading level0 row0\" >2811764</th>\n",
       "                        <td id=\"T_43df21de_aa10_11ee_b36d_0242ac110005row0_col0\" class=\"data row0 col0\" >2987943</td>\n",
       "                        <td id=\"T_43df21de_aa10_11ee_b36d_0242ac110005row0_col1\" class=\"data row0 col1\" >AirAsiaSupport</td>\n",
       "                        <td id=\"T_43df21de_aa10_11ee_b36d_0242ac110005row0_col2\" class=\"data row0 col2\" >False</td>\n",
       "                        <td id=\"T_43df21de_aa10_11ee_b36d_0242ac110005row0_col3\" class=\"data row0 col3\" >Wed Nov 22 07:54:57 +0000 2017</td>\n",
       "                        <td id=\"T_43df21de_aa10_11ee_b36d_0242ac110005row0_col4\" class=\"data row0 col4\" >@823868 Sorry but kindly try to clear browser,cache,cookies and try again. As it should be working just fine. Thanks - Ed</td>\n",
       "                        <td id=\"T_43df21de_aa10_11ee_b36d_0242ac110005row0_col5\" class=\"data row0 col5\" >nan</td>\n",
       "                        <td id=\"T_43df21de_aa10_11ee_b36d_0242ac110005row0_col6\" class=\"data row0 col6\" >2987944.000000</td>\n",
       "            </tr>\n",
       "            <tr>\n",
       "                        <th id=\"T_43df21de_aa10_11ee_b36d_0242ac110005level0_row1\" class=\"row_heading level0 row1\" >2811765</th>\n",
       "                        <td id=\"T_43df21de_aa10_11ee_b36d_0242ac110005row1_col0\" class=\"data row1 col0\" >2987944</td>\n",
       "                        <td id=\"T_43df21de_aa10_11ee_b36d_0242ac110005row1_col1\" class=\"data row1 col1\" >823868</td>\n",
       "                        <td id=\"T_43df21de_aa10_11ee_b36d_0242ac110005row1_col2\" class=\"data row1 col2\" >True</td>\n",
       "                        <td id=\"T_43df21de_aa10_11ee_b36d_0242ac110005row1_col3\" class=\"data row1 col3\" >Wed Nov 22 07:43:36 +0000 2017</td>\n",
       "                        <td id=\"T_43df21de_aa10_11ee_b36d_0242ac110005row1_col4\" class=\"data row1 col4\" >@AirAsiaSupport \n",
       "\n",
       "I am unable to do web checkin.  I am getting the below error.  Can you please check and revert?\n",
       "\n",
       "Thank you. https://t.co/4V1fT0TH5x</td>\n",
       "                        <td id=\"T_43df21de_aa10_11ee_b36d_0242ac110005row1_col5\" class=\"data row1 col5\" >2987943</td>\n",
       "                        <td id=\"T_43df21de_aa10_11ee_b36d_0242ac110005row1_col6\" class=\"data row1 col6\" >nan</td>\n",
       "            </tr>\n",
       "            <tr>\n",
       "                        <th id=\"T_43df21de_aa10_11ee_b36d_0242ac110005level0_row2\" class=\"row_heading level0 row2\" >2811766</th>\n",
       "                        <td id=\"T_43df21de_aa10_11ee_b36d_0242ac110005row2_col0\" class=\"data row2 col0\" >139628</td>\n",
       "                        <td id=\"T_43df21de_aa10_11ee_b36d_0242ac110005row2_col1\" class=\"data row2 col1\" >ArgosHelpers</td>\n",
       "                        <td id=\"T_43df21de_aa10_11ee_b36d_0242ac110005row2_col2\" class=\"data row2 col2\" >False</td>\n",
       "                        <td id=\"T_43df21de_aa10_11ee_b36d_0242ac110005row2_col3\" class=\"data row2 col3\" >Wed Nov 22 08:03:26 +0000 2017</td>\n",
       "                        <td id=\"T_43df21de_aa10_11ee_b36d_0242ac110005row2_col4\" class=\"data row2 col4\" >@134664 Can you Dm us your order number and we can look into this for you - Georgia</td>\n",
       "                        <td id=\"T_43df21de_aa10_11ee_b36d_0242ac110005row2_col5\" class=\"data row2 col5\" >nan</td>\n",
       "                        <td id=\"T_43df21de_aa10_11ee_b36d_0242ac110005row2_col6\" class=\"data row2 col6\" >139627.000000</td>\n",
       "            </tr>\n",
       "            <tr>\n",
       "                        <th id=\"T_43df21de_aa10_11ee_b36d_0242ac110005level0_row3\" class=\"row_heading level0 row3\" >2811767</th>\n",
       "                        <td id=\"T_43df21de_aa10_11ee_b36d_0242ac110005row3_col0\" class=\"data row3 col0\" >2987945</td>\n",
       "                        <td id=\"T_43df21de_aa10_11ee_b36d_0242ac110005row3_col1\" class=\"data row3 col1\" >VirginTrains</td>\n",
       "                        <td id=\"T_43df21de_aa10_11ee_b36d_0242ac110005row3_col2\" class=\"data row3 col2\" >False</td>\n",
       "                        <td id=\"T_43df21de_aa10_11ee_b36d_0242ac110005row3_col3\" class=\"data row3 col3\" >Wed Nov 22 08:27:34 +0000 2017</td>\n",
       "                        <td id=\"T_43df21de_aa10_11ee_b36d_0242ac110005row3_col4\" class=\"data row3 col4\" >@524544 That's a Peak service. The 09:56 is the first Off-Peak train from Crewe to London Euston ^CB</td>\n",
       "                        <td id=\"T_43df21de_aa10_11ee_b36d_0242ac110005row3_col5\" class=\"data row3 col5\" >nan</td>\n",
       "                        <td id=\"T_43df21de_aa10_11ee_b36d_0242ac110005row3_col6\" class=\"data row3 col6\" >2987946.000000</td>\n",
       "            </tr>\n",
       "            <tr>\n",
       "                        <th id=\"T_43df21de_aa10_11ee_b36d_0242ac110005level0_row4\" class=\"row_heading level0 row4\" >2811768</th>\n",
       "                        <td id=\"T_43df21de_aa10_11ee_b36d_0242ac110005row4_col0\" class=\"data row4 col0\" >2987946</td>\n",
       "                        <td id=\"T_43df21de_aa10_11ee_b36d_0242ac110005row4_col1\" class=\"data row4 col1\" >524544</td>\n",
       "                        <td id=\"T_43df21de_aa10_11ee_b36d_0242ac110005row4_col2\" class=\"data row4 col2\" >True</td>\n",
       "                        <td id=\"T_43df21de_aa10_11ee_b36d_0242ac110005row4_col3\" class=\"data row4 col3\" >Wed Nov 22 08:25:48 +0000 2017</td>\n",
       "                        <td id=\"T_43df21de_aa10_11ee_b36d_0242ac110005row4_col4\" class=\"data row4 col4\" >@VirginTrains Hope you are well? Does the 9.30am train from Crewe to Euston class as peak or off-peak? Thanks</td>\n",
       "                        <td id=\"T_43df21de_aa10_11ee_b36d_0242ac110005row4_col5\" class=\"data row4 col5\" >2987945</td>\n",
       "                        <td id=\"T_43df21de_aa10_11ee_b36d_0242ac110005row4_col6\" class=\"data row4 col6\" >nan</td>\n",
       "            </tr>\n",
       "            <tr>\n",
       "                        <th id=\"T_43df21de_aa10_11ee_b36d_0242ac110005level0_row5\" class=\"row_heading level0 row5\" >2811769</th>\n",
       "                        <td id=\"T_43df21de_aa10_11ee_b36d_0242ac110005row5_col0\" class=\"data row5 col0\" >2987947</td>\n",
       "                        <td id=\"T_43df21de_aa10_11ee_b36d_0242ac110005row5_col1\" class=\"data row5 col1\" >sprintcare</td>\n",
       "                        <td id=\"T_43df21de_aa10_11ee_b36d_0242ac110005row5_col2\" class=\"data row5 col2\" >False</td>\n",
       "                        <td id=\"T_43df21de_aa10_11ee_b36d_0242ac110005row5_col3\" class=\"data row5 col3\" >Wed Nov 22 08:43:51 +0000 2017</td>\n",
       "                        <td id=\"T_43df21de_aa10_11ee_b36d_0242ac110005row5_col4\" class=\"data row5 col4\" >@823869 Hey, we'd be happy to look into this for you. Please send us a Direct Message, so that we can further assist you. -TN</td>\n",
       "                        <td id=\"T_43df21de_aa10_11ee_b36d_0242ac110005row5_col5\" class=\"data row5 col5\" >nan</td>\n",
       "                        <td id=\"T_43df21de_aa10_11ee_b36d_0242ac110005row5_col6\" class=\"data row5 col6\" >2987948.000000</td>\n",
       "            </tr>\n",
       "            <tr>\n",
       "                        <th id=\"T_43df21de_aa10_11ee_b36d_0242ac110005level0_row6\" class=\"row_heading level0 row6\" >2811770</th>\n",
       "                        <td id=\"T_43df21de_aa10_11ee_b36d_0242ac110005row6_col0\" class=\"data row6 col0\" >2987948</td>\n",
       "                        <td id=\"T_43df21de_aa10_11ee_b36d_0242ac110005row6_col1\" class=\"data row6 col1\" >823869</td>\n",
       "                        <td id=\"T_43df21de_aa10_11ee_b36d_0242ac110005row6_col2\" class=\"data row6 col2\" >True</td>\n",
       "                        <td id=\"T_43df21de_aa10_11ee_b36d_0242ac110005row6_col3\" class=\"data row6 col3\" >Wed Nov 22 08:35:16 +0000 2017</td>\n",
       "                        <td id=\"T_43df21de_aa10_11ee_b36d_0242ac110005row6_col4\" class=\"data row6 col4\" >@115714 wtf!? I’ve been having really shitty service all day !! Get your shit together!</td>\n",
       "                        <td id=\"T_43df21de_aa10_11ee_b36d_0242ac110005row6_col5\" class=\"data row6 col5\" >2987947</td>\n",
       "                        <td id=\"T_43df21de_aa10_11ee_b36d_0242ac110005row6_col6\" class=\"data row6 col6\" >nan</td>\n",
       "            </tr>\n",
       "            <tr>\n",
       "                        <th id=\"T_43df21de_aa10_11ee_b36d_0242ac110005level0_row7\" class=\"row_heading level0 row7\" >2811771</th>\n",
       "                        <td id=\"T_43df21de_aa10_11ee_b36d_0242ac110005row7_col0\" class=\"data row7 col0\" >2812240</td>\n",
       "                        <td id=\"T_43df21de_aa10_11ee_b36d_0242ac110005row7_col1\" class=\"data row7 col1\" >121673</td>\n",
       "                        <td id=\"T_43df21de_aa10_11ee_b36d_0242ac110005row7_col2\" class=\"data row7 col2\" >True</td>\n",
       "                        <td id=\"T_43df21de_aa10_11ee_b36d_0242ac110005row7_col3\" class=\"data row7 col3\" >Thu Nov 23 04:13:07 +0000 2017</td>\n",
       "                        <td id=\"T_43df21de_aa10_11ee_b36d_0242ac110005row7_col4\" class=\"data row7 col4\" >@143549 @sprintcare You have to go to https://t.co/v2tMHeTL7Q and ask them to add the Hulu service to your account. After you get the text, you’re good to go to https://t.co/gFyUq1kJTK</td>\n",
       "                        <td id=\"T_43df21de_aa10_11ee_b36d_0242ac110005row7_col5\" class=\"data row7 col5\" >nan</td>\n",
       "                        <td id=\"T_43df21de_aa10_11ee_b36d_0242ac110005row7_col6\" class=\"data row7 col6\" >2812239.000000</td>\n",
       "            </tr>\n",
       "            <tr>\n",
       "                        <th id=\"T_43df21de_aa10_11ee_b36d_0242ac110005level0_row8\" class=\"row_heading level0 row8\" >2811772</th>\n",
       "                        <td id=\"T_43df21de_aa10_11ee_b36d_0242ac110005row8_col0\" class=\"data row8 col0\" >2987949</td>\n",
       "                        <td id=\"T_43df21de_aa10_11ee_b36d_0242ac110005row8_col1\" class=\"data row8 col1\" >AldiUK</td>\n",
       "                        <td id=\"T_43df21de_aa10_11ee_b36d_0242ac110005row8_col2\" class=\"data row8 col2\" >False</td>\n",
       "                        <td id=\"T_43df21de_aa10_11ee_b36d_0242ac110005row8_col3\" class=\"data row8 col3\" >Wed Nov 22 08:31:24 +0000 2017</td>\n",
       "                        <td id=\"T_43df21de_aa10_11ee_b36d_0242ac110005row8_col4\" class=\"data row8 col4\" >@823870 Sounds delicious, Sarah! 😋 https://t.co/7uQPwyH1B6</td>\n",
       "                        <td id=\"T_43df21de_aa10_11ee_b36d_0242ac110005row8_col5\" class=\"data row8 col5\" >nan</td>\n",
       "                        <td id=\"T_43df21de_aa10_11ee_b36d_0242ac110005row8_col6\" class=\"data row8 col6\" >2987950.000000</td>\n",
       "            </tr>\n",
       "            <tr>\n",
       "                        <th id=\"T_43df21de_aa10_11ee_b36d_0242ac110005level0_row9\" class=\"row_heading level0 row9\" >2811773</th>\n",
       "                        <td id=\"T_43df21de_aa10_11ee_b36d_0242ac110005row9_col0\" class=\"data row9 col0\" >2987950</td>\n",
       "                        <td id=\"T_43df21de_aa10_11ee_b36d_0242ac110005row9_col1\" class=\"data row9 col1\" >823870</td>\n",
       "                        <td id=\"T_43df21de_aa10_11ee_b36d_0242ac110005row9_col2\" class=\"data row9 col2\" >True</td>\n",
       "                        <td id=\"T_43df21de_aa10_11ee_b36d_0242ac110005row9_col3\" class=\"data row9 col3\" >Tue Nov 21 22:01:04 +0000 2017</td>\n",
       "                        <td id=\"T_43df21de_aa10_11ee_b36d_0242ac110005row9_col4\" class=\"data row9 col4\" >@AldiUK  warm sloe gin mince pies with ice cream - the best thing ever! #notjustxmas#allyearround</td>\n",
       "                        <td id=\"T_43df21de_aa10_11ee_b36d_0242ac110005row9_col5\" class=\"data row9 col5\" >2987951,2987949</td>\n",
       "                        <td id=\"T_43df21de_aa10_11ee_b36d_0242ac110005row9_col6\" class=\"data row9 col6\" >nan</td>\n",
       "            </tr>\n",
       "    </tbody></table>"
      ],
      "text/plain": [
       "<pandas.io.formats.style.Styler at 0x7f33526221d0>"
      ]
     },
     "execution_count": 2,
     "metadata": {},
     "output_type": "execute_result"
    }
   ],
   "source": [
    "# 读取所有的数据\n",
    "all_data = pd.read_csv('data/twitter/twcs.csv')\n",
    "\n",
    "# 所有数据的shape\n",
    "print('All data has shape {}'.format(all_data.shape))\n",
    "\n",
    "# 把列转化成对应的数据类型\n",
    "all_data['text'] = all_data['text'].astype('string')\n",
    "all_data['author_id'] = all_data['author_id'].astype('string')\n",
    "\n",
    "# 这个函数帮助把数据展示添加样式\n",
    "show = lambda x: x.tail(10).style.set_properties(**{'background-color': 'black',                                                   \n",
    "                                    'color': 'lawngreen',                       \n",
    "                                    'border-color': 'white'})\\\n",
    ".applymap(lambda x: f\"color: {'lawngreen' if isinstance(x,str) else 'cyan'}\")\\\n",
    ".background_gradient(cmap='Blues')\n",
    "\n",
    "show(all_data)"
   ]
  },
  {
   "cell_type": "markdown",
   "metadata": {},
   "source": [
    "##  数据分布\n",
    "* 从2017年到2018年\n",
    "* 从另一个，我看到AmazonSupport包含了最多的推文，令人惊讶的是，事实证明，并不是所有的推文都是英文的！"
   ]
  },
  {
   "cell_type": "code",
   "execution_count": 3,
   "metadata": {},
   "outputs": [
    {
     "data": {
      "image/png": "[encoded data removed]",
      "text/plain": [
       "<Figure size 1500x500 with 1 Axes>"
      ]
     },
     "metadata": {},
     "output_type": "display_data"
    },
    {
     "name": "stdout",
     "output_type": "stream",
     "text": [
      "CPU times: user 3.47 s, sys: 160 ms, total: 3.63 s\n",
      "Wall time: 3.64 s\n"
     ]
    }
   ],
   "source": [
    "%%time\n",
    "\n",
    "# 查看所有作者的分布\n",
    "count = all_data.groupby(\"author_id\")[\"text\"].count()\n",
    "\n",
    "# 只展示发威条数大于15000的用户\n",
    "c = count[count>15000].plot(kind='bar',figsize=(15, 5), color='#00acee')\n",
    "c.set_xlabel('')\n",
    "c.set_ylabel('Frequency')\n",
    "plt.title('Most of the Data is AmazonHelp')\n",
    "\n",
    "# 保存图片\n",
    "plt.savefig('visualizations/authors.png')\n",
    "\n",
    "plt.show()"
   ]
  },
  {
   "cell_type": "code",
   "execution_count": 4,
   "metadata": {},
   "outputs": [
    {
     "data": {
      "image/png": "[encoded data removed]",
      "text/plain": [
       "<Figure size 2500x500 with 1 Axes>"
      ]
     },
     "metadata": {},
     "output_type": "display_data"
    }
   ],
   "source": [
    "# 有 108 unique authors 是公司用户和 702669个普通用户\n",
    "authors_count = (len(all_data[all_data.inbound == False].author_id.unique()), len(all_data[all_data.inbound == True].author_id.unique()))\n",
    "\n",
    "# 可视化\n",
    "plt.figure(figsize =(25,5))\n",
    "x = ['Unique Companies','Unique Customers']\n",
    "ax = plt.barh(x, authors_count, color = '#00acee')\n",
    "plt.title('There are way more unique customers than unique companies')\n",
    "plt.show()"
   ]
  },
  {
   "cell_type": "markdown",
   "metadata": {},
   "source": [
    "## 数据整理(Data Wrangling)\n",
    "\n",
    "**要求**：\n",
    "* **入站**：由于我想实现的第一步是意图分类，并弄清楚客户对公司说了什么，所以我只想要从客户到公司的数据（入站数据）。\n",
    "* **仅苹果数据：**我的第一个建模步骤是进行某种形式的聚类，对每条推文的意图进行分类，如果我将数据缩小到仅苹果数据，这样做可能会更容易，也更富有成效，因为它们将在一个有点相似的域中。我可以将其扩展到其他数据集。\n",
    "* **第一条推文**\n",
    "稍后，我希望我的聊天机器人能够对我的客户做出回应。"
   ]
  },
  {
   "cell_type": "code",
   "execution_count": 5,
   "metadata": {},
   "outputs": [
    {
     "data": {
      "text/plain": [
       "(106860, 7)"
      ]
     },
     "execution_count": 5,
     "metadata": {},
     "output_type": "execute_result"
    }
   ],
   "source": [
    "apple_data = all_data[all_data['author_id'] == 'AppleSupport']\n",
    "apple_data.shape"
   ]
  },
  {
   "cell_type": "markdown",
   "metadata": {},
   "source": [
    "苹果的数据有106860行，占整个数据的3.8%。这些都是苹果公司给客户的数据，我想要每个苹果客户服务响应的客户给苹果公司的数据，可以在reponse_weet_id中找到。\n",
    "\n",
    "现在，我删除了响应推特id列的带有NaN值的行，这意味着原始客户查询不可用于该交互。"
   ]
  },
  {
   "cell_type": "code",
   "execution_count": 6,
   "metadata": {},
   "outputs": [
    {
     "name": "stderr",
     "output_type": "stream",
     "text": [
      "/root/miniconda3/envs/myconda/lib/python3.7/site-packages/ipykernel_launcher.py:1: SettingWithCopyWarning: \n",
      "A value is trying to be set on a copy of a slice from a DataFrame\n",
      "\n",
      "See the caveats in the documentation: https://pandas.pydata.org/pandas-docs/stable/user_guide/indexing.html#returning-a-view-versus-a-copy\n",
      "  \"\"\"Entry point for launching an IPython kernel.\n"
     ]
    },
    {
     "data": {
      "text/plain": [
       "(False    106719\n",
       " Name: inbound, dtype: int64,\n",
       " (106719, 7))"
      ]
     },
     "execution_count": 6,
     "metadata": {},
     "output_type": "execute_result"
    }
   ],
   "source": [
    "apple_data.dropna(subset = ['in_response_to_tweet_id'],inplace = True)\n",
    "apple_data['inbound'].value_counts(), apple_data.shape"
   ]
  },
  {
   "cell_type": "markdown",
   "metadata": {},
   "source": [
    "不错，看起来我们还有很多数据要处理（106719行）。\n",
    "\n",
    "所有这些都是入站数据，因为它是由苹果公司编写的。现在，我想找到客户向Apple Support发送的所有原始推文，并将其作为文本（而不是ID）返回到Dataframe中。\n",
    "\n",
    "换言之，我将```In_response_to_tweet_id```从其id更改为文本，这样我们就可以看到这条苹果支持推文回答了哪些客户问题。"
   ]
  },
  {
   "cell_type": "code",
   "execution_count": 7,
   "metadata": {},
   "outputs": [
    {
     "name": "stderr",
     "output_type": "stream",
     "text": [
      "/root/miniconda3/envs/myconda/lib/python3.7/site-packages/pandas/core/generic.py:5303: SettingWithCopyWarning: \n",
      "A value is trying to be set on a copy of a slice from a DataFrame.\n",
      "Try using .loc[row_indexer,col_indexer] = value instead\n",
      "\n",
      "See the caveats in the documentation: https://pandas.pydata.org/pandas-docs/stable/user_guide/indexing.html#returning-a-view-versus-a-copy\n",
      "  self[name] = value\n"
     ]
    },
    {
     "name": "stdout",
     "output_type": "stream",
     "text": [
      "                                        inbound_text  \\\n",
      "0  @AppleSupport The newest update. I️ made sure ...   \n",
      "1             @AppleSupport  https://t.co/NV0yucs0lB   \n",
      "2  @AppleSupport Tried resetting my settings .. r...   \n",
      "3  @AppleSupport This is what it looks like https...   \n",
      "4  @AppleSupport I️ have an iPhone 7 Plus and yes...   \n",
      "\n",
      "                                       outbound_text  \n",
      "0  @115854 Lets take a closer look into this issu...  \n",
      "1  @115854 We're here for you. Which version of t...  \n",
      "2  @115855 Let's go to DM for the next steps. DM ...  \n",
      "3  @115855 Any steps tried since it started last ...  \n",
      "4  @115855 That's great it has iOS 11.1 as we can...  \n"
     ]
    }
   ],
   "source": [
    "# 将id转换为整数以匹配用于加入的tweet_id列\n",
    "apple_data.in_response_to_tweet_id = apple_data.in_response_to_tweet_id.astype('int64')\n",
    "\n",
    "# 执行内部联接以从all_data中获取相应的tweet并获取响应文本\n",
    "apple_data = pd.merge(all_data[['tweet_id','text']],apple_data,left_on='tweet_id', right_on='in_response_to_tweet_id')\n",
    "\n",
    "# 删除不编码有用信息的列，并为实现可理解性而对列进行良好的重命名\n",
    "apple_data.drop(['tweet_id_x','tweet_id_y','in_response_to_tweet_id','inbound'], axis = 1, inplace = True)\n",
    "\n",
    "# 重命名列以实现可解释性\n",
    "apple_data.rename(columns = {'text_x':'inbound_text','text_y':'outbound_text'},inplace = True)\n",
    "\n",
    "# 入站和出站数据子集\n",
    "text = apple_data[['inbound_text','outbound_text']]\n",
    "\n",
    "# 预览\n",
    "print(text.head())\n",
    "\n",
    "# 保存真实的原始入站数据\n",
    "text.to_pickle('objects/raw_text.pkl')\n",
    "\n",
    "inbound = text['inbound_text']\n",
    "outbound = text['outbound_text']\n",
    "\n",
    "# 解包可以帮助我扩展每行的数据以进行检查\n",
    "# [*text['outbound']]"
   ]
  },
  {
   "cell_type": "code",
   "execution_count": 8,
   "metadata": {
    "scrolled": true
   },
   "outputs": [
    {
     "data": {
      "text/html": [
       "<style  type=\"text/css\" >\n",
       "    #T_4896f92c_aa10_11ee_b36d_0242ac110005row0_col0 {\n",
       "            background-color:  black;\n",
       "            color:  lawngreen;\n",
       "            border-color:  white;\n",
       "            color:  lawngreen;\n",
       "        }    #T_4896f92c_aa10_11ee_b36d_0242ac110005row0_col1 {\n",
       "            background-color:  black;\n",
       "            color:  lawngreen;\n",
       "            border-color:  white;\n",
       "            color:  lawngreen;\n",
       "        }    #T_4896f92c_aa10_11ee_b36d_0242ac110005row0_col2 {\n",
       "            background-color:  black;\n",
       "            color:  lawngreen;\n",
       "            border-color:  white;\n",
       "            color:  lawngreen;\n",
       "        }    #T_4896f92c_aa10_11ee_b36d_0242ac110005row0_col3 {\n",
       "            background-color:  black;\n",
       "            color:  lawngreen;\n",
       "            border-color:  white;\n",
       "            color:  lawngreen;\n",
       "        }    #T_4896f92c_aa10_11ee_b36d_0242ac110005row0_col4 {\n",
       "            background-color:  black;\n",
       "            color:  lawngreen;\n",
       "            border-color:  white;\n",
       "            color:  cyan;\n",
       "        }    #T_4896f92c_aa10_11ee_b36d_0242ac110005row1_col0 {\n",
       "            background-color:  black;\n",
       "            color:  lawngreen;\n",
       "            border-color:  white;\n",
       "            color:  lawngreen;\n",
       "        }    #T_4896f92c_aa10_11ee_b36d_0242ac110005row1_col1 {\n",
       "            background-color:  black;\n",
       "            color:  lawngreen;\n",
       "            border-color:  white;\n",
       "            color:  lawngreen;\n",
       "        }    #T_4896f92c_aa10_11ee_b36d_0242ac110005row1_col2 {\n",
       "            background-color:  black;\n",
       "            color:  lawngreen;\n",
       "            border-color:  white;\n",
       "            color:  lawngreen;\n",
       "        }    #T_4896f92c_aa10_11ee_b36d_0242ac110005row1_col3 {\n",
       "            background-color:  black;\n",
       "            color:  lawngreen;\n",
       "            border-color:  white;\n",
       "            color:  lawngreen;\n",
       "        }    #T_4896f92c_aa10_11ee_b36d_0242ac110005row1_col4 {\n",
       "            background-color:  black;\n",
       "            color:  lawngreen;\n",
       "            border-color:  white;\n",
       "            color:  cyan;\n",
       "        }    #T_4896f92c_aa10_11ee_b36d_0242ac110005row2_col0 {\n",
       "            background-color:  black;\n",
       "            color:  lawngreen;\n",
       "            border-color:  white;\n",
       "            color:  lawngreen;\n",
       "        }    #T_4896f92c_aa10_11ee_b36d_0242ac110005row2_col1 {\n",
       "            background-color:  black;\n",
       "            color:  lawngreen;\n",
       "            border-color:  white;\n",
       "            color:  lawngreen;\n",
       "        }    #T_4896f92c_aa10_11ee_b36d_0242ac110005row2_col2 {\n",
       "            background-color:  black;\n",
       "            color:  lawngreen;\n",
       "            border-color:  white;\n",
       "            color:  lawngreen;\n",
       "        }    #T_4896f92c_aa10_11ee_b36d_0242ac110005row2_col3 {\n",
       "            background-color:  black;\n",
       "            color:  lawngreen;\n",
       "            border-color:  white;\n",
       "            color:  lawngreen;\n",
       "        }    #T_4896f92c_aa10_11ee_b36d_0242ac110005row2_col4 {\n",
       "            background-color:  black;\n",
       "            color:  lawngreen;\n",
       "            border-color:  white;\n",
       "            color:  cyan;\n",
       "        }    #T_4896f92c_aa10_11ee_b36d_0242ac110005row3_col0 {\n",
       "            background-color:  black;\n",
       "            color:  lawngreen;\n",
       "            border-color:  white;\n",
       "            color:  lawngreen;\n",
       "        }    #T_4896f92c_aa10_11ee_b36d_0242ac110005row3_col1 {\n",
       "            background-color:  black;\n",
       "            color:  lawngreen;\n",
       "            border-color:  white;\n",
       "            color:  lawngreen;\n",
       "        }    #T_4896f92c_aa10_11ee_b36d_0242ac110005row3_col2 {\n",
       "            background-color:  black;\n",
       "            color:  lawngreen;\n",
       "            border-color:  white;\n",
       "            color:  lawngreen;\n",
       "        }    #T_4896f92c_aa10_11ee_b36d_0242ac110005row3_col3 {\n",
       "            background-color:  black;\n",
       "            color:  lawngreen;\n",
       "            border-color:  white;\n",
       "            color:  lawngreen;\n",
       "        }    #T_4896f92c_aa10_11ee_b36d_0242ac110005row3_col4 {\n",
       "            background-color:  black;\n",
       "            color:  lawngreen;\n",
       "            border-color:  white;\n",
       "            color:  cyan;\n",
       "        }    #T_4896f92c_aa10_11ee_b36d_0242ac110005row4_col0 {\n",
       "            background-color:  black;\n",
       "            color:  lawngreen;\n",
       "            border-color:  white;\n",
       "            color:  lawngreen;\n",
       "        }    #T_4896f92c_aa10_11ee_b36d_0242ac110005row4_col1 {\n",
       "            background-color:  black;\n",
       "            color:  lawngreen;\n",
       "            border-color:  white;\n",
       "            color:  lawngreen;\n",
       "        }    #T_4896f92c_aa10_11ee_b36d_0242ac110005row4_col2 {\n",
       "            background-color:  black;\n",
       "            color:  lawngreen;\n",
       "            border-color:  white;\n",
       "            color:  lawngreen;\n",
       "        }    #T_4896f92c_aa10_11ee_b36d_0242ac110005row4_col3 {\n",
       "            background-color:  black;\n",
       "            color:  lawngreen;\n",
       "            border-color:  white;\n",
       "            color:  lawngreen;\n",
       "        }    #T_4896f92c_aa10_11ee_b36d_0242ac110005row4_col4 {\n",
       "            background-color:  black;\n",
       "            color:  lawngreen;\n",
       "            border-color:  white;\n",
       "            color:  cyan;\n",
       "        }    #T_4896f92c_aa10_11ee_b36d_0242ac110005row5_col0 {\n",
       "            background-color:  black;\n",
       "            color:  lawngreen;\n",
       "            border-color:  white;\n",
       "            color:  lawngreen;\n",
       "        }    #T_4896f92c_aa10_11ee_b36d_0242ac110005row5_col1 {\n",
       "            background-color:  black;\n",
       "            color:  lawngreen;\n",
       "            border-color:  white;\n",
       "            color:  lawngreen;\n",
       "        }    #T_4896f92c_aa10_11ee_b36d_0242ac110005row5_col2 {\n",
       "            background-color:  black;\n",
       "            color:  lawngreen;\n",
       "            border-color:  white;\n",
       "            color:  lawngreen;\n",
       "        }    #T_4896f92c_aa10_11ee_b36d_0242ac110005row5_col3 {\n",
       "            background-color:  black;\n",
       "            color:  lawngreen;\n",
       "            border-color:  white;\n",
       "            color:  lawngreen;\n",
       "        }    #T_4896f92c_aa10_11ee_b36d_0242ac110005row5_col4 {\n",
       "            background-color:  black;\n",
       "            color:  lawngreen;\n",
       "            border-color:  white;\n",
       "            color:  lawngreen;\n",
       "        }    #T_4896f92c_aa10_11ee_b36d_0242ac110005row6_col0 {\n",
       "            background-color:  black;\n",
       "            color:  lawngreen;\n",
       "            border-color:  white;\n",
       "            color:  lawngreen;\n",
       "        }    #T_4896f92c_aa10_11ee_b36d_0242ac110005row6_col1 {\n",
       "            background-color:  black;\n",
       "            color:  lawngreen;\n",
       "            border-color:  white;\n",
       "            color:  lawngreen;\n",
       "        }    #T_4896f92c_aa10_11ee_b36d_0242ac110005row6_col2 {\n",
       "            background-color:  black;\n",
       "            color:  lawngreen;\n",
       "            border-color:  white;\n",
       "            color:  lawngreen;\n",
       "        }    #T_4896f92c_aa10_11ee_b36d_0242ac110005row6_col3 {\n",
       "            background-color:  black;\n",
       "            color:  lawngreen;\n",
       "            border-color:  white;\n",
       "            color:  lawngreen;\n",
       "        }    #T_4896f92c_aa10_11ee_b36d_0242ac110005row6_col4 {\n",
       "            background-color:  black;\n",
       "            color:  lawngreen;\n",
       "            border-color:  white;\n",
       "            color:  cyan;\n",
       "        }    #T_4896f92c_aa10_11ee_b36d_0242ac110005row7_col0 {\n",
       "            background-color:  black;\n",
       "            color:  lawngreen;\n",
       "            border-color:  white;\n",
       "            color:  lawngreen;\n",
       "        }    #T_4896f92c_aa10_11ee_b36d_0242ac110005row7_col1 {\n",
       "            background-color:  black;\n",
       "            color:  lawngreen;\n",
       "            border-color:  white;\n",
       "            color:  lawngreen;\n",
       "        }    #T_4896f92c_aa10_11ee_b36d_0242ac110005row7_col2 {\n",
       "            background-color:  black;\n",
       "            color:  lawngreen;\n",
       "            border-color:  white;\n",
       "            color:  lawngreen;\n",
       "        }    #T_4896f92c_aa10_11ee_b36d_0242ac110005row7_col3 {\n",
       "            background-color:  black;\n",
       "            color:  lawngreen;\n",
       "            border-color:  white;\n",
       "            color:  lawngreen;\n",
       "        }    #T_4896f92c_aa10_11ee_b36d_0242ac110005row7_col4 {\n",
       "            background-color:  black;\n",
       "            color:  lawngreen;\n",
       "            border-color:  white;\n",
       "            color:  cyan;\n",
       "        }    #T_4896f92c_aa10_11ee_b36d_0242ac110005row8_col0 {\n",
       "            background-color:  black;\n",
       "            color:  lawngreen;\n",
       "            border-color:  white;\n",
       "            color:  lawngreen;\n",
       "        }    #T_4896f92c_aa10_11ee_b36d_0242ac110005row8_col1 {\n",
       "            background-color:  black;\n",
       "            color:  lawngreen;\n",
       "            border-color:  white;\n",
       "            color:  lawngreen;\n",
       "        }    #T_4896f92c_aa10_11ee_b36d_0242ac110005row8_col2 {\n",
       "            background-color:  black;\n",
       "            color:  lawngreen;\n",
       "            border-color:  white;\n",
       "            color:  lawngreen;\n",
       "        }    #T_4896f92c_aa10_11ee_b36d_0242ac110005row8_col3 {\n",
       "            background-color:  black;\n",
       "            color:  lawngreen;\n",
       "            border-color:  white;\n",
       "            color:  lawngreen;\n",
       "        }    #T_4896f92c_aa10_11ee_b36d_0242ac110005row8_col4 {\n",
       "            background-color:  black;\n",
       "            color:  lawngreen;\n",
       "            border-color:  white;\n",
       "            color:  cyan;\n",
       "        }    #T_4896f92c_aa10_11ee_b36d_0242ac110005row9_col0 {\n",
       "            background-color:  black;\n",
       "            color:  lawngreen;\n",
       "            border-color:  white;\n",
       "            color:  lawngreen;\n",
       "        }    #T_4896f92c_aa10_11ee_b36d_0242ac110005row9_col1 {\n",
       "            background-color:  black;\n",
       "            color:  lawngreen;\n",
       "            border-color:  white;\n",
       "            color:  lawngreen;\n",
       "        }    #T_4896f92c_aa10_11ee_b36d_0242ac110005row9_col2 {\n",
       "            background-color:  black;\n",
       "            color:  lawngreen;\n",
       "            border-color:  white;\n",
       "            color:  lawngreen;\n",
       "        }    #T_4896f92c_aa10_11ee_b36d_0242ac110005row9_col3 {\n",
       "            background-color:  black;\n",
       "            color:  lawngreen;\n",
       "            border-color:  white;\n",
       "            color:  lawngreen;\n",
       "        }    #T_4896f92c_aa10_11ee_b36d_0242ac110005row9_col4 {\n",
       "            background-color:  black;\n",
       "            color:  lawngreen;\n",
       "            border-color:  white;\n",
       "            color:  cyan;\n",
       "        }</style><table id=\"T_4896f92c_aa10_11ee_b36d_0242ac110005\" ><thead>    <tr>        <th class=\"blank level0\" ></th>        <th class=\"col_heading level0 col0\" >inbound_text</th>        <th class=\"col_heading level0 col1\" >author_id</th>        <th class=\"col_heading level0 col2\" >created_at</th>        <th class=\"col_heading level0 col3\" >outbound_text</th>        <th class=\"col_heading level0 col4\" >response_tweet_id</th>    </tr></thead><tbody>\n",
       "                <tr>\n",
       "                        <th id=\"T_4896f92c_aa10_11ee_b36d_0242ac110005level0_row0\" class=\"row_heading level0 row0\" >106638</th>\n",
       "                        <td id=\"T_4896f92c_aa10_11ee_b36d_0242ac110005row0_col0\" class=\"data row0 col0\" >Before installing iOS 11 on my @115858 iPhone, I could get a full day's use without recharging. Now I need to recharge twice a day. What gives?</td>\n",
       "                        <td id=\"T_4896f92c_aa10_11ee_b36d_0242ac110005row0_col1\" class=\"data row0 col1\" >AppleSupport</td>\n",
       "                        <td id=\"T_4896f92c_aa10_11ee_b36d_0242ac110005row0_col2\" class=\"data row0 col2\" >Tue Nov 21 22:35:00 +0000 2017</td>\n",
       "                        <td id=\"T_4896f92c_aa10_11ee_b36d_0242ac110005row0_col3\" class=\"data row0 col3\" >@823684 We know how essential it is to maximize battery life. Let's work together to make sure you get the most out of your battery. What's the iPhone model and exact version of iOS 11 you are running? Can you DM us how long your battery lasts on a full charge? https://t.co/GDrqU2kzhr</td>\n",
       "                        <td id=\"T_4896f92c_aa10_11ee_b36d_0242ac110005row0_col4\" class=\"data row0 col4\" >nan</td>\n",
       "            </tr>\n",
       "            <tr>\n",
       "                        <th id=\"T_4896f92c_aa10_11ee_b36d_0242ac110005level0_row1\" class=\"row_heading level0 row1\" >106639</th>\n",
       "                        <td id=\"T_4896f92c_aa10_11ee_b36d_0242ac110005row1_col0\" class=\"data row1 col0\" >Travelled over an hour to @115858 Store to get repairs on a £1000 #iPhoneX only to be told too busy and to come back another day @AppleSupport disgraceful way to treat customers.</td>\n",
       "                        <td id=\"T_4896f92c_aa10_11ee_b36d_0242ac110005row1_col1\" class=\"data row1 col1\" >AppleSupport</td>\n",
       "                        <td id=\"T_4896f92c_aa10_11ee_b36d_0242ac110005row1_col2\" class=\"data row1 col2\" >Tue Nov 21 22:33:32 +0000 2017</td>\n",
       "                        <td id=\"T_4896f92c_aa10_11ee_b36d_0242ac110005row1_col3\" class=\"data row1 col3\" >@823685 We want you to be able to enjoy both your visits to the Apple Store and your new iPhone. Are you seeing issues that we may be able to help with here? We can also help schedule a Genius Bar appointment or look at other service options. Send us a DM to get started. https://t.co/GDrqU2kzhr</td>\n",
       "                        <td id=\"T_4896f92c_aa10_11ee_b36d_0242ac110005row1_col4\" class=\"data row1 col4\" >nan</td>\n",
       "            </tr>\n",
       "            <tr>\n",
       "                        <th id=\"T_4896f92c_aa10_11ee_b36d_0242ac110005level0_row2\" class=\"row_heading level0 row2\" >106640</th>\n",
       "                        <td id=\"T_4896f92c_aa10_11ee_b36d_0242ac110005row2_col0\" class=\"data row2 col0\" >@AppleSupport pretty much all of my photos have just disappeared, why is this? And how do I get them back?</td>\n",
       "                        <td id=\"T_4896f92c_aa10_11ee_b36d_0242ac110005row2_col1\" class=\"data row2 col1\" >AppleSupport</td>\n",
       "                        <td id=\"T_4896f92c_aa10_11ee_b36d_0242ac110005row2_col2\" class=\"data row2 col2\" >Wed Nov 22 00:10:37 +0000 2017</td>\n",
       "                        <td id=\"T_4896f92c_aa10_11ee_b36d_0242ac110005row2_col3\" class=\"data row2 col3\" >@823703 Thanks for reaching out to us. We know how important our photos are and we'll do everything we can to get yours back. Do you use iCloud Photo Library to back your photos up? Join us in DM with more details about when you noticed they were missing. https://t.co/GDrqU2kzhr</td>\n",
       "                        <td id=\"T_4896f92c_aa10_11ee_b36d_0242ac110005row2_col4\" class=\"data row2 col4\" >nan</td>\n",
       "            </tr>\n",
       "            <tr>\n",
       "                        <th id=\"T_4896f92c_aa10_11ee_b36d_0242ac110005level0_row3\" class=\"row_heading level0 row3\" >106641</th>\n",
       "                        <td id=\"T_4896f92c_aa10_11ee_b36d_0242ac110005row3_col0\" class=\"data row3 col0\" >What does this mean please @AppleSupport ‘cannot use Thunderbolt accessory’ it has popped up on my MacBookPro whilst at was out</td>\n",
       "                        <td id=\"T_4896f92c_aa10_11ee_b36d_0242ac110005row3_col1\" class=\"data row3 col1\" >AppleSupport</td>\n",
       "                        <td id=\"T_4896f92c_aa10_11ee_b36d_0242ac110005row3_col2\" class=\"data row3 col2\" >Wed Nov 22 00:58:00 +0000 2017</td>\n",
       "                        <td id=\"T_4896f92c_aa10_11ee_b36d_0242ac110005row3_col3\" class=\"data row3 col3\" >@823732 We're happy to look into this with you. Do you have anything plugged in to your Thunderbolt ports when this message pops up? Which version of macOS is currently installed on your MacBook Pro? Let us know in DM. https://t.co/GDrqU22YpT</td>\n",
       "                        <td id=\"T_4896f92c_aa10_11ee_b36d_0242ac110005row3_col4\" class=\"data row3 col4\" >nan</td>\n",
       "            </tr>\n",
       "            <tr>\n",
       "                        <th id=\"T_4896f92c_aa10_11ee_b36d_0242ac110005level0_row4\" class=\"row_heading level0 row4\" >106642</th>\n",
       "                        <td id=\"T_4896f92c_aa10_11ee_b36d_0242ac110005row4_col0\" class=\"data row4 col0\" >@AppleSupport why is my iPhone 7 constantly searching for a signal, and only works if I'm on wifi?</td>\n",
       "                        <td id=\"T_4896f92c_aa10_11ee_b36d_0242ac110005row4_col1\" class=\"data row4 col1\" >AppleSupport</td>\n",
       "                        <td id=\"T_4896f92c_aa10_11ee_b36d_0242ac110005row4_col2\" class=\"data row4 col2\" >Wed Nov 22 00:51:00 +0000 2017</td>\n",
       "                        <td id=\"T_4896f92c_aa10_11ee_b36d_0242ac110005row4_col3\" class=\"data row4 col3\" >@823733 Let's figure out why this is happening. To start, please DM us with the exact iOS version you're using and the country where you're located. You can find the iOS version by going to Settings &gt; General &gt; About. https://t.co/GDrqU22YpT</td>\n",
       "                        <td id=\"T_4896f92c_aa10_11ee_b36d_0242ac110005row4_col4\" class=\"data row4 col4\" >nan</td>\n",
       "            </tr>\n",
       "            <tr>\n",
       "                        <th id=\"T_4896f92c_aa10_11ee_b36d_0242ac110005level0_row5\" class=\"row_heading level0 row5\" >106643</th>\n",
       "                        <td id=\"T_4896f92c_aa10_11ee_b36d_0242ac110005row5_col0\" class=\"data row5 col0\" >anyone having issues with #osx #HighSierra and #Slack, #zoom or Multiple monitors? Getting major lag. @115858  @118190  @172377 #DevLife</td>\n",
       "                        <td id=\"T_4896f92c_aa10_11ee_b36d_0242ac110005row5_col1\" class=\"data row5 col1\" >AppleSupport</td>\n",
       "                        <td id=\"T_4896f92c_aa10_11ee_b36d_0242ac110005row5_col2\" class=\"data row5 col2\" >Wed Nov 22 01:02:29 +0000 2017</td>\n",
       "                        <td id=\"T_4896f92c_aa10_11ee_b36d_0242ac110005row5_col3\" class=\"data row5 col3\" >@823737 We're happy to help out with your concerns. To begin, have you made sure that all apps are up-to-date via the App Store &gt; Updates tab? \n",
       "Does the slower performance happen with a specific pattern?\n",
       "Send us a DM and we'll work on this together. https://t.co/GDrqU22YpT</td>\n",
       "                        <td id=\"T_4896f92c_aa10_11ee_b36d_0242ac110005row5_col4\" class=\"data row5 col4\" >2987500</td>\n",
       "            </tr>\n",
       "            <tr>\n",
       "                        <th id=\"T_4896f92c_aa10_11ee_b36d_0242ac110005level0_row6\" class=\"row_heading level0 row6\" >106644</th>\n",
       "                        <td id=\"T_4896f92c_aa10_11ee_b36d_0242ac110005row6_col0\" class=\"data row6 col0\" >Hey @AppleSupport - not being able to duplicate a file in #pages when you searched for it is really annoying. What’s the fix?? https://t.co/CqnGyqNsLZ</td>\n",
       "                        <td id=\"T_4896f92c_aa10_11ee_b36d_0242ac110005row6_col1\" class=\"data row6 col1\" >AppleSupport</td>\n",
       "                        <td id=\"T_4896f92c_aa10_11ee_b36d_0242ac110005row6_col2\" class=\"data row6 col2\" >Wed Nov 22 02:33:58 +0000 2017</td>\n",
       "                        <td id=\"T_4896f92c_aa10_11ee_b36d_0242ac110005row6_col3\" class=\"data row6 col3\" >@689907 We're certainly glad to get you pointed in the right direction! Please reach out in DM and let us know which iPad model you're using and the version of iOS installed, as well as which country you're tweeting from. https://t.co/GDrqU22YpT</td>\n",
       "                        <td id=\"T_4896f92c_aa10_11ee_b36d_0242ac110005row6_col4\" class=\"data row6 col4\" >nan</td>\n",
       "            </tr>\n",
       "            <tr>\n",
       "                        <th id=\"T_4896f92c_aa10_11ee_b36d_0242ac110005level0_row7\" class=\"row_heading level0 row7\" >106645</th>\n",
       "                        <td id=\"T_4896f92c_aa10_11ee_b36d_0242ac110005row7_col0\" class=\"data row7 col0\" >Yo @AppleSupport is that weird glitch w/ the capital “I️” your attempt to make my tweets less about me?  I️</td>\n",
       "                        <td id=\"T_4896f92c_aa10_11ee_b36d_0242ac110005row7_col1\" class=\"data row7 col1\" >AppleSupport</td>\n",
       "                        <td id=\"T_4896f92c_aa10_11ee_b36d_0242ac110005row7_col2\" class=\"data row7 col2\" >Wed Nov 22 02:29:26 +0000 2017</td>\n",
       "                        <td id=\"T_4896f92c_aa10_11ee_b36d_0242ac110005row7_col3\" class=\"data row7 col3\" >@823765 We'd love to help! Which device are you using? The latest versions of iOS include a fix for unexpected results with Auto-Correction while typing. If you haven't had a chance, we advise backing up and updating. Here's a guide to help: https://t.co/ahjigcvFRG</td>\n",
       "                        <td id=\"T_4896f92c_aa10_11ee_b36d_0242ac110005row7_col4\" class=\"data row7 col4\" >nan</td>\n",
       "            </tr>\n",
       "            <tr>\n",
       "                        <th id=\"T_4896f92c_aa10_11ee_b36d_0242ac110005level0_row8\" class=\"row_heading level0 row8\" >106646</th>\n",
       "                        <td id=\"T_4896f92c_aa10_11ee_b36d_0242ac110005row8_col0\" class=\"data row8 col0\" >What the fuck @AppleSupport  my phone keeps hanging up calls and showing “call failure” 🤬😡</td>\n",
       "                        <td id=\"T_4896f92c_aa10_11ee_b36d_0242ac110005row8_col1\" class=\"data row8 col1\" >AppleSupport</td>\n",
       "                        <td id=\"T_4896f92c_aa10_11ee_b36d_0242ac110005row8_col2\" class=\"data row8 col2\" >Wed Nov 22 03:27:30 +0000 2017</td>\n",
       "                        <td id=\"T_4896f92c_aa10_11ee_b36d_0242ac110005row8_col3\" class=\"data row8 col3\" >@823779 We'd like to help. Send us a DM and we can start there. https://t.co/GDrqU22YpT</td>\n",
       "                        <td id=\"T_4896f92c_aa10_11ee_b36d_0242ac110005row8_col4\" class=\"data row8 col4\" >nan</td>\n",
       "            </tr>\n",
       "            <tr>\n",
       "                        <th id=\"T_4896f92c_aa10_11ee_b36d_0242ac110005level0_row9\" class=\"row_heading level0 row9\" >106647</th>\n",
       "                        <td id=\"T_4896f92c_aa10_11ee_b36d_0242ac110005row9_col0\" class=\"data row9 col0\" >Is anyone having #iphone issues with there phone freezing randomly I have the 7 pulse updated to iOS 11.2 the newest version. Wtf is going on???? 🤬😡🤬😡🤬 @115858 @AppleSupport #whycan’tyouguysgetitright #stopmakingnewphonesuntillyoulearntomaketheoldonerunrite</td>\n",
       "                        <td id=\"T_4896f92c_aa10_11ee_b36d_0242ac110005row9_col1\" class=\"data row9 col1\" >AppleSupport</td>\n",
       "                        <td id=\"T_4896f92c_aa10_11ee_b36d_0242ac110005row9_col2\" class=\"data row9 col2\" >Wed Nov 22 04:15:29 +0000 2017</td>\n",
       "                        <td id=\"T_4896f92c_aa10_11ee_b36d_0242ac110005row9_col3\" class=\"data row9 col3\" >@823796 We'd love to offer our help in making sure your iPhone is working at peak performance. Send us a DM and let us know if you are using iOS 11.1.2 or iOS 11.2. You can confirm in Settings &gt; General &gt; About. https://t.co/GDrqU2kzhr</td>\n",
       "                        <td id=\"T_4896f92c_aa10_11ee_b36d_0242ac110005row9_col4\" class=\"data row9 col4\" >nan</td>\n",
       "            </tr>\n",
       "    </tbody></table>"
      ],
      "text/plain": [
       "<pandas.io.formats.style.Styler at 0x7f3344896350>"
      ]
     },
     "execution_count": 8,
     "metadata": {},
     "output_type": "execute_result"
    }
   ],
   "source": [
    "# Showing the results of data wrangling\n",
    "show(apple_data)"
   ]
  },
  {
   "cell_type": "markdown",
   "metadata": {},
   "source": [
    "现在我们将从这一点开始构建这个“apple_data”。"
   ]
  },
  {
   "cell_type": "markdown",
   "metadata": {},
   "source": [
    "## 文本预处理Pipeline\n",
    "\n",
    "在这个过程中，预计我会发现很多边缘案例，而不必全部解决。然而，最终，考虑到这个数据集，我觉得我的预处理管道相对完整。\n",
    "\n",
    "此外，这是一个迭代的过程，可能你会注意到我的推文仍然有“\\u200d”、“#”、“”和“@”，尽管我已经做了很多拟合。这些只是表情符号和额外的标点符号，我在后期决定删除，但最终我只是修改了我的管道功能。"
   ]
  },
  {
   "cell_type": "markdown",
   "metadata": {},
   "source": [
    "在此之前，我用一袋单词做了一些EDA，看看数据集使用最多的单词是什么，以更好地预处理数据，防止工作粒度过大。"
   ]
  },
  {
   "cell_type": "code",
   "execution_count": 9,
   "metadata": {},
   "outputs": [],
   "source": [
    "# 编写一个函数来绘制数据中的计数\n",
    "\n",
    "def top10_bagofwords(data, output_name, title):\n",
    "    '''将数据作为输入，并根据文本数据中的计数绘制前10个单词'''\n",
    "    bagofwords = CountVectorizer()\n",
    "    inbound = bagofwords.fit_transform(data)\n",
    "    inbound # 输出将是稀疏矩阵\n",
    "    # 检查经常使用的缩写和口语\n",
    "    word_counts = np.array(np.sum(inbound, axis=0)).reshape((-1,))\n",
    "    words = np.array(bagofwords.get_feature_names())\n",
    "    words_df = pd.DataFrame({\"word\":words, \n",
    "                             \"count\":word_counts})\n",
    "    words_rank = words_df.sort_values(by=\"count\", ascending=False)\n",
    "    # words_rank.to_csv('words_rank.csv') # 将其存储在csv中，以便我可以自己检查和浏览\n",
    "    words_rank.head()\n",
    "    # 可视化 top 10 words\n",
    "    plt.figure(figsize=(12,6))\n",
    "    sns.barplot(words_rank['word'][:10], words_rank['count'][:10].astype(str), palette = 'inferno')\n",
    "    plt.title(title)\n",
    "    \n",
    "    # Saving\n",
    "    plt.savefig(f'visualizations/{output_name}.png')\n",
    "    \n",
    "    plt.show()"
   ]
  },
  {
   "cell_type": "code",
   "execution_count": 10,
   "metadata": {},
   "outputs": [
    {
     "data": {
      "image/png": "[encoded data removed]",
      "text/plain": [
       "<Figure size 1200x600 with 1 Axes>"
      ]
     },
     "metadata": {},
     "output_type": "display_data"
    }
   ],
   "source": [
    "top10_bagofwords(inbound, 'most_common_before' ,'Top 10 Most Common Words in My Inbound Data Before Preprocessing')"
   ]
  },
  {
   "cell_type": "markdown",
   "metadata": {},
   "source": [
    "我们看到，在预处理之后，我们将删除句柄，这就是上面可视化中的applesupport和115858。现在，我简要地可视化了前10个最常见的令牌，以表明我的数据目前相当脏，如果我不进行预处理，它们肯定会扭曲并破坏我的结果！"
   ]
  },
  {
   "cell_type": "markdown",
   "metadata": {},
   "source": [
    "## Emoji 分析\n",
    "您可以将表情符号留在中，并为表情符号嵌入模型学习。表情符号用于非常特殊的情况，如果他们使用表情符号，这将是一个有用的意义。如果表情符号用于内部笑话，那就另当别论了，但这个数据集可能不是这样，因为这些都是客服推文。\n",
    "\n",
    "实际上有一个嵌入叫做emoji2vec，但这是我可以深入研究的东西。现在，我认为doc2vec无法以最好的方式处理这些表情符号，如果我把它们留在里面，可能会扭曲我的结果。\n",
    "\n",
    "Extracted from [this kernel](https://www.kaggle.com/psbots/customer-support-meets-spacy-universe)"
   ]
  },
  {
   "cell_type": "code",
   "execution_count": 11,
   "metadata": {},
   "outputs": [
    {
     "name": "stdout",
     "output_type": "stream",
     "text": [
      "['emoji', 'tok2vec', 'tagger', 'parser', 'attribute_ruler', 'lemmatizer', 'ner']\n"
     ]
    },
    {
     "data": {
      "application/vnd.jupyter.widget-view+json": {
       "model_id": "d7be55448cab42a6922d2111e4e92917",
       "version_major": 2,
       "version_minor": 0
      },
      "text/plain": [
       "0it [00:00, ?it/s]"
      ]
     },
     "metadata": {},
     "output_type": "display_data"
    },
    {
     "data": {
      "text/plain": [
       "[('😡', 3069),\n",
       " ('️', 1516),\n",
       " ('🙄', 1463),\n",
       " ('😭', 1100),\n",
       " ('\\u200d', 1000),\n",
       " ('🤔', 959),\n",
       " ('😒', 830),\n",
       " ('😤', 780),\n",
       " ('🤬', 750),\n",
       " ('😩', 699),\n",
       " ('🏻', 694),\n",
       " ('🤦', 622),\n",
       " ('🙃', 549),\n",
       " ('♀', 537),\n",
       " ('🏼', 535),\n",
       " ('🏽', 487),\n",
       " ('♂', 454),\n",
       " ('😑', 438),\n",
       " ('😂', 365),\n",
       " ('🏾', 337),\n",
       " ('🤷', 321),\n",
       " ('👎', 315),\n",
       " ('👍', 280),\n",
       " ('😫', 269),\n",
       " ('😐', 261),\n",
       " ('😠', 252),\n",
       " ('📱', 236),\n",
       " ('☹', 226),\n",
       " ('🙏', 196),\n",
       " ('😔', 194)]"
      ]
     },
     "execution_count": 11,
     "metadata": {},
     "output_type": "execute_result"
    }
   ],
   "source": [
    "# import en_core_web_lg\n",
    "import en_core_web_sm\n",
    "\n",
    "# This works, I couldn't load the en_core_web_lg\n",
    "nlp = spacy.load('en_core_web_sm')\n",
    "emoji = Emoji(nlp, merge_spans=False)\n",
    "nlp.add_pipe(\"emoji\", first=True)\n",
    "print(nlp.pipe_names)\n",
    "\n",
    "# 这是一个存储所有表情符号的列表\n",
    "# 请确保已准备好您的processed_inbound。我使用了一个中间版本\n",
    "# 我处理过的数据。或者你可以在运行我的预处理后运行这个下面的管道。\n",
    "\n",
    "# processed_inbound.progress_apply(\" \".join)\n",
    "emojis = []\n",
    "for doc in tqdm(nlp.pipe(inbound, batch_size=512)):\n",
    "    if doc._.has_emoji:\n",
    "        for e in doc._.emoji:\n",
    "            emojis.extend(e[0])\n",
    "\n",
    "# Let's count them\n",
    "emoji_count = Counter(emojis)\n",
    "emoji_count.most_common(30)"
   ]
  },
  {
   "cell_type": "markdown",
   "metadata": {},
   "source": [
    "让我们也可视化表情符号，并将其导出为png"
   ]
  },
  {
   "cell_type": "code",
   "execution_count": 12,
   "metadata": {},
   "outputs": [],
   "source": [
    "from bokeh.io import export_png\n",
    "\n",
    "# 让我们将其存储在列表中，这样我们就可以将其从上面的管道中删除\n",
    "unique_emojis = [i[0] for i in emoji_count]\n",
    "\n",
    "# 同时将计数存储在列表中。跳过不相关的、无法表达的内容。\n",
    "plotted_emojis = [i[0] for i in emoji_count.most_common(30)]\n",
    "plotted_emojis = plotted_emojis[:3] + plotted_emojis[5:]\n",
    "counts = [i[1] for i in emoji_count.most_common(30)]\n",
    "counts = counts[:3] + counts[5:]\n",
    "\n",
    "# 使用Bokeh是因为pyplot不显示表情符号\n",
    "# 运行此单元格以查看html可视化\n",
    "\n",
    "output_file(\"visualizations/emojis.html\")"
   ]
  },
  {
   "cell_type": "markdown",
   "metadata": {},
   "source": [
    "参考文档：https://docs.bokeh.org/en/2.4.3/docs/user_guide/export.html"
   ]
  },
  {
   "cell_type": "code",
   "execution_count": null,
   "metadata": {},
   "outputs": [],
   "source": [
    "p = figure(x_range=plotted_emojis, plot_height=600, plot_width = 1300, title=\"Emoji Counts\",\n",
    "           toolbar_location=None, tools=\"\")\n",
    "p.vbar(x=plotted_emojis, top=counts, width=0.9, color = \"#FBD043\")\n",
    "p.xgrid.grid_line_color = None\n",
    "p.y_range.start = 0\n",
    "\n",
    "export_png(p, filename=\"visualizations/emojis.png\")\n",
    "\n",
    "show(p)"
   ]
  },
  {
   "cell_type": "code",
   "execution_count": null,
   "metadata": {},
   "outputs": [],
   "source": [
    "filename = \"visualizations/emojis.html\"\n",
    "IFrame(src=filename, width = 800, height=700)"
   ]
  },
  {
   "cell_type": "markdown",
   "metadata": {},
   "source": [
    "在这里，我们看到的大多是负面表情符号！这意味着大多数客户的情绪都是抱怨或询问！\n",
    "\n",
    "现在，我将删除表情符号，但在未来，用这些表情符号做事情可能会很有趣！或者，作为一种选择，我可能只留下最具信息性和最常见的内容，比如前10个明确表达情感的内容——这将与意图有关。"
   ]
  },
  {
   "cell_type": "code",
   "execution_count": 14,
   "metadata": {},
   "outputs": [
    {
     "name": "stderr",
     "output_type": "stream",
     "text": [
      "[nltk_data] Downloading package stopwords to /root/nltk_data...\n",
      "[nltk_data]   Package stopwords is already up-to-date!\n",
      "[nltk_data] Downloading package punkt to /root/nltk_data...\n",
      "[nltk_data]   Package punkt is already up-to-date!\n",
      "[nltk_data] Downloading package averaged_perceptron_tagger to\n",
      "[nltk_data]     /root/nltk_data...\n",
      "[nltk_data]   Package averaged_perceptron_tagger is already up-to-\n",
      "[nltk_data]       date!\n",
      "[nltk_data] Downloading package wordnet to /root/nltk_data...\n",
      "[nltk_data]   Package wordnet is already up-to-date!\n"
     ]
    },
    {
     "data": {
      "text/plain": [
       "True"
      ]
     },
     "execution_count": 14,
     "metadata": {},
     "output_type": "execute_result"
    }
   ],
   "source": [
    "# 停用词\n",
    "nltk.download('stopwords')\n",
    "# 标点符号\n",
    "nltk.download('punkt')\n",
    "# 词性标记\n",
    "nltk.download('averaged_perceptron_tagger')\n",
    "# wordnet\n",
    "nltk.download('wordnet')"
   ]
  },
  {
   "cell_type": "code",
   "execution_count": 15,
   "metadata": {},
   "outputs": [
    {
     "name": "stdout",
     "output_type": "stream",
     "text": [
      "The spaCy function was run more than once, but that's okay because it means it was initialized!\n"
     ]
    }
   ],
   "source": [
    "# 建立我自己的 tokenizer \n",
    "\n",
    "### Variable storage\n",
    "punct_base = ['?']\n",
    "\n",
    "# 我要删除的标点符号，包括空标记\n",
    "puncts = ['\\u200d','?', '....','..','...','','@','#', ',', '.', '\"', ':', ')', '(', '-', '!', '|', ';', \"'\", '$', '&', '/', '[', ']', '>', '%', '=', '*', '+', '\\\\', \n",
    "    '•', '~', '£', '·', '_', '{', '}', '©', '^', '®', '`',  '<', '→', '°', '€', '™', '›',  '♥', '←', '×', '§', '″', '′', 'Â', '█', \n",
    "    '½', 'à', '…', '“', '★', '”', '–', '●', 'â', '►', '−', '¢', '²', '¬', '░', '¶', '↑', '±', '¿', '▾', '═', '¦', '║', '―', '¥', '▓', \n",
    "    '—', '‹', '─', '▒', '：', '¼', '⊕', '▼', '▪', '†', '■', '’', '▀', '¨', '▄', '♫', '☆', 'é', '¯', '♦', '¤', '▲', 'è', '¸', '¾', \n",
    "    'Ã', '⋅', '‘', '∞', '∙', '）', '↓', '、', '│', '（', '»', '，', '♪', '╩', '╚', '³', '・', '╦', '╣', '╔', '╗', '▬', '❤', 'ï', 'Ø', \n",
    "    '¹', '≤', '‡', '√', '!','🅰','🅱']\n",
    "\n",
    "# 使用NLTK的停止词语料库\n",
    "stopwords.words('english');\n",
    "stop_words = set(stopwords.words('english')) \n",
    "\n",
    "# 找到了一本常用缩写和口语词典\n",
    "contraction_colloq_dict = {\"btw\": \"by the way\", \"ain't\": \"is not\", \"aren't\": \"are not\",\"can't\": \"cannot\", \"'cause\": \"because\", \"could've\": \"could have\", \"couldn't\": \"could not\", \"didn't\": \"did not\",  \"doesn't\": \"does not\", \"don't\": \"do not\", \"hadn't\": \"had not\", \"hasn't\": \"has not\", \"haven't\": \"have not\", \"he'd\": \"he would\",\"he'll\": \"he will\", \"he's\": \"he is\", \"how'd\": \"how did\", \"how'd'y\": \"how do you\", \"how'll\": \"how will\", \"how's\": \"how is\",  \"I'd\": \"I would\", \"I'd've\": \"I would have\", \"I'll\": \"I will\", \"I'll've\": \"I will have\",\"I'm\": \"I am\", \"I've\": \"I have\", \"i'd\": \"i would\", \"i'd've\": \"i would have\", \"i'll\": \"i will\",  \"i'll've\": \"i will have\",\"i'm\": \"i am\", \"i've\": \"i have\", \"isn't\": \"is not\", \"it'd\": \"it would\", \"it'd've\": \"it would have\", \"it'll\": \"it will\", \"it'll've\": \"it will have\",\"it's\": \"it is\", \"let's\": \"let us\", \"ma'am\": \"madam\", \"mayn't\": \"may not\", \"might've\": \"might have\",\"mightn't\": \"might not\",\"mightn't've\": \"might not have\", \"must've\": \"must have\", \"mustn't\": \"must not\", \"mustn't've\": \"must not have\", \"needn't\": \"need not\", \"needn't've\": \"need not have\",\"o'clock\": \"of the clock\", \"oughtn't\": \"ought not\", \"oughtn't've\": \"ought not have\", \"shan't\": \"shall not\", \"sha'n't\": \"shall not\", \"shan't've\": \"shall not have\", \"she'd\": \"she would\", \"she'd've\": \"she would have\", \"she'll\": \"she will\", \"she'll've\": \"she will have\", \"she's\": \"she is\", \"should've\": \"should have\", \"shouldn't\": \"should not\", \"shouldn't've\": \"should not have\", \"so've\": \"so have\",\"so's\": \"so as\", \"this's\": \"this is\",\"that'd\": \"that would\", \"that'd've\": \"that would have\", \"that's\": \"that is\", \"there'd\": \"there would\", \"there'd've\": \"there would have\", \"there's\": \"there is\", \"here's\": \"here is\",\"they'd\": \"they would\", \"they'd've\": \"they would have\", \"they'll\": \"they will\", \"they'll've\": \"they will have\", \"they're\": \"they are\", \"they've\": \"they have\", \"to've\": \"to have\", \"wasn't\": \"was not\", \"we'd\": \"we would\", \"we'd've\": \"we would have\", \"we'll\": \"we will\", \"we'll've\": \"we will have\", \"we're\": \"we are\", \"we've\": \"we have\", \"weren't\": \"were not\", \"what'll\": \"what will\", \"what'll've\": \"what will have\", \"what're\": \"what are\",  \"what's\": \"what is\", \"what've\": \"what have\", \"when's\": \"when is\", \"when've\": \"when have\", \"where'd\": \"where did\", \"where's\": \"where is\", \"where've\": \"where have\", \"who'll\": \"who will\", \"who'll've\": \"who will have\", \"who's\": \"who is\", \"who've\": \"who have\", \"why's\": \"why is\", \"why've\": \"why have\", \"will've\": \"will have\", \"won't\": \"will not\", \"won't've\": \"will not have\", \"would've\": \"would have\", \"wouldn't\": \"would not\", \"wouldn't've\": \"would not have\", \"y'all\": \"you all\", \"y'all'd\": \"you all would\",\"y'all'd've\": \"you all would have\",\"y'all're\": \"you all are\",\"y'all've\": \"you all have\",\"you'd\": \"you would\", \"you'd've\": \"you would have\"}\n",
    "\n",
    "# 初始化lemmatizer\n",
    "lemmatizer = nltk.stem.WordNetLemmatizer()\n",
    "\n",
    "import emoji # For emoji removal step\n",
    "\n",
    "import en_core_web_sm\n",
    "try:\n",
    "    # 正在初始化spaCy对象（不要多次运行）\n",
    "    nlp_cld = spacy.load('en_core_web_sm')\n",
    "    language_detector = spacy_cld.LanguageDetector()\n",
    "    nlp_cld.add_pipe(language_detector)\n",
    "except ValueError as e:\n",
    "    print(\"The spaCy function was run more than once, but that's okay because it means it was initialized!\")"
   ]
  },
  {
   "cell_type": "markdown",
   "metadata": {},
   "source": [
    "## 我的整个初步文本预处理管道\n",
    "\n",
    "我希望所有的预处理都是一个迭代过程，所以我把它全部编译在一个函数中，这样它就可以同时运行，这样就增强了组织感。在每个预处理步骤中，我都会可视化数据中每个标记的长度。一般来说，像删除停止词这样的事情会将分布向左移动，因为我们在每个预处理步骤中的标记越来越少。我还提供了每个步骤的数据头，以便它清楚地显示每个步骤正在进行的处理。"
   ]
  },
  {
   "cell_type": "code",
   "execution_count": 16,
   "metadata": {},
   "outputs": [],
   "source": [
    "# 我的预处理功能（在此处定义它们，以便我可以从笔记本的任何位置访问它们）\n",
    "\n",
    "def visualize_lengths(data,title):\n",
    "    '''Visualizing lengths of tokens in each tweet'''\n",
    "    lengths = [len(i) for i in data]\n",
    "    plt.figure(figsize=(13,6))\n",
    "    plt.hist(lengths, bins = 40)\n",
    "    plt.title(title)\n",
    "    plt.show()\n",
    "    \n",
    "def remove_from_list(x, stuff_to_remove) -> list:\n",
    "        ''' 制作一个从列表中删除项目列表的函数'''\n",
    "        for item in stuff_to_remove:\n",
    "            # Making sure to iterate through the entire token\n",
    "            for i,token in enumerate(x):\n",
    "                if item == token:\n",
    "                    del x[i]\n",
    "        return x\n",
    "    \n",
    "def remove_links(doc):\n",
    "    return [re.sub(r'^https?:\\/\\/.*[\\r\\n]*', '', token, flags=re.MULTILINE) for token in doc]\n",
    "\n",
    "def correct_spellings(x):\n",
    "    ''' 将列表作为输入，并输出更正拼写的列表'''\n",
    "    corrected_text = []\n",
    "    for word in x:\n",
    "        if word in x:\n",
    "            corrected_text.append(spell.correction(word))\n",
    "        else:\n",
    "            corrected_text.append(word)\n",
    "    return corrected_text\n",
    "\n",
    "def replace_from_dict(x,dic):\n",
    "    ''' 制作一个函数来替换基于词典的列表中的所有项。我确保使用插入件方法，将较长的gram替换项作为不同项插入该特定索引处的列表中'''\n",
    "    replaced_counter = 0\n",
    "    for item in dic.items():\n",
    "        for i, e in enumerate(x):\n",
    "            if e == item[0]:\n",
    "                replaced_counter+=1\n",
    "                    # Inserting the expanded tokens in a way that preserves the order\n",
    "                del x[i]\n",
    "                for ix, token in enumerate(item[1].split()):\n",
    "                    x.insert(i+ix,token)\n",
    "#         print(f\"Amount of words replaced: {replaced_counter}\")\n",
    "    return x    \n",
    "\n",
    "def only_english(x):\n",
    "    ''' 制作一个只接受英语的函数，如果它是英语，则附加True，否则附加False变成mask。返回掩码'''    \n",
    "    mask = []\n",
    "    x = x.apply(\" \".join)\n",
    "    try:\n",
    "        for i,doc in tqdm(enumerate(nlp_cld.pipe(x, batch_size=512))):\n",
    "            if 'en' not in doc._.languages or len(doc._.languages) != 1:\n",
    "                mask.append(False)\n",
    "            else:\n",
    "                mask.append(True)\n",
    "    except Exception as e:\n",
    "        print(f\"Exception:{e}\")\n",
    "    return mask\n",
    "\n",
    "def get_wordnet_pos(word):\n",
    "    \"\"\"将POS标记映射到lemmatize（）接受的第一个字符\"\"\"\n",
    "    tag = nltk.pos_tag([word])[0][1][0].upper()\n",
    "    tag_dict = {\"J\": wordnet.ADJ,\n",
    "                    \"N\": wordnet.NOUN,\n",
    "                    \"V\": wordnet.VERB,\n",
    "                    \"R\": wordnet.ADV}\n",
    "    return tag_dict.get(tag, wordnet.NOUN)\n",
    "    \n",
    "def lemmatize_list(x):\n",
    "    ''' 此lemmatizer函数应适用于标记化数据的单个列表'''\n",
    "#         # Turning list into a string\n",
    "    x = \" \".join(x)\n",
    "    # Returning a list again\n",
    "    return [lemmatizer.lemmatize(w, get_wordnet_pos(w)) for w in nltk.word_tokenize(x)]\n",
    "\n",
    "def extract_emojis(s):\n",
    "        return [c for c in s if c not in emoji.UNICODE_EMOJI]\n",
    "\n",
    "def limit_length(x, max_tokens, min_tokens):\n",
    "    ''' 输入一个列表并将其从文档中删除，如果文档具有大于最大值和小于最小值'''\n",
    "    output = x\n",
    "    if len(x) > max_tokens:\n",
    "        output = np.nan\n",
    "    if len(x) <= min_tokens:\n",
    "        output = np.nan\n",
    "    return output\n",
    "\n",
    "def clean_numbers(x):\n",
    "    for i,j in enumerate(x):\n",
    "        if bool(re.search(r'\\d', j)):\n",
    "            del x[i]\n",
    "    return x\n",
    "\n",
    "def validate(func, locals):\n",
    "    ''' 验证下面的函数以接受正确的输入'''\n",
    "    for var, test in func.__annotations__.items():\n",
    "        value = locals[var]\n",
    "        try: \n",
    "            pr=test.__name__+': '+test.__docstring__\n",
    "        except AttributeError:\n",
    "            pr=test.__name__   \n",
    "        msg = '{}=={}; Test: {}'.format(var, value, pr)\n",
    "        assert test(value), msg\n",
    "\n",
    "# End to end tokenizer function\n",
    "\n",
    "def my_tokenizer(data: lambda _data: isinstance(_data, pd.Series)) -> 'Cleaned Pandas Series':\n",
    "    ''' 我正在制作自己的端到端标记器函数，用于接受一个Pandas序列作为输入，并输出一个预处理的Pandas系列'''\n",
    "    \n",
    "    # 确保输入是一个系列（这是做同一件事的两种方法）\n",
    "    assert isinstance(data,pd.Series), 'Input must be a Pandas Series'\n",
    "#     validate(my_tokenizer, locals())\n",
    "    \n",
    "    # 1. 将全部转换为小写\n",
    "    data = data.str.lower()\n",
    "    \n",
    "    print(f'1. Original shape of data is {data.shape}')\n",
    "    \n",
    "    \n",
    "    # 2. 使用NLTK的TweetTokenizer进行标记。这将重复字符限制为\n",
    "    # 三个带有缩小镜头参数，并剥去所有@。它还\n",
    "    # 将其拆分为1-gram token\n",
    "    tknzr = TweetTokenizer(strip_handles = True, reduce_len = True)\n",
    "    # 使用进度应用程序显示进度条\n",
    "    data = data.progress_apply(tknzr.tokenize)\n",
    "    \n",
    "    print(f'2. Tokenized, removed handles, and reduced the length of repeated characters.\\\n",
    "          \\n Shape is still {data.shape}. \\n \\n Peek: \\n {data.head()}')\n",
    "    visualize_lengths(data, 'Length of Tokens after Step 2')\n",
    "    \n",
    "    # 3. 删除标点符号\n",
    "    \n",
    "    data = data.progress_apply(remove_from_list, stuff_to_remove = puncts)\n",
    "    print(f'3. Removed empty tokens and punctuation. Shape is still {data.shape}. \\n \\n Peek: \\n {data.head()}')\n",
    "    visualize_lengths(data, 'Length of Tokens after Step 9')\n",
    "    \n",
    "    # 3.1. 正在删除链接\n",
    "    \n",
    "    data = data.progress_apply(remove_links)\n",
    "    \n",
    "    print(f'3. Removed the links. Shape is still {data.shape}. \\n \\n Peek: \\n {data.head()}')\n",
    "    visualize_lengths(data, 'Length of Tokens after Step 3')\n",
    "\n",
    "    # 4. 检查并更正拼写错误\n",
    "    spell = SpellChecker()\n",
    "    \n",
    "    # 先跳过此步骤，因为它花费的时间太长\n",
    "#     data = data.progress_apply(correct_spellings)\n",
    "    \n",
    "    print(f'4. Applied automispelling corrections. Shape is still {data.shape}. \\n \\n Peek: \\n {data.head()}')\n",
    "    \n",
    "    \n",
    "    # 5. 使用上面定义的相同remove_from_list函数删除停止字\n",
    "    \n",
    "    data = data.progress_apply(remove_from_list, stuff_to_remove = stop_words)\n",
    "    \n",
    "    print(f'5. Removed the stop words. Shape is still {data.shape}. \\n \\n Peek: \\n {data.head()}')\n",
    "    visualize_lengths(data, 'Length of Tokens after Step 4')\n",
    "    \n",
    "    # 6. 扩展收缩和口语\n",
    "    \n",
    "    data = data.progress_apply(replace_from_dict, dic = contraction_colloq_dict)\n",
    "    print(f'6. Expanded contractions into extra tokens. Shape is still {data.shape}. \\n \\n Peek: \\n {data.head()}')\n",
    "    visualize_lengths(data, 'Length of Tokens after Step 5')\n",
    "    \n",
    "    # 7. 使用spaCy删除非英语推文\n",
    "\n",
    "    data = data[only_english(data)]\n",
    "    print(f'7. Remove all non-english Tweets. Shape is now {data.shape}. Clearly less than before! \\n \\n Peek: \\n {data.head()}')\n",
    "    \n",
    "    # 8. Lemmatization\n",
    "\n",
    "    data = data.progress_apply(lemmatize_list)\n",
    "    print(f'8. Lemmatized the tokens. Shape is still {data.shape}. \\n \\n Peek: \\n {data.head()}')\n",
    "    visualize_lengths(data, 'Length of Tokens after Step 8')   \n",
    "   \n",
    "    # 再次移除以确保我得到所有东西\n",
    "    data = data.progress_apply(remove_from_list, stuff_to_remove = puncts)\n",
    "\n",
    "    # 9.1. 删除表情符号--（更新）以保留系列索引的方式\n",
    "    \n",
    "    unique_emojis = [i[0] for i in emoji.UNICODE_EMOJI]\n",
    "    data = data.apply(remove_from_list, stuff_to_remove = unique_emojis)\n",
    "    \n",
    "    # 9.2. 删除数字--（UPDATE）也以保留系列索引的方式\n",
    "    # 使用嵌套列表理解\n",
    "    data = data.progress_apply(clean_numbers)\n",
    "    \n",
    "    print(f'9. Removed emojis and numbers. Shape is still {data.shape}. \\n \\n Peek: \\n {data.head()}')\n",
    "    visualize_lengths(data, 'Length of Tokens after Step 9')   \n",
    "    \n",
    "    # 10. 推文的限制长度\n",
    "    max_tokens = 50\n",
    "    min_tokens = 5\n",
    "    data = data.progress_apply(limit_length, min_tokens = min_tokens, max_tokens = max_tokens)\n",
    "    # 删除所有nan值，这些值是不符合阈值要求的令牌限制\n",
    "    data = data.dropna()\n",
    "    print(f'10. Limited each tweet to a max of {max_tokens} tokens and a min of {min_tokens} tokens. Shape is now {data.shape}. \\n \\n Peek: \\n {data.head()}')\n",
    "    visualize_lengths(data, 'Length of Tokens after Step 10')\n",
    "    \n",
    "    return data\n",
    "    "
   ]
  },
  {
   "cell_type": "code",
   "execution_count": 17,
   "metadata": {},
   "outputs": [
    {
     "name": "stdout",
     "output_type": "stream",
     "text": [
      "1. Original shape of data is (106648,)\n"
     ]
    },
    {
     "data": {
      "application/vnd.jupyter.widget-view+json": {
       "model_id": "26231d1aed3b4c0e82ff6ddb9f832c45",
       "version_major": 2,
       "version_minor": 0
      },
      "text/plain": [
       "  0%|          | 0/106648 [00:00<?, ?it/s]"
      ]
     },
     "metadata": {},
     "output_type": "display_data"
    },
    {
     "name": "stdout",
     "output_type": "stream",
     "text": [
      "2. Tokenized, removed handles, and reduced the length of repeated characters.          \n",
      " Shape is still (106648,). \n",
      " \n",
      " Peek: \n",
      " 0    [the, newest, update, ., i️, made, sure, to, d...\n",
      "1                            [https://t.co/nv0yucs0lb]\n",
      "2    [tried, resetting, my, settings, .., restartin...\n",
      "3    [this, is, what, it, looks, like, https://t.co...\n",
      "4    [i️, have, an, iphone, 7, plus, and, yes, i️, do]\n",
      "Name: inbound_text, dtype: object\n"
     ]
    },
    {
     "data": {
      "image/png": "[encoded data removed]",
      "text/plain": [
       "<Figure size 1300x600 with 1 Axes>"
      ]
     },
     "metadata": {},
     "output_type": "display_data"
    },
    {
     "data": {
      "application/vnd.jupyter.widget-view+json": {
       "model_id": "1918a86e58ea406882de38393a427b21",
       "version_major": 2,
       "version_minor": 0
      },
      "text/plain": [
       "  0%|          | 0/106648 [00:00<?, ?it/s]"
      ]
     },
     "metadata": {},
     "output_type": "display_data"
    },
    {
     "name": "stdout",
     "output_type": "stream",
     "text": [
      "3. Removed empty tokens and punctuation. Shape is still (106648,). \n",
      " \n",
      " Peek: \n",
      " 0    [the, newest, update, i️, made, sure, to, down...\n",
      "1                            [https://t.co/nv0yucs0lb]\n",
      "2    [tried, resetting, my, settings, restarting, m...\n",
      "3    [this, is, what, it, looks, like, https://t.co...\n",
      "4    [i️, have, an, iphone, 7, plus, and, yes, i️, do]\n",
      "Name: inbound_text, dtype: object\n"
     ]
    },
    {
     "data": {
      "image/png": "[encoded data removed]",
      "text/plain": [
       "<Figure size 1300x600 with 1 Axes>"
      ]
     },
     "metadata": {},
     "output_type": "display_data"
    },
    {
     "data": {
      "application/vnd.jupyter.widget-view+json": {
       "model_id": "b8300afa3aaf405e8ad65f0b0d1fde24",
       "version_major": 2,
       "version_minor": 0
      },
      "text/plain": [
       "  0%|          | 0/106648 [00:00<?, ?it/s]"
      ]
     },
     "metadata": {},
     "output_type": "display_data"
    },
    {
     "name": "stdout",
     "output_type": "stream",
     "text": [
      "3. Removed the links. Shape is still (106648,). \n",
      " \n",
      " Peek: \n",
      " 0    [the, newest, update, i️, made, sure, to, down...\n",
      "1                                                   []\n",
      "2    [tried, resetting, my, settings, restarting, m...\n",
      "3                  [this, is, what, it, looks, like, ]\n",
      "4    [i️, have, an, iphone, 7, plus, and, yes, i️, do]\n",
      "Name: inbound_text, dtype: object\n"
     ]
    },
    {
     "data": {
      "image/png": "[encoded data removed]",
      "text/plain": [
       "<Figure size 1300x600 with 1 Axes>"
      ]
     },
     "metadata": {},
     "output_type": "display_data"
    },
    {
     "name": "stdout",
     "output_type": "stream",
     "text": [
      "4. Applied automispelling corrections. Shape is still (106648,). \n",
      " \n",
      " Peek: \n",
      " 0    [the, newest, update, i️, made, sure, to, down...\n",
      "1                                                   []\n",
      "2    [tried, resetting, my, settings, restarting, m...\n",
      "3                  [this, is, what, it, looks, like, ]\n",
      "4    [i️, have, an, iphone, 7, plus, and, yes, i️, do]\n",
      "Name: inbound_text, dtype: object\n"
     ]
    },
    {
     "data": {
      "application/vnd.jupyter.widget-view+json": {
       "model_id": "84a4eeb00c9f40398959bff8835761f6",
       "version_major": 2,
       "version_minor": 0
      },
      "text/plain": [
       "  0%|          | 0/106648 [00:00<?, ?it/s]"
      ]
     },
     "metadata": {},
     "output_type": "display_data"
    },
    {
     "name": "stdout",
     "output_type": "stream",
     "text": [
      "5. Removed the stop words. Shape is still (106648,). \n",
      " \n",
      " Peek: \n",
      " 0    [newest, update, i️, made, sure, download, yes...\n",
      "1                                                   []\n",
      "2      [tried, resetting, settings, restarting, phone]\n",
      "3                                      [looks, like, ]\n",
      "4                       [i️, iphone, 7, plus, yes, i️]\n",
      "Name: inbound_text, dtype: object\n"
     ]
    },
    {
     "data": {
      "image/png": "[encoded data removed]",
      "text/plain": [
       "<Figure size 1300x600 with 1 Axes>"
      ]
     },
     "metadata": {},
     "output_type": "display_data"
    },
    {
     "data": {
      "application/vnd.jupyter.widget-view+json": {
       "model_id": "9c1bf3a76ca8421faf55baee9d3dfb06",
       "version_major": 2,
       "version_minor": 0
      },
      "text/plain": [
       "  0%|          | 0/106648 [00:00<?, ?it/s]"
      ]
     },
     "metadata": {},
     "output_type": "display_data"
    },
    {
     "name": "stdout",
     "output_type": "stream",
     "text": [
      "6. Expanded contractions into extra tokens. Shape is still (106648,). \n",
      " \n",
      " Peek: \n",
      " 0    [newest, update, i️, made, sure, download, yes...\n",
      "1                                                   []\n",
      "2      [tried, resetting, settings, restarting, phone]\n",
      "3                                      [looks, like, ]\n",
      "4                       [i️, iphone, 7, plus, yes, i️]\n",
      "Name: inbound_text, dtype: object\n"
     ]
    },
    {
     "data": {
      "image/png": "[encoded data removed]",
      "text/plain": [
       "<Figure size 1300x600 with 1 Axes>"
      ]
     },
     "metadata": {},
     "output_type": "display_data"
    },
    {
     "data": {
      "application/vnd.jupyter.widget-view+json": {
       "model_id": "df0f118325744b329a9d880afe650936",
       "version_major": 2,
       "version_minor": 0
      },
      "text/plain": [
       "0it [00:00, ?it/s]"
      ]
     },
     "metadata": {},
     "output_type": "display_data"
    },
    {
     "name": "stdout",
     "output_type": "stream",
     "text": [
      "7. Remove all non-english Tweets. Shape is now (93397,). Clearly less than before! \n",
      " \n",
      " Peek: \n",
      " 0    [newest, update, i️, made, sure, download, yes...\n",
      "2      [tried, resetting, settings, restarting, phone]\n",
      "4                       [i️, iphone, 7, plus, yes, i️]\n",
      "5                     [i️, need, answers, annoying, 🙃]\n",
      "6    [hey, anyone, else, upgraded, ios, 11.1, issue...\n",
      "Name: inbound_text, dtype: object\n"
     ]
    },
    {
     "data": {
      "application/vnd.jupyter.widget-view+json": {
       "model_id": "5091862d5b79483db1dd887816f3de5a",
       "version_major": 2,
       "version_minor": 0
      },
      "text/plain": [
       "  0%|          | 0/93397 [00:00<?, ?it/s]"
      ]
     },
     "metadata": {},
     "output_type": "display_data"
    },
    {
     "name": "stdout",
     "output_type": "stream",
     "text": [
      "8. Lemmatized the tokens. Shape is still (93397,). \n",
      " \n",
      " Peek: \n",
      " 0    [new, update, i️, make, sure, download, yester...\n",
      "2                [try, reset, setting, restart, phone]\n",
      "4                       [i️, iphone, 7, plus, yes, i️]\n",
      "5                         [i️, need, answer, annoy, 🙃]\n",
      "6    [hey, anyone, else, upgraded, io, 11.1, issue,...\n",
      "Name: inbound_text, dtype: object\n"
     ]
    },
    {
     "data": {
      "image/png": "[encoded data removed]",
      "text/plain": [
       "<Figure size 1300x600 with 1 Axes>"
      ]
     },
     "metadata": {},
     "output_type": "display_data"
    },
    {
     "data": {
      "application/vnd.jupyter.widget-view+json": {
       "model_id": "33b39af0be0a4ecc9432d6af43a08a1b",
       "version_major": 2,
       "version_minor": 0
      },
      "text/plain": [
       "  0%|          | 0/93397 [00:00<?, ?it/s]"
      ]
     },
     "metadata": {},
     "output_type": "display_data"
    },
    {
     "data": {
      "application/vnd.jupyter.widget-view+json": {
       "model_id": "49028becc54b42a7a00628d051069b41",
       "version_major": 2,
       "version_minor": 0
      },
      "text/plain": [
       "  0%|          | 0/93397 [00:00<?, ?it/s]"
      ]
     },
     "metadata": {},
     "output_type": "display_data"
    },
    {
     "name": "stdout",
     "output_type": "stream",
     "text": [
      "9. Removed emojis and numbers. Shape is still (93397,). \n",
      " \n",
      " Peek: \n",
      " 0    [new, update, i️, make, sure, download, yester...\n",
      "2                [try, reset, setting, restart, phone]\n",
      "4                          [i️, iphone, plus, yes, i️]\n",
      "5                         [i️, need, answer, annoy, 🙃]\n",
      "6    [hey, anyone, else, upgraded, io, issue, capit...\n",
      "Name: inbound_text, dtype: object\n"
     ]
    },
    {
     "data": {
      "image/png": "[encoded data removed]",
      "text/plain": [
       "<Figure size 1300x600 with 1 Axes>"
      ]
     },
     "metadata": {},
     "output_type": "display_data"
    },
    {
     "data": {
      "application/vnd.jupyter.widget-view+json": {
       "model_id": "69e6beffb7c04438830a4a60de66e0f3",
       "version_major": 2,
       "version_minor": 0
      },
      "text/plain": [
       "  0%|          | 0/93397 [00:00<?, ?it/s]"
      ]
     },
     "metadata": {},
     "output_type": "display_data"
    },
    {
     "name": "stdout",
     "output_type": "stream",
     "text": [
      "10. Limited each tweet to a max of 50 tokens and a min of 5 tokens. Shape is now (77175,). \n",
      " \n",
      " Peek: \n",
      " 0     [new, update, i️, make, sure, download, yester...\n",
      "6     [hey, anyone, else, upgraded, io, issue, capit...\n",
      "12    [hello, internet, someone, explain, symbol, ke...\n",
      "13    [get, screenshot, say, iphonex, reserve, email...\n",
      "15    [thank, update, phone, even, slow, barely, wor...\n",
      "Name: inbound_text, dtype: object\n"
     ]
    },
    {
     "data": {
      "image/png": "[encoded data removed]",
      "text/plain": [
       "<Figure size 1300x600 with 1 Axes>"
      ]
     },
     "metadata": {},
     "output_type": "display_data"
    }
   ],
   "source": [
    "processed_inbound = my_tokenizer(text['inbound_text'])"
   ]
  },
  {
   "cell_type": "markdown",
   "metadata": {},
   "source": [
    "这太棒了，我们现在将预处理的数据存储到变量“processed_inbound”中。现在，让我们将处理后的数据转换为pkl，这样我就不必一遍又一遍地运行它来在下一个笔记本上使用。"
   ]
  },
  {
   "cell_type": "code",
   "execution_count": 18,
   "metadata": {},
   "outputs": [
    {
     "data": {
      "text/plain": [
       "0     [new, update, i️, make, sure, download, yester...\n",
       "6     [hey, anyone, else, upgraded, io, issue, capit...\n",
       "12    [hello, internet, someone, explain, symbol, ke...\n",
       "13    [get, screenshot, say, iphonex, reserve, email...\n",
       "15    [thank, update, phone, even, slow, barely, wor...\n",
       "Name: inbound_text, dtype: object"
      ]
     },
     "execution_count": 18,
     "metadata": {},
     "output_type": "execute_result"
    }
   ],
   "source": [
    "processed_inbound.head()"
   ]
  },
  {
   "cell_type": "code",
   "execution_count": 19,
   "metadata": {},
   "outputs": [
    {
     "data": {
      "text/html": [
       "<div>\n",
       "<style scoped>\n",
       "    .dataframe tbody tr th:only-of-type {\n",
       "        vertical-align: middle;\n",
       "    }\n",
       "\n",
       "    .dataframe tbody tr th {\n",
       "        vertical-align: top;\n",
       "    }\n",
       "\n",
       "    .dataframe thead th {\n",
       "        text-align: right;\n",
       "    }\n",
       "</style>\n",
       "<table border=\"1\" class=\"dataframe\">\n",
       "  <thead>\n",
       "    <tr style=\"text-align: right;\">\n",
       "      <th></th>\n",
       "      <th>Processed Inbound</th>\n",
       "      <th>Real Inbound</th>\n",
       "      <th>Real Outbound</th>\n",
       "    </tr>\n",
       "  </thead>\n",
       "  <tbody>\n",
       "    <tr>\n",
       "      <th>0</th>\n",
       "      <td>[new, update, i️, make, sure, download, yester...</td>\n",
       "      <td>@AppleSupport The newest update. I️ made sure ...</td>\n",
       "      <td>@115854 Lets take a closer look into this issu...</td>\n",
       "    </tr>\n",
       "    <tr>\n",
       "      <th>6</th>\n",
       "      <td>[hey, anyone, else, upgraded, io, issue, capit...</td>\n",
       "      <td>Hey @AppleSupport and anyone else who upgraded...</td>\n",
       "      <td>@115856 Hey, let's work together to figure out...</td>\n",
       "    </tr>\n",
       "    <tr>\n",
       "      <th>12</th>\n",
       "      <td>[hello, internet, someone, explain, symbol, ke...</td>\n",
       "      <td>Hello, internet. Can someone explain why this ...</td>\n",
       "      <td>@115861 You're in the right place; we'll do al...</td>\n",
       "    </tr>\n",
       "    <tr>\n",
       "      <th>13</th>\n",
       "      <td>[get, screenshot, say, iphonex, reserve, email...</td>\n",
       "      <td>@AppleSupport I’ve got a screenshot saying my ...</td>\n",
       "      <td>@115863 Go ahead and send us a DM please. Let ...</td>\n",
       "    </tr>\n",
       "    <tr>\n",
       "      <th>15</th>\n",
       "      <td>[thank, update, phone, even, slow, barely, wor...</td>\n",
       "      <td>Thank you @AppleSupport I updated my phone and...</td>\n",
       "      <td>@115864 We'd like to help, but we'll need more...</td>\n",
       "    </tr>\n",
       "  </tbody>\n",
       "</table>\n",
       "</div>"
      ],
      "text/plain": [
       "                                    Processed Inbound  \\\n",
       "0   [new, update, i️, make, sure, download, yester...   \n",
       "6   [hey, anyone, else, upgraded, io, issue, capit...   \n",
       "12  [hello, internet, someone, explain, symbol, ke...   \n",
       "13  [get, screenshot, say, iphonex, reserve, email...   \n",
       "15  [thank, update, phone, even, slow, barely, wor...   \n",
       "\n",
       "                                         Real Inbound  \\\n",
       "0   @AppleSupport The newest update. I️ made sure ...   \n",
       "6   Hey @AppleSupport and anyone else who upgraded...   \n",
       "12  Hello, internet. Can someone explain why this ...   \n",
       "13  @AppleSupport I’ve got a screenshot saying my ...   \n",
       "15  Thank you @AppleSupport I updated my phone and...   \n",
       "\n",
       "                                        Real Outbound  \n",
       "0   @115854 Lets take a closer look into this issu...  \n",
       "6   @115856 Hey, let's work together to figure out...  \n",
       "12  @115861 You're in the right place; we'll do al...  \n",
       "13  @115863 Go ahead and send us a DM please. Let ...  \n",
       "15  @115864 We'd like to help, but we'll need more...  "
      ]
     },
     "execution_count": 19,
     "metadata": {},
     "output_type": "execute_result"
    }
   ],
   "source": [
    "# Index matching\n",
    "real_inbound = text['inbound_text'].loc[processed_inbound.index]\n",
    "real_outbound = text['outbound_text'].loc[processed_inbound.index]\n",
    "processed_inbound\n",
    "\n",
    "# Storing in DataFrame\n",
    "processed = pd.DataFrame({'Processed Inbound': processed_inbound, 'Real Inbound': real_inbound,\n",
    "             'Real Outbound': real_outbound})\n",
    "\n",
    "# Preview\n",
    "processed.head()"
   ]
  },
  {
   "cell_type": "code",
   "execution_count": 20,
   "metadata": {},
   "outputs": [],
   "source": [
    "# Saving processed inbound data into a serialized saved file\n",
    "processed_inbound.to_pickle('objects/processed_inbound.pkl')\n",
    "\n",
    "# 保存所有的预处理数据\n",
    "processed.to_pickle('objects/processed.pkl')"
   ]
  },
  {
   "cell_type": "code",
   "execution_count": 63,
   "metadata": {},
   "outputs": [
    {
     "data": {
      "text/plain": [
       "0     [new, update, i️, make, sure, download, yester...\n",
       "6     [hey, anyone, else, upgraded, io, issue, capit...\n",
       "12    [hello, internet, someone, explain, symbol, ke...\n",
       "13    [get, screenshot, say, iphonex, reserve, email...\n",
       "15    [thank, update, phone, even, slow, barely, wor...\n",
       "Name: inbound_text, dtype: object"
      ]
     },
     "execution_count": 63,
     "metadata": {},
     "output_type": "execute_result"
    }
   ],
   "source": [
    "# 重新加载\n",
    "processed_inbound = pd.read_pickle('objects/processed_inbound.pkl')\n",
    "processed_inbound.head()"
   ]
  },
  {
   "cell_type": "code",
   "execution_count": 22,
   "metadata": {
    "scrolled": true
   },
   "outputs": [
    {
     "data": {
      "text/html": [
       "<style  type=\"text/css\" >\n",
       "    #T_c0a98c3e_aa12_11ee_b36d_0242ac110005row0_col0 {\n",
       "            background-color:  black;\n",
       "            color:  lawngreen;\n",
       "            border-color:  white;\n",
       "            color:  cyan;\n",
       "        }    #T_c0a98c3e_aa12_11ee_b36d_0242ac110005row0_col1 {\n",
       "            background-color:  black;\n",
       "            color:  lawngreen;\n",
       "            border-color:  white;\n",
       "            color:  cyan;\n",
       "        }    #T_c0a98c3e_aa12_11ee_b36d_0242ac110005row0_col2 {\n",
       "            background-color:  black;\n",
       "            color:  lawngreen;\n",
       "            border-color:  white;\n",
       "            color:  cyan;\n",
       "        }    #T_c0a98c3e_aa12_11ee_b36d_0242ac110005row1_col0 {\n",
       "            background-color:  black;\n",
       "            color:  lawngreen;\n",
       "            border-color:  white;\n",
       "            color:  cyan;\n",
       "        }    #T_c0a98c3e_aa12_11ee_b36d_0242ac110005row1_col1 {\n",
       "            background-color:  black;\n",
       "            color:  lawngreen;\n",
       "            border-color:  white;\n",
       "            color:  cyan;\n",
       "        }    #T_c0a98c3e_aa12_11ee_b36d_0242ac110005row1_col2 {\n",
       "            background-color:  black;\n",
       "            color:  lawngreen;\n",
       "            border-color:  white;\n",
       "            color:  cyan;\n",
       "        }    #T_c0a98c3e_aa12_11ee_b36d_0242ac110005row2_col0 {\n",
       "            background-color:  black;\n",
       "            color:  lawngreen;\n",
       "            border-color:  white;\n",
       "            color:  cyan;\n",
       "        }    #T_c0a98c3e_aa12_11ee_b36d_0242ac110005row2_col1 {\n",
       "            background-color:  black;\n",
       "            color:  lawngreen;\n",
       "            border-color:  white;\n",
       "            color:  cyan;\n",
       "        }    #T_c0a98c3e_aa12_11ee_b36d_0242ac110005row2_col2 {\n",
       "            background-color:  black;\n",
       "            color:  lawngreen;\n",
       "            border-color:  white;\n",
       "            color:  cyan;\n",
       "        }    #T_c0a98c3e_aa12_11ee_b36d_0242ac110005row3_col0 {\n",
       "            background-color:  black;\n",
       "            color:  lawngreen;\n",
       "            border-color:  white;\n",
       "            color:  cyan;\n",
       "        }    #T_c0a98c3e_aa12_11ee_b36d_0242ac110005row3_col1 {\n",
       "            background-color:  black;\n",
       "            color:  lawngreen;\n",
       "            border-color:  white;\n",
       "            color:  cyan;\n",
       "        }    #T_c0a98c3e_aa12_11ee_b36d_0242ac110005row3_col2 {\n",
       "            background-color:  black;\n",
       "            color:  lawngreen;\n",
       "            border-color:  white;\n",
       "            color:  cyan;\n",
       "        }    #T_c0a98c3e_aa12_11ee_b36d_0242ac110005row4_col0 {\n",
       "            background-color:  black;\n",
       "            color:  lawngreen;\n",
       "            border-color:  white;\n",
       "            color:  cyan;\n",
       "        }    #T_c0a98c3e_aa12_11ee_b36d_0242ac110005row4_col1 {\n",
       "            background-color:  black;\n",
       "            color:  lawngreen;\n",
       "            border-color:  white;\n",
       "            color:  cyan;\n",
       "        }    #T_c0a98c3e_aa12_11ee_b36d_0242ac110005row4_col2 {\n",
       "            background-color:  black;\n",
       "            color:  lawngreen;\n",
       "            border-color:  white;\n",
       "            color:  cyan;\n",
       "        }</style><table id=\"T_c0a98c3e_aa12_11ee_b36d_0242ac110005\" ><thead>    <tr>        <th class=\"blank level0\" ></th>        <th class=\"col_heading level0 col0\" >Inbound</th>        <th class=\"col_heading level0 col1\" >Processed Inbound</th>        <th class=\"col_heading level0 col2\" >Outbound</th>    </tr></thead><tbody>\n",
       "                <tr>\n",
       "                        <th id=\"T_c0a98c3e_aa12_11ee_b36d_0242ac110005level0_row0\" class=\"row_heading level0 row0\" >0</th>\n",
       "                        <td id=\"T_c0a98c3e_aa12_11ee_b36d_0242ac110005row0_col0\" class=\"data row0 col0\" >@AppleSupport The newest update. I️ made sure to download it yesterday.</td>\n",
       "                        <td id=\"T_c0a98c3e_aa12_11ee_b36d_0242ac110005row0_col1\" class=\"data row0 col1\" >new update i️ make sure download yesterday</td>\n",
       "                        <td id=\"T_c0a98c3e_aa12_11ee_b36d_0242ac110005row0_col2\" class=\"data row0 col2\" >@115854 Lets take a closer look into this issue. Select the following link to join us in a DM and we'll go from there. https://t.co/GDrqU22YpT</td>\n",
       "            </tr>\n",
       "            <tr>\n",
       "                        <th id=\"T_c0a98c3e_aa12_11ee_b36d_0242ac110005level0_row1\" class=\"row_heading level0 row1\" >1</th>\n",
       "                        <td id=\"T_c0a98c3e_aa12_11ee_b36d_0242ac110005row1_col0\" class=\"data row1 col0\" >@AppleSupport  https://t.co/NV0yucs0lB</td>\n",
       "                        <td id=\"T_c0a98c3e_aa12_11ee_b36d_0242ac110005row1_col1\" class=\"data row1 col1\" >hey anyone else upgraded io issue capital i️ mail app put</td>\n",
       "                        <td id=\"T_c0a98c3e_aa12_11ee_b36d_0242ac110005row1_col2\" class=\"data row1 col2\" >@115854 We're here for you. Which version of the iOS are you running? Check from Settings &gt; General &gt; About.</td>\n",
       "            </tr>\n",
       "            <tr>\n",
       "                        <th id=\"T_c0a98c3e_aa12_11ee_b36d_0242ac110005level0_row2\" class=\"row_heading level0 row2\" >2</th>\n",
       "                        <td id=\"T_c0a98c3e_aa12_11ee_b36d_0242ac110005row2_col0\" class=\"data row2 col0\" >@AppleSupport Tried resetting my settings .. restarting my phone .. all that</td>\n",
       "                        <td id=\"T_c0a98c3e_aa12_11ee_b36d_0242ac110005row2_col1\" class=\"data row2 col1\" >hello internet someone explain symbol keep appear phone i️ try type letter i️ also</td>\n",
       "                        <td id=\"T_c0a98c3e_aa12_11ee_b36d_0242ac110005row2_col2\" class=\"data row2 col2\" >@115855 Let's go to DM for the next steps. DM us here: https://t.co/GDrqU22YpT</td>\n",
       "            </tr>\n",
       "            <tr>\n",
       "                        <th id=\"T_c0a98c3e_aa12_11ee_b36d_0242ac110005level0_row3\" class=\"row_heading level0 row3\" >3</th>\n",
       "                        <td id=\"T_c0a98c3e_aa12_11ee_b36d_0242ac110005row3_col0\" class=\"data row3 col0\" >@AppleSupport This is what it looks like https://t.co/XCQU2l4xUB</td>\n",
       "                        <td id=\"T_c0a98c3e_aa12_11ee_b36d_0242ac110005row3_col1\" class=\"data row3 col1\" >get screenshot say iphonex reserve email say happen</td>\n",
       "                        <td id=\"T_c0a98c3e_aa12_11ee_b36d_0242ac110005row3_col2\" class=\"data row3 col2\" >@115855 Any steps tried since it started last night?</td>\n",
       "            </tr>\n",
       "            <tr>\n",
       "                        <th id=\"T_c0a98c3e_aa12_11ee_b36d_0242ac110005level0_row4\" class=\"row_heading level0 row4\" >4</th>\n",
       "                        <td id=\"T_c0a98c3e_aa12_11ee_b36d_0242ac110005row4_col0\" class=\"data row4 col0\" >@AppleSupport I️ have an iPhone 7 Plus and yes I️ do</td>\n",
       "                        <td id=\"T_c0a98c3e_aa12_11ee_b36d_0242ac110005row4_col1\" class=\"data row4 col1\" >thank update phone even slow barely work thank ruin phone</td>\n",
       "                        <td id=\"T_c0a98c3e_aa12_11ee_b36d_0242ac110005row4_col2\" class=\"data row4 col2\" >@115855 That's great it has iOS 11.1 as we can rule out being outdated. Any steps tried since this started? Do you recall when it started?</td>\n",
       "            </tr>\n",
       "    </tbody></table>"
      ],
      "text/plain": [
       "<pandas.io.formats.style.Styler at 0x7f32e9f0fd50>"
      ]
     },
     "execution_count": 22,
     "metadata": {},
     "output_type": "execute_result"
    }
   ],
   "source": [
    "# 只是为了好看的展示\n",
    "show = lambda x: x.head(5).style.set_properties(**{'background-color': 'black',                                                   \n",
    "                                    'color': 'lawngreen',                       \n",
    "                                    'border-color': 'white'})\\\n",
    ".applymap(lambda x: f\"color: {'cyan' if isinstance(x,str) else 'lawngreen'}\")\\\n",
    ".background_gradient(cmap='Blues')\n",
    "\n",
    "# 正在读取已处理的入站\n",
    "processed_inbound = pd.read_pickle('objects/processed_inbound_extra.pkl')\n",
    "\n",
    "\n",
    "# 显示已处理的文本\n",
    "display = pd.DataFrame({\"Inbound\": inbound, \"Processed Inbound\": \n",
    "                        list(processed_inbound) + [''] * (len(inbound) - len(processed_inbound)),\n",
    "                       \"Outbound\": outbound})\n",
    "\n",
    "show(display)"
   ]
  },
  {
   "cell_type": "markdown",
   "metadata": {},
   "source": [
    "# 作业\n",
    "\n",
    "思考还有哪些是可以做的：\n",
    "- EDA\n",
    "- Preprocessing\n",
    "\n",
    "--- \n",
    "\n",
    "可以使用的EDA方法\n",
    "* 使用词云观察词频\n",
    "* 使用聚类方法查看主题\n",
    "* ...\n",
    "\n",
    "\n",
    "可以使用的预处理方法\n",
    "- Removal of Frequent words\n",
    "- Removal of Rare words\n",
    "- Stemming\n",
    "- Lemmatization\n",
    "- 移除情绪词、敏感词等\n",
    "- Conversion of emoticons to words\n",
    "- Conversion of emojis to words\n",
    "- Removal of HTML tags\n",
    "- Chat words conversion\n",
    "- ...\n",
    "\n"
   ]
  },
  {
   "cell_type": "markdown",
   "metadata": {},
   "source": [
    "## 预处理管道的单元测试，并简要说明\n",
    "\n",
    "在这里，我分别测试了上面的每个预处理步骤，并评论了我在每个步骤中所做的一些考虑。在本节的最后，我还简要地展示了我在预处理数据时考虑的其他一些事情。"
   ]
  },
  {
   "cell_type": "markdown",
   "metadata": {},
   "source": [
    "### 1. 移除数字"
   ]
  },
  {
   "cell_type": "markdown",
   "metadata": {},
   "source": [
    "我还想确保我的去掉11.1，因为那只是噪音。"
   ]
  },
  {
   "cell_type": "code",
   "execution_count": 23,
   "metadata": {},
   "outputs": [
    {
     "data": {
      "text/plain": [
       "True"
      ]
     },
     "execution_count": 23,
     "metadata": {},
     "output_type": "execute_result"
    }
   ],
   "source": [
    "'1'.isdigit()"
   ]
  },
  {
   "cell_type": "code",
   "execution_count": 24,
   "metadata": {},
   "outputs": [
    {
     "data": {
      "text/plain": [
       "0            new update i️ make sure download yesterday\n",
       "6     hey anyone else upgraded io issue capital i️ m...\n",
       "12    hello internet someone explain symbol keep app...\n",
       "13    get screenshot say iphonex reserve email say h...\n",
       "15    thank update phone even slow barely work thank...\n",
       "                            ...                        \n",
       "1                                password account login\n",
       "2                               credit card payment pay\n",
       "3                                        update upgrade\n",
       "4                                      info information\n",
       "5                          nearest apple location store\n",
       "Length: 76072, dtype: object"
      ]
     },
     "execution_count": 24,
     "metadata": {},
     "output_type": "execute_result"
    }
   ],
   "source": [
    "processed_inbound"
   ]
  },
  {
   "cell_type": "code",
   "execution_count": 25,
   "metadata": {},
   "outputs": [
    {
     "data": {
      "text/plain": [
       "['i', 'dont', 'want', 'numbers']"
      ]
     },
     "execution_count": 25,
     "metadata": {},
     "output_type": "execute_result"
    }
   ],
   "source": [
    "test = ['1', 'i', 'dont', 'want', 'numbers', '12', '44','11.1']\n",
    "\n",
    "no_ints = [x for x in test if not any(c.isdigit() for c in x)]\n",
    "\n",
    "no_ints"
   ]
  },
  {
   "cell_type": "code",
   "execution_count": 26,
   "metadata": {},
   "outputs": [],
   "source": [
    "# Nested list comprehensions to apply it to the entire series\n",
    "# [[x for x in i if not any(c.isdigit() for c in x)] for i in processed_inbound]"
   ]
  },
  {
   "cell_type": "markdown",
   "metadata": {},
   "source": [
    "### 2. 测试TweetTokenizer"
   ]
  },
  {
   "cell_type": "code",
   "execution_count": 27,
   "metadata": {},
   "outputs": [],
   "source": [
    "test = \" \".join(['@KingJames','I','am', 'the', '#GOAT'])"
   ]
  },
  {
   "cell_type": "code",
   "execution_count": 30,
   "metadata": {},
   "outputs": [
    {
     "data": {
      "text/plain": [
       "['I', 'am', 'the', '#GOAT']"
      ]
     },
     "execution_count": 30,
     "metadata": {},
     "output_type": "execute_result"
    }
   ],
   "source": [
    "tknzr = TweetTokenizer(strip_handles = True, reduce_len = True)\n",
    "# Using progress apply to show the progress bar\n",
    "tknzr.tokenize(test)"
   ]
  },
  {
   "cell_type": "markdown",
   "metadata": {},
   "source": [
    "所以现在我知道这个标记器不会去掉#，所以我会添加它"
   ]
  },
  {
   "cell_type": "markdown",
   "metadata": {},
   "source": [
    "### 3. 从列表中删除内容"
   ]
  },
  {
   "cell_type": "code",
   "execution_count": 31,
   "metadata": {},
   "outputs": [],
   "source": [
    "test = ['', 'bye', 'empty', 'string']"
   ]
  },
  {
   "cell_type": "code",
   "execution_count": 32,
   "metadata": {},
   "outputs": [],
   "source": [
    "def remove_from_list(x, stuff_to_remove):\n",
    "    ''' 制作一个从列表中删除项目列表的函数'''\n",
    "    for item in stuff_to_remove:\n",
    "        # 确保遍历每个token\n",
    "        for i,token in enumerate(x):\n",
    "            if item == token:\n",
    "                del x[i]\n",
    "    return x"
   ]
  },
  {
   "cell_type": "code",
   "execution_count": 33,
   "metadata": {},
   "outputs": [
    {
     "data": {
      "text/plain": [
       "['bye', 'empty', 'string']"
      ]
     },
     "execution_count": 33,
     "metadata": {},
     "output_type": "execute_result"
    }
   ],
   "source": [
    "remove_from_list(test, puncts)"
   ]
  },
  {
   "cell_type": "markdown",
   "metadata": {},
   "source": [
    "### 3.1 正在删除链接\n",
    "将使用正则表达式来执行此操作。"
   ]
  },
  {
   "cell_type": "code",
   "execution_count": 37,
   "metadata": {},
   "outputs": [],
   "source": [
    "test = processed_inbound[0:10]\n",
    "test;"
   ]
  },
  {
   "cell_type": "code",
   "execution_count": 38,
   "metadata": {},
   "outputs": [],
   "source": [
    "def remove_links(doc):\n",
    "    return [re.sub(r'^https?:\\/\\/.*[\\r\\n]*', '', token, flags=re.MULTILINE) for token in doc]"
   ]
  },
  {
   "cell_type": "code",
   "execution_count": 40,
   "metadata": {},
   "outputs": [
    {
     "data": {
      "text/plain": [
       "0            new update i️ make sure download yesterday\n",
       "6     hey anyone else upgraded io issue capital i️ m...\n",
       "12    hello internet someone explain symbol keep app...\n",
       "13    get screenshot say iphonex reserve email say h...\n",
       "15    thank update phone even slow barely work thank...\n",
       "19    need software update urgently battery last lit...\n",
       "21                 hi go youtube lose do thanks support\n",
       "25    hey last time download update freak phone give...\n",
       "26                       find option get it always play\n",
       "27             app still longer able control lockscreen\n",
       "dtype: object"
      ]
     },
     "execution_count": 40,
     "metadata": {},
     "output_type": "execute_result"
    }
   ],
   "source": [
    "test.apply(remove_links);\n",
    "test"
   ]
  },
  {
   "cell_type": "markdown",
   "metadata": {},
   "source": [
    "### 4. 测试拼写检查器"
   ]
  },
  {
   "cell_type": "code",
   "execution_count": 41,
   "metadata": {},
   "outputs": [
    {
     "data": {
      "text/plain": [
       "['can', 'you', 'two', 'to', 'spell', 'check', 'and', 'fun', 'this', 'is']"
      ]
     },
     "execution_count": 41,
     "metadata": {},
     "output_type": "execute_result"
    }
   ],
   "source": [
    "test = ['Cna','you', 'twy', 'to', 'spel', 'check','and','fux', 'tihs','ios']\n",
    "\n",
    "spell = SpellChecker()\n",
    "def correct_spellings(x):\n",
    "    ''' Takes as input a list and outputs a list of the corrected spelling'''\n",
    "    corrected_text = []\n",
    "    for word in x:\n",
    "        if word in x:\n",
    "            corrected_text.append(spell.correction(word))\n",
    "        else:\n",
    "            corrected_text.append(word)\n",
    "    return corrected_text\n",
    "        \n",
    "text = \"speling correctin\"\n",
    "correct_spellings(test)"
   ]
  },
  {
   "cell_type": "markdown",
   "metadata": {},
   "source": [
    "因此，我们在这里看到，这个函数通常做得很好，但它错误地将twy作为try，将fux作为fix进行了更正，因为它不理解上下文，并使用Levianathon距离作为拼写错误单词的度量，但这没关系，通常我认为它作为预处理步骤会做得很不错。但它太慢了。"
   ]
  },
  {
   "cell_type": "markdown",
   "metadata": {},
   "source": [
    "### 6. 测试收缩和口语语言扩展步骤"
   ]
  },
  {
   "cell_type": "code",
   "execution_count": 43,
   "metadata": {},
   "outputs": [
    {
     "name": "stdout",
     "output_type": "stream",
     "text": [
      "Amount of words replaced: 1\n"
     ]
    },
    {
     "data": {
      "text/plain": [
       "0        is\n",
       "1       not\n",
       "2    nobody\n",
       "3        is\n",
       "4        as\n",
       "5      cute\n",
       "6        as\n",
       "7       you\n",
       "dtype: object"
      ]
     },
     "execution_count": 43,
     "metadata": {},
     "output_type": "execute_result"
    }
   ],
   "source": [
    "def replace_from_dict(x,dic):\n",
    "    ''' 制作一个函数来替换基于词典的列表中的所有项。我确保使用插入件方法，将较长的gram替换项作为不同项插入该特定索引处的列表中'''\n",
    "    x = x.str.lower() \n",
    "    x = list(x)\n",
    "    replaced_counter = 0\n",
    "    for item in dic.items():\n",
    "        for i, e in enumerate(x):\n",
    "            if e == item[0]:\n",
    "                replaced_counter+=1\n",
    "                # Inserting the expanded tokens in a way that preserves the order\n",
    "                del x[i]\n",
    "                for ix, token in enumerate(item[1].split()):\n",
    "                    x.insert(i+ix,token)\n",
    "    print(f\"Amount of words replaced: {replaced_counter}\")\n",
    "    return pd.Series(x)\n",
    "\n",
    "trial = pd.Series([\"Ain't\",\"nobody\",\"is\",\"as\", \"cute\", \"as\", \"you\"])\n",
    "replace_from_dict(trial,contraction_colloq_dict)"
   ]
  },
  {
   "cell_type": "markdown",
   "metadata": {},
   "source": [
    "### 7. 测试删除非英语推文\n",
    "我将在spaCy宇宙中使用一个名为spaCy-CLD的扩展，它使用Naive Bayes和n-gram作为语言分类器。这很酷。还好我只需要把它装成一个包裹就可以了！我认为它也比我之前尝试的语言检测模块更高效，我花了2个多小时才将其应用于我的数据！我很喜欢他们为优化所做的工作。\n",
    "\n",
    "spaCy中的扩展属性允许您存储与应用程序相关的附加信息。这是一个非常强大的工具。\n",
    "\n",
    "Todo:看看langdetector是用什么训练的。"
   ]
  },
  {
   "cell_type": "code",
   "execution_count": 44,
   "metadata": {},
   "outputs": [],
   "source": [
    "# I will assume that I already initialized the spaCy objects, as shown in the code cell up top"
   ]
  },
  {
   "cell_type": "code",
   "execution_count": 45,
   "metadata": {},
   "outputs": [],
   "source": [
    "def only_english(x):\n",
    "    ''' Making a function that only accepts English by appending True if it is English and False otherwise \n",
    "        into a mask. Returns a mask'''    \n",
    "    mask = []\n",
    "    x = x.apply(\" \".join)\n",
    "    try:\n",
    "        for i,doc in tqdm(enumerate(nlp_cld.pipe(x, batch_size=512))):\n",
    "            if 'en' not in doc._.languages or len(doc._.languages) != 1:\n",
    "                mask.append(False)\n",
    "            else:\n",
    "                mask.append(True)\n",
    "    except Exception as e:\n",
    "        print(f\"Exception:{e}\")\n",
    "    return mask"
   ]
  },
  {
   "cell_type": "code",
   "execution_count": 48,
   "metadata": {},
   "outputs": [
    {
     "name": "stdout",
     "output_type": "stream",
     "text": [
      "new update i️ make sure download yesterday\n",
      "['en']\n",
      "{'en': 0.97}\n"
     ]
    }
   ],
   "source": [
    "# 演示和实验什么是文档对象\n",
    "doc = nlp_cld('new update i️ make sure download yesterday')\n",
    "print(doc)\n",
    "print(doc._.languages)  \n",
    "print(doc._.language_scores)"
   ]
  },
  {
   "cell_type": "markdown",
   "metadata": {},
   "source": [
    "### 8. 测试WordNetLemmatizer"
   ]
  },
  {
   "cell_type": "markdown",
   "metadata": {},
   "source": [
    "下面的引理器试图将这个词分解为引理或字典形式。"
   ]
  },
  {
   "cell_type": "code",
   "execution_count": 50,
   "metadata": {},
   "outputs": [
    {
     "data": {
      "text/plain": [
       "['James',\n",
       " 'be',\n",
       " 'good',\n",
       " ',',\n",
       " 'but',\n",
       " 'Eko',\n",
       " 'beat',\n",
       " 'he',\n",
       " 'at',\n",
       " 'code',\n",
       " 'Python',\n",
       " 'so',\n",
       " 'be',\n",
       " 'he',\n",
       " 'really',\n",
       " '?']"
      ]
     },
     "execution_count": 50,
     "metadata": {},
     "output_type": "execute_result"
    }
   ],
   "source": [
    "# 初始化spacy‘en’模型，只保留引理所需的tagger组件\n",
    "nlp = spacy.load('en_core_web_sm', disable=['parser', 'ner'])\n",
    "\n",
    "sentence = \"James is good, but Eko beats him at coding Python so is he really?\"\n",
    "\n",
    "# 使用加载的'en'模型对象`nlp分析句子`\n",
    "doc = nlp(sentence)\n",
    "\n",
    "# Extract the lemma for each token and join\n",
    "[token.lemma_ for token in doc]\n",
    "#> 'the strip bat be hang on -PRON- foot for good'"
   ]
  },
  {
   "cell_type": "code",
   "execution_count": 51,
   "metadata": {},
   "outputs": [],
   "source": [
    "# Lemmatize with POS Tag\n",
    "\n",
    "def get_wordnet_pos(word):\n",
    "    \"\"\"Map POS tag to first character lemmatize() accepts\"\"\"\n",
    "    tag = nltk.pos_tag([word])[0][1][0].upper()\n",
    "    tag_dict = {\"J\": wordnet.ADJ,\n",
    "                \"N\": wordnet.NOUN,\n",
    "                \"V\": wordnet.VERB,\n",
    "                \"R\": wordnet.ADV}\n",
    "    return tag_dict.get(tag, wordnet.NOUN)"
   ]
  },
  {
   "cell_type": "code",
   "execution_count": 52,
   "metadata": {},
   "outputs": [
    {
     "data": {
      "text/plain": [
       "'n'"
      ]
     },
     "execution_count": 52,
     "metadata": {},
     "output_type": "execute_result"
    }
   ],
   "source": [
    "# This function returns the POS\n",
    "get_wordnet_pos('cool')"
   ]
  },
  {
   "cell_type": "code",
   "execution_count": 53,
   "metadata": {
    "scrolled": true
   },
   "outputs": [
    {
     "name": "stdout",
     "output_type": "stream",
     "text": [
      "foot\n",
      "['James', 'be', 'good', 'at', 'cod', 'python', ',', 'but', 'Eko', 'be', 'even', 'well', 'at', 'cod']\n"
     ]
    }
   ],
   "source": [
    "# 1. Init Lemmatizer\n",
    "lemmatizer = WordNetLemmatizer()\n",
    "\n",
    "# 2. Lemmatize Single Word with the appropriate POS tag\n",
    "word = 'feet'\n",
    "print(lemmatizer.lemmatize(word, get_wordnet_pos(word)))\n",
    "\n",
    "# 3. Lemmatize a Sentence with the appropriate POS tag\n",
    "sentence = \"James is good at coding python, but Eko is even better at coding\"\n",
    "print([lemmatizer.lemmatize(w, get_wordnet_pos(w)) for w in nltk.word_tokenize(sentence)])"
   ]
  },
  {
   "cell_type": "code",
   "execution_count": 54,
   "metadata": {},
   "outputs": [],
   "source": [
    "lemmatizer = nltk.stem.WordNetLemmatizer()\n",
    "w_tokenizer = nltk.tokenize.WhitespaceTokenizer()\n",
    "\n",
    "test = ['This','is','a','row']\n",
    "\n",
    "def lemmatize_text(x):\n",
    "    ''' This lemmatizer f`unction should work on a single list of tokenized data'''\n",
    "    # Turning list into a string\n",
    "    x = \" \".join(x)\n",
    "    # Returning a list again\n",
    "    return [lemmatizer.lemmatize(w, get_wordnet_pos(w)) for w in nltk.word_tokenize(x)]"
   ]
  },
  {
   "cell_type": "markdown",
   "metadata": {},
   "source": [
    "未能掌握动词的过去时。"
   ]
  },
  {
   "cell_type": "code",
   "execution_count": 55,
   "metadata": {},
   "outputs": [
    {
     "data": {
      "text/plain": [
       "6     hey anyone else upgraded io issue capital i️ m...\n",
       "12    hello internet someone explain symbol keep app...\n",
       "13    get screenshot say iphonex reserve email say h...\n",
       "15    thank update phone even slow barely work thank...\n",
       "19    need software update urgently battery last lit...\n",
       "21                 hi go youtube lose do thanks support\n",
       "25    hey last time download update freak phone give...\n",
       "26                       find option get it always play\n",
       "27             app still longer able control lockscreen\n",
       "dtype: object"
      ]
     },
     "execution_count": 55,
     "metadata": {},
     "output_type": "execute_result"
    }
   ],
   "source": [
    "trial = processed_inbound.iloc[1:10]\n",
    "trial"
   ]
  },
  {
   "cell_type": "code",
   "execution_count": 56,
   "metadata": {},
   "outputs": [
    {
     "data": {
      "application/vnd.jupyter.widget-view+json": {
       "model_id": "59dae50084c9492b81999c27e6ae24ff",
       "version_major": 2,
       "version_minor": 0
      },
      "text/plain": [
       "  0%|          | 0/9 [00:00<?, ?it/s]"
      ]
     },
     "metadata": {},
     "output_type": "display_data"
    },
    {
     "data": {
      "text/plain": [
       "6     [h, e, y, a, n, y, o, n, e, e, l, s, e, u, p, ...\n",
       "12    [h, e, l, l, o, i, n, t, e, r, n, e, t, s, o, ...\n",
       "13    [g, e, t, s, c, r, e, e, n, s, h, o, t, s, a, ...\n",
       "15    [t, h, a, n, k, u, p, d, a, t, e, p, h, o, n, ...\n",
       "19    [n, e, e, d, s, o, f, t, w, a, r, e, u, p, d, ...\n",
       "21    [h, i, g, o, y, o, u, t, u, b, e, l, o, s, e, ...\n",
       "25    [h, e, y, l, a, s, t, t, i, m, e, d, o, w, n, ...\n",
       "26    [f, i, n, d, o, p, t, i, o, n, g, e, t, i, t, ...\n",
       "27    [a, p, p, s, t, i, l, l, l, o, n, g, e, r, a, ...\n",
       "dtype: object"
      ]
     },
     "execution_count": 56,
     "metadata": {},
     "output_type": "execute_result"
    }
   ],
   "source": [
    "trial.progress_apply(lemmatize_text)"
   ]
  },
  {
   "cell_type": "markdown",
   "metadata": {},
   "source": [
    "iOS仍然是错误的，但这没关系，因为iOS的所有实例仍然会在一起。"
   ]
  },
  {
   "cell_type": "markdown",
   "metadata": {},
   "source": [
    "### 9. Removing Emojis"
   ]
  },
  {
   "cell_type": "code",
   "execution_count": 57,
   "metadata": {},
   "outputs": [
    {
     "data": {
      "text/plain": [
       "6    [😤, 🙍, 🎲, 🙃, get, rid, of, 😐, emojis]\n",
       "9                        [This, No, Emoji]\n",
       "dtype: object"
      ]
     },
     "execution_count": 57,
     "metadata": {},
     "output_type": "execute_result"
    }
   ],
   "source": [
    "test = pd.Series([['😤', '🙍','🎲', '🙃', 'get', 'rid', 'of', '😐','emojis'],['This', 'No','Emoji']], index = [6,9])\n",
    "test"
   ]
  },
  {
   "cell_type": "code",
   "execution_count": 58,
   "metadata": {},
   "outputs": [],
   "source": [
    "# Redefining\n",
    "def remove_from_list(x, stuff_to_remove):\n",
    "    ''' Making a function to remove a list of items from a list'''\n",
    "    for item in stuff_to_remove:\n",
    "        # Making sure to iterate through the entire token\n",
    "        for i,token in enumerate(x):\n",
    "            if item == token:\n",
    "                del x[i]\n",
    "    return x"
   ]
  },
  {
   "cell_type": "code",
   "execution_count": 59,
   "metadata": {},
   "outputs": [],
   "source": [
    "import emoji\n",
    "\n",
    "def extract_emojis(s):\n",
    "    return [c for c in s if c in emoji.UNICODE_EMOJI]"
   ]
  },
  {
   "cell_type": "code",
   "execution_count": 60,
   "metadata": {},
   "outputs": [
    {
     "data": {
      "text/plain": [
       "6    [😤, 🙍, 🎲, 🙃, get, rid, of, 😐, emojis]\n",
       "9                        [This, No, Emoji]\n",
       "dtype: object"
      ]
     },
     "execution_count": 60,
     "metadata": {},
     "output_type": "execute_result"
    }
   ],
   "source": [
    "unique_emojis = [i[0] for i in emoji.UNICODE_EMOJI]\n",
    "test.apply(remove_from_list, stuff_to_remove = unique_emojis)"
   ]
  },
  {
   "cell_type": "markdown",
   "metadata": {},
   "source": [
    "### 10. 限制每条推文的长度\n",
    "根据我们在上面每一步看到的代币分布，我认为一个好的截止点是50个代币。我将尝试75或100这样的东西，因为你通常不想丢弃太多数据。如果你不删除数据，当你使用Keras标记器和pad序列时，如果它超过100个单词，它就会停止。\n",
    "\n",
    "类似地，我想筛选出具有小于特定阈值的令牌数量的文档。"
   ]
  },
  {
   "cell_type": "code",
   "execution_count": 61,
   "metadata": {},
   "outputs": [
    {
     "data": {
      "text/plain": [
       "0    [test, test, test, test, test, test, test, tes...\n",
       "1                                       [Another, one]\n",
       "dtype: object"
      ]
     },
     "execution_count": 61,
     "metadata": {},
     "output_type": "execute_result"
    }
   ],
   "source": [
    "# Creating toy list of length 100\n",
    "test = ['test'] * 100\n",
    "test = pd.Series([test, ['Another','one']])\n",
    "test"
   ]
  },
  {
   "cell_type": "code",
   "execution_count": 62,
   "metadata": {},
   "outputs": [],
   "source": [
    "def limit_length(x, max_tokens, min_tokens):\n",
    "    ''' Inputs a list and drops it out of the document if \n",
    "    it has more than the max and less than the min'''\n",
    "    output = x\n",
    "    if len(x) > max_tokens:\n",
    "        output = np.nan\n",
    "    if len(x) < thres:\n",
    "        output = np.nan\n",
    "    return output"
   ]
  },
  {
   "cell_type": "markdown",
   "metadata": {
    "tags": []
   },
   "source": [
    "## 可以替代的步骤\n",
    "Ones that I did not include in my Pipeline for a specific reason, but I still employed or considered."
   ]
  },
  {
   "cell_type": "markdown",
   "metadata": {},
   "source": [
    "### 2. 使用正则表达式清除数字"
   ]
  },
  {
   "cell_type": "code",
   "execution_count": null,
   "metadata": {},
   "outputs": [],
   "source": [
    "test = pd.Series([['1','iPhone','is','2','little'],['help','1','please']])"
   ]
  },
  {
   "cell_type": "code",
   "execution_count": null,
   "metadata": {},
   "outputs": [],
   "source": [
    "def clean_numbers(x):\n",
    "    for i,j in enumerate(x):\n",
    "        if bool(re.search(r'\\d', j)):\n",
    "            del x[i]\n",
    "    return x"
   ]
  },
  {
   "cell_type": "code",
   "execution_count": null,
   "metadata": {},
   "outputs": [],
   "source": [
    "test = test.apply(clean_numbers)\n",
    "test"
   ]
  },
  {
   "cell_type": "code",
   "execution_count": null,
   "metadata": {},
   "outputs": [],
   "source": [
    "test"
   ]
  },
  {
   "cell_type": "markdown",
   "metadata": {},
   "source": [
    "### 3. N Grams\n",
    "Pairs are always better usually."
   ]
  },
  {
   "cell_type": "markdown",
   "metadata": {},
   "source": [
    "# 其他可以探索的数据\n",
    "\n",
    "These are just the two other datasets that I explored. I did not use the Ubuntu one because I did not like the language that the customer's spoke here and I don't think it is not ideal to merge it with by my Twitter Apple inbound data.\n",
    "\n",
    "As for the RSICS data, it's interesting because it also had some data that encodes some relational information of the customer (I ultimately want my chatbot to have a relational aspect to it as well, so it is not a bland chatbot), but I am not interested in travel and plane customer data so I did not use this."
   ]
  },
  {
   "cell_type": "markdown",
   "metadata": {},
   "source": [
    "## Ubuntu"
   ]
  },
  {
   "cell_type": "code",
   "execution_count": null,
   "metadata": {},
   "outputs": [],
   "source": [
    "!ls data/ubuntu"
   ]
  },
  {
   "cell_type": "code",
   "execution_count": null,
   "metadata": {},
   "outputs": [],
   "source": [
    "# Reading in Ubuntu data\n",
    "ubuntu_df = pd.read_csv('data/ubuntu/dialogueText.csv')"
   ]
  },
  {
   "cell_type": "code",
   "execution_count": null,
   "metadata": {},
   "outputs": [],
   "source": [
    "# Visualizing the tables, applying styling so that the table is more readable\n",
    "show = lambda x: x.tail(50).style.set_properties(**{'background-color': 'black',                                                   \n",
    "                                    'color': 'lawngreen',                       \n",
    "                                    'border-color': 'white'})\\\n",
    ".applymap(lambda x: f\"color: {'lawngreen' if isinstance(x,str) else 'red'}\")\\\n",
    ".background_gradient(cmap='Blues')"
   ]
  },
  {
   "cell_type": "code",
   "execution_count": null,
   "metadata": {},
   "outputs": [],
   "source": [
    "show(ubuntu_df)"
   ]
  },
  {
   "cell_type": "code",
   "execution_count": null,
   "metadata": {},
   "outputs": [],
   "source": [
    "ubuntu_df.info()"
   ]
  },
  {
   "cell_type": "code",
   "execution_count": null,
   "metadata": {},
   "outputs": [],
   "source": [
    "# Getting just the text\n",
    "text = pd.Series(ubuntu_df['text']).astype(str)\n",
    "text"
   ]
  },
  {
   "cell_type": "code",
   "execution_count": null,
   "metadata": {},
   "outputs": [],
   "source": [
    "# End to end tokenizer function\n",
    "\n",
    "def ubuntu_tokenizer(data: lambda _data: isinstance(_data, pd.Series)) -> 'Cleaned Pandas Series':\n",
    "    ''' I am making my own end-to-end tokenizer function for preprocessing that accepts\n",
    "    a Pandas Series as input and outputs a preprocessed Pandas Series'''\n",
    "    \n",
    "    # Making sure input is a series (these are two ways of doing the same thing)\n",
    "    assert isinstance(data,pd.Series), 'Input must be a Pandas Series'\n",
    "    \n",
    "    # 1. Converting all to lower case\n",
    "    data = data.str.lower()\n",
    "    \n",
    "    print(f'1. Original shape of data is {data.shape}')\n",
    "    \n",
    "    \n",
    "    # 2. Tokenizing with NLTK's TweetTokenizer. This limits repeated characters to \n",
    "    # three with the reduce lens paramater and strips all the @'s. It also\n",
    "    # splits it into 1-gram tokens\n",
    "    tknzr = TweetTokenizer(strip_handles = True, reduce_len = True)\n",
    "    # Using progress apply to show the progress bar\n",
    "    data = data.progress_apply(tknzr.tokenize)\n",
    "    \n",
    "    print(f'2. Tokenized, removed handles, and reduced the length of repeated characters.\\\n",
    "          \\n Shape is still {data.shape}. \\n \\n Peek: \\n {data.head()}')\n",
    "    visualize_lengths(data, 'Length of Tokens after Step 2')\n",
    "    \n",
    "    # 3. Removing the punctuation\n",
    "    \n",
    "    data = data.progress_apply(remove_from_list, stuff_to_remove = puncts)\n",
    "    print(f'3. Removed empty tokens and punctuation. Shape is still {data.shape}. \\n \\n Peek: \\n {data.head()}')\n",
    "    visualize_lengths(data, 'Length of Tokens after Step 9')\n",
    "    \n",
    "    # 3.1. Removing links\n",
    "    \n",
    "    data = data.progress_apply(remove_links)\n",
    "    \n",
    "    print(f'3. Removed the links. Shape is still {data.shape}. \\n \\n Peek: \\n {data.head()}')\n",
    "    visualize_lengths(data, 'Length of Tokens after Step 3')\n",
    "\n",
    "    # 4. Checking for and correcting mispellings\n",
    "    spell = SpellChecker()\n",
    "    \n",
    "    # Skipping this step first because it takes way too long\n",
    "#     data = data.progress_apply(correct_spellings)\n",
    "    \n",
    "    print(f'4. Applied automispelling corrections. Shape is still {data.shape}. \\n \\n Peek: \\n {data.head()}')\n",
    "    \n",
    "    # 5. Removing the stop words, utilizing the same remove_from_list function defined above\n",
    "    \n",
    "    data = data.progress_apply(remove_from_list, stuff_to_remove = stop_words)\n",
    "    \n",
    "    print(f'5. Removed the stop words. Shape is still {data.shape}. \\n \\n Peek: \\n {data.head()}')\n",
    "    visualize_lengths(data, 'Length of Tokens after Step 4')\n",
    "    \n",
    "    # 6. Expanding contractions and colloquial language\n",
    "    \n",
    "    data = data.progress_apply(replace_from_dict, dic = contraction_colloq_dict)\n",
    "    print(f'6. Expanded contractions into extra tokens. Shape is still {data.shape}. \\n \\n Peek: \\n {data.head()}')\n",
    "    visualize_lengths(data, 'Length of Tokens after Step 6')\n",
    "\n",
    "def ubuntu_tokenizer_2(data: lambda _data: isinstance(_data, pd.Series)):\n",
    "    \n",
    "    # 7. Removing non-english Tweets with spaCy\n",
    "\n",
    "    data = data[only_english(data)]\n",
    "    print(f'7. Remove all non-english Tweets. Shape is now {data.shape}. Clearly less than before! \\n \\n Peek: \\n {data.head()}')\n",
    "    \n",
    "    # 8. Lemmatization\n",
    "\n",
    "    data = data.progress_apply(lemmatize_list)\n",
    "    print(f'8. Lemmatized the tokens. Shape is still {data.shape}. \\n \\n Peek: \\n {data.head()}')\n",
    "    visualize_lengths(data, 'Length of Tokens after Step 8')   \n",
    "   \n",
    "    # Removing again to make sure I get everything\n",
    "    data = data.progress_apply(remove_from_list, stuff_to_remove = puncts)\n",
    "\n",
    "    # 9.1. Removing emojis -- (UPDATE) in a way that preserves Series indexes\n",
    "    \n",
    "    unique_emojis = [i[0] for i in emoji.UNICODE_EMOJI]\n",
    "    data = data.apply(remove_from_list, stuff_to_remove = unique_emojis)\n",
    "    \n",
    "    # 9.2. Removing numbers -- (UPDATE) also in a way that preserves Series indexes\n",
    "    # Using nested list comprehension\n",
    "    data = data.progress_apply(clean_numbers)\n",
    "    \n",
    "    print(f'9. Removed emojis and numbers. Shape is still {data.shape}. \\n \\n Peek: \\n {data.head()}')\n",
    "    visualize_lengths(data, 'Length of Tokens after Step 9')   \n",
    "    \n",
    "    # 10. Limiting length of Tweet\n",
    "    max_tokens = 50\n",
    "    min_tokens = 5\n",
    "    data = data.progress_apply(limit_length, min_tokens = min_tokens, max_tokens = max_tokens)\n",
    "    # Dropping all nan values, which are the token limits that didn't meet the thresholding requirements\n",
    "    data = data.dropna()\n",
    "    print(f'10. Limited each tweet to a max of {max_tokens} tokens and a min of {min_tokens} tokens. Shape is now {data.shape}. \\n \\n Peek: \\n {data.head()}')\n",
    "    visualize_lengths(data, 'Length of Tokens after Step 10')\n",
    "    \n",
    "    return data"
   ]
  },
  {
   "cell_type": "code",
   "execution_count": null,
   "metadata": {},
   "outputs": [],
   "source": [
    "# Applying first part of preprocessing pipeline\n",
    "ubuntu_tokenizer(text)"
   ]
  },
  {
   "cell_type": "code",
   "execution_count": null,
   "metadata": {},
   "outputs": [],
   "source": [
    "dir()"
   ]
  },
  {
   "cell_type": "markdown",
   "metadata": {},
   "source": [
    "This is a better place to get intents like gratitude or goodbye."
   ]
  },
  {
   "cell_type": "markdown",
   "metadata": {},
   "source": [
    "## Relational Services in Customer Service (RSICS)"
   ]
  },
  {
   "cell_type": "code",
   "execution_count": null,
   "metadata": {},
   "outputs": [],
   "source": [
    "pd.read_csv('data/rsics_dataset/1_2_align.csv')"
   ]
  }
 ],
 "metadata": {
  "kernelspec": {
   "display_name": "Python 3 (ipykernel)",
   "language": "python",
   "name": "python3"
  },
  "language_info": {
   "codemirror_mode": {
    "name": "ipython",
    "version": 3
   },
   "file_extension": ".py",
   "mimetype": "text/x-python",
   "name": "python",
   "nbconvert_exporter": "python",
   "pygments_lexer": "ipython3",
   "version": "3.8.3"
  }
 },
 "nbformat": 4,
 "nbformat_minor": 4
}
