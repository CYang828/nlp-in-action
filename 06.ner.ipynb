{
 "cells": [
  {
   "cell_type": "markdown",
   "metadata": {},
   "source": [
    "# 命名实体识别（NER）\n",
    "聊天机器人还应能够根据意图标记存储在其对话管理中的实体，以使其回复更准确。这个笔记本是我尝试从每条推文中提取实体的地方。这应该稍后添加到我的流程中。\n",
    "更具体地，从输入的话语中，我希望输出是存储在该话语中的所有实体的字典。"
   ]
  },
  {
   "cell_type": "code",
   "execution_count": 1,
   "metadata": {},
   "outputs": [
    {
     "name": "stdout",
     "output_type": "stream",
     "text": [
      "Pandas: 1.2.3\n",
      "Numpy: 1.21.0\n",
      "Tensorflow: 2.7.0\n",
      "Keras: 2.7.0\n",
      "Sklearn: 0.24.1\n",
      "spaCy: 3.7.2\n"
     ]
    },
    {
     "name": "stderr",
     "output_type": "stream",
     "text": [
      "/var/folders/8z/_m3tlbk55sv4j8cl6sp2_7gw0000gn/T/ipykernel_31638/1444815173.py:31: TqdmDeprecationWarning: This function will be removed in tqdm==5.0.0\n",
      "Please use `tqdm.notebook.tqdm` instead of `tqdm.tqdm_notebook`\n",
      "  tqdm().pandas()  # Enable tracking of execution progress\n"
     ]
    },
    {
     "data": {
      "application/json": {
       "ascii": false,
       "bar_format": null,
       "colour": null,
       "elapsed": 0.03492093086242676,
       "initial": 0,
       "n": 0,
       "ncols": null,
       "nrows": null,
       "postfix": null,
       "prefix": "",
       "rate": null,
       "total": null,
       "unit": "it",
       "unit_divisor": 1000,
       "unit_scale": false
      },
      "application/vnd.jupyter.widget-view+json": {
       "model_id": "bf88cba292df4cc789bdfb367f40303c",
       "version_major": 2,
       "version_minor": 0
      },
      "text/plain": [
       "0it [00:00, ?it/s]"
      ]
     },
     "metadata": {},
     "output_type": "display_data"
    },
    {
     "name": "stderr",
     "output_type": "stream",
     "text": [
      "/var/folders/8z/_m3tlbk55sv4j8cl6sp2_7gw0000gn/T/ipykernel_31638/1444815173.py:47: TqdmDeprecationWarning: This function will be removed in tqdm==5.0.0\n",
      "Please use `tqdm.notebook.tqdm` instead of `tqdm.tqdm_notebook`\n",
      "  tqdm().pandas()  # Enable tracking of execution progress\n"
     ]
    },
    {
     "data": {
      "application/json": {
       "ascii": false,
       "bar_format": null,
       "colour": null,
       "elapsed": 0.03300309181213379,
       "initial": 0,
       "n": 0,
       "ncols": null,
       "nrows": null,
       "postfix": null,
       "prefix": "",
       "rate": null,
       "total": null,
       "unit": "it",
       "unit_divisor": 1000,
       "unit_scale": false
      },
      "application/vnd.jupyter.widget-view+json": {
       "model_id": "a98f796bb6e545d497903a36e6854410",
       "version_major": 2,
       "version_minor": 0
      },
      "text/plain": [
       "0it [00:00, ?it/s]"
      ]
     },
     "metadata": {},
     "output_type": "display_data"
    },
    {
     "name": "stdout",
     "output_type": "stream",
     "text": [
      "                                           Utterance           Intent\n",
      "0  [phone, battery, die, fast, within, hour, usag...          battery\n",
      "1                                 [forgot, my, pass]  forgot_password\n",
      "2                            [payment, not, through]          payment\n",
      "3                                     [want, update]           update\n",
      "4                                [need, information]             info\n",
      "\n",
      "intents:\n",
      "{'app': ['app', 'application'], 'battery': ['battery'], 'bug': ['bug'], 'greeting': ['hi', 'hello', 'hey', 'yo'], 'icloud': ['icloud', 'i cloud'], 'ios': ['io'], 'iphone': ['iphone', 'i phone'], 'mac': ['mac', 'macbook', 'laptop', 'computer'], 'music': ['music', 'song', 'playlist'], 'network': ['internet', 'connection', 'network'], 'payment': ['credit', 'card', 'payment', 'pay'], 'settings': ['settings', 'setting'], 'troubleshooting': ['problem', 'trouble', 'error'], 'update': ['update'], 'watch': ['tv', 'show']}\n"
     ]
    }
   ],
   "source": [
    "# Data science\n",
    "import pandas as pd\n",
    "print(f\"Pandas: {pd.__version__}\")\n",
    "import numpy as np\n",
    "print(f\"Numpy: {np.__version__}\")\n",
    "\n",
    "# Deep Learning \n",
    "import tensorflow as tf\n",
    "print(f\"Tensorflow: {tf.__version__}\")\n",
    "from tensorflow import keras\n",
    "print(f\"Keras: {keras.__version__}\")\n",
    "import sklearn\n",
    "print(f\"Sklearn: {sklearn.__version__}\")\n",
    "\n",
    "# NER\n",
    "import spacy\n",
    "print(f'spaCy: {spacy.__version__}')\n",
    "from spacy import displacy\n",
    "import random\n",
    "from spacy.matcher import PhraseMatcher\n",
    "import plac\n",
    "from pathlib import Path\n",
    "\n",
    "# Visualization \n",
    "import seaborn as sns\n",
    "import matplotlib.pyplot as plt\n",
    "sns.set(style=\"ticks\", color_codes=True)\n",
    "\n",
    "# Cool progress bars\n",
    "from tqdm import tqdm_notebook as tqdm\n",
    "tqdm().pandas()  # Enable tracking of execution progress\n",
    "\n",
    "import collections\n",
    "import yaml\n",
    "import pickle\n",
    "\n",
    "# Reading back in intents\n",
    "with open(r'objects/intents.yml') as file:\n",
    "    intents = yaml.load(file, Loader=yaml.FullLoader)\n",
    "\n",
    "# Reading in representative intents\n",
    "# with open(r'objects/intents_repr.yml') as file:\n",
    "#     intents_repr = yaml.load(file, Loader=yaml.FullLoader)\n",
    "\n",
    "# Cool progress bars\n",
    "from tqdm import tqdm_notebook as tqdm\n",
    "tqdm().pandas()  # Enable tracking of execution progress\n",
    "\n",
    "from IPython.core.display import display, HTML\n",
    "    \n",
    "# Reading in training data\n",
    "train = pd.read_pickle('objects/train.pkl')\n",
    "\n",
    "print(train.head())\n",
    "print(f'\\nintents:\\n{intents}')\n",
    "\n",
    "# Reading in processed data\n",
    "processed = pd.read_pickle('objects/processed.pkl')"
   ]
  },
  {
   "cell_type": "markdown",
   "metadata": {},
   "source": [
    "# 要标记的实体：\n",
    "\n",
    "实际上，我认为使用正则表达式进行字符串搜索就足够了，因为我要查找的实体并不多。CRF只是进行NER的更健壮的方式，适用于那些太大以至于无法列举所有规则的语料库。\n",
    "\n",
    "# NER 方法\n",
    "\n",
    "命名实体只是被赋予名称的现实世界对象。这通常被视为一个顺序预测问题。\n",
    "\n",
    "# 制作一个与苹果相关的自定义NER\n",
    "\n",
    "我将制作自己的自定义实体。CRF或Rasa的DIET分类器对此很有帮助。几乎每个聊天机器人都会有一些自定义实体。\n",
    "\n",
    "## 条件随机场\n",
    "\n",
    "如果我要使用CRF进行训练，我会应用以下公式：\n",
    "\n",
    "* 这里，y是预定义的标签\n",
    "...(省略约22行)...\n",
    "* [使用CRF进行NER](https://medium.com/data-science-in-your-pocket/named-entity-recognition-ner-using-conditional-random-fields-in-nlp-3660df22e95c)\n",
    "* [使用Python进行CRF NER的AI Time Journal](https://www.aitimejournal.com/@akshay.chavan/complete-tutorial-on-named-entity-recognition-ner-using-python-and-keras)\n",
    "    * [他的Git存储库](https://github.com/Akshayc1/named-entity-recognition)\n",
    "* [Rasa实体提取文档](https://rasa.com/docs/rasa/nlu/entity-extraction/)\n",
    "* [苹果标记](https://heartbeat.fritz.ai/natural-language-in-ios-12-customizing-tag-schemes-and-named-entity-recognition-caf2da388a9f) - 这个人做了我想做的事情，但非常冗长\n",
    "* [标记方案或类型](https://natural-language-understanding.fandom.com/wiki/Named_entity_recognition)\n",
    "\n",
    "### 方案：\n",
    "* **BIO方案**（Beginning, Inside, Outside）\n",
    "* **BILOU方案**更严格，但需要更多的训练示例。\n",
    "\n",
    "B是多标记实体的第一个标记，I是多标记实体中不是第一个的标记，O表示非实体标记。\n",
    "\n",
    "### 可能提高准确性的未来方法：\n",
    "* 线性链条件随机场（Linear Chain CRF）\n",
    "* 最大熵马尔可夫模型\n",
    "* 双向LSTM"
   ]
  },
  {
   "cell_type": "code",
   "execution_count": 3,
   "metadata": {},
   "outputs": [],
   "source": [
    "# Looks like I have to make my own training data\n",
    "\n",
    "entities = {\n",
    "    \"hardware\": [\n",
    "        \"macbook pro\",\n",
    "        \"iphone\",\n",
    "        \"iphones\",\n",
    "        \"mac\",\n",
    "        \"ipad\",\n",
    "        \"watch\",\n",
    "        \"TV\",\n",
    "        \"airpods\",\n",
    "    ],\n",
    "    \"apps\": [\n",
    "        \"app store\",\n",
    "        \"garageband\",\n",
    "        \"books\",\n",
    "        \"calendar\",\n",
    "        \"podcasts\",\n",
    "        \"notes\",\n",
    "        \"icloud\",\n",
    "        \"music\",\n",
    "        \"messages\",\n",
    "        \"facetime\",\n",
    "        \"catalina\",\n",
    "        \"maverick\",\n",
    "    ],\n",
    "}\n",
    "\n",
    "# Storing it to YAML file\n",
    "with open(\"objects/entities.yml\", \"w\") as outfile:\n",
    "    yaml.dump(entities, outfile, default_flow_style=False)"
   ]
  },
  {
   "cell_type": "code",
   "execution_count": 4,
   "metadata": {},
   "outputs": [
    {
     "data": {
      "text/plain": [
       "{'hardware': ['macbook pro',\n",
       "  'iphone',\n",
       "  'iphones',\n",
       "  'mac',\n",
       "  'ipad',\n",
       "  'watch',\n",
       "  'TV',\n",
       "  'airpods'],\n",
       " 'apps': ['app store',\n",
       "  'garageband',\n",
       "  'books',\n",
       "  'calendar',\n",
       "  'podcasts',\n",
       "  'notes',\n",
       "  'icloud',\n",
       "  'music',\n",
       "  'messages',\n",
       "  'facetime',\n",
       "  'catalina',\n",
       "  'maverick']}"
      ]
     },
     "execution_count": 4,
     "metadata": {},
     "output_type": "execute_result"
    }
   ],
   "source": [
    "entities"
   ]
  },
  {
   "cell_type": "markdown",
   "metadata": {},
   "source": [
    "# 训练数据合成\n",
    "\n",
    "请注意，在这里生成我的训练数据时，我不需要使用我为我的话语生成的训练数据（大约10,000个字符），我可以使用我整个苹果入站数据，大约有100,000个字符 - 训练示例越多，我的NER就能更好地识别我的自定义实体。\n",
    "\n",
    "这是我的训练数据应该看起来的样子，以便能够输入到spaCy中进行SGD训练。因此，偏移器和PhraseMatcher的作用都是为了更容易地将其转换成这种格式。\n",
    "\n",
    "\n",
    "```TRAIN_DATA = [('what is the price of polo?', {'entities': [(21, 25, 'PrdName')]}), \n",
    "              ('what is the price of ball?', {'entities': [(21, 25, 'PrdName')]}), \n",
    "              ('what is the price of jegging?', {'entities': [(21, 28, 'PrdName')]}), \n",
    "              ('what is the price of t-shirt?', {'entities': [(21, 28, 'PrdName')]})]```"
   ]
  },
  {
   "cell_type": "code",
   "execution_count": 65,
   "metadata": {},
   "outputs": [
    {
     "data": {
      "text/plain": [
       "(4, 12, 'HARDWARE')"
      ]
     },
     "execution_count": 65,
     "metadata": {},
     "output_type": "execute_result"
    }
   ],
   "source": [
    "# Utility function - converts the output of the PhraseMatcher to something usable in training\n",
    "\n",
    "def offsetter(lbl, doc, matchitem):\n",
    "    ''' Converts word position to string position, because output of PhraseMatcher returns '''\n",
    "    one = len(str(doc[0:matchitem[1]]))\n",
    "    subdoc = doc[matchitem[1]:matchitem[2]]\n",
    "    two = one + len(str(subdoc))\n",
    "    \n",
    "    # This function was misaligned by a factor of one character, not sure why, but\n",
    "    # this is my solution\n",
    "    if one != 0:\n",
    "        one += 1\n",
    "        two += 1\n",
    "    return (one, two, lbl)\n",
    "\n",
    "# Example\n",
    "offsetter('HARDWARE', nlp('hmm macbooks are great'),(2271554079456360229, 1, 2))"
   ]
  },
  {
   "cell_type": "markdown",
   "metadata": {},
   "source": [
    "非常方便！现在我们有了字符串索引，而不是从PhraseMatcher自动输出的单词索引。我的手动修复也奏效了，这很好。"
   ]
  },
  {
   "cell_type": "code",
   "execution_count": 66,
   "metadata": {},
   "outputs": [],
   "source": [
    "# Load spaCy\n",
    "nlp = spacy.load('en')\n",
    "\n",
    "# Making sure ner pipe is inside\n",
    "if 'ner' not in nlp.pipe_names:\n",
    "    ner = nlp.create_pipe('ner')\n",
    "    nlp.add_pipe(ner)\n",
    "else:\n",
    "    ner = nlp.create_pipe('ner')\n",
    "\n",
    "def spacify_row(document, label, entity_keywords):\n",
    "    ''' Transforming a row to get it from a format of my current training data a\n",
    "    format that spaCy can understand. It's quite combersome that spaCy only accepts data in this very particular format,\n",
    "    but that is alright.\n",
    "    '''\n",
    "    # Phrase matcher - we use this class from spaCy to locate the text we want to label!\n",
    "    matcher = PhraseMatcher(nlp.vocab)\n",
    "\n",
    "    # Getting all the hardwares, and the context of how they were used in the Twitter data\n",
    "    for i in entity_keywords:\n",
    "        matcher.add(label, None, nlp(i))\n",
    "\n",
    "    # Getting the matches\n",
    "    nlp_document = nlp(document)\n",
    "    matches = matcher(nlp_document)\n",
    "    \n",
    "    # Print this if  you want to get a better understanding of this function\n",
    "#     print([match for match in matches])\n",
    "\n",
    "    # As you can see, match returns me: [(2271554079456360229, 0, 1)]\n",
    "    # One match is where one of the tokens in the document matches one of my entity keywords\n",
    "    # (representiiation of label we passed in, word position in document 1, word position 2)\n",
    "    entity_list = [offsetter(label, nlp_document, match) for match in matches]\n",
    "    \n",
    "    # This is what one row has to look like, so this is what I return:\n",
    "    # ('what is the price of pool?', {'entities': [(21, 25, 'PrdName')]})\n",
    "    return (document, {'entities': entity_list})"
   ]
  },
  {
   "cell_type": "markdown",
   "metadata": {},
   "source": [
    "### Hardware Entity"
   ]
  },
  {
   "cell_type": "code",
   "execution_count": 143,
   "metadata": {},
   "outputs": [
    {
     "data": {
      "application/vnd.jupyter.widget-view+json": {
       "model_id": "f796f1249da143e7a7525e2014ce54a6",
       "version_major": 2,
       "version_minor": 0
      },
      "text/plain": [
       "HBox(children=(FloatProgress(value=0.0, max=76066.0), HTML(value='')))"
      ]
     },
     "metadata": {},
     "output_type": "display_data"
    },
    {
     "name": "stdout",
     "output_type": "stream",
     "text": [
      "\n"
     ]
    },
    {
     "data": {
      "text/plain": [
       "('I love my macbook and my iphone', {'entities': [(25, 31, 'HARDWARE')]})"
      ]
     },
     "execution_count": 143,
     "metadata": {},
     "output_type": "execute_result"
    }
   ],
   "source": [
    "# Defining my training data\n",
    "string_utterance = processed['Processed Inbound'].progress_apply(\" \".join)\n",
    "\n",
    "# Trying for one row\n",
    "spacify_row('I love my macbook and my iphone', 'HARDWARE', \n",
    "            entity_keywords = entities.get('hardware'))"
   ]
  },
  {
   "cell_type": "markdown",
   "metadata": {},
   "source": [
    "很好，我们看到NER识别了`macbooks`和`iphone`，并给出了它们的相对单词位置。现在让我们将这个应用到我们整个训练数据中。"
   ]
  },
  {
   "cell_type": "code",
   "execution_count": 144,
   "metadata": {
    "scrolled": false
   },
   "outputs": [
    {
     "data": {
      "application/vnd.jupyter.widget-view+json": {
       "model_id": "19f696925b314125a4541b4210c08b83",
       "version_major": 2,
       "version_minor": 0
      },
      "text/plain": [
       "HBox(children=(FloatProgress(value=0.0, max=76066.0), HTML(value='')))"
      ]
     },
     "metadata": {},
     "output_type": "display_data"
    },
    {
     "name": "stdout",
     "output_type": "stream",
     "text": [
      "\n"
     ]
    }
   ],
   "source": [
    "# Getting training data by 'spacifying' my processed Twitter data and storing it in an object\n",
    "entity_train = string_utterance.progress_apply(spacify_row,\n",
    "                label = 'HARDWARE',              \n",
    "                entity_keywords = entities.get('hardware'))"
   ]
  },
  {
   "cell_type": "code",
   "execution_count": 152,
   "metadata": {},
   "outputs": [
    {
     "name": "stdout",
     "output_type": "stream",
     "text": [
      "21317 out of 76066 Tweets contain a hardware entity\n"
     ]
    }
   ],
   "source": [
    "# Filtering out if the Tweet does not contain any of the entities\n",
    "hardware_train = [(i,j) for i,j in entity_train if j['entities'] != []]\n",
    "\n",
    "# We will be using hardware train to train the recognizer\n",
    "print(f'{len(hardware_train)} out of {len(entity_train)} Tweets contain a hardware entity')\n",
    "\n",
    "# Saving hardware train because this did take a long time to run\n",
    "pickle_out = open('objects/hardware_train.pkl', 'wb')\n",
    "pickle.dump(hardware_train, pickle_out)"
   ]
  },
  {
   "cell_type": "markdown",
   "metadata": {},
   "source": [
    "### 应用实体"
   ]
  },
  {
   "cell_type": "code",
   "execution_count": 155,
   "metadata": {},
   "outputs": [
    {
     "data": {
      "application/vnd.jupyter.widget-view+json": {
       "model_id": "bc2594391f99470497017deff8df2650",
       "version_major": 2,
       "version_minor": 0
      },
      "text/plain": [
       "HBox(children=(FloatProgress(value=0.0, max=76066.0), HTML(value='')))"
      ]
     },
     "metadata": {},
     "output_type": "display_data"
    },
    {
     "name": "stdout",
     "output_type": "stream",
     "text": [
      "\n",
      "5064 out of 76066 Tweets contain an app entity\n"
     ]
    }
   ],
   "source": [
    "# Doing the same for my applications\n",
    "entity_train = string_utterance.progress_apply(spacify_row,\n",
    "                label = 'APP',              \n",
    "                entity_keywords = entities.get('apps'))\n",
    "\n",
    "# Filtering out if the Tweet does not contain any of the entities\n",
    "app_train = [(i,j) for i,j in entity_train if j['entities'] != []]\n",
    "\n",
    "# Saving\n",
    "pickle_out = open('objects/app_train.pkl', 'wb')\n",
    "pickle.dump(app_train, pickle_out)\n",
    "\n",
    "# We will be using hardware train to train the recognizer\n",
    "print(f'{len(app_train)} out of {len(entity_train)} Tweets contain an app entity')"
   ]
  },
  {
   "cell_type": "code",
   "execution_count": 157,
   "metadata": {},
   "outputs": [
    {
     "data": {
      "text/plain": [
       "[('iphone yes io checked update none available swipe close app several time restart',\n",
       "  {'entities': [(0, 6, 'HARDWARE')]}),\n",
       " ('phone app work thank update iphone ipod',\n",
       "  {'entities': [(28, 34, 'HARDWARE')]}),\n",
       " ('word even mean thing iphone owner update late software drop call history glitch apps randomly opening ihelp',\n",
       "  {'entities': [(21, 27, 'HARDWARE')]}),\n",
       " ('watchos make watch pointless browsing music phone via watch reason buying it useless',\n",
       "  {'entities': [(13, 18, 'HARDWARE'), (54, 59, 'HARDWARE')]}),\n",
       " ('question iphone dy quick charge time day iphone battery faulty could',\n",
       "  {'entities': [(9, 15, 'HARDWARE'), (41, 47, 'HARDWARE')]})]"
      ]
     },
     "execution_count": 157,
     "metadata": {},
     "output_type": "execute_result"
    }
   ],
   "source": [
    "# Preview \n",
    "hardware_train[:5]"
   ]
  },
  {
   "cell_type": "code",
   "execution_count": 158,
   "metadata": {},
   "outputs": [
    {
     "data": {
      "text/plain": [
       "[('show music store phone like want store music phone',\n",
       "  {'entities': [(5, 10, 'APP'), (39, 44, 'APP')]}),\n",
       " ('watchos make watch pointless browsing music phone via watch reason buying it useless',\n",
       "  {'entities': [(38, 43, 'APP')]}),\n",
       " ('update io iphone icloud backup greyed can not turn say last backup never',\n",
       "  {'entities': [(17, 23, 'APP')]}),\n",
       " ('bug calendar app fix upgraded io still crash io',\n",
       "  {'entities': [(4, 12, 'APP')]}),\n",
       " ('do apple music apple podcast regardless save phone stream',\n",
       "  {'entities': [(9, 14, 'APP')]})]"
      ]
     },
     "execution_count": 158,
     "metadata": {},
     "output_type": "execute_result"
    }
   ],
   "source": [
    "# Preview\n",
    "app_train[:5]"
   ]
  },
  {
   "cell_type": "markdown",
   "metadata": {},
   "source": [
    "很好，这是正确的格式。对于字符级别的位置索引，右侧是包含的，左侧是空格/排他的。"
   ]
  },
  {
   "cell_type": "markdown",
   "metadata": {},
   "source": [
    "# 使用SGD训练识别器"
   ]
  },
  {
   "cell_type": "code",
   "execution_count": 159,
   "metadata": {},
   "outputs": [],
   "source": [
    "# Now we train the recognizer. \n",
    "def train_spacy(train_data, iterations):\n",
    "    nlp = spacy.blank('en')  # create blank Language class\n",
    "    # create the built-in pipeline components and add them to the pipeline\n",
    "    # nlp.create_pipe works for built-ins that are registered with spaCy\n",
    "    if 'ner' not in nlp.pipe_names:\n",
    "        ner = nlp.create_pipe('ner')\n",
    "        nlp.add_pipe(ner, last=True)\n",
    "       \n",
    "    # Add labels\n",
    "    for _, annotations in train_data:\n",
    "         for ent in annotations.get('entities'):\n",
    "            ner.add_label(ent[2])\n",
    "\n",
    "    # Disable all pipes other than 'ner' during training\n",
    "    other_pipes = [pipe for pipe in nlp.pipe_names if pipe != 'ner']\n",
    "    with nlp.disable_pipes(*other_pipes):  # only train NER\n",
    "        optimizer = nlp.begin_training()\n",
    "        \n",
    "        train_loss = []\n",
    "        \n",
    "        # Go through the training data N times\n",
    "        for itn in range(iterations):\n",
    "            print(\"Starting iteration \" + str(itn))\n",
    "            \n",
    "            # Shuffle training data\n",
    "            random.shuffle(train_data)\n",
    "            \n",
    "            # Iteration level metrics\n",
    "            losses = {}\n",
    "            misalligned_count = 0\n",
    "            \n",
    "            # Iterating through every Tweet\n",
    "            for text, annotations in train_data:    \n",
    "                try:\n",
    "                    nlp.update(\n",
    "                        [text],  # batch of texts\n",
    "                        [annotations],  # batch of annotations\n",
    "                        drop=0.2,  # dropout - make it harder to memorise data\n",
    "                        sgd=optimizer,  # callable to update weights\n",
    "                        losses=losses)\n",
    "                except ValueError as e:\n",
    "                    misalligned_count += 1\n",
    "                    # If it goes here, that means there's a misaligned entity\n",
    "                    print(f'Ignoring misaligned entity...\\n{(text,annotations)}')\n",
    "                    pass\n",
    "                \n",
    "            # Enable this is you want to track misalliged counts\n",
    "#             print(f'-- misalligned_count (iteration {itn}): {misalligned_count}')\n",
    "            # Documenting the loss\n",
    "            train_loss.append(losses.get('ner'))\n",
    "            print(f'losses (iteration {itn}): {losses}')\n",
    "            \n",
    "        # Visualizing the loss\n",
    "        plt.figure(figsize=(10,6))\n",
    "        plt.plot([*range(len(train_loss))], train_loss, color = 'magenta')\n",
    "        plt.title('Loss at every iteration')\n",
    "        plt.xlabel('Iteration Number')\n",
    "        plt.ylabel('Loss')\n",
    "        plt.show()\n",
    "            \n",
    "    return nlp\n",
    "\n",
    "# Error rate is going up for the minimum for the path we are currently walking in\n",
    "# We choose 20 for iterations, but there's a point where if you do it too many times it forgets the\n",
    "# stuff it knows now"
   ]
  },
  {
   "cell_type": "code",
   "execution_count": 160,
   "metadata": {},
   "outputs": [
    {
     "data": {
      "text/plain": [
       "[0, 1, 2, 3, 4, 5, 6, 7, 8, 9]"
      ]
     },
     "execution_count": 160,
     "metadata": {},
     "output_type": "execute_result"
    }
   ],
   "source": [
    "[*range(10)]"
   ]
  },
  {
   "cell_type": "markdown",
   "metadata": {},
   "source": [
    "Misalligned意味着`macbook`和`macbook pro`都被识别为一个例子，并且它们重叠或争夺相同的位置。"
   ]
  },
  {
   "cell_type": "markdown",
   "metadata": {},
   "source": [
    "### 训练\n",
    "\n",
    "对于迭代次数，我们选择了20，因为文档一开始就是这样，但是如果迭代次数太多，它会忘记已经知道的东西（灾难性遗忘）。"
   ]
  },
  {
   "cell_type": "code",
   "execution_count": 162,
   "metadata": {
    "scrolled": false
   },
   "outputs": [
    {
     "name": "stdout",
     "output_type": "stream",
     "text": [
      "Starting iteration 0\n"
     ]
    },
    {
     "name": "stderr",
     "output_type": "stream",
     "text": [
      "/opt/anaconda3/envs/chatbot/lib/python3.7/site-packages/spacy/language.py:479: UserWarning: [W030] Some entities could not be aligned in the text \"new io update last night send receive picture non-...\" with entities \"[(51, 57, 'HARDWARE')]\". Use `spacy.gold.biluo_tags_from_offsets(nlp.make_doc(text), entities)` to check the alignment. Misaligned entities ('-') will be ignored during training.\n",
      "  gold = GoldParse(doc, **gold)\n",
      "/opt/anaconda3/envs/chatbot/lib/python3.7/site-packages/spacy/language.py:479: UserWarning: [W030] Some entities could not be aligned in the text \"revert back previous software update halve battery...\" with entities \"[(76, 82, 'HARDWARE')]\". Use `spacy.gold.biluo_tags_from_offsets(nlp.make_doc(text), entities)` to check the alignment. Misaligned entities ('-') will be ignored during training.\n",
      "  gold = GoldParse(doc, **gold)\n"
     ]
    },
    {
     "name": "stdout",
     "output_type": "stream",
     "text": [
      "losses (iteration 0): {'ner': 758.1979658997207}\n",
      "Starting iteration 1\n",
      "losses (iteration 1): {'ner': 211.96585679511315}\n",
      "Starting iteration 2\n",
      "losses (iteration 2): {'ner': 191.97950700832703}\n",
      "Starting iteration 3\n",
      "losses (iteration 3): {'ner': 153.60519273102227}\n",
      "Starting iteration 4\n",
      "losses (iteration 4): {'ner': 88.12393701745607}\n",
      "Starting iteration 5\n",
      "losses (iteration 5): {'ner': 285.1556466353411}\n",
      "Starting iteration 6\n",
      "losses (iteration 6): {'ner': 158.018756016454}\n",
      "Starting iteration 7\n",
      "losses (iteration 7): {'ner': 83.15829945751088}\n",
      "Starting iteration 8\n",
      "losses (iteration 8): {'ner': 107.42280087977672}\n",
      "Starting iteration 9\n",
      "losses (iteration 9): {'ner': 106.62408788777174}\n",
      "Starting iteration 10\n",
      "losses (iteration 10): {'ner': 103.7771166960625}\n",
      "Starting iteration 11\n",
      "losses (iteration 11): {'ner': 154.5807937604324}\n",
      "Starting iteration 12\n",
      "losses (iteration 12): {'ner': 97.13634470743803}\n",
      "Starting iteration 13\n",
      "losses (iteration 13): {'ner': 80.0807884384481}\n",
      "Starting iteration 14\n",
      "losses (iteration 14): {'ner': 70.89662514056695}\n",
      "Starting iteration 15\n",
      "losses (iteration 15): {'ner': 89.45233370475498}\n",
      "Starting iteration 16\n",
      "losses (iteration 16): {'ner': 72.94268265122174}\n",
      "Starting iteration 17\n",
      "losses (iteration 17): {'ner': 123.09258237035351}\n",
      "Starting iteration 18\n",
      "losses (iteration 18): {'ner': 61.11289105317462}\n",
      "Starting iteration 19\n",
      "losses (iteration 19): {'ner': 115.95016923459082}\n"
     ]
    },
    {
     "data": {
      "image/png": "[encoded data removed]",
      "text/plain": [
       "<Figure size 720x432 with 1 Axes>"
      ]
     },
     "metadata": {},
     "output_type": "display_data"
    }
   ],
   "source": [
    "# Training\n",
    "hardware_nlp = train_spacy(hardware_train, 20)\n",
    "\n",
    "# Save our trained model into a new directory\n",
    "hardware_nlp.to_disk('models/hardware_big_nlp')"
   ]
  },
  {
   "cell_type": "markdown",
   "metadata": {},
   "source": [
    "训练似乎进行得很顺利。目前我们所走的路径的错误率正在上升到最低点。"
   ]
  },
  {
   "cell_type": "code",
   "execution_count": 166,
   "metadata": {},
   "outputs": [
    {
     "name": "stderr",
     "output_type": "stream",
     "text": [
      "/opt/anaconda3/envs/chatbot/lib/python3.7/site-packages/spacy/language.py:636: UserWarning: [W033] Training a new parser or NER using a model with no lexeme normalization table. This may degrade the performance of the model to some degree. If this is intentional or the language you're using doesn't have a normalization table, please ignore this warning. If this is surprising, make sure you have the spacy-lookups-data package installed. The languages with lexeme normalization tables are currently: da, de, el, en, id, lb, pt, ru, sr, ta, th.\n",
      "  **kwargs\n"
     ]
    },
    {
     "name": "stdout",
     "output_type": "stream",
     "text": [
      "Starting iteration 0\n"
     ]
    },
    {
     "name": "stderr",
     "output_type": "stream",
     "text": [
      "/opt/anaconda3/envs/chatbot/lib/python3.7/site-packages/spacy/language.py:479: UserWarning: [W030] Some entities could not be aligned in the text \"run loud crackle sound call new iphone non-facetim...\" with entities \"[(44, 52, 'APP')]\". Use `spacy.gold.biluo_tags_from_offsets(nlp.make_doc(text), entities)` to check the alignment. Misaligned entities ('-') will be ignored during training.\n",
      "  gold = GoldParse(doc, **gold)\n",
      "/opt/anaconda3/envs/chatbot/lib/python3.7/site-packages/spacy/language.py:479: UserWarning: [W030] Some entities could not be aligned in the text \"io make twitter crash first time ever several time...\" with entities \"[(58, 66, 'APP')]\". Use `spacy.gold.biluo_tags_from_offsets(nlp.make_doc(text), entities)` to check the alignment. Misaligned entities ('-') will be ignored during training.\n",
      "  gold = GoldParse(doc, **gold)\n",
      "/opt/anaconda3/envs/chatbot/lib/python3.7/site-packages/spacy/language.py:479: UserWarning: [W030] Some entities could not be aligned in the text \"hey problem iphone run io activate phone number im...\" with entities \"[(58, 66, 'APP')]\". Use `spacy.gold.biluo_tags_from_offsets(nlp.make_doc(text), entities)` to check the alignment. Misaligned entities ('-') will be ignored during training.\n",
      "  gold = GoldParse(doc, **gold)\n"
     ]
    },
    {
     "name": "stdout",
     "output_type": "stream",
     "text": [
      "losses (iteration 0): {'ner': 446.1876558719226}\n",
      "Starting iteration 1\n",
      "losses (iteration 1): {'ner': 128.109400359902}\n",
      "Starting iteration 2\n",
      "losses (iteration 2): {'ner': 119.81837904375446}\n",
      "Starting iteration 3\n",
      "losses (iteration 3): {'ner': 40.34303022688904}\n",
      "Starting iteration 4\n",
      "losses (iteration 4): {'ner': 49.22037858741371}\n",
      "Starting iteration 5\n",
      "losses (iteration 5): {'ner': 38.65983998306026}\n",
      "Starting iteration 6\n",
      "losses (iteration 6): {'ner': 39.57677762776498}\n",
      "Starting iteration 7\n",
      "losses (iteration 7): {'ner': 44.575783240722295}\n",
      "Starting iteration 8\n",
      "losses (iteration 8): {'ner': 8.767531736519553}\n",
      "Starting iteration 9\n",
      "losses (iteration 9): {'ner': 23.395426829231727}\n"
     ]
    },
    {
     "data": {
      "image/png": "[encoded data removed]",
      "text/plain": [
       "<Figure size 720x432 with 1 Axes>"
      ]
     },
     "metadata": {},
     "output_type": "display_data"
    }
   ],
   "source": [
    "# Training\n",
    "app_nlp = train_spacy(app_train, 10)\n",
    "\n",
    "# Save our trained model into a new directory\n",
    "app_nlp.to_disk('models/app_big_nlp')"
   ]
  },
  {
   "cell_type": "code",
   "execution_count": 188,
   "metadata": {},
   "outputs": [],
   "source": [
    "# Serializing\n",
    "pickle.dump(hardware_nlp, open('models/hardware_big_nlp.pkl', \"wb\"))\n",
    "pickle.dump(app_nlp, open('models/app_big_nlp.pkl', \"wb\"))"
   ]
  },
  {
   "cell_type": "markdown",
   "metadata": {},
   "source": [
    "# 评估和结果"
   ]
  },
  {
   "cell_type": "code",
   "execution_count": 198,
   "metadata": {
    "scrolled": true
   },
   "outputs": [],
   "source": [
    "# Testing out the results\n",
    "test_text = 'My iphone sucks but my macbook pro doesnt. Why couldnt they make\\\n",
    "            my iphone better. At least I could use airpods with it. Mcabook pro is\\\n",
    "            the best! Apple watches too. Maybe if they made the iphone more like the\\\n",
    "            ipad or my TV it would be alright. Mac. Ugh.'\n",
    "\n",
    "def extract_hardware(user_input, visualize = False):\n",
    "    # Loading it in\n",
    "    hardware_nlp = pickle.load(open(\"models/hardware_big_nlp.pkl\", \"rb\"))\n",
    "    doc = hardware_nlp(user_input)\n",
    "\n",
    "    extracted_entities = []\n",
    "\n",
    "    # These are the objects you can take out\n",
    "    for ent in doc.ents:\n",
    "        extracted_entities.append((ent.text, ent.start_char, ent.end_char, ent.label_))\n",
    "\n",
    "    # If you want to visualize\n",
    "    if visualize == True:\n",
    "        # Visualizing with displaCy how the document had it's entity tagged (runs a server)\n",
    "        colors = {\"HARDWARE\": \"linear-gradient(90deg, #aa9cfc, #fc9ce7)\"}\n",
    "        options = {\"ents\": [\"HARDWARE\"], \"colors\": colors}\n",
    "        html = displacy.render(doc, style = 'ent', options = options)\n",
    "        display(HTML(html));\n",
    "        # displacy.serve(doc, style=\"ent\", options=options)\n",
    "        # displacy.serve(doc, style=\"ent\")\n",
    "    return extracted_entities\n",
    "\n",
    "def extract_app(user_input, visualize = False):\n",
    "    # Loading it in\n",
    "    app_nlp = pickle.load(open(\"models/app_big_nlp.pkl\", \"rb\"))\n",
    "    doc = app_nlp(user_input)\n",
    "\n",
    "    extracted_entities = []\n",
    "\n",
    "    # These are the objects you can take out\n",
    "    for ent in doc.ents:\n",
    "        extracted_entities.append((ent.text, ent.start_char, ent.end_char, ent.label_))\n",
    "\n",
    "    # If you want to visualize\n",
    "    if visualize == True:\n",
    "        # Visualizing with displaCy how the document had it's entity tagged (runs a server)\n",
    "        colors = {\"APP\": \"#F8C471\"}\n",
    "        options = {\"ents\": [\"APP\"], \"colors\": colors}\n",
    "        html = displacy.render(doc, style = 'ent', options = options)\n",
    "        display(HTML(html));\n",
    "        # displacy.serve(doc, style=\"ent\", options=options)\n",
    "        # displacy.serve(doc, style=\"ent\")\n",
    "    return extracted_entities"
   ]
  },
  {
   "cell_type": "code",
   "execution_count": 193,
   "metadata": {},
   "outputs": [
    {
     "data": {
      "text/html": [
       "<span class=\"tex2jax_ignore\"><div class=\"entities\" style=\"line-height: 2.5; direction: ltr\">My \n",
       "<mark class=\"entity\" style=\"background: linear-gradient(90deg, #aa9cfc, #fc9ce7); padding: 0.45em 0.6em; margin: 0 0.25em; line-height: 1; border-radius: 0.35em;\">\n",
       "    iphone\n",
       "    <span style=\"font-size: 0.8em; font-weight: bold; line-height: 1; border-radius: 0.35em; text-transform: uppercase; vertical-align: middle; margin-left: 0.5rem\">HARDWARE</span>\n",
       "</mark>\n",
       " sucks but my \n",
       "<mark class=\"entity\" style=\"background: linear-gradient(90deg, #aa9cfc, #fc9ce7); padding: 0.45em 0.6em; margin: 0 0.25em; line-height: 1; border-radius: 0.35em;\">\n",
       "    macbook pro\n",
       "    <span style=\"font-size: 0.8em; font-weight: bold; line-height: 1; border-radius: 0.35em; text-transform: uppercase; vertical-align: middle; margin-left: 0.5rem\">HARDWARE</span>\n",
       "</mark>\n",
       " doesnt. Why couldnt they make            my \n",
       "<mark class=\"entity\" style=\"background: linear-gradient(90deg, #aa9cfc, #fc9ce7); padding: 0.45em 0.6em; margin: 0 0.25em; line-height: 1; border-radius: 0.35em;\">\n",
       "    iphone\n",
       "    <span style=\"font-size: 0.8em; font-weight: bold; line-height: 1; border-radius: 0.35em; text-transform: uppercase; vertical-align: middle; margin-left: 0.5rem\">HARDWARE</span>\n",
       "</mark>\n",
       " better. At least I could use \n",
       "<mark class=\"entity\" style=\"background: linear-gradient(90deg, #aa9cfc, #fc9ce7); padding: 0.45em 0.6em; margin: 0 0.25em; line-height: 1; border-radius: 0.35em;\">\n",
       "    airpods\n",
       "    <span style=\"font-size: 0.8em; font-weight: bold; line-height: 1; border-radius: 0.35em; text-transform: uppercase; vertical-align: middle; margin-left: 0.5rem\">HARDWARE</span>\n",
       "</mark>\n",
       " with it. \n",
       "<mark class=\"entity\" style=\"background: linear-gradient(90deg, #aa9cfc, #fc9ce7); padding: 0.45em 0.6em; margin: 0 0.25em; line-height: 1; border-radius: 0.35em;\">\n",
       "    Mcabook pro\n",
       "    <span style=\"font-size: 0.8em; font-weight: bold; line-height: 1; border-radius: 0.35em; text-transform: uppercase; vertical-align: middle; margin-left: 0.5rem\">HARDWARE</span>\n",
       "</mark>\n",
       " is            the best! Apple watches too. Maybe if they made the \n",
       "<mark class=\"entity\" style=\"background: linear-gradient(90deg, #aa9cfc, #fc9ce7); padding: 0.45em 0.6em; margin: 0 0.25em; line-height: 1; border-radius: 0.35em;\">\n",
       "    iphone\n",
       "    <span style=\"font-size: 0.8em; font-weight: bold; line-height: 1; border-radius: 0.35em; text-transform: uppercase; vertical-align: middle; margin-left: 0.5rem\">HARDWARE</span>\n",
       "</mark>\n",
       " more like the            \n",
       "<mark class=\"entity\" style=\"background: linear-gradient(90deg, #aa9cfc, #fc9ce7); padding: 0.45em 0.6em; margin: 0 0.25em; line-height: 1; border-radius: 0.35em;\">\n",
       "    ipad\n",
       "    <span style=\"font-size: 0.8em; font-weight: bold; line-height: 1; border-radius: 0.35em; text-transform: uppercase; vertical-align: middle; margin-left: 0.5rem\">HARDWARE</span>\n",
       "</mark>\n",
       " or my TV it would be alright. \n",
       "<mark class=\"entity\" style=\"background: linear-gradient(90deg, #aa9cfc, #fc9ce7); padding: 0.45em 0.6em; margin: 0 0.25em; line-height: 1; border-radius: 0.35em;\">\n",
       "    Mac\n",
       "    <span style=\"font-size: 0.8em; font-weight: bold; line-height: 1; border-radius: 0.35em; text-transform: uppercase; vertical-align: middle; margin-left: 0.5rem\">HARDWARE</span>\n",
       "</mark>\n",
       ". Ugh.</div></span>"
      ],
      "text/plain": [
       "<IPython.core.display.HTML object>"
      ]
     },
     "metadata": {},
     "output_type": "display_data"
    },
    {
     "data": {
      "text/plain": [
       "<IPython.core.display.HTML object>"
      ]
     },
     "metadata": {},
     "output_type": "display_data"
    },
    {
     "data": {
      "text/plain": [
       "[('iphone', 3, 9, 'HARDWARE'),\n",
       " ('macbook pro', 23, 34, 'HARDWARE'),\n",
       " ('iphone', 79, 85, 'HARDWARE'),\n",
       " ('airpods', 115, 122, 'HARDWARE'),\n",
       " ('Mcabook pro', 132, 143, 'HARDWARE'),\n",
       " ('iphone', 210, 216, 'HARDWARE'),\n",
       " ('ipad', 242, 246, 'HARDWARE'),\n",
       " ('Mac', 277, 280, 'HARDWARE')]"
      ]
     },
     "execution_count": 193,
     "metadata": {},
     "output_type": "execute_result"
    }
   ],
   "source": [
    "extract_hardware(test_text, visualize = True)"
   ]
  },
  {
   "cell_type": "code",
   "execution_count": 199,
   "metadata": {},
   "outputs": [
    {
     "data": {
      "text/html": [
       "<span class=\"tex2jax_ignore\"><div class=\"entities\" style=\"line-height: 2.5; direction: ltr\">My top favorite apps include the \n",
       "<mark class=\"entity\" style=\"background: #F8C471; padding: 0.45em 0.6em; margin: 0 0.25em; line-height: 1; border-radius: 0.35em;\">\n",
       "    facetime\n",
       "    <span style=\"font-size: 0.8em; font-weight: bold; line-height: 1; border-radius: 0.35em; text-transform: uppercase; vertical-align: middle; margin-left: 0.5rem\">APP</span>\n",
       "</mark>\n",
       " application, the apple books on my iphone, and the \n",
       "<mark class=\"entity\" style=\"background: #F8C471; padding: 0.45em 0.6em; margin: 0 0.25em; line-height: 1; border-radius: 0.35em;\">\n",
       "    podcasts\n",
       "    <span style=\"font-size: 0.8em; font-weight: bold; line-height: 1; border-radius: 0.35em; text-transform: uppercase; vertical-align: middle; margin-left: 0.5rem\">APP</span>\n",
       "</mark>\n",
       "        application. Sometimes instead of spotify I would listen to apple \n",
       "<mark class=\"entity\" style=\"background: #F8C471; padding: 0.45em 0.6em; margin: 0 0.25em; line-height: 1; border-radius: 0.35em;\">\n",
       "    music\n",
       "    <span style=\"font-size: 0.8em; font-weight: bold; line-height: 1; border-radius: 0.35em; text-transform: uppercase; vertical-align: middle; margin-left: 0.5rem\">APP</span>\n",
       "</mark>\n",
       ". My macbook is running        Catalina btw.</div></span>"
      ],
      "text/plain": [
       "<IPython.core.display.HTML object>"
      ]
     },
     "metadata": {},
     "output_type": "display_data"
    },
    {
     "data": {
      "text/plain": [
       "<IPython.core.display.HTML object>"
      ]
     },
     "metadata": {},
     "output_type": "display_data"
    },
    {
     "data": {
      "text/plain": [
       "[('facetime', 33, 41, 'APP'),\n",
       " ('podcasts', 93, 101, 'APP'),\n",
       " ('music', 175, 180, 'APP')]"
      ]
     },
     "execution_count": 199,
     "metadata": {},
     "output_type": "execute_result"
    }
   ],
   "source": [
    "test_text = \"My top favorite apps include the facetime application, the apple books on my iphone, and the podcasts\\\n",
    "        application. Sometimes instead of spotify I would listen to apple music. My macbook is running\\\n",
    "        Catalina btw.\"\n",
    "\n",
    "extract_app(test_text, visualize = True)"
   ]
  },
  {
   "cell_type": "markdown",
   "metadata": {},
   "source": [
    "正如上面演示的，模型实际上在标记实体方面做得相当不错！唯一的误判是\"Why\"，但这可以处理。"
   ]
  },
  {
   "cell_type": "code",
   "execution_count": 100,
   "metadata": {},
   "outputs": [
    {
     "data": {
      "text/plain": [
       "[('ner', <spacy.pipeline.pipes.EntityRecognizer at 0x196101fe50>)]"
      ]
     },
     "execution_count": 100,
     "metadata": {},
     "output_type": "execute_result"
    }
   ],
   "source": [
    "# Viewing the pipeline's contents\n",
    "hardware_nlp.pipeline"
   ]
  },
  {
   "cell_type": "markdown",
   "metadata": {},
   "source": [
    "### 训练自定义NER的动机"
   ]
  },
  {
   "cell_type": "code",
   "execution_count": 197,
   "metadata": {},
   "outputs": [
    {
     "data": {
      "text/html": [
       "<span class=\"tex2jax_ignore\"><div class=\"entities\" style=\"line-height: 2.5; direction: ltr\">I live in \n",
       "<mark class=\"entity\" style=\"background: #feca74; padding: 0.45em 0.6em; margin: 0 0.25em; line-height: 1; border-radius: 0.35em;\">\n",
       "    California\n",
       "    <span style=\"font-size: 0.8em; font-weight: bold; line-height: 1; border-radius: 0.35em; text-transform: uppercase; vertical-align: middle; margin-left: 0.5rem\">GPE</span>\n",
       "</mark>\n",
       "</div></span>"
      ],
      "text/plain": [
       "<IPython.core.display.HTML object>"
      ]
     },
     "metadata": {},
     "output_type": "display_data"
    },
    {
     "data": {
      "text/plain": [
       "<IPython.core.display.HTML object>"
      ]
     },
     "metadata": {},
     "output_type": "display_data"
    }
   ],
   "source": [
    "# Example of spaCy's default NER pipeline\n",
    "\n",
    "nlp = spacy.load(\"en_core_web_sm\")\n",
    "\n",
    "# Example 1\n",
    "doc = nlp(\"But Google is starting from behind. The company \\\n",
    "          made a late push\\ninto hardware, and Apple’s Siri, \\\n",
    "          available on iPhones, and Amazon’s Alexa\\nsoftware, \\\n",
    "          which runs on its Echo and Dot devices, have clear \\\n",
    "          leads in\\nconsumer adoption\")\n",
    "\n",
    "# Example 2 - Extracting locations\n",
    "doc = nlp(\"I live in California\")\n",
    "\n",
    "# for ent in doc.ents:\n",
    "#     print(ent.text, ent.start_char, ent.end_char, ent.label_)\n",
    "\n",
    "# Visualizing with displaCy how the document had it's entity tagged\n",
    "# html = displacy.serve(doc, style=\"ent\")\n",
    "html = displacy.render(doc, style = 'ent')\n",
    "display(HTML(html))"
   ]
  },
  {
   "cell_type": "markdown",
   "metadata": {},
   "source": [
    "我们可以看到，spaCy工具并没有立即识别\"iphones\"、\"apple phones\"等作为正确的实体。它们只理解\"Apple\"是一个组织。因此，我训练了我的自定义模型，能够理解苹果的特定关键词。"
   ]
  }
 ],
 "metadata": {
  "kernelspec": {
   "display_name": "base",
   "language": "python",
   "name": "python3"
  },
  "language_info": {
   "codemirror_mode": {
    "name": "ipython",
    "version": 3
   },
   "file_extension": ".py",
   "mimetype": "text/x-python",
   "name": "python",
   "nbconvert_exporter": "python",
   "pygments_lexer": "ipython3",
   "version": "3.8.3"
  }
 },
 "nbformat": 4,
 "nbformat_minor": 4
}
