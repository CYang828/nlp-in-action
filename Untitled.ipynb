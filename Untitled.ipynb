{
 "cells": [
  {
   "cell_type": "markdown",
   "id": "e89af187-dc79-48be-a4b2-67f2592d71ea",
   "metadata": {},
   "source": [
    "- Q: -> text representation -> vector\n",
    "- A: -> text representation -> vector\n",
    "- newQ -> text representation -> vector-newQ\n",
    "\n",
    "能做什么？\n",
    "* 训练对照关系（seq2seq），你只有在训练样本非常大的时候，这种关系才能找得到\n",
    "* 把用户新的提问，匹配原有的Q（相似问题的合并）\n",
    "  * 解决不了新问题 相似度>0.5，\n",
    "  * vector 的准确性要求是比较高的\n",
    "* Q -> 目的（大量用户的目的是相同的，2/8原则）-> 解决的是大部分人的问题\n",
    "    * 80%的用户目的是什么\n",
    "    * 用户意图(user intent)\n",
    "        * 有那些种意图10、100、1000种\n",
    "        * 当有新的问题的时候，我要给他一个识别出来一个意图\n",
    "        * intent + 关键字匹配，给出具体的 A\n",
    "        * （Baseline）"
   ]
  },
  {
   "cell_type": "markdown",
   "id": "d3737b16-ce78-4f8e-9651-c2daaa739e11",
   "metadata": {},
   "source": [
    "## 寻找意图\n",
    "\n",
    "- eda （bagofwords统计、主题分析（LDA，机器学习方法）、关键词提取（bm25））\n",
    "- 业务人员帮你找到用户的诉求\n",
    "- 聚类分析（KMeans，机器学习方法）\n",
    "- 给数据打标（不对）"
   ]
  },
  {
   "cell_type": "code",
   "execution_count": 2,
   "id": "04d9ce5c-2df2-42ea-96e1-705802cacaa3",
   "metadata": {},
   "outputs": [
    {
     "name": "stdout",
     "output_type": "stream",
     "text": [
      "Pandas: 1.4.3\n",
      "Numpy: 1.23.2\n",
      "gensim: 4.3.2\n"
     ]
    },
    {
     "name": "stderr",
     "output_type": "stream",
     "text": [
      "/var/folders/8z/_m3tlbk55sv4j8cl6sp2_7gw0000gn/T/ipykernel_43196/3873072998.py:50: TqdmDeprecationWarning: This function will be removed in tqdm==5.0.0\n",
      "Please use `tqdm.notebook.tqdm` instead of `tqdm.tqdm_notebook`\n",
      "  tqdm().pandas()  # Enable tracking of execution progress\n"
     ]
    },
    {
     "data": {
      "application/json": {
       "ascii": false,
       "bar_format": null,
       "colour": null,
       "elapsed": 0.017069101333618164,
       "initial": 0,
       "n": 0,
       "ncols": null,
       "nrows": 32,
       "postfix": null,
       "prefix": "",
       "rate": null,
       "total": null,
       "unit": "it",
       "unit_divisor": 1000,
       "unit_scale": false
      },
      "application/vnd.jupyter.widget-view+json": {
       "model_id": "32a35717ac404e629f0b13df558f8916",
       "version_major": 2,
       "version_minor": 0
      },
      "text/plain": [
       "0it [00:00, ?it/s]"
      ]
     },
     "metadata": {},
     "output_type": "display_data"
    },
    {
     "data": {
      "application/json": {
       "ascii": false,
       "bar_format": null,
       "colour": null,
       "elapsed": 0.010267972946166992,
       "initial": 0,
       "n": 0,
       "ncols": null,
       "nrows": 32,
       "postfix": null,
       "prefix": "",
       "rate": null,
       "total": 77175,
       "unit": "it",
       "unit_divisor": 1000,
       "unit_scale": false
      },
      "application/vnd.jupyter.widget-view+json": {
       "model_id": "30450e8541ad4ca6a011325d5f38d3a9",
       "version_major": 2,
       "version_minor": 0
      },
      "text/plain": [
       "  0%|          | 0/77175 [00:00<?, ?it/s]"
      ]
     },
     "metadata": {},
     "output_type": "display_data"
    },
    {
     "data": {
      "text/plain": [
       "0     [new, update, i️, make, sure, download, yester...\n",
       "6     [hey, anyone, else, upgraded, io, issue, capit...\n",
       "12    [hello, internet, someone, explain, symbol, ke...\n",
       "13    [get, screenshot, say, iphonex, reserve, email...\n",
       "15    [thank, update, phone, even, slow, barely, wor...\n",
       "Name: inbound_text, dtype: object"
      ]
     },
     "execution_count": 2,
     "metadata": {},
     "output_type": "execute_result"
    }
   ],
   "source": [
    "# We need more packages!\n",
    "# Data science\n",
    "import pandas as pd\n",
    "print(f\"Pandas: {pd.__version__}\")\n",
    "import numpy as np\n",
    "print(f\"Numpy: {np.__version__}\")\n",
    "\n",
    "# Unsupervised Learning\n",
    "from sklearn.preprocessing import StandardScaler\n",
    "from sklearn.preprocessing import MaxAbsScaler\n",
    "from sklearn.pipeline import Pipeline\n",
    "from sklearn.model_selection import GridSearchCV\n",
    "from sklearn.metrics.pairwise import cosine_similarity\n",
    "from sklearn.cluster import KMeans\n",
    "from sklearn.model_selection import cross_val_score\n",
    "from sklearn.decomposition import LatentDirichletAllocation\n",
    "from sklearn.datasets import make_multilabel_classification\n",
    "from sklearn.metrics import silhouette_score, silhouette_samples\n",
    "\n",
    "# Visualization \n",
    "import seaborn as sns\n",
    "import matplotlib.pyplot as plt\n",
    "sns.set(style=\"ticks\", color_codes=True)\n",
    "from sklearn.manifold import TSNE\n",
    "\n",
    "# Word Embeddings\n",
    "from sklearn.feature_extraction.text import CountVectorizer\n",
    "from sklearn.feature_extraction.text import TfidfVectorizer\n",
    "from nltk.tokenize import TweetTokenizer\n",
    "import gensim\n",
    "print(f'gensim: {gensim.__version__}')\n",
    "\n",
    "# Doc2Vec\n",
    "from nltk.tokenize import word_tokenize \n",
    "from gensim.test.utils import common_texts\n",
    "from gensim.models.doc2vec import Doc2Vec, TaggedDocument\n",
    "from gensim.test.utils import get_tmpfile\n",
    "\n",
    "# Storing as objects via serialization\n",
    "from tempfile import mkdtemp\n",
    "import pickle\n",
    "import joblib\n",
    "\n",
    "# Directory\n",
    "import os\n",
    "import yaml\n",
    "\n",
    "# Cool progress bars\n",
    "from tqdm import tqdm_notebook as tqdm\n",
    "tqdm().pandas()  # Enable tracking of execution progress\n",
    "\n",
    "# Reading in intents\n",
    "with open(r'objects/intents.yml') as file:\n",
    "    intents = yaml.load(file, Loader=yaml.FullLoader)\n",
    "    \n",
    "# Loading in the already saved processed dataset\n",
    "processed_inbound = pd.read_pickle('objects/processed_inbound.pkl')\n",
    "\n",
    "# Representing my tokenized data as String documents and storing it into a variable\n",
    "string_processed_inbound = processed_inbound.progress_apply(\" \".join)\n",
    "\n",
    "# We start with this data, here's the preview\n",
    "processed_inbound.head()"
   ]
  },
  {
   "cell_type": "code",
   "execution_count": 3,
   "id": "e8e6914d-5209-4afc-991d-ab4cc83357a2",
   "metadata": {},
   "outputs": [
    {
     "data": {
      "image/png": "[encoded data removed]",
      "text/plain": [
       "<Figure size 1200x600 with 1 Axes>"
      ]
     },
     "metadata": {},
     "output_type": "display_data"
    }
   ],
   "source": [
    "# Vectorizing the data with Count Vectorizer\n",
    "bagofwords = CountVectorizer(min_df = 5).fit(string_processed_inbound)\n",
    "inbound_cv = bagofwords.transform(string_processed_inbound)\n",
    "\n",
    "# For visualizing top 10\n",
    "def top10_bagofwords(data, output_name, title):\n",
    "    ''' Taking as input the data and plots the top 10 words based on counts in this text data'''\n",
    "    bagofwords = CountVectorizer()\n",
    "    # Output will be a sparse matrix\n",
    "    inbound = bagofwords.fit_transform(data)\n",
    "    # Inspecting of often contractions and colloquial language is used\n",
    "    word_counts = np.array(np.sum(inbound, axis=0)).reshape((-1,))\n",
    "    words = np.array(bagofwords.get_feature_names_out())\n",
    "    words_df = pd.DataFrame({\"word\":words, \n",
    "                             \"count\":word_counts})\n",
    "    words_rank = words_df.sort_values(by=\"count\", ascending=False)\n",
    "    # words_rank.to_csv('words_rank.csv') # Storing it in a csv so I can inspect and go through it myself\n",
    "    words_rank.head()\n",
    "    # Visualizing top 10 words\n",
    "    plt.figure(figsize=(12,6))\n",
    "    sns.barplot(words_rank['word'][:10], words_rank['count'][:10].astype(str), palette = 'inferno')\n",
    "    plt.title(title)\n",
    "    \n",
    "    # Saving\n",
    "    plt.savefig(f'visualizations/{output_name}.png')\n",
    "    \n",
    "    plt.show()\n",
    "\n",
    "\n",
    "top10_bagofwords(string_processed_inbound, 'initial_frequencies', 'Top 10 Words in Processed Inbound Data')"
   ]
  },
  {
   "cell_type": "code",
   "execution_count": 4,
   "id": "b695ba78-aa89-42e8-afbd-060baef9dda7",
   "metadata": {},
   "outputs": [
    {
     "data": {
      "text/plain": [
       "<77175x34110 sparse matrix of type '<class 'numpy.float64'>'\n",
       "\twith 1259391 stored elements in Compressed Sparse Row format>"
      ]
     },
     "execution_count": 4,
     "metadata": {},
     "output_type": "execute_result"
    }
   ],
   "source": [
    "tfidf = TfidfVectorizer(min_df=5, ngram_range = (1,3))\n",
    "# Storing tfidf data and transforming them into sparse matrices\n",
    "inbound_tfidf = tfidf.fit_transform(string_processed_inbound)\n",
    "inbound_tfidf"
   ]
  },
  {
   "cell_type": "code",
   "execution_count": 5,
   "id": "75244bb8-5409-45c2-97cb-74e02af2ef5c",
   "metadata": {
    "scrolled": true
   },
   "outputs": [
    {
     "data": {
      "text/plain": [
       "(<77175x4893 sparse matrix of type '<class 'numpy.int64'>'\n",
       " \twith 768941 stored elements in Compressed Sparse Row format>,\n",
       " <77175x34110 sparse matrix of type '<class 'numpy.float64'>'\n",
       " \twith 1259391 stored elements in Compressed Sparse Row format>)"
      ]
     },
     "execution_count": 5,
     "metadata": {},
     "output_type": "execute_result"
    }
   ],
   "source": [
    "inbound_cv, inbound_tfidf"
   ]
  },
  {
   "cell_type": "code",
   "execution_count": 6,
   "id": "d70a6d52-afcf-4bb8-a6ea-9e9d3c09819b",
   "metadata": {},
   "outputs": [
    {
     "data": {
      "text/plain": [
       "(<77175x4893 sparse matrix of type '<class 'numpy.float64'>'\n",
       " \twith 768941 stored elements in Compressed Sparse Row format>,\n",
       " <77175x4893 sparse matrix of type '<class 'numpy.float64'>'\n",
       " \twith 768941 stored elements in Compressed Sparse Row format>)"
      ]
     },
     "execution_count": 6,
     "metadata": {},
     "output_type": "execute_result"
    }
   ],
   "source": [
    "# Fitting and transforming to create standard scaled versions of my data\n",
    "inbound_cv_ma = MaxAbsScaler().fit_transform(inbound_cv)\n",
    "inbound_tfidf_ma = MaxAbsScaler().fit_transform(inbound_cv)\n",
    "\n",
    "inbound_cv_ma, inbound_tfidf_ma"
   ]
  },
  {
   "cell_type": "markdown",
   "id": "612e4e49-b160-41ef-ad51-fcad81ec8871",
   "metadata": {},
   "source": [
    "### KMeans"
   ]
  },
  {
   "cell_type": "code",
   "execution_count": 7,
   "id": "94b5ae94-1f2b-414a-9b08-cf271cd93d07",
   "metadata": {},
   "outputs": [
    {
     "name": "stdout",
     "output_type": "stream",
     "text": [
      "0 ('inbound_cv_ma', <77175x4893 sparse matrix of type '<class 'numpy.float64'>'\n",
      "\twith 768941 stored elements in Compressed Sparse Row format>)\n",
      "1 ('inbound_tfidf_ma', <77175x4893 sparse matrix of type '<class 'numpy.float64'>'\n",
      "\twith 768941 stored elements in Compressed Sparse Row format>)\n"
     ]
    }
   ],
   "source": [
    "# Vectorized data\n",
    "vectorized_data = {'inbound_cv_ma': inbound_cv_ma, 'inbound_tfidf_ma': inbound_tfidf_ma}\n",
    "# Briefly showing the contents of i and j\n",
    "for i,j in enumerate(vectorized_data.items()): print(i,j);"
   ]
  },
  {
   "cell_type": "code",
   "execution_count": 8,
   "id": "d434eade-2635-40dc-9076-53610ac1c444",
   "metadata": {},
   "outputs": [],
   "source": [
    "# My grand dictionaries that will store all my results\n",
    "wcss_grand = {}\n",
    "labels_grand = {}\n",
    "silhouette_scores_grand = {}"
   ]
  },
  {
   "cell_type": "code",
   "execution_count": 9,
   "id": "ea758faa-d9d8-4e28-abd5-317768a6c8d9",
   "metadata": {},
   "outputs": [],
   "source": [
    "# n_clusters = [10,20,30,40,50,60,70,80,90,100]\n",
    "n_clusters = [10]"
   ]
  },
  {
   "cell_type": "code",
   "execution_count": null,
   "id": "5c38ddae-a0cb-4325-892c-7e02f8f37dca",
   "metadata": {},
   "outputs": [],
   "source": [
    "# Iterating through all the differently embedded data\n",
    "for i,j in tqdm(enumerate(vectorized_data.items())): \n",
    "    name = j[0] # Here j[0] is the name of the dataset\n",
    "    dataset = j[1] # And j[1] is the actual data\n",
    "    \n",
    "    # I store my metrics at these following lists\n",
    "    wcss = []\n",
    "    labels = []\n",
    "    silhouette_scores = []\n",
    "    \n",
    "    # Looping through values of k\n",
    "    for k in tqdm(n_clusters):    \n",
    "        print(f'Currently fitting {name} with {k} clusters... Please wait')\n",
    "        \n",
    "        # Initializing with k-means++ ensures that you get don’t fall into the random initialization trap.\n",
    "        kmeans = KMeans(n_clusters=k, init='k-means++', max_iter=300, n_init=10, random_state = 10)\n",
    "        kmeans.fit(dataset)\n",
    "        wcss.append(kmeans.inertia_)\n",
    "        \n",
    "        # Getting the silhouette score\n",
    "        labels.append(kmeans.labels_)\n",
    "        silhouette_scores.append(silhouette_score(dataset, kmeans.labels_))\n",
    "        \n",
    "        # Saving the models\n",
    "        filename = f'models/kmeans/{name}-{k}neighbors.sav'\n",
    "        joblib.dump(kmeans, filename)\n",
    "        \n",
    "    # Updating grand dictionary\n",
    "    wcss_grand[name + '_wcss'] = wcss\n",
    "    labels_grand[name + '_labels'] = labels\n",
    "    silhouette_scores_grand[name + '_silhouettes'] = silhouette_scores\n",
    "\n",
    "# Saving all my results\n",
    "with open('objects/wcss_grand.pkl', 'wb') as handle:\n",
    "    pickle.dump(wcss_grand, handle, protocol=pickle.HIGHEST_PROTOCOL)\n",
    "\n",
    "with open('objects/labels_grand.pkl', 'wb') as handle:\n",
    "    pickle.dump(labels_grand, handle, protocol=pickle.HIGHEST_PROTOCOL)\n",
    "    \n",
    "with open('objects/silhouette_scores_grand.pkl', 'wb') as handle:\n",
    "    pickle.dump(silhouette_scores_grand, handle, protocol=pickle.HIGHEST_PROTOCOL)"
   ]
  },
  {
   "cell_type": "markdown",
   "id": "0a4ba833-ffb6-4149-9e94-a7d7742d28d1",
   "metadata": {},
   "source": [
    "## LDA"
   ]
  },
  {
   "cell_type": "code",
   "execution_count": 10,
   "id": "3ef1b357-46b5-4712-b04b-3965e2fcadd4",
   "metadata": {},
   "outputs": [],
   "source": [
    "import warnings\n",
    "warnings.simplefilter(\"ignore\", DeprecationWarning)\n",
    "# Load the LDA model from sk-learn\n",
    "from sklearn.decomposition import LatentDirichletAllocation as LDA\n"
   ]
  },
  {
   "cell_type": "code",
   "execution_count": null,
   "id": "623cd341-f422-4566-a1a6-d59c33fc3e42",
   "metadata": {},
   "outputs": [],
   "source": [
    "# Helper function\n",
    "def print_topics(model, count_vectorizer, n_top_words):\n",
    "    words = count_vectorizer.get_feature_names()\n",
    "    for topic_idx, topic in enumerate(model.components_):\n",
    "        print(\"\\nTopic #%d:\" % topic_idx)\n",
    "        print(\" \".join([words[i]\n",
    "                        for i in topic.argsort()[:-n_top_words - 1:-1]]))"
   ]
  },
  {
   "cell_type": "code",
   "execution_count": null,
   "id": "a187a761-14d0-45fa-b1e2-9e9d2558e414",
   "metadata": {},
   "outputs": [],
   "source": [
    "number_topics = 5\n",
    "number_words = 10"
   ]
  },
  {
   "cell_type": "code",
   "execution_count": null,
   "id": "593584b8-a6a9-4517-adfd-171c17f32695",
   "metadata": {},
   "outputs": [],
   "source": [
    "lda = LDA(n_components=number_topics, n_jobs=-1)\n",
    "lda.fit(count_data)\n",
    "print_topics(lda, count_vectorizer, number_words)"
   ]
  },
  {
   "cell_type": "markdown",
   "id": "7a2c2ca6-d57a-4959-bd17-5776dd5de6e2",
   "metadata": {},
   "source": [
    "- 聚类方法\n",
    "- eda\n",
    "- 总结意图"
   ]
  },
  {
   "cell_type": "markdown",
   "id": "e6d27011-502f-439b-95eb-dab33745e6c2",
   "metadata": {},
   "source": [
    "### 启发式的意图分布探索"
   ]
  },
  {
   "cell_type": "code",
   "execution_count": null,
   "id": "ef9aef3c-c20e-4ae9-a1ee-8381e07bd305",
   "metadata": {},
   "outputs": [],
   "source": []
  },
  {
   "cell_type": "code",
   "execution_count": null,
   "id": "5852bd5b-a07c-4c5b-afc8-669aaa41aa85",
   "metadata": {},
   "outputs": [],
   "source": []
  },
  {
   "cell_type": "markdown",
   "id": "b06cbef9-4c92-4d9b-8270-3163a6b30875",
   "metadata": {},
   "source": [
    "## 对意图分类进行建模"
   ]
  },
  {
   "cell_type": "markdown",
   "id": "ce73c252-5c5f-453a-a707-3a7bd8a879a1",
   "metadata": {},
   "source": [
    "## 意图 + 关键词匹配来识别 Answer"
   ]
  },
  {
   "cell_type": "code",
   "execution_count": null,
   "id": "da7dee15-8604-40cb-b8dd-c19b410d8d99",
   "metadata": {},
   "outputs": [],
   "source": []
  }
 ],
 "metadata": {
  "kernelspec": {
   "display_name": "Python 3 (ipykernel)",
   "language": "python",
   "name": "python3"
  },
  "language_info": {
   "codemirror_mode": {
    "name": "ipython",
    "version": 3
   },
   "file_extension": ".py",
   "mimetype": "text/x-python",
   "name": "python",
   "nbconvert_exporter": "python",
   "pygments_lexer": "ipython3",
   "version": "3.8.2"
  }
 },
 "nbformat": 4,
 "nbformat_minor": 5
}
