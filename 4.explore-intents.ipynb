{
 "cells": [
  {
   "cell_type": "markdown",
   "metadata": {},
   "source": [
    "# 探索意图"
   ]
  },
  {
   "cell_type": "markdown",
   "metadata": {},
   "source": [
    "## 使用聚类探索意图\n",
    "\n",
    "在这本笔记本中，我采用了前一本笔记本中经过预处理和标记的数据，并试图通过使用有意义的文档嵌入方法（这样我的模型就可以读取数据）和无监督学习方法（如K-Means、DBScan和LDA）为数据集中的每条推文分配标签。\n",
    "\n",
    "我把我的意图分为几类，总共有11类。对于在看不见的数据上进行意图分类的成功NN训练，我认为每个意图1000个是有用的。"
   ]
  },
  {
   "cell_type": "code",
   "execution_count": 1,
   "metadata": {},
   "outputs": [
    {
     "name": "stdout",
     "output_type": "stream",
     "text": [
      "Pandas: 1.4.3\n",
      "Numpy: 1.23.2\n",
      "gensim: 4.3.2\n"
     ]
    },
    {
     "name": "stderr",
     "output_type": "stream",
     "text": [
      "/var/folders/8z/_m3tlbk55sv4j8cl6sp2_7gw0000gn/T/ipykernel_38811/3873072998.py:50: TqdmDeprecationWarning: This function will be removed in tqdm==5.0.0\n",
      "Please use `tqdm.notebook.tqdm` instead of `tqdm.tqdm_notebook`\n",
      "  tqdm().pandas()  # Enable tracking of execution progress\n"
     ]
    },
    {
     "data": {
      "application/json": {
       "ascii": false,
       "bar_format": null,
       "colour": null,
       "elapsed": 0.017807960510253906,
       "initial": 0,
       "n": 0,
       "ncols": null,
       "nrows": 32,
       "postfix": null,
       "prefix": "",
       "rate": null,
       "total": null,
       "unit": "it",
       "unit_divisor": 1000,
       "unit_scale": false
      },
      "application/vnd.jupyter.widget-view+json": {
       "model_id": "f66fb219e9284fcb9e100da5a189a916",
       "version_major": 2,
       "version_minor": 0
      },
      "text/plain": [
       "0it [00:00, ?it/s]"
      ]
     },
     "metadata": {},
     "output_type": "display_data"
    },
    {
     "data": {
      "application/json": {
       "ascii": false,
       "bar_format": null,
       "colour": null,
       "elapsed": 0.010404825210571289,
       "initial": 0,
       "n": 0,
       "ncols": null,
       "nrows": 32,
       "postfix": null,
       "prefix": "",
       "rate": null,
       "total": 77175,
       "unit": "it",
       "unit_divisor": 1000,
       "unit_scale": false
      },
      "application/vnd.jupyter.widget-view+json": {
       "model_id": "f77d387b29e64f559c36549cf20850ab",
       "version_major": 2,
       "version_minor": 0
      },
      "text/plain": [
       "  0%|          | 0/77175 [00:00<?, ?it/s]"
      ]
     },
     "metadata": {},
     "output_type": "display_data"
    },
    {
     "data": {
      "text/plain": [
       "0     [new, update, i️, make, sure, download, yester...\n",
       "6     [hey, anyone, else, upgraded, io, issue, capit...\n",
       "12    [hello, internet, someone, explain, symbol, ke...\n",
       "13    [get, screenshot, say, iphonex, reserve, email...\n",
       "15    [thank, update, phone, even, slow, barely, wor...\n",
       "Name: inbound_text, dtype: object"
      ]
     },
     "execution_count": 1,
     "metadata": {},
     "output_type": "execute_result"
    }
   ],
   "source": [
    "# We need more packages!\n",
    "# Data science\n",
    "import pandas as pd\n",
    "print(f\"Pandas: {pd.__version__}\")\n",
    "import numpy as np\n",
    "print(f\"Numpy: {np.__version__}\")\n",
    "\n",
    "# Unsupervised Learning\n",
    "from sklearn.preprocessing import StandardScaler\n",
    "from sklearn.preprocessing import MaxAbsScaler\n",
    "from sklearn.pipeline import Pipeline\n",
    "from sklearn.model_selection import GridSearchCV\n",
    "from sklearn.metrics.pairwise import cosine_similarity\n",
    "from sklearn.cluster import KMeans\n",
    "from sklearn.model_selection import cross_val_score\n",
    "from sklearn.decomposition import LatentDirichletAllocation\n",
    "from sklearn.datasets import make_multilabel_classification\n",
    "from sklearn.metrics import silhouette_score, silhouette_samples\n",
    "\n",
    "# Visualization \n",
    "import seaborn as sns\n",
    "import matplotlib.pyplot as plt\n",
    "sns.set(style=\"ticks\", color_codes=True)\n",
    "from sklearn.manifold import TSNE\n",
    "\n",
    "# Word Embeddings\n",
    "from sklearn.feature_extraction.text import CountVectorizer\n",
    "from sklearn.feature_extraction.text import TfidfVectorizer\n",
    "from nltk.tokenize import TweetTokenizer\n",
    "import gensim\n",
    "print(f'gensim: {gensim.__version__}')\n",
    "\n",
    "# Doc2Vec\n",
    "from nltk.tokenize import word_tokenize \n",
    "from gensim.test.utils import common_texts\n",
    "from gensim.models.doc2vec import Doc2Vec, TaggedDocument\n",
    "from gensim.test.utils import get_tmpfile\n",
    "\n",
    "# Storing as objects via serialization\n",
    "from tempfile import mkdtemp\n",
    "import pickle\n",
    "import joblib\n",
    "\n",
    "# Directory\n",
    "import os\n",
    "import yaml\n",
    "\n",
    "# Cool progress bars\n",
    "from tqdm import tqdm_notebook as tqdm\n",
    "tqdm().pandas()  # Enable tracking of execution progress\n",
    "\n",
    "# Reading in intents\n",
    "with open(r'objects/intents.yml') as file:\n",
    "    intents = yaml.load(file, Loader=yaml.FullLoader)\n",
    "    \n",
    "# Loading in the already saved processed dataset\n",
    "processed_inbound = pd.read_pickle('objects/processed_inbound.pkl')\n",
    "\n",
    "# Representing my tokenized data as String documents and storing it into a variable\n",
    "string_processed_inbound = processed_inbound.progress_apply(\" \".join)\n",
    "\n",
    "# We start with this data, here's the preview\n",
    "processed_inbound.head()"
   ]
  },
  {
   "cell_type": "markdown",
   "metadata": {},
   "source": [
    "# Tweet Collection With Clustering"
   ]
  },
  {
   "cell_type": "markdown",
   "metadata": {},
   "source": [
    "### 1. Count Vectorization"
   ]
  },
  {
   "cell_type": "markdown",
   "metadata": {},
   "source": [
    "The easiest way to represent a document as a vector is with a bagofwords CountVectorizer. This will turn each document to be a 1D array, which I think is a good starting point for putting into my clustering algorithms. Let's see how it does. \n",
    "\n",
    "The count vectorizer only accepts the Series if the document is represented as a String, not a tokenized list. This string form also represents each row as a document. That's ultimately what I need to do for my clustering to be effective, because each point needs to represent one sequence altogether, not vectorized individual words.\n",
    "\n",
    "I set the min_df paramater to 5 to only include terms that occur more than 5 times in my Count Vectorized data."
   ]
  },
  {
   "cell_type": "code",
   "execution_count": 2,
   "metadata": {},
   "outputs": [
    {
     "data": {
      "image/png": "[encoded data removed]",
      "text/plain": [
       "<Figure size 1200x600 with 1 Axes>"
      ]
     },
     "metadata": {},
     "output_type": "display_data"
    }
   ],
   "source": [
    "# Vectorizing the data with Count Vectorizer\n",
    "bagofwords = CountVectorizer(min_df = 5).fit(string_processed_inbound)\n",
    "inbound_cv = bagofwords.transform(string_processed_inbound)\n",
    "\n",
    "# For visualizing top 10\n",
    "def top10_bagofwords(data, output_name, title):\n",
    "    ''' Taking as input the data and plots the top 10 words based on counts in this text data'''\n",
    "    bagofwords = CountVectorizer()\n",
    "    # Output will be a sparse matrix\n",
    "    inbound = bagofwords.fit_transform(data)\n",
    "    # Inspecting of often contractions and colloquial language is used\n",
    "    word_counts = np.array(np.sum(inbound, axis=0)).reshape((-1,))\n",
    "    words = np.array(bagofwords.get_feature_names_out())\n",
    "    words_df = pd.DataFrame({\"word\":words, \n",
    "                             \"count\":word_counts})\n",
    "    words_rank = words_df.sort_values(by=\"count\", ascending=False)\n",
    "    # words_rank.to_csv('words_rank.csv') # Storing it in a csv so I can inspect and go through it myself\n",
    "    words_rank.head()\n",
    "    # Visualizing top 10 words\n",
    "    plt.figure(figsize=(12,6))\n",
    "    sns.barplot(words_rank['word'][:10], words_rank['count'][:10].astype(str), palette = 'inferno')\n",
    "    plt.title(title)\n",
    "    \n",
    "    # Saving\n",
    "    plt.savefig(f'visualizations/{output_name}.png')\n",
    "    \n",
    "    plt.show()\n",
    "\n",
    "\n",
    "top10_bagofwords(string_processed_inbound, 'initial_frequencies', 'Top 10 Words in Processed Inbound Data')"
   ]
  },
  {
   "cell_type": "markdown",
   "metadata": {},
   "source": [
    "I mostly use count vectorizer to see top 10 words that occur in a particular dataset and visualize it here.\n",
    "\n",
    "From the visualization above, this tells me most of the customer queries are about phones, particularly iOS and battery fixes. We also see thanks rank quite high, which is a good thing because it might indicate gratitude (which indicates a closing intent for my chatbot). Hi (rank 44) and hey (rank 25) classifies a greeting intent, and it's good to see that they appear a lot of times. Things are looking promising right now, but we wouldn't be able to see the quality until we actually start clustering."
   ]
  },
  {
   "cell_type": "markdown",
   "metadata": {},
   "source": [
    "### 2.TFIDF"
   ]
  },
  {
   "cell_type": "code",
   "execution_count": 3,
   "metadata": {},
   "outputs": [
    {
     "data": {
      "text/plain": [
       "<77175x34110 sparse matrix of type '<class 'numpy.float64'>'\n",
       "\twith 1259391 stored elements in Compressed Sparse Row format>"
      ]
     },
     "execution_count": 3,
     "metadata": {},
     "output_type": "execute_result"
    }
   ],
   "source": [
    "tfidf = TfidfVectorizer(min_df=5, ngram_range = (1,3))\n",
    "# Storing tfidf data and transforming them into sparse matrices\n",
    "inbound_tfidf = tfidf.fit_transform(string_processed_inbound)\n",
    "inbound_tfidf"
   ]
  },
  {
   "cell_type": "markdown",
   "metadata": {},
   "source": [
    "## Pretrained word embeddings\n",
    "\n",
    "Bag of words lose many of the subtleties such as word ordering. This is why I will try these other text vectorization methods. These days we have more effective methods, especially since what I want to encode in these vectors are intent clusters."
   ]
  },
  {
   "cell_type": "markdown",
   "metadata": {},
   "source": [
    "### 3. GloVe\n",
    "I am going to use multiple word embeddings to vectorize my text in different ways, and then test which one is the best word embedding to use, starting with the Glove word embedding. GloVe is an unsupervised learning algorithm for getting vector representations for words.\n",
    "\n",
    "Gensim constrains pretrained word embeddings and have a special data format where you can basically load it in as a numpy array.\n",
    "\n",
    "DISCLAIMER: I won't be using this one because my clustering algorithms only work when each tweet is one point, and this is a word transformer. I am leaving this part in my notebook as a progress log.\n",
    "\n",
    "Useful sources for this step: \n",
    "* [Guide to word to vec word embeddings](https://towardsdatascience.com/a-beginners-guide-to-word-embedding-with-gensim-word2vec-model-5970fa56cc92)\n",
    "* Zeugma Docs\n",
    "    * https://pypi.org/project/zeugma/0.41/\n",
    "    * https://github.com/nkthiebaut/zeugma"
   ]
  },
  {
   "cell_type": "code",
   "execution_count": 4,
   "metadata": {},
   "outputs": [
    {
     "ename": "NameError",
     "evalue": "name 'EmbeddingTransformer' is not defined",
     "output_type": "error",
     "traceback": [
      "\u001b[0;31m---------------------------------------------------------------------------\u001b[0m",
      "\u001b[0;31mNameError\u001b[0m                                 Traceback (most recent call last)",
      "Input \u001b[0;32mIn [4]\u001b[0m, in \u001b[0;36m<cell line: 1>\u001b[0;34m()\u001b[0m\n\u001b[0;32m----> 1\u001b[0m glove \u001b[38;5;241m=\u001b[39m EmbeddingTransformer(\u001b[38;5;124m'\u001b[39m\u001b[38;5;124mglove\u001b[39m\u001b[38;5;124m'\u001b[39m)\n\u001b[1;32m      2\u001b[0m \u001b[38;5;66;03m# Applying it to the entire training data\u001b[39;00m\n\u001b[1;32m      3\u001b[0m inbound_glove \u001b[38;5;241m=\u001b[39m string_processed_inbound\u001b[38;5;241m.\u001b[39mprogress_apply(glove\u001b[38;5;241m.\u001b[39mtransform)\n",
      "\u001b[0;31mNameError\u001b[0m: name 'EmbeddingTransformer' is not defined"
     ]
    }
   ],
   "source": [
    "glove = EmbeddingTransformer('glove')\n",
    "# Applying it to the entire training data\n",
    "inbound_glove = string_processed_inbound.progress_apply(glove.transform)\n",
    "# Preview shapes\n",
    "inbound_glove.iloc[0].shape, inbound_glove.iloc[1].shape"
   ]
  },
  {
   "cell_type": "markdown",
   "metadata": {},
   "source": [
    "As we can see, gloVe transforms individual sentences as multiple word vectors. We need an algorithm that transforms the entire sentence to one vector, so that it represents one point in space.\n",
    "\n",
    "It's interesting, though, to play with this around conceptually even if we won't use it. We can check the cosine similarity between the first and second sentence should give you similarities across words in the sequence, which is interesting because it works when they are of different length."
   ]
  },
  {
   "cell_type": "code",
   "execution_count": null,
   "metadata": {
    "scrolled": true
   },
   "outputs": [],
   "source": [
    "similarity = cosine_similarity(inbound_glove.iloc[0], inbound_glove.iloc[1])\n",
    "similarity"
   ]
  },
  {
   "cell_type": "markdown",
   "metadata": {},
   "source": [
    "As for intepretation, the cosine similarity could be 0 if the two vectors are perpendicular. And it seems that the similarity matrix takes the shape of the longer matrix that it compares."
   ]
  },
  {
   "cell_type": "markdown",
   "metadata": {},
   "source": [
    "## 4. Doc2Vec\n",
    "Since this is the main embedding method I will use for my pipeline, I display how I capitalized this embedding in the next notebook."
   ]
  },
  {
   "cell_type": "markdown",
   "metadata": {},
   "source": [
    "## 5. Hugging Face\n",
    "This is a startup that does a lot with NLP. I explore their encoders.\n",
    "\n",
    "BERT wouldn't really be a good option because a large part of that was trained with Wikipedia data.\n",
    "\n",
    "I am not sure what doc2vec is trained on, I think my results will be better if I find a Twitter based word embedding!"
   ]
  },
  {
   "cell_type": "markdown",
   "metadata": {},
   "source": [
    "## 6. Fast-text \n"
   ]
  },
  {
   "cell_type": "markdown",
   "metadata": {},
   "source": [
    "# Scaling the Data"
   ]
  },
  {
   "cell_type": "markdown",
   "metadata": {},
   "source": [
    "Before we cluster, let's make scaled versions of our dataset first, which would be good for distance-based clustering methods. In general, these vectors shouldn't really need scaling, but it may help for computational purposes. I only do this for my count vectorized and tfidf vectorized data, not ones with the more meaningful word embeddings."
   ]
  },
  {
   "cell_type": "code",
   "execution_count": 5,
   "metadata": {},
   "outputs": [
    {
     "data": {
      "text/plain": [
       "(<77175x4893 sparse matrix of type '<class 'numpy.int64'>'\n",
       " \twith 768941 stored elements in Compressed Sparse Row format>,\n",
       " <77175x34110 sparse matrix of type '<class 'numpy.float64'>'\n",
       " \twith 1259391 stored elements in Compressed Sparse Row format>)"
      ]
     },
     "execution_count": 5,
     "metadata": {},
     "output_type": "execute_result"
    }
   ],
   "source": [
    "# This is the data we have so far, they are stored in CSR compressed format\n",
    "inbound_cv, inbound_tfidf"
   ]
  },
  {
   "cell_type": "code",
   "execution_count": 6,
   "metadata": {},
   "outputs": [
    {
     "data": {
      "text/plain": [
       "(<77175x4893 sparse matrix of type '<class 'numpy.float64'>'\n",
       " \twith 768941 stored elements in Compressed Sparse Row format>,\n",
       " <77175x4893 sparse matrix of type '<class 'numpy.float64'>'\n",
       " \twith 768941 stored elements in Compressed Sparse Row format>)"
      ]
     },
     "execution_count": 6,
     "metadata": {},
     "output_type": "execute_result"
    }
   ],
   "source": [
    "# Fitting and transforming to create standard scaled versions of my data\n",
    "inbound_cv_ma = MaxAbsScaler().fit_transform(inbound_cv)\n",
    "inbound_tfidf_ma = MaxAbsScaler().fit_transform(inbound_cv)\n",
    "\n",
    "inbound_cv_ma, inbound_tfidf_ma"
   ]
  },
  {
   "cell_type": "markdown",
   "metadata": {},
   "source": [
    "**训练考虑：**因为我将在项目的下一部分训练神经网络，所以我的目标是拥有大约10个意图（通过EDA，取决于数据中自然意图的实际数量）。对于这10个意图中的每一个，我想为每个意图提供大约1000个示例。我选择这个特定的数字是因为我希望每个意图的例子分布均匀，这样我就不会出现类不平衡，而且我的神经网络可以相对较好地对这十个类进行分类。\n",
    "\n",
    "\n",
    "考虑到这一点，让探索开始吧！"
   ]
  },
  {
   "cell_type": "markdown",
   "metadata": {},
   "source": [
    "我将尝试在我的数据上使用聚类方法和主题建模来提取主要主题并手动标记这些聚类。\n",
    "\n",
    "如果我的数据都在同一类型的客户服务领域，我会取得更大的成功，而且我很小心地确保推特-苹果的数据是这样的。这样，我在下一个笔记本电脑中的模型将捕捉到意图分类的细微差别。一般来说，机器人会擅长用它所训练的语言谈论话题。\n",
    "\n",
    "我知道，使用集群，您不能期望您的模型以预先集群的方式对数据进行集群。这是一个整体算法。我希望他们能神奇地将意图轻松地聚集在一起，然而现在可能就那么容易了！我们拭目以待。"
   ]
  },
  {
   "cell_type": "markdown",
   "metadata": {},
   "source": [
    "## <font color='blue'>1. K Means</color>\n",
    "我对单词向量进行聚类的第一种方法是K-Means，它往往在Blob上表现良好。\n",
    "\n",
    "缺点是它非常慢，而且很难选择K的值——我甚至不知道数据中有多少意图。这就是为什么我从K的较大跳跃开始，以获得哪一个表现最好的更高层次的想法，然后我深入研究，最终决定什么K最适合在我的数据集中找到最佳意图数量。"
   ]
  },
  {
   "cell_type": "markdown",
   "metadata": {},
   "source": [
    "## 1.1. 我的TFIDF和计数矢量化数据的K-Means\n",
    "首先，我对TFIDF和计数矢量化数据进行了聚类。老实说，我不会真的期望它能带来好的结果，所以我不会花很多精力在这两个方面进行实际的聚类。但值得一试，以证明一种较老且次优的方法。"
   ]
  },
  {
   "cell_type": "code",
   "execution_count": 7,
   "metadata": {},
   "outputs": [
    {
     "name": "stdout",
     "output_type": "stream",
     "text": [
      "0 ('inbound_cv_ma', <77175x4893 sparse matrix of type '<class 'numpy.float64'>'\n",
      "\twith 768941 stored elements in Compressed Sparse Row format>)\n",
      "1 ('inbound_tfidf_ma', <77175x4893 sparse matrix of type '<class 'numpy.float64'>'\n",
      "\twith 768941 stored elements in Compressed Sparse Row format>)\n"
     ]
    }
   ],
   "source": [
    "# Vectorized data\n",
    "vectorized_data = {'inbound_cv_ma': inbound_cv_ma, 'inbound_tfidf_ma': inbound_tfidf_ma}\n",
    "# Briefly showing the contents of i and j\n",
    "for i,j in enumerate(vectorized_data.items()): print(i,j);"
   ]
  },
  {
   "cell_type": "markdown",
   "metadata": {},
   "source": [
    "我正在对这里的所有数据运行我的整个K-Means。我正在对n_clusters进行超参数优化。第一个进度条是它如何处理数据集，第二个是它完成了所有n_clusters。\n",
    "\n",
    "在缩放之前，我花了三个小时在10到100的10次迭代中对这两种数据类型应用K-Means。幸运的是，在我攀登之后，它训练得更快了。\n",
    "\n",
    "我使用Python的序列化包Pickle将结果存储在这个单元格下面，这样我就不必再运行它了！"
   ]
  },
  {
   "cell_type": "code",
   "execution_count": 12,
   "metadata": {
    "scrolled": true
   },
   "outputs": [
    {
     "name": "stderr",
     "output_type": "stream",
     "text": [
      "<timed exec>:9: TqdmDeprecationWarning: This function will be removed in tqdm==5.0.0\n",
      "Please use `tqdm.notebook.tqdm` instead of `tqdm.tqdm_notebook`\n"
     ]
    },
    {
     "data": {
      "application/json": {
       "ascii": false,
       "bar_format": null,
       "colour": null,
       "elapsed": 0.014228343963623047,
       "initial": 0,
       "n": 0,
       "ncols": null,
       "nrows": 32,
       "postfix": null,
       "prefix": "",
       "rate": null,
       "total": null,
       "unit": "it",
       "unit_divisor": 1000,
       "unit_scale": false
      },
      "application/vnd.jupyter.widget-view+json": {
       "model_id": "614bfdfaab844045a270609c79735759",
       "version_major": 2,
       "version_minor": 0
      },
      "text/plain": [
       "0it [00:00, ?it/s]"
      ]
     },
     "metadata": {},
     "output_type": "display_data"
    },
    {
     "name": "stderr",
     "output_type": "stream",
     "text": [
      "<timed exec>:19: TqdmDeprecationWarning: This function will be removed in tqdm==5.0.0\n",
      "Please use `tqdm.notebook.tqdm` instead of `tqdm.tqdm_notebook`\n"
     ]
    },
    {
     "data": {
      "application/json": {
       "ascii": false,
       "bar_format": null,
       "colour": null,
       "elapsed": 0.016389131546020508,
       "initial": 0,
       "n": 0,
       "ncols": null,
       "nrows": 32,
       "postfix": null,
       "prefix": "",
       "rate": null,
       "total": 1,
       "unit": "it",
       "unit_divisor": 1000,
       "unit_scale": false
      },
      "application/vnd.jupyter.widget-view+json": {
       "model_id": "03015a4c676f473a96d733ec5c9bc2f8",
       "version_major": 2,
       "version_minor": 0
      },
      "text/plain": [
       "  0%|          | 0/1 [00:00<?, ?it/s]"
      ]
     },
     "metadata": {},
     "output_type": "display_data"
    },
    {
     "name": "stdout",
     "output_type": "stream",
     "text": [
      "Currently fitting inbound_cv_ma with 10 clusters... Please wait\n"
     ]
    },
    {
     "name": "stderr",
     "output_type": "stream",
     "text": [
      "<timed exec>:19: TqdmDeprecationWarning: This function will be removed in tqdm==5.0.0\n",
      "Please use `tqdm.notebook.tqdm` instead of `tqdm.tqdm_notebook`\n"
     ]
    },
    {
     "data": {
      "application/json": {
       "ascii": false,
       "bar_format": null,
       "colour": null,
       "elapsed": 0.009977102279663086,
       "initial": 0,
       "n": 0,
       "ncols": null,
       "nrows": 32,
       "postfix": null,
       "prefix": "",
       "rate": null,
       "total": 1,
       "unit": "it",
       "unit_divisor": 1000,
       "unit_scale": false
      },
      "application/vnd.jupyter.widget-view+json": {
       "model_id": "fb8b76cbb55943f28fa29be008afd934",
       "version_major": 2,
       "version_minor": 0
      },
      "text/plain": [
       "  0%|          | 0/1 [00:00<?, ?it/s]"
      ]
     },
     "metadata": {},
     "output_type": "display_data"
    },
    {
     "name": "stdout",
     "output_type": "stream",
     "text": [
      "Currently fitting inbound_tfidf_ma with 10 clusters... Please wait\n",
      "CPU times: user 3min 27s, sys: 1min 1s, total: 4min 29s\n",
      "Wall time: 4min 14s\n"
     ]
    }
   ],
   "source": [
    "%%time\n",
    "# My grand dictionaries that will store all my results\n",
    "wcss_grand = {}\n",
    "labels_grand = {}\n",
    "silhouette_scores_grand = {}\n",
    "# n_clusters = [10,20,30,40,50,60,70,80,90,100]\n",
    "n_clusters = [10]\n",
    "\n",
    "# Iterating through all the differently embedded data\n",
    "for i,j in tqdm(enumerate(vectorized_data.items())): \n",
    "    name = j[0] # Here j[0] is the name of the dataset\n",
    "    dataset = j[1] # And j[1] is the actual data\n",
    "    \n",
    "    # I store my metrics at these following lists\n",
    "    wcss = []\n",
    "    labels = []\n",
    "    silhouette_scores = []\n",
    "    \n",
    "    # Looping through values of k\n",
    "    for k in tqdm(n_clusters):    \n",
    "        print(f'Currently fitting {name} with {k} clusters... Please wait')\n",
    "        \n",
    "        # Initializing with k-means++ ensures that you get don’t fall into the random initialization trap.\n",
    "        kmeans = KMeans(n_clusters=k, init='k-means++', max_iter=300, n_init=10, random_state = 10)\n",
    "        kmeans.fit(dataset)\n",
    "        wcss.append(kmeans.inertia_)\n",
    "        \n",
    "        # Getting the silhouette score\n",
    "        labels.append(kmeans.labels_)\n",
    "        silhouette_scores.append(silhouette_score(dataset, kmeans.labels_))\n",
    "        \n",
    "        # Saving the models\n",
    "        filename = f'models/kmeans/{name}-{k}neighbors.sav'\n",
    "        joblib.dump(kmeans, filename)\n",
    "        \n",
    "    # Updating grand dictionary\n",
    "    wcss_grand[name + '_wcss'] = wcss\n",
    "    labels_grand[name + '_labels'] = labels\n",
    "    silhouette_scores_grand[name + '_silhouettes'] = silhouette_scores\n",
    "\n",
    "# Saving all my results\n",
    "with open('objects/wcss_grand.pkl', 'wb') as handle:\n",
    "    pickle.dump(wcss_grand, handle, protocol=pickle.HIGHEST_PROTOCOL)\n",
    "\n",
    "with open('objects/labels_grand.pkl', 'wb') as handle:\n",
    "    pickle.dump(labels_grand, handle, protocol=pickle.HIGHEST_PROTOCOL)\n",
    "    \n",
    "with open('objects/silhouette_scores_grand.pkl', 'wb') as handle:\n",
    "    pickle.dump(silhouette_scores_grand, handle, protocol=pickle.HIGHEST_PROTOCOL)"
   ]
  },
  {
   "cell_type": "markdown",
   "metadata": {},
   "source": [
    "### Reading back in the results"
   ]
  },
  {
   "cell_type": "code",
   "execution_count": 13,
   "metadata": {},
   "outputs": [],
   "source": [
    "# Storing it into objects I can use in this notebook\n",
    "\n",
    "with open('objects/wcss_grand.pkl', 'rb') as handle:\n",
    "    wcss_grand = pickle.load(handle)\n",
    "with open('objects/labels_grand.pkl','rb') as handle:\n",
    "    labels_grand = pickle.load(handle)\n",
    "with open('objects/silhouette_scores_grand.pkl','rb') as handle:\n",
    "    silhouette_scores_grand = pickle.load(handle)"
   ]
  },
  {
   "cell_type": "markdown",
   "metadata": {},
   "source": [
    "## 寻找最佳K-Means模型"
   ]
  },
  {
   "cell_type": "markdown",
   "metadata": {},
   "source": [
    "我正在画一个肘部图，看看是否有一个清晰的肘部，希望我能找到，但可能性不大。\n",
    "\n",
    "我首先对**count个矢量化的**数据进行处理，然后对**tfidf**矢量化的数据进行处理："
   ]
  },
  {
   "cell_type": "code",
   "execution_count": 14,
   "metadata": {},
   "outputs": [
    {
     "ename": "ValueError",
     "evalue": "x and y must have same first dimension, but have shapes (10,) and (1,)",
     "output_type": "error",
     "traceback": [
      "\u001b[0;31m---------------------------------------------------------------------------\u001b[0m",
      "\u001b[0;31mValueError\u001b[0m                                Traceback (most recent call last)",
      "Input \u001b[0;32mIn [14]\u001b[0m, in \u001b[0;36m<cell line: 3>\u001b[0;34m()\u001b[0m\n\u001b[1;32m      1\u001b[0m \u001b[38;5;66;03m# Elbow Plot count vectorized\u001b[39;00m\n\u001b[1;32m      2\u001b[0m plt\u001b[38;5;241m.\u001b[39mfigure(figsize\u001b[38;5;241m=\u001b[39m(\u001b[38;5;241m8\u001b[39m,\u001b[38;5;241m5\u001b[39m))\n\u001b[0;32m----> 3\u001b[0m plt\u001b[38;5;241m.\u001b[39mplot(\u001b[38;5;28mrange\u001b[39m(\u001b[38;5;241m10\u001b[39m, \u001b[38;5;241m101\u001b[39m, \u001b[38;5;241m10\u001b[39m), wcss_grand[\u001b[38;5;124m'\u001b[39m\u001b[38;5;124minbound_cv_ma_wcss\u001b[39m\u001b[38;5;124m'\u001b[39m], color \u001b[38;5;241m=\u001b[39m \u001b[38;5;124m'\u001b[39m\u001b[38;5;124mmagenta\u001b[39m\u001b[38;5;124m'\u001b[39m)\n\u001b[1;32m      4\u001b[0m plt\u001b[38;5;241m.\u001b[39mtitle(\u001b[38;5;124m'\u001b[39m\u001b[38;5;124mElbow Method (Count Vectorized)\u001b[39m\u001b[38;5;124m'\u001b[39m)\n\u001b[1;32m      5\u001b[0m plt\u001b[38;5;241m.\u001b[39mxlabel(\u001b[38;5;124m'\u001b[39m\u001b[38;5;124mNumber of clusters\u001b[39m\u001b[38;5;124m'\u001b[39m)\n",
      "File \u001b[0;32m~/.pyenv/versions/3.8.2/lib/python3.8/site-packages/matplotlib/pyplot.py:2728\u001b[0m, in \u001b[0;36mplot\u001b[0;34m(scalex, scaley, data, *args, **kwargs)\u001b[0m\n\u001b[1;32m   2726\u001b[0m \u001b[38;5;129m@_copy_docstring_and_deprecators\u001b[39m(Axes\u001b[38;5;241m.\u001b[39mplot)\n\u001b[1;32m   2727\u001b[0m \u001b[38;5;28;01mdef\u001b[39;00m \u001b[38;5;21mplot\u001b[39m(\u001b[38;5;241m*\u001b[39margs, scalex\u001b[38;5;241m=\u001b[39m\u001b[38;5;28;01mTrue\u001b[39;00m, scaley\u001b[38;5;241m=\u001b[39m\u001b[38;5;28;01mTrue\u001b[39;00m, data\u001b[38;5;241m=\u001b[39m\u001b[38;5;28;01mNone\u001b[39;00m, \u001b[38;5;241m*\u001b[39m\u001b[38;5;241m*\u001b[39mkwargs):\n\u001b[0;32m-> 2728\u001b[0m     \u001b[38;5;28;01mreturn\u001b[39;00m \u001b[43mgca\u001b[49m\u001b[43m(\u001b[49m\u001b[43m)\u001b[49m\u001b[38;5;241;43m.\u001b[39;49m\u001b[43mplot\u001b[49m\u001b[43m(\u001b[49m\n\u001b[1;32m   2729\u001b[0m \u001b[43m        \u001b[49m\u001b[38;5;241;43m*\u001b[39;49m\u001b[43margs\u001b[49m\u001b[43m,\u001b[49m\u001b[43m \u001b[49m\u001b[43mscalex\u001b[49m\u001b[38;5;241;43m=\u001b[39;49m\u001b[43mscalex\u001b[49m\u001b[43m,\u001b[49m\u001b[43m \u001b[49m\u001b[43mscaley\u001b[49m\u001b[38;5;241;43m=\u001b[39;49m\u001b[43mscaley\u001b[49m\u001b[43m,\u001b[49m\n\u001b[1;32m   2730\u001b[0m \u001b[43m        \u001b[49m\u001b[38;5;241;43m*\u001b[39;49m\u001b[38;5;241;43m*\u001b[39;49m\u001b[43m(\u001b[49m\u001b[43m{\u001b[49m\u001b[38;5;124;43m\"\u001b[39;49m\u001b[38;5;124;43mdata\u001b[39;49m\u001b[38;5;124;43m\"\u001b[39;49m\u001b[43m:\u001b[49m\u001b[43m \u001b[49m\u001b[43mdata\u001b[49m\u001b[43m}\u001b[49m\u001b[43m \u001b[49m\u001b[38;5;28;43;01mif\u001b[39;49;00m\u001b[43m \u001b[49m\u001b[43mdata\u001b[49m\u001b[43m \u001b[49m\u001b[38;5;129;43;01mis\u001b[39;49;00m\u001b[43m \u001b[49m\u001b[38;5;129;43;01mnot\u001b[39;49;00m\u001b[43m \u001b[49m\u001b[38;5;28;43;01mNone\u001b[39;49;00m\u001b[43m \u001b[49m\u001b[38;5;28;43;01melse\u001b[39;49;00m\u001b[43m \u001b[49m\u001b[43m{\u001b[49m\u001b[43m}\u001b[49m\u001b[43m)\u001b[49m\u001b[43m,\u001b[49m\u001b[43m \u001b[49m\u001b[38;5;241;43m*\u001b[39;49m\u001b[38;5;241;43m*\u001b[39;49m\u001b[43mkwargs\u001b[49m\u001b[43m)\u001b[49m\n",
      "File \u001b[0;32m~/.pyenv/versions/3.8.2/lib/python3.8/site-packages/matplotlib/axes/_axes.py:1662\u001b[0m, in \u001b[0;36mAxes.plot\u001b[0;34m(self, scalex, scaley, data, *args, **kwargs)\u001b[0m\n\u001b[1;32m   1419\u001b[0m \u001b[38;5;124;03m\"\"\"\u001b[39;00m\n\u001b[1;32m   1420\u001b[0m \u001b[38;5;124;03mPlot y versus x as lines and/or markers.\u001b[39;00m\n\u001b[1;32m   1421\u001b[0m \n\u001b[0;32m   (...)\u001b[0m\n\u001b[1;32m   1659\u001b[0m \u001b[38;5;124;03m(``'green'``) or hex strings (``'#008000'``).\u001b[39;00m\n\u001b[1;32m   1660\u001b[0m \u001b[38;5;124;03m\"\"\"\u001b[39;00m\n\u001b[1;32m   1661\u001b[0m kwargs \u001b[38;5;241m=\u001b[39m cbook\u001b[38;5;241m.\u001b[39mnormalize_kwargs(kwargs, mlines\u001b[38;5;241m.\u001b[39mLine2D)\n\u001b[0;32m-> 1662\u001b[0m lines \u001b[38;5;241m=\u001b[39m [\u001b[38;5;241m*\u001b[39m\u001b[38;5;28mself\u001b[39m\u001b[38;5;241m.\u001b[39m_get_lines(\u001b[38;5;241m*\u001b[39margs, data\u001b[38;5;241m=\u001b[39mdata, \u001b[38;5;241m*\u001b[39m\u001b[38;5;241m*\u001b[39mkwargs)]\n\u001b[1;32m   1663\u001b[0m \u001b[38;5;28;01mfor\u001b[39;00m line \u001b[38;5;129;01min\u001b[39;00m lines:\n\u001b[1;32m   1664\u001b[0m     \u001b[38;5;28mself\u001b[39m\u001b[38;5;241m.\u001b[39madd_line(line)\n",
      "File \u001b[0;32m~/.pyenv/versions/3.8.2/lib/python3.8/site-packages/matplotlib/axes/_base.py:311\u001b[0m, in \u001b[0;36m_process_plot_var_args.__call__\u001b[0;34m(self, data, *args, **kwargs)\u001b[0m\n\u001b[1;32m    309\u001b[0m     this \u001b[38;5;241m+\u001b[39m\u001b[38;5;241m=\u001b[39m args[\u001b[38;5;241m0\u001b[39m],\n\u001b[1;32m    310\u001b[0m     args \u001b[38;5;241m=\u001b[39m args[\u001b[38;5;241m1\u001b[39m:]\n\u001b[0;32m--> 311\u001b[0m \u001b[38;5;28;01myield from\u001b[39;00m \u001b[38;5;28;43mself\u001b[39;49m\u001b[38;5;241;43m.\u001b[39;49m\u001b[43m_plot_args\u001b[49m\u001b[43m(\u001b[49m\n\u001b[1;32m    312\u001b[0m \u001b[43m    \u001b[49m\u001b[43mthis\u001b[49m\u001b[43m,\u001b[49m\u001b[43m \u001b[49m\u001b[43mkwargs\u001b[49m\u001b[43m,\u001b[49m\u001b[43m \u001b[49m\u001b[43mambiguous_fmt_datakey\u001b[49m\u001b[38;5;241;43m=\u001b[39;49m\u001b[43mambiguous_fmt_datakey\u001b[49m\u001b[43m)\u001b[49m\n",
      "File \u001b[0;32m~/.pyenv/versions/3.8.2/lib/python3.8/site-packages/matplotlib/axes/_base.py:504\u001b[0m, in \u001b[0;36m_process_plot_var_args._plot_args\u001b[0;34m(self, tup, kwargs, return_kwargs, ambiguous_fmt_datakey)\u001b[0m\n\u001b[1;32m    501\u001b[0m     \u001b[38;5;28mself\u001b[39m\u001b[38;5;241m.\u001b[39maxes\u001b[38;5;241m.\u001b[39myaxis\u001b[38;5;241m.\u001b[39mupdate_units(y)\n\u001b[1;32m    503\u001b[0m \u001b[38;5;28;01mif\u001b[39;00m x\u001b[38;5;241m.\u001b[39mshape[\u001b[38;5;241m0\u001b[39m] \u001b[38;5;241m!=\u001b[39m y\u001b[38;5;241m.\u001b[39mshape[\u001b[38;5;241m0\u001b[39m]:\n\u001b[0;32m--> 504\u001b[0m     \u001b[38;5;28;01mraise\u001b[39;00m \u001b[38;5;167;01mValueError\u001b[39;00m(\u001b[38;5;124mf\u001b[39m\u001b[38;5;124m\"\u001b[39m\u001b[38;5;124mx and y must have same first dimension, but \u001b[39m\u001b[38;5;124m\"\u001b[39m\n\u001b[1;32m    505\u001b[0m                      \u001b[38;5;124mf\u001b[39m\u001b[38;5;124m\"\u001b[39m\u001b[38;5;124mhave shapes \u001b[39m\u001b[38;5;132;01m{\u001b[39;00mx\u001b[38;5;241m.\u001b[39mshape\u001b[38;5;132;01m}\u001b[39;00m\u001b[38;5;124m and \u001b[39m\u001b[38;5;132;01m{\u001b[39;00my\u001b[38;5;241m.\u001b[39mshape\u001b[38;5;132;01m}\u001b[39;00m\u001b[38;5;124m\"\u001b[39m)\n\u001b[1;32m    506\u001b[0m \u001b[38;5;28;01mif\u001b[39;00m x\u001b[38;5;241m.\u001b[39mndim \u001b[38;5;241m>\u001b[39m \u001b[38;5;241m2\u001b[39m \u001b[38;5;129;01mor\u001b[39;00m y\u001b[38;5;241m.\u001b[39mndim \u001b[38;5;241m>\u001b[39m \u001b[38;5;241m2\u001b[39m:\n\u001b[1;32m    507\u001b[0m     \u001b[38;5;28;01mraise\u001b[39;00m \u001b[38;5;167;01mValueError\u001b[39;00m(\u001b[38;5;124mf\u001b[39m\u001b[38;5;124m\"\u001b[39m\u001b[38;5;124mx and y can be no greater than 2D, but have \u001b[39m\u001b[38;5;124m\"\u001b[39m\n\u001b[1;32m    508\u001b[0m                      \u001b[38;5;124mf\u001b[39m\u001b[38;5;124m\"\u001b[39m\u001b[38;5;124mshapes \u001b[39m\u001b[38;5;132;01m{\u001b[39;00mx\u001b[38;5;241m.\u001b[39mshape\u001b[38;5;132;01m}\u001b[39;00m\u001b[38;5;124m and \u001b[39m\u001b[38;5;132;01m{\u001b[39;00my\u001b[38;5;241m.\u001b[39mshape\u001b[38;5;132;01m}\u001b[39;00m\u001b[38;5;124m\"\u001b[39m)\n",
      "\u001b[0;31mValueError\u001b[0m: x and y must have same first dimension, but have shapes (10,) and (1,)"
     ]
    },
    {
     "data": {
      "image/png": "[encoded data removed]",
      "text/plain": [
       "<Figure size 800x500 with 1 Axes>"
      ]
     },
     "metadata": {},
     "output_type": "display_data"
    }
   ],
   "source": [
    "# Elbow Plot count vectorized\n",
    "plt.figure(figsize=(8,5))\n",
    "plt.plot(range(10, 101, 10), wcss_grand['inbound_cv_ma_wcss'], color = 'magenta')\n",
    "plt.title('Elbow Method (Count Vectorized)')\n",
    "plt.xlabel('Number of clusters')\n",
    "plt.ylabel('WCSS')\n",
    "plt.show()\n",
    "\n",
    "# Elbow Plot tfidf\n",
    "plt.figure(figsize=(8,5))\n",
    "plt.plot(range(10, 101, 10), wcss_grand['inbound_tfidf_ma_wcss'], color = 'magenta')\n",
    "plt.title('Elbow Method (TFIDF)')\n",
    "plt.xlabel('Number of clusters')\n",
    "plt.ylabel('WCSS')\n",
    "plt.show()\n",
    "\n",
    "# Silouette Plot count vectorized\n",
    "plt.figure(figsize=(8,5))\n",
    "plt.plot(range(10, 101, 10), silhouette_scores_grand['inbound_cv_ma_silhouettes'], color = 'red')\n",
    "plt.title('Silhouette Method (Count Vectorized)')\n",
    "plt.xlabel('Silhouette Score')\n",
    "plt.ylabel('WCSS')\n",
    "plt.show()\n",
    "\n",
    "# Silouette Plot tfidf\n",
    "plt.figure(figsize=(8,5))\n",
    "plt.plot(range(10, 101, 10), silhouette_scores_grand['inbound_tfidf_ma_silhouettes'], color = 'red')\n",
    "plt.title('Silhouette Method (TFIDF)')\n",
    "plt.xlabel('Silhouette Score')\n",
    "plt.ylabel('WCSS')\n",
    "plt.show()"
   ]
  },
  {
   "cell_type": "markdown",
   "metadata": {},
   "source": [
    "我们看到这些图在TFIDF和计数矢量化数据之间并没有太大变化，这进一步说明了我上面的说法，即它们并不是最有用的。"
   ]
  },
  {
   "cell_type": "markdown",
   "metadata": {},
   "source": [
    "## 用t-SNE可视化我的集群"
   ]
  },
  {
   "cell_type": "markdown",
   "metadata": {},
   "source": [
    "我尝试不同的颜色贴图并选择一个，这样更容易区分簇。"
   ]
  },
  {
   "cell_type": "markdown",
   "metadata": {},
   "source": [
    "Available sequential colormaps:\n",
    "\n",
    "```['viridis', 'plasma', 'inferno', 'magma', 'cividis']```\n",
    "\n",
    "```['Greys', 'Purples', 'Blues', 'Greens', 'Oranges', 'Reds',\n",
    "            'YlOrBr', 'YlOrRd', 'OrRd', 'PuRd', 'RdPu', 'BuPu',\n",
    "            'GnBu', 'PuBu', 'YlGnBu', 'PuBuGn', 'BuGn', 'YlGn']```\n",
    "\n",
    "Available qualitative colormaps:\n",
    "```['Pastel1', 'Pastel2', 'Paired', 'Accent',\n",
    "                        'Dark2', 'Set1', 'Set2', 'Set3',\n",
    "                        'tab10', 'tab20', 'tab20b', 'tab20c']```"
   ]
  },
  {
   "cell_type": "code",
   "execution_count": null,
   "metadata": {},
   "outputs": [],
   "source": [
    "# Current data\n",
    "inbound_cv_ma.shape, inbound_tfidf_ma.shape"
   ]
  },
  {
   "cell_type": "markdown",
   "metadata": {},
   "source": [
    "t-SNE是一个概率模型，所以这需要一些时间，特别是因为我们有大约80k行。"
   ]
  },
  {
   "cell_type": "code",
   "execution_count": null,
   "metadata": {},
   "outputs": [],
   "source": [
    "%time\n",
    "# Instantiate t-SNE\n",
    "tsne = TSNE(n_components=2, random_state=1, n_jobs=-1)\n",
    "\n",
    "# Fit t-SNE\n",
    "inbound_cv_ma_tsne = tsne.fit_transform(inbound_cv_ma)"
   ]
  },
  {
   "cell_type": "code",
   "execution_count": null,
   "metadata": {
    "scrolled": true
   },
   "outputs": [],
   "source": [
    "# Plotting my visualization for each of my n_neighbors with my count vectorized data\n",
    "\n",
    "for k in range(10,101,10):\n",
    "    # Getting the right K-Means cluster labels.\n",
    "    labels = joblib.load(f'models/kmeans/inbound_cv_ma-{str(k)}neighbors.sav').labels_\n",
    "    \n",
    "    # Visualize high-dimensional data\n",
    "    plt.figure(figsize=(13,12))\n",
    "    plt.scatter(inbound_cv_ma_tsne[:,0], inbound_cv_ma_tsne[:,1], s=20, c = labels, cmap = 'magma')\n",
    "    plt.title(f'2-D t-SNE Representation of my Count Vectorized Inbound data with {k} Clusters')\n",
    "    plt.xlabel('t-SNE dimension 1')\n",
    "    plt.ylabel('t-SNE dimension 2')\n",
    "    plt.show()"
   ]
  },
  {
   "cell_type": "markdown",
   "metadata": {},
   "source": [
    "一开始我以为我真的看不到任何星团！但请记住，我有这么多数据点，所以我必须把这些集群做得很大。很酷的绘图，尽管我们的高维数据的2D表示不会非常准确，但我们还远远没有看到清晰的聚类！"
   ]
  },
  {
   "cell_type": "markdown",
   "metadata": {},
   "source": [
    "我不希望它有太大的不同，但让我们看看我的TFIDF数据的相同图。"
   ]
  },
  {
   "cell_type": "code",
   "execution_count": null,
   "metadata": {},
   "outputs": [],
   "source": [
    "%time\n",
    "# Instantiate t-SNE\n",
    "tsne = TSNE(n_components=2, random_state=1, n_jobs=-1)\n",
    "\n",
    "# Fit t-SNE\n",
    "inbound_tfidf_ma_tsne = tsne.fit_transform(inbound_tfidf_ma)"
   ]
  },
  {
   "cell_type": "code",
   "execution_count": null,
   "metadata": {
    "scrolled": true
   },
   "outputs": [],
   "source": [
    "# Plotting my visualization for each of my n_neighbors with my tfidf data\n",
    "\n",
    "for k in range(10,101,10):\n",
    "    # Getting the right K-Means cluster labels.\n",
    "    labels = joblib.load(f'models/kmeans/inbound_tfidf_ma-{str(k)}neighbors.sav').labels_\n",
    "    \n",
    "    # Visualize high-dimensional data\n",
    "    plt.figure(figsize=(13,12))\n",
    "    plt.scatter(inbound_tfidf_ma_tsne[:,0], inbound_tfidf_ma_tsne[:,1], s=20, c = labels, cmap = 'magma')\n",
    "    plt.title(f'2-D t-SNE Representation of my TFIDF Inbound data with {k} Clusters')\n",
    "    plt.xlabel('t-SNE dimension 1')\n",
    "    plt.ylabel('t-SNE dimension 2')\n",
    "    plt.show()"
   ]
  },
  {
   "cell_type": "markdown",
   "metadata": {},
   "source": [
    "果不其然，这些看起来真的很像计数矢量化集群！让我们继续讨论单词嵌入集群，我认为这更有趣。"
   ]
  },
  {
   "cell_type": "markdown",
   "metadata": {},
   "source": [
    "## 1.2. K-Means for my Doc2Vec data\n",
    "\n",
    "请注意，我没有故意缩放d2v数据，因为我不想扭曲预训练模型创建的距离。"
   ]
  },
  {
   "cell_type": "code",
   "execution_count": null,
   "metadata": {},
   "outputs": [],
   "source": [
    "# Vectorized data\n",
    "vectorized_data = {'inbound_cv_d2v': inbound_d2v}\n",
    "# Briefly showing the contents of i and j\n",
    "for i,j in enumerate(vectorized_data.items()): print(i,j);"
   ]
  },
  {
   "cell_type": "code",
   "execution_count": null,
   "metadata": {},
   "outputs": [],
   "source": [
    "# My d2v dictionaries that will store all my results\n",
    "wcss_d2v = {}\n",
    "labels_d2v = {}\n",
    "silhouette_scores_d2v = {}\n",
    "n_clusters = [10,20,30,40,50,60,70,80,90,100]\n",
    "\n",
    "# Iterating through all the differently embedded data\n",
    "for i,j in tqdm(enumerate(vectorized_data.items())): \n",
    "    name = j[0] # Here j[0] is the name of the dataset\n",
    "    dataset = j[1] # And j[1] is the actual data\n",
    "    \n",
    "    # I store my metrics at these following lists\n",
    "    wcss = []\n",
    "    labels = []\n",
    "    silhouette_scores = []\n",
    "    \n",
    "    # Looping through values of k\n",
    "    for k in tqdm(n_clusters):    \n",
    "        print(f'Currently fitting {name} with {k} clusters... Please wait')\n",
    "        \n",
    "        # Initializing with k-means++ ensures that you get don’t fall into the random initialization trap.\n",
    "        kmeans = KMeans(n_clusters=k, init='k-means++', max_iter=300, n_init=10, random_state = 10)\n",
    "        kmeans.fit(dataset)\n",
    "        wcss.append(kmeans.inertia_)\n",
    "        \n",
    "        # Getting the silhouette score\n",
    "        labels.append(kmeans.labels_)\n",
    "        silhouette_scores.append(silhouette_score(dataset, kmeans.labels_))\n",
    "        \n",
    "        # Saving the models\n",
    "        filename = f'models/kmeans/{name}-{k}neighbors.sav'\n",
    "        joblib.dump(kmeans, filename)\n",
    "        \n",
    "    # Updating d2v dictionary\n",
    "    wcss_d2v[name + '_wcss'] = wcss\n",
    "    labels_d2v[name + '_labels'] = labels\n",
    "    silhouette_scores_d2v[name + '_silhouettes'] = silhouette_scores\n",
    "\n",
    "# Saving all my results, now with a d2v tag\n",
    "with open('objects/wcss_d2v.pkl', 'wb') as handle:\n",
    "    pickle.dump(wcss_d2v, handle, protocol=pickle.HIGHEST_PROTOCOL)\n",
    "\n",
    "with open('objects/labels_d2v.pkl', 'wb') as handle:\n",
    "    pickle.dump(labels_d2v, handle, protocol=pickle.HIGHEST_PROTOCOL)\n",
    "    \n",
    "with open('objects/silhouette_scores_d2v.pkl', 'wb') as handle:\n",
    "    pickle.dump(silhouette_scores_d2v, handle, protocol=pickle.HIGHEST_PROTOCOL)"
   ]
  },
  {
   "cell_type": "markdown",
   "metadata": {},
   "source": [
    "### Reading back in the results."
   ]
  },
  {
   "cell_type": "code",
   "execution_count": null,
   "metadata": {},
   "outputs": [],
   "source": [
    "# Storing it into objects I can use in this notebook\n",
    "\n",
    "with open('objects/wcss_d2v.pkl', 'rb') as handle:\n",
    "    wcss_d2v = pickle.load(handle)\n",
    "with open('objects/labels_d2v.pkl','rb') as handle:\n",
    "    labels_d2v = pickle.load(handle)\n",
    "with open('objects/silhouette_scores_d2v.pkl','rb') as handle:\n",
    "    silhouette_scores_d2v = pickle.load(handle)"
   ]
  },
  {
   "cell_type": "markdown",
   "metadata": {},
   "source": [
    "Here are my plots:"
   ]
  },
  {
   "cell_type": "code",
   "execution_count": null,
   "metadata": {},
   "outputs": [],
   "source": [
    "# Elbow Plot d2v\n",
    "plt.figure(figsize=(8,5))\n",
    "plt.plot(range(10, 101, 10), wcss_d2v['inbound_cv_d2v_wcss'], color = 'magenta')\n",
    "plt.title('Elbow Method (Doc2Vec)')\n",
    "plt.xlabel('Number of clusters')\n",
    "plt.ylabel('WCSS')\n",
    "plt.show()\n",
    "\n",
    "# Silouette Plot d2v\n",
    "plt.figure(figsize=(8,5))\n",
    "plt.plot(range(10, 101, 10), silhouette_scores_d2v['inbound_cv_d2v_silhouettes'], color = 'red')\n",
    "plt.title('Silhouette Method (Doc2Vec)')\n",
    "plt.xlabel('Number of Clusters')\n",
    "plt.ylabel('Silhouette Score')\n",
    "plt.show()"
   ]
  },
  {
   "cell_type": "markdown",
   "metadata": {},
   "source": [
    "Great, now we see that we have a slightly higher silhouette score which isn't negative now. It looks like K = 20 would be the best in this case as it has the highest silhouette score and there is sort of an elbow in the elbow plot, definitely more than at 80 clusters where it seems to be completely smooth."
   ]
  },
  {
   "cell_type": "code",
   "execution_count": null,
   "metadata": {},
   "outputs": [],
   "source": [
    "%time\n",
    "# Instantiate t-SNE\n",
    "tsne = TSNE(n_components=2, random_state=1, n_jobs=-1)\n",
    "\n",
    "# Fit t-SNE\n",
    "inbound_d2v_tsne = tsne.fit_transform(inbound_d2v)"
   ]
  },
  {
   "cell_type": "code",
   "execution_count": null,
   "metadata": {
    "scrolled": true
   },
   "outputs": [],
   "source": [
    "# Plotting my visualization for each of my n_neighbors, now with Doc2Vec embedded data\n",
    "\n",
    "for k in range(10,101,10):\n",
    "    # Getting the right K-Means cluster labels.\n",
    "    labels = joblib.load(f'models/kmeans/inbound_cv_d2v-{str(k)}neighbors.sav').labels_\n",
    "    \n",
    "    # Visualize high-dimensional data\n",
    "    plt.figure(figsize=(13,12))\n",
    "    plt.scatter(inbound_d2v_tsne[:,0], inbound_d2v_tsne[:,1], s=20, c = labels, cmap = 'magma')\n",
    "    plt.title(f'2-D t-SNE Representation of my Doc2Vec Inbound data with {k} Clusters')\n",
    "    plt.xlabel('t-SNE dimension 1')\n",
    "    plt.ylabel('t-SNE dimension 2')\n",
    "    plt.show()"
   ]
  },
  {
   "cell_type": "markdown",
   "metadata": {},
   "source": [
    "基于t-SNE图很难判断，因此，我将在后面的部分通过实际查看标签来评估它是如何聚集的！"
   ]
  },
  {
   "cell_type": "markdown",
   "metadata": {},
   "source": [
    "## <font color = 'blue'>2. LDA (Latent Dirichlet Allocation) </color>\n",
    "我的第二种聚类方法是LDA主题建模。它基本上会获取您的数据并将其拆分为多个主题。我的目标仍然是集群，但通过这种方法，我希望获得更有用、更独特的主题。\n",
    "\n",
    "\n",
    "Useful articles:\n",
    "* https://towardsdatascience.com/end-to-end-topic-modeling-in-python-latent-dirichlet-allocation-lda-35ce4ed6b3e0\n",
    "* https://medium.com/nanonets/topic-modeling-with-lsa-psla-lda-and-lda2vec-555ff65b0b05\n",
    "\n",
    "还有一些新的、基于深度学习的方法，称为LDA2Vec，也可能很有兴趣探索。\n",
    "\n",
    "然而，由于比例的变化，我将把这一步作为未来的一步。"
   ]
  },
  {
   "cell_type": "code",
   "execution_count": null,
   "metadata": {},
   "outputs": [],
   "source": [
    "import warnings\n",
    "warnings.simplefilter(\"ignore\", DeprecationWarning)\n",
    "# Load the LDA model from sk-learn\n",
    "from sklearn.decomposition import LatentDirichletAllocation as LDA\n",
    " \n",
    "# Helper function\n",
    "def print_topics(model, count_vectorizer, n_top_words):\n",
    "    words = count_vectorizer.get_feature_names()\n",
    "    for topic_idx, topic in enumerate(model.components_):\n",
    "        print(\"\\nTopic #%d:\" % topic_idx)\n",
    "        print(\" \".join([words[i]\n",
    "                        for i in topic.argsort()[:-n_top_words - 1:-1]]))\n",
    "        \n",
    "# Tweak the two parameters below\n",
    "number_topics = 5\n",
    "number_words = 10\n",
    "# Create and fit the LDA model\n",
    "lda = LDA(n_components=number_topics, n_jobs=-1)\n",
    "lda.fit(count_data)\n",
    "# Print the topics found by the LDA model\n",
    "print(\"Topics found via LDA:\")\n",
    "print_topics(lda, count_vectorizer, number_words)"
   ]
  },
  {
   "cell_type": "code",
   "execution_count": null,
   "metadata": {},
   "outputs": [],
   "source": [
    "%%time\n",
    "from pyLDAvis import sklearn as sklearn_lda\n",
    "import pickle \n",
    "import pyLDAvis\n",
    "LDAvis_data_filepath = os.path.join('./ldavis_prepared_'+str(number_topics))\n",
    "# # this is a bit time consuming - make the if statement True\n",
    "# # if you want to execute visualization prep yourself\n",
    "if 1 == 1:\n",
    "LDAvis_prepared = sklearn_lda.prepare(lda, count_data, count_vectorizer)\n",
    "with open(LDAvis_data_filepath, 'w') as f:\n",
    "        pickle.dump(LDAvis_prepared, f)\n",
    "        \n",
    "# load the pre-prepared pyLDAvis data from disk\n",
    "with open(LDAvis_data_filepath) as f:\n",
    "    LDAvis_prepared = pickle.load(f)\n",
    "pyLDAvis.save_html(LDAvis_prepared, './ldavis_prepared_'+ str(number_topics) +'.html')"
   ]
  },
  {
   "cell_type": "markdown",
   "metadata": {},
   "source": [
    "出于时间限制的考虑，我决定不使用DBScan，因为它们将获得类似于K-Means的聚类结果。我也可以使用高斯混合模型或Heirarchical聚类来实现这个聚类结果。"
   ]
  },
  {
   "cell_type": "markdown",
   "metadata": {},
   "source": [
    "## 发现并可视化集群之间的意图差异"
   ]
  },
  {
   "cell_type": "markdown",
   "metadata": {},
   "source": [
    "我把我所有的模型都保存在这个名为文件夹的目录中的一个文件夹中。我所要做的就是为该模型选择一个超参数设置，并可视化这些聚类中的单词。"
   ]
  },
  {
   "cell_type": "code",
   "execution_count": null,
   "metadata": {},
   "outputs": [],
   "source": [
    "processed_inbound"
   ]
  },
  {
   "cell_type": "markdown",
   "metadata": {},
   "source": [
    "我认为查看集群中的前10个单词非常有用，可以很好地了解集群中的意图！"
   ]
  },
  {
   "cell_type": "markdown",
   "metadata": {},
   "source": [
    "### Using scattertext from the spaCy universe for EDA\n",
    "This [kernel](https://www.kaggle.com/psbots/customer-support-meets-spacy-universehttps://www.kaggle.com/psbots/customer-support-meets-spacy-universe) showed me what spaCy's scattertext tool is capable of doing! So I wanted to do it myself as well to hopefully get useful insights.\n",
    "\n",
    "正如文档中所说，散点文本是“一种在中小型语料库中找到区别术语的工具，并用不重叠的术语标签在性感的交互式散点图中呈现它们。”\n",
    "\n",
    "这对于比较我在以下笔记本中的意图集群也非常有用。"
   ]
  },
  {
   "cell_type": "code",
   "execution_count": null,
   "metadata": {},
   "outputs": [],
   "source": [
    "!ls models/kmeans"
   ]
  },
  {
   "cell_type": "code",
   "execution_count": null,
   "metadata": {},
   "outputs": [],
   "source": [
    "labels = joblib.load(f'models/kmeans/inbound_cv_d2v-10neighbors.sav').labels_"
   ]
  },
  {
   "cell_type": "markdown",
   "metadata": {},
   "source": [
    "# Scattertext for cluster evaluation"
   ]
  },
  {
   "cell_type": "code",
   "execution_count": null,
   "metadata": {
    "scrolled": true
   },
   "outputs": [],
   "source": [
    "corpus = st.CorpusFromParsedDocuments(love['Text'], category_col = \n",
    "                             parsed_col = 'parsed').build()"
   ]
  },
  {
   "cell_type": "code",
   "execution_count": null,
   "metadata": {},
   "outputs": [],
   "source": [
    "# html = st.produce_scattertext_explorer(corpus,\n",
    "#           category='British_Airways',\n",
    "#           category_name='British Airways',\n",
    "#           not_category_name='American Airlines',\n",
    "#           width_in_pixels=600,\n",
    "#           minimum_term_frequency=10,\n",
    "#           term_significance = st.LogOddsRatioUninformativeDirichletPrior(),\n",
    "#           )"
   ]
  },
  {
   "cell_type": "code",
   "execution_count": null,
   "metadata": {},
   "outputs": [],
   "source": [
    "# uncomment this cell to load the interactive scattertext visualisation\n",
    "# filename = \"americanAir-vs-britishAirways.html\"\n",
    "# open(filename, 'wb').write(html.encode('utf-8'))\n",
    "# IFrame(src=filename, width = 800, height=700)"
   ]
  },
  {
   "cell_type": "code",
   "execution_count": null,
   "metadata": {},
   "outputs": [],
   "source": [
    "### Using scattertext from the spaCy universe for EDA\n",
    "This [kernel](https://www.kaggle.com/psbots/customer-support-meets-spacy-universehttps://www.kaggle.com/psbots/customer-support-meets-spacy-universe) showed me what spaCy's scattertext tool is capable of doing! So I wanted to do it myself as well to hopefully get useful insights.\n",
    "\n",
    "As said in the docs, scatter-text is \"a tool for finding distinguishing terms in small-to-medium-sized corpora, and presenting them in a sexy, interactive scatter plot with non-overlapping term labels.\"\n",
    "\n",
    "This will be very useful for comparing my intent clusters in the following notebook as well.\n",
    "\n",
    "corpus = st.CorpusFromParsedDocuments(processed_inbound,\n",
    "                             parsed_col = 'parsed').build()\n",
    "\n",
    "# html = st.produce_scattertext_explorer(corpus,\n",
    "#           category='British_Airways',\n",
    "#           category_name='British Airways',\n",
    "#           not_category_name='American Airlines',\n",
    "#           width_in_pixels=600,\n",
    "#           minimum_term_frequency=10,\n",
    "#           term_significance = st.LogOddsRatioUninformativeDirichletPrior(),\n",
    "#           )\n",
    "\n",
    "# uncomment this cell to load the interactive scattertext visualisation\n",
    "# filename = \"americanAir-vs-britishAirways.html\"\n",
    "# open(filename, 'wb').write(html.encode('utf-8'))\n",
    "# IFrame(src=filename, width = 800, height=700)def top10_bagofwords(data):\n",
    "    ''' Taking as input the data and plots the top 10 words based on counts in this text data'''\n",
    "    bagofwords = CountVectorizer()\n",
    "    inbound = bagofwords.fit_transform(data)\n",
    "    inbound # Output will be a sparse matrix\n",
    "    # Inspecting of often contractions and colloquial language is used\n",
    "    word_counts = np.array(np.sum(inbound, axis=0)).reshape((-1,))\n",
    "    words = np.array(bagofwords.get_feature_names())\n",
    "    words_df = pd.DataFrame({\"word\":words, \n",
    "                             \"count\":word_counts})\n",
    "    words_rank = words_df.sort_values(by=\"count\", ascending=False)\n",
    "    # words_rank.to_csv('words_rank.csv') # Storing it in a csv so I can inspect and go through it myself\n",
    "    words_rank.head()\n",
    "    # Visualizing top 10 words\n",
    "    plt.figure(figsize=(12,8))\n",
    "    sns.barplot(words_rank['word'][:10], words_rank['count'][:10].astype(str), color = 'salmon')\n",
    "    plt.title('Top 10 Most Common Words in My Data')\n",
    "    plt.show()"
   ]
  },
  {
   "cell_type": "markdown",
   "metadata": {},
   "source": [
    "# My Approach: Heuristic Intent Distribution Exploration\n",
    "I need to get an idea of how much true intents are inside my Twitter data. Doing it by keyword might prove to be a good baseline way to do this. I build off this idea, and do a heuristic clustering of my intents by trying to minimize intent intersections. I try to boil down with this method to have the most distinct and _mutually exclusive_ sets of intents so that Eve bot will be able to be trained to distinguish these intents.\n",
    "\n",
    "I was inspired by seeing other solutions, such as the implementation by cortex, where they made a \"semantic fingerprint\" per intent. Obviously, the details of that are not shared, but it was enough for me to try to think of my own solution. Initially, I was going to stem off the clustering and try to manually pick out 1000 examples manually, but that is just not a smart idea and is extremely labor intensive.\n",
    "\n",
    "This notebook is my way of getting my training data for intent classificaition."
   ]
  },
  {
   "cell_type": "code",
   "execution_count": null,
   "metadata": {},
   "outputs": [],
   "source": [
    "import pandas as pd\n",
    "print(f'pandas: {pd.__version__}')\n",
    "import numpy as np\n",
    "print(f'numpy: {np.__version__}')\n",
    "# Visualization \n",
    "import seaborn as sns\n",
    "import matplotlib.pyplot as plt\n",
    "sns.set(style=\"ticks\", color_codes=True)\n",
    "# Making my visualizations pretty\n",
    "sns.set_style('whitegrid')\n",
    "# Combination exploration\n",
    "import itertools\n",
    "import yaml\n",
    "\n",
    "# Loading back processed data\n",
    "processed = pd.read_pickle('objects/processed.pkl')\n",
    "print(f'\\ninbound:\\n{processed.head()}')"
   ]
  },
  {
   "cell_type": "markdown",
   "metadata": {},
   "source": [
    "## Brief Keyword Search EDA\n",
    "Using this as a tool to look at Tweets."
   ]
  },
  {
   "cell_type": "code",
   "execution_count": null,
   "metadata": {
    "scrolled": true
   },
   "outputs": [],
   "source": [
    "# Search by keywords (single keyword filter)\n",
    "keyword = 'info'\n",
    "\n",
    "# Seeing what the processed Tweets look like\n",
    "filt = [(i,j) for i,j in enumerate(processed['Processed Inbound']) if keyword in j]\n",
    "filtered = processed.iloc[[i[0] for i in filt]]\n",
    "print(f'{len(filtered)} Tweets contain the keyword {keyword}')\n",
    "filtered"
   ]
  },
  {
   "cell_type": "code",
   "execution_count": null,
   "metadata": {},
   "outputs": [],
   "source": [
    "[*filtered['Real Inbound']]"
   ]
  },
  {
   "cell_type": "markdown",
   "metadata": {},
   "source": [
    "# My Intents:\n",
    "\n",
    "<img src=\"visualizations/intent_list.png\" alt=\"Drawing\" style=\"width: 300px;\"/>"
   ]
  },
  {
   "cell_type": "markdown",
   "metadata": {},
   "source": [
    "下面这个单元格代表了我寻找意图的旅程。最后，下面的一切都是为了通知这个字典的选择，并随后创建我的训练数据。当我意识到我也可以将其与命名实体识别相结合时，它大大减少了。\n",
    "\n",
    "你会注意到它并没有包含所有内容，这是因为有些意图不在我的训练数据中——它们必须手动创建。这方面的例子是问候语：这个训练数据不会只包含只有“嗨”的推文，它们几乎总是包含多个意图。"
   ]
  },
  {
   "cell_type": "code",
   "execution_count": null,
   "metadata": {},
   "outputs": [],
   "source": [
    "# Post-hoc Intents: I find the keywords that is associated with intent and search based on these keywords\n",
    "\n",
    "# Version 1 - Initial Mockup: Making a dictionary to store intents and the predefined responses\n",
    "\n",
    "intents = {\"Greeting\": [\"Hi there!\",\"Hello\"], \n",
    " \"Closing\":\"Thanks for talking\", \n",
    " \"Promotion\":\"\",\n",
    "           \"Scenarios\": {'Last payment': \"\", \"Account details\":\"\", \n",
    "                         \"Account confirmation\": \"\"},\n",
    "    \"Location\": \"\"}\n",
    "\n",
    "# Version 2 - Just for showing progress\n",
    "intents = {'greeting': ['hi', 'hello', 'hey','yo'], 'app': ['app', 'application'],\n",
    "          'iphone': ['iphone', 'i phone'], 'icloud': ['icloud', 'i cloud'],\n",
    "          'ios': ['io'], 'battery': ['battery'], 'watch': ['watch'], 'mac': \n",
    "           ['mac', 'macbook', 'laptop', 'computer'], 'update': ['update'],\n",
    "          'troubleshooting': ['problem', 'trouble', 'error'],\n",
    "          'settings': ['settings', 'setting'], 'music': ['music', 'song', 'playlist'],\n",
    "          'payment': ['credit','card','payment','pay'], 'bug':['bug'], 'watch': ['tv', 'show'],\n",
    "          'network': ['internet','connection','network']}\n",
    "\n",
    "# Intents that require all words within it to be contained in the list (alternative filtering method)\n",
    "intents_all = {'ios update': ['io', 'update'], 'app update': ['app','update']}\n",
    "\n",
    "# Version 3\n",
    "intents = {'update': ['update'], 'battery': ['battery', 'power'], 'forgot_password':['password','account','login'],\n",
    "          'repair':['repair','fix','broken'],  \n",
    "           'payment': ['credit','card','payment','pay']}\n",
    "\n",
    "# Storing it to YAML file\n",
    "with open('objects/intents.yml', 'w') as outfile:\n",
    "    yaml.dump(intents, outfile, default_flow_style=False)\n",
    "\n",
    "print('INTENTS FOR KEYWORD EDA BELOW:\\n ------------------------')\n",
    "for i in intents.items():\n",
    "    print('Intent: {} \\n   Keywords: {}'.format(i[0], \" + \".join(i[1])))"
   ]
  },
  {
   "cell_type": "markdown",
   "metadata": {},
   "source": [
    "### Useful functions I made. Will be very useful for the intent exploratory analysis."
   ]
  },
  {
   "cell_type": "code",
   "execution_count": null,
   "metadata": {},
   "outputs": [],
   "source": [
    "# Three different ways to filter out Tweets based on Keywords\n",
    "# 1.\n",
    "def get_key_tweets(series, keywords):\n",
    "    ''' Takes as input the list of keywords and outputs the Tweets that contains at least\n",
    "    one of these keywords '''\n",
    "    keyword_tweets = []\n",
    "    for tweet in series:\n",
    "        # Want to check if keyword is in tweets\n",
    "        for keyword in keywords:\n",
    "            if keyword in tweet:\n",
    "                keyword_tweets.append(tweet)\n",
    "    return keyword_tweets\n",
    "\n",
    "# 2. Making a function that filters to Tweets that needs to have ALL the keywords\n",
    "def all_key_tweets(series, keywords):\n",
    "    ''' Takes as input the list of keywords and outputs the Tweets have all the keywords'''\n",
    "    keyword_absent_tweets = []\n",
    "    for tweet in series:\n",
    "        # Want to check if keyword is not in tweets\n",
    "        if all(item in tweet for item in keywords):\n",
    "            keyword_absent_tweets.append(tweet)\n",
    "    return keyword_absent_tweets\n",
    "\n",
    "# 3. Making a function that filters to tweets that DONT contain any of the keywords\n",
    "def key_absent_tweets(series, keywords):\n",
    "    ''' Takes as input the list of keywords and outputs the Tweets that don't contain any\n",
    "    of these keywords '''\n",
    "    keyword_absent_tweets = []\n",
    "    for tweet in series:\n",
    "        # Want to check if keyword is not in tweets\n",
    "        if not any(item in tweet for item in keywords):\n",
    "            keyword_absent_tweets.append(tweet)\n",
    "    return keyword_absent_tweets\n",
    "\n",
    "# Getting a list of all my keywords so far\n",
    "all_keywords = []\n",
    "for keywords in intents.values():\n",
    "    for keyword in keywords:\n",
    "        all_keywords.append(keyword)      \n",
    "        \n",
    "\n",
    "def only_key_tweets(series, keywords):\n",
    "    ''' Uses the all_keywords '''\n",
    "    kept = list()\n",
    "    for tweet in series:\n",
    "        # Check\n",
    "        if all(elem in tweet for elem in keywords):\n",
    "            kept.append(tweet)\n",
    "    return pd.Series(kept)\n",
    "        \n",
    "def to_set(l):\n",
    "    ''' In order to make the Tweets a set to check for intersections, we need\n",
    "    to make them immutable by making it a tuple because sets only accept immutable\n",
    "    elements '''\n",
    "    return set([tuple(row) for row in l])\n"
   ]
  },
  {
   "cell_type": "markdown",
   "metadata": {},
   "source": [
    "### Intent Visualization"
   ]
  },
  {
   "cell_type": "code",
   "execution_count": null,
   "metadata": {},
   "outputs": [],
   "source": [
    "# Using the function above to visualize the distribution of intents in my dataset\n",
    "\n",
    "intent_lengths = [len(get_key_tweets(processed['Processed Inbound'], intents[intent])) for intent in intents.keys()]\n",
    "keyword = pd.DataFrame({'intents': list(intents.keys()), 'intent_lengths': intent_lengths}).sort_values('intent_lengths', ascending = False)\n",
    "\n",
    "# Visualization\n",
    "plt.figure(figsize=(9,7))\n",
    "plt.bar(keyword['intents'], keyword['intent_lengths'], color = '#00acee')\n",
    "plt.title('Distribution of Intents Using Keyword Searching')\n",
    "plt.xlabel('Intent')\n",
    "plt.xticks(rotation=90)\n",
    "plt.ylabel('Number of Tweets with the Intent Keywords')\n",
    "plt.show()\n",
    "\n",
    "# Proportions visualization\n",
    "plt.figure(figsize=(9,7))\n",
    "plt.bar(keyword['intents'], keyword['intent_lengths'] * 100 / 75879, color = '#00acee')\n",
    "plt.title('Distribution of Intents Using Keyword Searching')\n",
    "plt.xlabel('Intent')\n",
    "plt.xticks(rotation=90)\n",
    "plt.ylabel('Percentage of Tweets with the Intent Keywords')\n",
    "# Saving\n",
    "plt.savefig('visualizations/intent_distribution_keyword.png')\n",
    "plt.show()"
   ]
  },
  {
   "cell_type": "code",
   "execution_count": null,
   "metadata": {},
   "outputs": [],
   "source": [
    "# Seeing precise numeric counts\n",
    "keyword"
   ]
  },
  {
   "cell_type": "markdown",
   "metadata": {},
   "source": [
    "从这里来看，我们似乎没有足够的钱让最后两个意图获得1000，但这没关系，因为我可以稍后复制它们。"
   ]
  },
  {
   "cell_type": "markdown",
   "metadata": {},
   "source": [
    "我还为至少包含一个问题的推文数量做了一个替代过滤器。在这次探索中，我发现在75879个总数中，27373个至少包含一个问号（36.1%）。\n",
    "\n",
    "### 组合勘探\n",
    "\n",
    "在这里，我想看看搜索到的不同类别之间有多少推文重叠。如果意图之间有太多的重叠，这意味着我们可以为特定的推文标记两个意图。我认为这仍然有效，尽管这意味着我们需要看看如何回应双重意图。"
   ]
  },
  {
   "cell_type": "code",
   "execution_count": null,
   "metadata": {},
   "outputs": [],
   "source": [
    "# Initializing all the thresholds for min amount of combination appearances\n",
    "thres = [500,10,5,5]\n",
    "\n",
    "# Intent Tweets have all the keys, and as the value contains all the tweets that contain that key, as a set\n",
    "intent_tweets = {}\n",
    "for key in intents.keys():\n",
    "    intent_tweets[key] = to_set(get_key_tweets(processed['Processed Inbound'],intents[key]))\n",
    "\n",
    "# Iterating through all pairs, and getting how many Tweets intersect between the pair\n",
    "keyword_overlaps = {}\n",
    "\n",
    "# COMBINATIONS OF 2\n",
    "\n",
    "# Each i returns a tuple containing a pair of length r, which in this case is 2\n",
    "for i in list(itertools.combinations(list(intents.keys()),2)):\n",
    "    a = to_set(intent_tweets[i[0]])\n",
    "    b = to_set(intent_tweets[i[1]])\n",
    "    # Inserting pair to dictionary\n",
    "    keyword_overlaps[f\"{i[0]} + {i[1]}\"] = len(a.intersection(b))\n",
    "\n",
    "# Filtering to just the significant ones, which I define as greater than 100\n",
    "combs = []\n",
    "counts = []\n",
    "for i in keyword_overlaps.items():\n",
    "    if i[1] > thres[0]:\n",
    "        combs.append(i[0])\n",
    "        counts.append(i[1])\n",
    "\n",
    "# Visualizing as well\n",
    "v = pd.DataFrame({'Combination': combs, \"Counts\": counts}).sort_values('Counts', ascending = False)\n",
    "plt.figure(figsize=(9,6))\n",
    "sns.barplot(x = v['Combination'], y = v['Counts'], palette = 'magma')\n",
    "plt.title(f'Combinations of 2 Keywords (At Least {thres[0]} Occurances)')\n",
    "plt.xticks(rotation=90)\n",
    "plt.show()\n",
    "\n",
    "# COMBINATIONS OF 3\n",
    "keyword_overlaps = {}\n",
    "\n",
    "try:\n",
    "    # Each i returns a tuple containing a pair of length r, which in this case is 3\n",
    "    for i in list(itertools.combinations(list(intents.keys()),3)):\n",
    "        a = to_set(intent_tweets[i[0]])\n",
    "        b = to_set(intent_tweets[i[1]])\n",
    "        c = to_set(intent_tweets[i[2]])\n",
    "        # Inserting pair to dictionary\n",
    "        keyword_overlaps[f\"{i[0]} + {i[1]} + {i[2]}\"] = len(a.intersection(b).intersection(c))\n",
    "\n",
    "    # Filtering to just the significant ones, which I define as greater than 100\n",
    "    combs = []\n",
    "    counts = []\n",
    "    for i in keyword_overlaps.items():\n",
    "        if i[1] > thres[1]:\n",
    "            combs.append(i[0])\n",
    "            counts.append(i[1])\n",
    "\n",
    "    # Visualizing as well\n",
    "    v = pd.DataFrame({'Combination': combs, \"Counts\": counts}).sort_values('Counts', ascending = False)\n",
    "    plt.figure(figsize=(9,6))\n",
    "    sns.barplot(x = v['Combination'], y = v['Counts'], palette = 'magma')\n",
    "    plt.title(f'Combinations of 3 Keywords (At Least {thres[1]} Occurances)')\n",
    "    plt.xticks(rotation=90)\n",
    "    plt.show()\n",
    "except ValueError as e:\n",
    "    print(f'Not enough 3-combinations (Thres = {thres[1]})')\n",
    "    \n",
    "# COMBINATIONS OF 4\n",
    "keyword_overlaps = {}\n",
    "\n",
    "try:\n",
    "    # Each i returns a tuple containing a pair of length r, which in this case is 4\n",
    "    for i in list(itertools.combinations(list(intents.keys()),4)):\n",
    "        a = to_set(intent_tweets[i[0]])\n",
    "        b = to_set(intent_tweets[i[1]])\n",
    "        c = to_set(intent_tweets[i[2]])\n",
    "        d = to_set(intent_tweets[i[3]])\n",
    "        # Inserting pair to dictionary\n",
    "        keyword_overlaps[f\"{i[0]} + {i[1]} + {i[2]} + {i[3]}\"] = len(a.intersection(b).intersection(c).intersection(d))\n",
    "\n",
    "    # Filtering to just the significant ones, which I define as greater than 10\n",
    "    combs = []\n",
    "    counts = []\n",
    "    for i in keyword_overlaps.items():\n",
    "        if i[1] > thres[2]:\n",
    "            combs.append(i[0])\n",
    "            counts.append(i[1])\n",
    "\n",
    "    # Visualizing as well\n",
    "    v = pd.DataFrame({'Combination': combs, \"Counts\": counts}).sort_values('Counts', ascending = False)\n",
    "    plt.figure(figsize=(9,6))\n",
    "    sns.barplot(x = v['Combination'], y = v['Counts'], palette = 'magma')\n",
    "    plt.title(f'Combinations of 4 Keywords (At Least {thres[2]} Occurances)')\n",
    "    plt.xticks(rotation=90)\n",
    "    plt.show()\n",
    "except ValueError as e:\n",
    "    print(f'Not enough 4-combinations (Thres = {thres[2]})')\n",
    "\n",
    "# GROUPS OF 5\n",
    "keyword_overlaps = {}\n",
    "\n",
    "try:\n",
    "    # Each i returns a tuple containing a pair of length r, which in this case is 5\n",
    "    for i in list(itertools.combinations(list(intents.keys()),5)):\n",
    "        a = to_set(intent_tweets[i[0]])\n",
    "        b = to_set(intent_tweets[i[1]])\n",
    "        c = to_set(intent_tweets[i[2]])\n",
    "        d = to_set(intent_tweets[i[3]])\n",
    "        e = to_set(intent_tweets[i[4]])\n",
    "        # Inserting pair to dictionary\n",
    "        keyword_overlaps[f\"{i[0]} + {i[1]} + {i[2]} + {i[3]} + {i[4]}\"] = len(a.intersection(b).intersection(c).intersection(d).intersection(e))\n",
    "\n",
    "    # Filtering to just the significant ones, which I define as greater than 5\n",
    "    combs = []\n",
    "    counts = []\n",
    "    for i in keyword_overlaps.items():\n",
    "        if i[1] > thres[3]:\n",
    "            combs.append(i[0])\n",
    "            counts.append(i[1])\n",
    "\n",
    "    # Visualizing as well\n",
    "    v = pd.DataFrame({'Combination': combs, \"Counts\": counts}).sort_values('Counts', ascending = False)\n",
    "    plt.figure(figsize=(9,6))\n",
    "    sns.barplot(x = v['Combination'], y = v['Counts'], palette = 'magma')\n",
    "    plt.title(f'Combinations of 5 Keywords (At Least {thres[3]} Occurances)')\n",
    "    plt.xticks(rotation=90)\n",
    "    plt.show()\n",
    "except ValueError as e:\n",
    "    print(f'Not enough 5-combinations (Thres = {thres[3]})')"
   ]
  },
  {
   "cell_type": "markdown",
   "metadata": {},
   "source": [
    "我们在4的组合中看到，很明显，客户想问我们什么。出现407次的最高一次是（“手机记录+ios+电池+更新”）-这是客户想要为他们的iphone推荐关于他们的ios的内容，这是关于更新的内容。\n",
    "\n",
    "这里甚至可以看到5的组合。"
   ]
  },
  {
   "cell_type": "markdown",
   "metadata": {},
   "source": [
    "除了苹果自己的[@applesupport](https://twitter.com/AppleSupport)，还有什么比看看还有什么意图更好的地方推特页面？\n",
    "\n",
    "* 我们看到，更新通常存在于许多组合中\n",
    "* 大多数意图通常是一个又一个的组合！"
   ]
  },
  {
   "cell_type": "markdown",
   "metadata": {},
   "source": [
    "我们可以看到，基于相似推文数量的绝对值，我们不会很难为每个意图类别找到1000个训练示例，尤其是更新！将较高的发生率分解为更细微、更独特的类别可能也是一个好主意。此外，我通常想使用超过1000条推文的意图，好消息是大多数意图每条推文都超过1000条。"
   ]
  },
  {
   "cell_type": "markdown",
   "metadata": {},
   "source": [
    "# Special Cases\n",
    "我想测试一下，可能会有用。"
   ]
  },
  {
   "cell_type": "code",
   "execution_count": null,
   "metadata": {},
   "outputs": [],
   "source": [
    "# I wanted to group iOS update into one intent. \n",
    "# But since ios and update occured a lot other I put them together into one intent group. \n",
    "\n",
    "print('app intents without ios: {}'.format(len(key_absent_tweets(get_key_tweets(processed_inbound, intents['app']), ['io']))))\n",
    "key_absent_tweets(get_key_tweets(processed_inbound, intents['app']), ['io']);\n",
    "\n",
    "# Exploration of combinations and \"purity\" of a cluster\n",
    "print('both ios and update appears: {}'.format(6000))\n",
    "print('just ios: {}'.format(len(get_key_tweets(processed_inbound, intents['ios']))))\n",
    "print('ios but no update: {}'.format(len(get_key_tweets(processed_inbound, intents['ios'])) - 6000))"
   ]
  },
  {
   "cell_type": "markdown",
   "metadata": {},
   "source": [
    "### 我想查找我在启发式搜索中没有考虑的所有推文\n",
    "可能最有用的过滤器是这个。"
   ]
  },
  {
   "cell_type": "code",
   "execution_count": null,
   "metadata": {},
   "outputs": [],
   "source": [
    "# Using the key absent function\n",
    "key_absent_tweets(processed['Processed Inbound'].iloc, all_keywords)"
   ]
  },
  {
   "cell_type": "markdown",
   "metadata": {},
   "source": [
    "从这里，我得到了解释的灵感：\n",
    "* Settings\n",
    "* Apple Music\n",
    "* Phone\n",
    "* Credit card"
   ]
  },
  {
   "cell_type": "code",
   "execution_count": null,
   "metadata": {},
   "outputs": [],
   "source": [
    "only_key_tweets(processed_inbound, intents_all['ios update'])"
   ]
  },
  {
   "cell_type": "code",
   "execution_count": null,
   "metadata": {},
   "outputs": [],
   "source": [
    "only_key_tweets(processed_inbound, ['app'])"
   ]
  },
  {
   "cell_type": "code",
   "execution_count": null,
   "metadata": {},
   "outputs": [],
   "source": [
    "keyword"
   ]
  },
  {
   "cell_type": "markdown",
   "metadata": {},
   "source": [
    "Settings might not be the best intent to try on."
   ]
  },
  {
   "cell_type": "code",
   "execution_count": null,
   "metadata": {},
   "outputs": [],
   "source": [
    "# Inspecting the Tweets with that specific keyword\n",
    "len(get_key_tweets(processed_inbound, intents['greeting'])), 27373/75879"
   ]
  },
  {
   "cell_type": "code",
   "execution_count": null,
   "metadata": {},
   "outputs": [],
   "source": [
    "get_key_tweets(processed_inbound, intents['app'])"
   ]
  },
  {
   "cell_type": "code",
   "execution_count": null,
   "metadata": {},
   "outputs": [],
   "source": [
    "intents['greeting']"
   ]
  },
  {
   "cell_type": "code",
   "execution_count": null,
   "metadata": {
    "scrolled": true
   },
   "outputs": [],
   "source": [
    "processed_inbound.iloc[0:10]"
   ]
  },
  {
   "cell_type": "markdown",
   "metadata": {},
   "source": [
    "## 捕获的意图\n",
    "（这只是我认为意图的另一个版本-你可以看到这些意图有多个版本，因为这是一个迭代启发式优化过程）-实际上我花了一段时间才找到如何挖掘意图的好指南。\n",
    "\n",
    "1. Greeting\n",
    "2. App recommendations\n",
    "    * Need to tag the actual appication we want\n",
    "    * Need to tag the problem\n",
    "3. Hardware recommendations\n",
    "    * Phone hardware issue\n",
    "    * Battery health\n",
    "6. ICloud photos\n",
    "7. Apple watch\n",
    "8. Software (iOS)/ update bugs\n",
    "9. Statement (not really asking for anything, it is just giving a statement about something) - If possible, I would like to remove these because they are not really that useful to me.\n",
    "    * Opinions\n",
    "    * Complaint\n",
    "    * Thinking about this point further, it might be useful to include question marks in the data because that encodes useful information about whether or not a customer is making a question or not.\n",
    "10. Want to purchase\n",
    "11. Gratitude/Closing"
   ]
  },
  {
   "cell_type": "code",
   "execution_count": null,
   "metadata": {},
   "outputs": [],
   "source": []
  }
 ],
 "metadata": {
  "kernelspec": {
   "display_name": "Python 3 (ipykernel)",
   "language": "python",
   "name": "python3"
  },
  "language_info": {
   "codemirror_mode": {
    "name": "ipython",
    "version": 3
   },
   "file_extension": ".py",
   "mimetype": "text/x-python",
   "name": "python",
   "nbconvert_exporter": "python",
   "pygments_lexer": "ipython3",
   "version": "3.8.2"
  }
 },
 "nbformat": 4,
 "nbformat_minor": 4
}
